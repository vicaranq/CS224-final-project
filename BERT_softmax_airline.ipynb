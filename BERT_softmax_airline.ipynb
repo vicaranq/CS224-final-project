{
 "cells": [
  {
   "cell_type": "markdown",
   "id": "47e8f743-ceab-449c-9ee7-200a1785cb16",
   "metadata": {},
   "source": [
    "# Use BERT Representations with LogisticRegression Softmax Classifier"
   ]
  },
  {
   "cell_type": "code",
   "execution_count": 1,
   "id": "30dae3b5-f005-418c-8e46-9bd8758cf351",
   "metadata": {},
   "outputs": [],
   "source": [
    "from collections import Counter\n",
    "import os\n",
    "import numpy as np\n",
    "import pandas as pd\n",
    "import torch\n",
    "from torch import nn, optim\n",
    "import torch.nn as nn\n",
    "from torch.utils.data import TensorDataset, Dataset, DataLoader\n",
    "from sklearn.model_selection import train_test_split\n",
    "from sklearn.linear_model import LogisticRegression\n",
    "from sklearn.model_selection import cross_val_score\n",
    "from transformers import BertTokenizer, BertModel, BertForSequenceClassification\n",
    "\n",
    "\n",
    "import dataset\n",
    "import vsm\n",
    "import sst"
   ]
  },
  {
   "cell_type": "code",
   "execution_count": 2,
   "id": "1c995c70-1ec0-47c7-be85-5a622874c493",
   "metadata": {},
   "outputs": [],
   "source": [
    "TWITTER = 2\n",
    "TWITTER_AIRLINES = 3\n",
    "TWITTER_APPLE = 4"
   ]
  },
  {
   "cell_type": "code",
   "execution_count": 3,
   "id": "5059a022-607d-493b-8e7e-82937409db1c",
   "metadata": {},
   "outputs": [],
   "source": [
    "twitter_train, twitter_validate, twitter_test =  dataset.dataset_reader(TWITTER_AIRLINES)\n",
    "[twitter_train, twitter_validate, twitter_test] = list(map(lambda ds : dataset.prune_columns(TWITTER_AIRLINES, ds), [twitter_train, twitter_validate, twitter_test]))"
   ]
  },
  {
   "cell_type": "code",
   "execution_count": 4,
   "id": "b41be400-82cf-469e-96b0-522cf9de12b3",
   "metadata": {},
   "outputs": [],
   "source": [
    "# bert_weights_name = 'bert-base-cased'\n",
    "# bert_tokenizer = BertTokenizer.from_pretrained(bert_weights_name)\n",
    "# bert_model = BertModel.from_pretrained(bert_weights_name)\n",
    "# model = BertForSequenceClassification.from_pretrained(bert_weights_name)\n",
    "# Unique values of sentiment\n",
    "twitter_sentiment_labels = twitter_train['sentiment'].unique()"
   ]
  },
  {
   "cell_type": "code",
   "execution_count": 5,
   "id": "a7bb900e-ec8f-4e7c-92e2-987c363777e0",
   "metadata": {},
   "outputs": [
    {
     "data": {
      "text/plain": [
       "(46848, 5856, 5856)"
      ]
     },
     "execution_count": 5,
     "metadata": {},
     "output_type": "execute_result"
    }
   ],
   "source": [
    "twitter_train.size, twitter_validate.size, twitter_test.size"
   ]
  },
  {
   "cell_type": "code",
   "execution_count": 6,
   "id": "8d2c69f6-6084-4316-899d-b2ec9d52d16a",
   "metadata": {},
   "outputs": [
    {
     "name": "stdout",
     "output_type": "stream",
     "text": [
      "              precision    recall  f1-score   support\n",
      "\n",
      "    negative      0.798     0.914     0.852       606\n",
      "     neutral      0.648     0.486     0.556       216\n",
      "    positive      0.785     0.635     0.702       178\n",
      "\n",
      "    accuracy                          0.772      1000\n",
      "   macro avg      0.744     0.678     0.703      1000\n",
      "weighted avg      0.763     0.772     0.761      1000\n",
      "\n",
      "CPU times: user 28min 20s, sys: 28.3 s, total: 28min 48s\n",
      "Wall time: 7min 7s\n"
     ]
    }
   ],
   "source": [
    "%%time\n",
    "bert_experiment1500 = sst.experiment(\n",
    "    twitter_train[:1500], # \n",
    "    dataset.hf_cls_phi,\n",
    "    dataset.fit_softmax_classifier,\n",
    "    assess_dataframes=[twitter_validate[:1000]],\n",
    "    vectorize=False)"
   ]
  },
  {
   "cell_type": "code",
   "execution_count": 7,
   "id": "6a5cdd3f-d4b1-4ccd-9f65-1ddf47011ebe",
   "metadata": {},
   "outputs": [
    {
     "name": "stdout",
     "output_type": "stream",
     "text": [
      "              precision    recall  f1-score   support\n",
      "\n",
      "    negative      0.826     0.916     0.869       606\n",
      "     neutral      0.681     0.574     0.623       216\n",
      "    positive      0.795     0.652     0.716       178\n",
      "\n",
      "    accuracy                          0.795      1000\n",
      "   macro avg      0.767     0.714     0.736      1000\n",
      "weighted avg      0.789     0.795     0.788      1000\n",
      "\n",
      "CPU times: user 49min 46s, sys: 49.9 s, total: 50min 36s\n",
      "Wall time: 12min 36s\n"
     ]
    }
   ],
   "source": [
    "%%time\n",
    "bert_experiment3000 = sst.experiment(\n",
    "    twitter_train[:3000], # \n",
    "    dataset.hf_cls_phi,\n",
    "    dataset.fit_softmax_classifier,\n",
    "    assess_dataframes=[twitter_validate[:1000]],\n",
    "    vectorize=False)"
   ]
  },
  {
   "cell_type": "code",
   "execution_count": 8,
   "id": "1ec4292a-caa6-4f86-a98e-dd673983774d",
   "metadata": {},
   "outputs": [
    {
     "name": "stdout",
     "output_type": "stream",
     "text": [
      "              precision    recall  f1-score   support\n",
      "\n",
      "    negative      0.838     0.920     0.877       910\n",
      "     neutral      0.693     0.546     0.611       306\n",
      "    positive      0.763     0.690     0.725       248\n",
      "\n",
      "    accuracy                          0.803      1464\n",
      "   macro avg      0.765     0.718     0.737      1464\n",
      "weighted avg      0.795     0.803     0.795      1464\n",
      "\n",
      "CPU times: user 1h 31min 42s, sys: 58.1 s, total: 1h 32min 40s\n",
      "Wall time: 15min 37s\n"
     ]
    }
   ],
   "source": [
    "%%time\n",
    "bert_experiment6000 = sst.experiment(\n",
    "    twitter_train[:6000], # \n",
    "    dataset.hf_cls_phi,\n",
    "    dataset.fit_softmax_classifier,\n",
    "    assess_dataframes=[twitter_validate[:1500]],\n",
    "    vectorize=False)"
   ]
  },
  {
   "cell_type": "code",
   "execution_count": 9,
   "id": "4326b274-a348-4623-a1eb-3142a2a52b2b",
   "metadata": {},
   "outputs": [
    {
     "name": "stdout",
     "output_type": "stream",
     "text": [
      "              precision    recall  f1-score   support\n",
      "\n",
      "    negative      0.844     0.920     0.880       910\n",
      "     neutral      0.717     0.588     0.646       306\n",
      "    positive      0.783     0.698     0.738       248\n",
      "\n",
      "    accuracy                          0.813      1464\n",
      "   macro avg      0.781     0.735     0.755      1464\n",
      "weighted avg      0.807     0.813     0.807      1464\n",
      "\n",
      "CPU times: user 2h 18min 26s, sys: 1min 23s, total: 2h 19min 50s\n",
      "Wall time: 23min 34s\n"
     ]
    }
   ],
   "source": [
    "%%time\n",
    "bert_experiment_full = sst.experiment(\n",
    "    twitter_train, # \n",
    "    dataset.hf_cls_phi,\n",
    "    dataset.fit_softmax_classifier,\n",
    "    assess_dataframes=[twitter_validate],\n",
    "    vectorize=False)"
   ]
  },
  {
   "cell_type": "code",
   "execution_count": 10,
   "id": "d54b31f7-4cb2-4e55-b20d-ccde15e31350",
   "metadata": {},
   "outputs": [
    {
     "data": {
      "text/plain": [
       "dict_keys(['model', 'phi', 'train_dataset', 'assess_datasets', 'predictions', 'metric', 'scores'])"
      ]
     },
     "execution_count": 10,
     "metadata": {},
     "output_type": "execute_result"
    }
   ],
   "source": [
    "bert_experiment_full.keys()"
   ]
  },
  {
   "cell_type": "code",
   "execution_count": 11,
   "id": "a7bac1a5-92e3-468e-847b-e759eb09a2bc",
   "metadata": {},
   "outputs": [
    {
     "data": {
      "text/plain": [
       "[0.7547285413846058]"
      ]
     },
     "execution_count": 11,
     "metadata": {},
     "output_type": "execute_result"
    }
   ],
   "source": [
    "bert_experiment_full['scores']"
   ]
  },
  {
   "cell_type": "code",
   "execution_count": 12,
   "id": "8a0ed646-5437-43db-a2f5-7938349cea10",
   "metadata": {},
   "outputs": [
    {
     "data": {
      "text/plain": [
       "'safe_macro_f1'"
      ]
     },
     "execution_count": 12,
     "metadata": {},
     "output_type": "execute_result"
    }
   ],
   "source": [
    "bert_experiment_full['metric']"
   ]
  },
  {
   "cell_type": "code",
   "execution_count": 13,
   "id": "95567ac1-8815-4694-96c7-dff72617250b",
   "metadata": {
    "tags": []
   },
   "outputs": [
    {
     "data": {
      "text/plain": [
       "LogisticRegression(multi_class='ovr', solver='liblinear')"
      ]
     },
     "execution_count": 13,
     "metadata": {},
     "output_type": "execute_result"
    }
   ],
   "source": [
    "bert_experiment_full['model']"
   ]
  },
  {
   "cell_type": "markdown",
   "id": "d7ccb547-1174-471f-b6e5-e9239d23fe4b",
   "metadata": {},
   "source": [
    "# Test BERT trained on Tweets on test set"
   ]
  },
  {
   "cell_type": "code",
   "execution_count": 14,
   "id": "1f4d5a18-66b3-467b-aea7-59f196b07bf4",
   "metadata": {},
   "outputs": [],
   "source": [
    "def predict_one_bert(text):\n",
    "    # List of tokenized examples:\n",
    "    X = [bert_experiment_full['phi'](text)]\n",
    "    # Standard `predict` step on a list of lists of str:\n",
    "    preds = bert_experiment_full['model'].predict(X)\n",
    "    # Be sure to return the only member of the predictions,\n",
    "    # rather than the singleton list:\n",
    "    return preds[0]"
   ]
  },
  {
   "cell_type": "code",
   "execution_count": 15,
   "id": "8ca03e9e-f006-40a3-aa3a-681dacbac891",
   "metadata": {},
   "outputs": [],
   "source": [
    "# %% time\n",
    "# twitter_test['prediction'] = twitter_test['text'].apply(predict_one_bert)"
   ]
  },
  {
   "cell_type": "code",
   "execution_count": 16,
   "id": "145568c0-81b1-485f-9cc5-8c5fcd4ed951",
   "metadata": {},
   "outputs": [
    {
     "data": {
      "text/plain": [
       "<module 'sst' from '/mnt/c/Users/echya/Documents/XCS224U - 007 Natural Language Understanding/CS224-final-project/sst.py'>"
      ]
     },
     "execution_count": 16,
     "metadata": {},
     "output_type": "execute_result"
    }
   ],
   "source": [
    "import importlib\n",
    "importlib.reload(sst)"
   ]
  },
  {
   "cell_type": "code",
   "execution_count": 17,
   "id": "09db34c2-0a98-4627-ae75-75653fdde41e",
   "metadata": {},
   "outputs": [
    {
     "name": "stdout",
     "output_type": "stream",
     "text": [
      "              precision    recall  f1-score   support\n",
      "\n",
      "    negative      0.864     0.927     0.894       918\n",
      "     neutral      0.724     0.601     0.657       323\n",
      "    positive      0.744     0.704     0.724       223\n",
      "\n",
      "    accuracy                          0.821      1464\n",
      "   macro avg      0.777     0.744     0.758      1464\n",
      "weighted avg      0.815     0.821     0.816      1464\n",
      "\n",
      "CPU times: user 13min 24s, sys: 7.66 s, total: 13min 31s\n",
      "Wall time: 2min 15s\n"
     ]
    }
   ],
   "source": [
    "%%time\n",
    "bert_test = sst.evaluate(\n",
    "    bert_experiment_full['model'],\n",
    "    bert_experiment_full['phi'],\n",
    "    assess_dataframes=[twitter_test],\n",
    "    vectorizer=bert_experiment_full['assess_datasets'][0]['vectorizer'],\n",
    "    vectorize=False\n",
    ")"
   ]
  },
  {
   "cell_type": "code",
   "execution_count": 18,
   "id": "f49ec6d2-f389-4995-b1d9-5003bff03522",
   "metadata": {},
   "outputs": [
    {
     "data": {
      "text/plain": [
       "numpy.ndarray"
      ]
     },
     "execution_count": 18,
     "metadata": {},
     "output_type": "execute_result"
    }
   ],
   "source": [
    "type(bert_test['predictions'][0])"
   ]
  },
  {
   "cell_type": "code",
   "execution_count": 19,
   "id": "6dbc9350-3873-4226-8430-e1851b8f1a59",
   "metadata": {},
   "outputs": [],
   "source": [
    "predictions_fname ='results/BERT_predictions_on_twitter_test_airline.csv'\n",
    "df = bert_test['predictions'][0]\n",
    "pd.DataFrame(df).to_csv(predictions_fname)"
   ]
  },
  {
   "cell_type": "code",
   "execution_count": 20,
   "id": "13e45694-66b9-41f2-9159-70f048dbae48",
   "metadata": {
    "tags": []
   },
   "outputs": [],
   "source": [
    "encoding_fname ='results/BERT_encodings_on_twitter_test_airline.csv'\n",
    "encoded_test = bert_test['assess_datasets'][0]\n",
    "pd.DataFrame(df).to_csv(encoding_fname)"
   ]
  },
  {
   "cell_type": "code",
   "execution_count": 21,
   "id": "eb5ae92e-80a6-44f3-827b-a79eab788ddc",
   "metadata": {},
   "outputs": [
    {
     "data": {
      "text/html": [
       "<div>\n",
       "<style scoped>\n",
       "    .dataframe tbody tr th:only-of-type {\n",
       "        vertical-align: middle;\n",
       "    }\n",
       "\n",
       "    .dataframe tbody tr th {\n",
       "        vertical-align: top;\n",
       "    }\n",
       "\n",
       "    .dataframe thead th {\n",
       "        text-align: right;\n",
       "    }\n",
       "</style>\n",
       "<table border=\"1\" class=\"dataframe\">\n",
       "  <thead>\n",
       "    <tr style=\"text-align: right;\">\n",
       "      <th></th>\n",
       "      <th>0</th>\n",
       "    </tr>\n",
       "  </thead>\n",
       "  <tbody>\n",
       "    <tr>\n",
       "      <th>3</th>\n",
       "      <td>negative</td>\n",
       "    </tr>\n",
       "    <tr>\n",
       "      <th>14</th>\n",
       "      <td>positive</td>\n",
       "    </tr>\n",
       "    <tr>\n",
       "      <th>19</th>\n",
       "      <td>neutral</td>\n",
       "    </tr>\n",
       "    <tr>\n",
       "      <th>21</th>\n",
       "      <td>positive</td>\n",
       "    </tr>\n",
       "    <tr>\n",
       "      <th>32</th>\n",
       "      <td>negative</td>\n",
       "    </tr>\n",
       "    <tr>\n",
       "      <th>...</th>\n",
       "      <td>...</td>\n",
       "    </tr>\n",
       "    <tr>\n",
       "      <th>14581</th>\n",
       "      <td>negative</td>\n",
       "    </tr>\n",
       "    <tr>\n",
       "      <th>14582</th>\n",
       "      <td>negative</td>\n",
       "    </tr>\n",
       "    <tr>\n",
       "      <th>14587</th>\n",
       "      <td>negative</td>\n",
       "    </tr>\n",
       "    <tr>\n",
       "      <th>14626</th>\n",
       "      <td>negative</td>\n",
       "    </tr>\n",
       "    <tr>\n",
       "      <th>14639</th>\n",
       "      <td>negative</td>\n",
       "    </tr>\n",
       "  </tbody>\n",
       "</table>\n",
       "<p>1464 rows × 1 columns</p>\n",
       "</div>"
      ],
      "text/plain": [
       "              0\n",
       "3      negative\n",
       "14     positive\n",
       "19      neutral\n",
       "21     positive\n",
       "32     negative\n",
       "...         ...\n",
       "14581  negative\n",
       "14582  negative\n",
       "14587  negative\n",
       "14626  negative\n",
       "14639  negative\n",
       "\n",
       "[1464 rows x 1 columns]"
      ]
     },
     "execution_count": 21,
     "metadata": {},
     "output_type": "execute_result"
    }
   ],
   "source": [
    "predictions_df = pd.DataFrame(df)\n",
    "predictions_df = predictions_df.set_index(twitter_test.index)\n",
    "predictions_df"
   ]
  },
  {
   "cell_type": "code",
   "execution_count": 22,
   "id": "ed7099ef-7ce4-4346-a0fd-fea8fa9f4580",
   "metadata": {},
   "outputs": [],
   "source": [
    "twitter_test['BERT_sentiment'] = predictions_df"
   ]
  },
  {
   "cell_type": "code",
   "execution_count": 23,
   "id": "71be05a5-02e8-4315-88a7-0651caf140b9",
   "metadata": {},
   "outputs": [
    {
     "data": {
      "text/html": [
       "<div>\n",
       "<style scoped>\n",
       "    .dataframe tbody tr th:only-of-type {\n",
       "        vertical-align: middle;\n",
       "    }\n",
       "\n",
       "    .dataframe tbody tr th {\n",
       "        vertical-align: top;\n",
       "    }\n",
       "\n",
       "    .dataframe thead th {\n",
       "        text-align: right;\n",
       "    }\n",
       "</style>\n",
       "<table border=\"1\" class=\"dataframe\">\n",
       "  <thead>\n",
       "    <tr style=\"text-align: right;\">\n",
       "      <th></th>\n",
       "      <th>tweet_id</th>\n",
       "      <th>text</th>\n",
       "      <th>sentiment</th>\n",
       "      <th>airline</th>\n",
       "      <th>BERT_sentiment</th>\n",
       "    </tr>\n",
       "  </thead>\n",
       "  <tbody>\n",
       "    <tr>\n",
       "      <th>3</th>\n",
       "      <td>570301031407624196</td>\n",
       "      <td>@VirginAmerica it's really aggressive to blast...</td>\n",
       "      <td>negative</td>\n",
       "      <td>Virgin America</td>\n",
       "      <td>negative</td>\n",
       "    </tr>\n",
       "    <tr>\n",
       "      <th>14</th>\n",
       "      <td>570285904809598977</td>\n",
       "      <td>@VirginAmerica Thanks!</td>\n",
       "      <td>positive</td>\n",
       "      <td>Virgin America</td>\n",
       "      <td>positive</td>\n",
       "    </tr>\n",
       "    <tr>\n",
       "      <th>19</th>\n",
       "      <td>570267956648792064</td>\n",
       "      <td>@VirginAmerica you know what would be amazingl...</td>\n",
       "      <td>positive</td>\n",
       "      <td>Virgin America</td>\n",
       "      <td>neutral</td>\n",
       "    </tr>\n",
       "    <tr>\n",
       "      <th>21</th>\n",
       "      <td>570264145116819457</td>\n",
       "      <td>@VirginAmerica I love this graphic. http://t.c...</td>\n",
       "      <td>positive</td>\n",
       "      <td>Virgin America</td>\n",
       "      <td>positive</td>\n",
       "    </tr>\n",
       "    <tr>\n",
       "      <th>32</th>\n",
       "      <td>570088404156698625</td>\n",
       "      <td>@VirginAmerica help, left expensive headphones...</td>\n",
       "      <td>negative</td>\n",
       "      <td>Virgin America</td>\n",
       "      <td>negative</td>\n",
       "    </tr>\n",
       "    <tr>\n",
       "      <th>...</th>\n",
       "      <td>...</td>\n",
       "      <td>...</td>\n",
       "      <td>...</td>\n",
       "      <td>...</td>\n",
       "      <td>...</td>\n",
       "    </tr>\n",
       "    <tr>\n",
       "      <th>14581</th>\n",
       "      <td>569596156927303681</td>\n",
       "      <td>@AmericanAir 30 minutes flight from OKC and th...</td>\n",
       "      <td>negative</td>\n",
       "      <td>American</td>\n",
       "      <td>negative</td>\n",
       "    </tr>\n",
       "    <tr>\n",
       "      <th>14582</th>\n",
       "      <td>569595899204255745</td>\n",
       "      <td>@AmericanAir seems like queue times are very h...</td>\n",
       "      <td>negative</td>\n",
       "      <td>American</td>\n",
       "      <td>negative</td>\n",
       "    </tr>\n",
       "    <tr>\n",
       "      <th>14587</th>\n",
       "      <td>569595333899997185</td>\n",
       "      <td>@AmericanAir I’ll play it by ear. I know that ...</td>\n",
       "      <td>negative</td>\n",
       "      <td>American</td>\n",
       "      <td>negative</td>\n",
       "    </tr>\n",
       "    <tr>\n",
       "      <th>14626</th>\n",
       "      <td>569589460226183168</td>\n",
       "      <td>@AmericanAir Flight 953 NYC-Buenos Aires has b...</td>\n",
       "      <td>negative</td>\n",
       "      <td>American</td>\n",
       "      <td>negative</td>\n",
       "    </tr>\n",
       "    <tr>\n",
       "      <th>14639</th>\n",
       "      <td>569587140490866689</td>\n",
       "      <td>@AmericanAir we have 8 ppl so we need 2 know h...</td>\n",
       "      <td>neutral</td>\n",
       "      <td>American</td>\n",
       "      <td>negative</td>\n",
       "    </tr>\n",
       "  </tbody>\n",
       "</table>\n",
       "<p>1464 rows × 5 columns</p>\n",
       "</div>"
      ],
      "text/plain": [
       "                 tweet_id                                               text  \\\n",
       "3      570301031407624196  @VirginAmerica it's really aggressive to blast...   \n",
       "14     570285904809598977                             @VirginAmerica Thanks!   \n",
       "19     570267956648792064  @VirginAmerica you know what would be amazingl...   \n",
       "21     570264145116819457  @VirginAmerica I love this graphic. http://t.c...   \n",
       "32     570088404156698625  @VirginAmerica help, left expensive headphones...   \n",
       "...                   ...                                                ...   \n",
       "14581  569596156927303681  @AmericanAir 30 minutes flight from OKC and th...   \n",
       "14582  569595899204255745  @AmericanAir seems like queue times are very h...   \n",
       "14587  569595333899997185  @AmericanAir I’ll play it by ear. I know that ...   \n",
       "14626  569589460226183168  @AmericanAir Flight 953 NYC-Buenos Aires has b...   \n",
       "14639  569587140490866689  @AmericanAir we have 8 ppl so we need 2 know h...   \n",
       "\n",
       "      sentiment         airline BERT_sentiment  \n",
       "3      negative  Virgin America       negative  \n",
       "14     positive  Virgin America       positive  \n",
       "19     positive  Virgin America        neutral  \n",
       "21     positive  Virgin America       positive  \n",
       "32     negative  Virgin America       negative  \n",
       "...         ...             ...            ...  \n",
       "14581  negative        American       negative  \n",
       "14582  negative        American       negative  \n",
       "14587  negative        American       negative  \n",
       "14626  negative        American       negative  \n",
       "14639   neutral        American       negative  \n",
       "\n",
       "[1464 rows x 5 columns]"
      ]
     },
     "execution_count": 23,
     "metadata": {},
     "output_type": "execute_result"
    }
   ],
   "source": [
    "twitter_test"
   ]
  },
  {
   "cell_type": "code",
   "execution_count": 24,
   "id": "cf9c4767-072f-4201-9c43-e65c04e97858",
   "metadata": {},
   "outputs": [],
   "source": [
    "test_predictions_fname ='results/BERT_predictions_added_to_twitter_test_airline.csv'\n",
    "twitter_test.to_csv(test_predictions_fname)"
   ]
  },
  {
   "cell_type": "code",
   "execution_count": 25,
   "id": "d1b799ce-e850-4035-bae7-8ddb45eecb27",
   "metadata": {},
   "outputs": [],
   "source": [
    "correct = twitter_test[twitter_test['sentiment'] == twitter_test['BERT_sentiment']]"
   ]
  },
  {
   "cell_type": "code",
   "execution_count": 26,
   "id": "682cdd73-a337-436e-a3f5-1ee6bb8a8ee1",
   "metadata": {},
   "outputs": [
    {
     "data": {
      "text/html": [
       "<div>\n",
       "<style scoped>\n",
       "    .dataframe tbody tr th:only-of-type {\n",
       "        vertical-align: middle;\n",
       "    }\n",
       "\n",
       "    .dataframe tbody tr th {\n",
       "        vertical-align: top;\n",
       "    }\n",
       "\n",
       "    .dataframe thead th {\n",
       "        text-align: right;\n",
       "    }\n",
       "</style>\n",
       "<table border=\"1\" class=\"dataframe\">\n",
       "  <thead>\n",
       "    <tr style=\"text-align: right;\">\n",
       "      <th></th>\n",
       "      <th>tweet_id</th>\n",
       "      <th>text</th>\n",
       "      <th>sentiment</th>\n",
       "      <th>airline</th>\n",
       "      <th>BERT_sentiment</th>\n",
       "    </tr>\n",
       "  </thead>\n",
       "  <tbody>\n",
       "    <tr>\n",
       "      <th>3</th>\n",
       "      <td>570301031407624196</td>\n",
       "      <td>@VirginAmerica it's really aggressive to blast...</td>\n",
       "      <td>negative</td>\n",
       "      <td>Virgin America</td>\n",
       "      <td>negative</td>\n",
       "    </tr>\n",
       "    <tr>\n",
       "      <th>14</th>\n",
       "      <td>570285904809598977</td>\n",
       "      <td>@VirginAmerica Thanks!</td>\n",
       "      <td>positive</td>\n",
       "      <td>Virgin America</td>\n",
       "      <td>positive</td>\n",
       "    </tr>\n",
       "    <tr>\n",
       "      <th>21</th>\n",
       "      <td>570264145116819457</td>\n",
       "      <td>@VirginAmerica I love this graphic. http://t.c...</td>\n",
       "      <td>positive</td>\n",
       "      <td>Virgin America</td>\n",
       "      <td>positive</td>\n",
       "    </tr>\n",
       "    <tr>\n",
       "      <th>32</th>\n",
       "      <td>570088404156698625</td>\n",
       "      <td>@VirginAmerica help, left expensive headphones...</td>\n",
       "      <td>negative</td>\n",
       "      <td>Virgin America</td>\n",
       "      <td>negative</td>\n",
       "    </tr>\n",
       "    <tr>\n",
       "      <th>41</th>\n",
       "      <td>570025482344898560</td>\n",
       "      <td>@VirginAmerica Hey, first time flyer next week...</td>\n",
       "      <td>negative</td>\n",
       "      <td>Virgin America</td>\n",
       "      <td>negative</td>\n",
       "    </tr>\n",
       "    <tr>\n",
       "      <th>...</th>\n",
       "      <td>...</td>\n",
       "      <td>...</td>\n",
       "      <td>...</td>\n",
       "      <td>...</td>\n",
       "      <td>...</td>\n",
       "    </tr>\n",
       "    <tr>\n",
       "      <th>14573</th>\n",
       "      <td>569597220871282690</td>\n",
       "      <td>@AmericanAir You didn't respond to my DM. You ...</td>\n",
       "      <td>negative</td>\n",
       "      <td>American</td>\n",
       "      <td>negative</td>\n",
       "    </tr>\n",
       "    <tr>\n",
       "      <th>14581</th>\n",
       "      <td>569596156927303681</td>\n",
       "      <td>@AmericanAir 30 minutes flight from OKC and th...</td>\n",
       "      <td>negative</td>\n",
       "      <td>American</td>\n",
       "      <td>negative</td>\n",
       "    </tr>\n",
       "    <tr>\n",
       "      <th>14582</th>\n",
       "      <td>569595899204255745</td>\n",
       "      <td>@AmericanAir seems like queue times are very h...</td>\n",
       "      <td>negative</td>\n",
       "      <td>American</td>\n",
       "      <td>negative</td>\n",
       "    </tr>\n",
       "    <tr>\n",
       "      <th>14587</th>\n",
       "      <td>569595333899997185</td>\n",
       "      <td>@AmericanAir I’ll play it by ear. I know that ...</td>\n",
       "      <td>negative</td>\n",
       "      <td>American</td>\n",
       "      <td>negative</td>\n",
       "    </tr>\n",
       "    <tr>\n",
       "      <th>14626</th>\n",
       "      <td>569589460226183168</td>\n",
       "      <td>@AmericanAir Flight 953 NYC-Buenos Aires has b...</td>\n",
       "      <td>negative</td>\n",
       "      <td>American</td>\n",
       "      <td>negative</td>\n",
       "    </tr>\n",
       "  </tbody>\n",
       "</table>\n",
       "<p>1202 rows × 5 columns</p>\n",
       "</div>"
      ],
      "text/plain": [
       "                 tweet_id                                               text  \\\n",
       "3      570301031407624196  @VirginAmerica it's really aggressive to blast...   \n",
       "14     570285904809598977                             @VirginAmerica Thanks!   \n",
       "21     570264145116819457  @VirginAmerica I love this graphic. http://t.c...   \n",
       "32     570088404156698625  @VirginAmerica help, left expensive headphones...   \n",
       "41     570025482344898560  @VirginAmerica Hey, first time flyer next week...   \n",
       "...                   ...                                                ...   \n",
       "14573  569597220871282690  @AmericanAir You didn't respond to my DM. You ...   \n",
       "14581  569596156927303681  @AmericanAir 30 minutes flight from OKC and th...   \n",
       "14582  569595899204255745  @AmericanAir seems like queue times are very h...   \n",
       "14587  569595333899997185  @AmericanAir I’ll play it by ear. I know that ...   \n",
       "14626  569589460226183168  @AmericanAir Flight 953 NYC-Buenos Aires has b...   \n",
       "\n",
       "      sentiment         airline BERT_sentiment  \n",
       "3      negative  Virgin America       negative  \n",
       "14     positive  Virgin America       positive  \n",
       "21     positive  Virgin America       positive  \n",
       "32     negative  Virgin America       negative  \n",
       "41     negative  Virgin America       negative  \n",
       "...         ...             ...            ...  \n",
       "14573  negative        American       negative  \n",
       "14581  negative        American       negative  \n",
       "14582  negative        American       negative  \n",
       "14587  negative        American       negative  \n",
       "14626  negative        American       negative  \n",
       "\n",
       "[1202 rows x 5 columns]"
      ]
     },
     "execution_count": 26,
     "metadata": {},
     "output_type": "execute_result"
    }
   ],
   "source": [
    "correct"
   ]
  },
  {
   "cell_type": "code",
   "execution_count": 27,
   "id": "0b17a467-a521-4f37-9616-c9b925356660",
   "metadata": {},
   "outputs": [],
   "source": [
    "incorrect = twitter_test[twitter_test['sentiment'] != twitter_test['BERT_sentiment']]"
   ]
  },
  {
   "cell_type": "code",
   "execution_count": 28,
   "id": "45b58f07-ebe3-4c83-b614-d1e154e358dd",
   "metadata": {},
   "outputs": [
    {
     "data": {
      "text/html": [
       "<div>\n",
       "<style scoped>\n",
       "    .dataframe tbody tr th:only-of-type {\n",
       "        vertical-align: middle;\n",
       "    }\n",
       "\n",
       "    .dataframe tbody tr th {\n",
       "        vertical-align: top;\n",
       "    }\n",
       "\n",
       "    .dataframe thead th {\n",
       "        text-align: right;\n",
       "    }\n",
       "</style>\n",
       "<table border=\"1\" class=\"dataframe\">\n",
       "  <thead>\n",
       "    <tr style=\"text-align: right;\">\n",
       "      <th></th>\n",
       "      <th>tweet_id</th>\n",
       "      <th>text</th>\n",
       "      <th>sentiment</th>\n",
       "      <th>airline</th>\n",
       "      <th>BERT_sentiment</th>\n",
       "    </tr>\n",
       "  </thead>\n",
       "  <tbody>\n",
       "    <tr>\n",
       "      <th>19</th>\n",
       "      <td>570267956648792064</td>\n",
       "      <td>@VirginAmerica you know what would be amazingl...</td>\n",
       "      <td>positive</td>\n",
       "      <td>Virgin America</td>\n",
       "      <td>neutral</td>\n",
       "    </tr>\n",
       "    <tr>\n",
       "      <th>47</th>\n",
       "      <td>570010571707256832</td>\n",
       "      <td>@VirginAmerica wow this just blew my mind</td>\n",
       "      <td>positive</td>\n",
       "      <td>Virgin America</td>\n",
       "      <td>negative</td>\n",
       "    </tr>\n",
       "    <tr>\n",
       "      <th>63</th>\n",
       "      <td>569986782567071744</td>\n",
       "      <td>@VirginAmerica @LadyGaga @CarrieUnderwood Sorr...</td>\n",
       "      <td>neutral</td>\n",
       "      <td>Virgin America</td>\n",
       "      <td>positive</td>\n",
       "    </tr>\n",
       "    <tr>\n",
       "      <th>67</th>\n",
       "      <td>569973821396152323</td>\n",
       "      <td>@VirginAmerica Hi, Virgin! I'm on hold for 40-...</td>\n",
       "      <td>negative</td>\n",
       "      <td>Virgin America</td>\n",
       "      <td>neutral</td>\n",
       "    </tr>\n",
       "    <tr>\n",
       "      <th>86</th>\n",
       "      <td>569923394990419968</td>\n",
       "      <td>@VirginAmerica Can't bring up my reservation o...</td>\n",
       "      <td>neutral</td>\n",
       "      <td>Virgin America</td>\n",
       "      <td>negative</td>\n",
       "    </tr>\n",
       "    <tr>\n",
       "      <th>...</th>\n",
       "      <td>...</td>\n",
       "      <td>...</td>\n",
       "      <td>...</td>\n",
       "      <td>...</td>\n",
       "      <td>...</td>\n",
       "    </tr>\n",
       "    <tr>\n",
       "      <th>14358</th>\n",
       "      <td>569627839374467072</td>\n",
       "      <td>@AmericanAir @NY_NJairports Do you guys teach ...</td>\n",
       "      <td>negative</td>\n",
       "      <td>American</td>\n",
       "      <td>neutral</td>\n",
       "    </tr>\n",
       "    <tr>\n",
       "      <th>14405</th>\n",
       "      <td>569620512139145216</td>\n",
       "      <td>@AmericanAir  please call us back to rebook!!!...</td>\n",
       "      <td>negative</td>\n",
       "      <td>American</td>\n",
       "      <td>neutral</td>\n",
       "    </tr>\n",
       "    <tr>\n",
       "      <th>14454</th>\n",
       "      <td>569613611510960128</td>\n",
       "      <td>@AmericanAir Hi guys checking in US/AA 639 JFK...</td>\n",
       "      <td>neutral</td>\n",
       "      <td>American</td>\n",
       "      <td>positive</td>\n",
       "    </tr>\n",
       "    <tr>\n",
       "      <th>14469</th>\n",
       "      <td>569611259357863936</td>\n",
       "      <td>@AmericanAir  hung up on now many times trying...</td>\n",
       "      <td>neutral</td>\n",
       "      <td>American</td>\n",
       "      <td>negative</td>\n",
       "    </tr>\n",
       "    <tr>\n",
       "      <th>14639</th>\n",
       "      <td>569587140490866689</td>\n",
       "      <td>@AmericanAir we have 8 ppl so we need 2 know h...</td>\n",
       "      <td>neutral</td>\n",
       "      <td>American</td>\n",
       "      <td>negative</td>\n",
       "    </tr>\n",
       "  </tbody>\n",
       "</table>\n",
       "<p>262 rows × 5 columns</p>\n",
       "</div>"
      ],
      "text/plain": [
       "                 tweet_id                                               text  \\\n",
       "19     570267956648792064  @VirginAmerica you know what would be amazingl...   \n",
       "47     570010571707256832          @VirginAmerica wow this just blew my mind   \n",
       "63     569986782567071744  @VirginAmerica @LadyGaga @CarrieUnderwood Sorr...   \n",
       "67     569973821396152323  @VirginAmerica Hi, Virgin! I'm on hold for 40-...   \n",
       "86     569923394990419968  @VirginAmerica Can't bring up my reservation o...   \n",
       "...                   ...                                                ...   \n",
       "14358  569627839374467072  @AmericanAir @NY_NJairports Do you guys teach ...   \n",
       "14405  569620512139145216  @AmericanAir  please call us back to rebook!!!...   \n",
       "14454  569613611510960128  @AmericanAir Hi guys checking in US/AA 639 JFK...   \n",
       "14469  569611259357863936  @AmericanAir  hung up on now many times trying...   \n",
       "14639  569587140490866689  @AmericanAir we have 8 ppl so we need 2 know h...   \n",
       "\n",
       "      sentiment         airline BERT_sentiment  \n",
       "19     positive  Virgin America        neutral  \n",
       "47     positive  Virgin America       negative  \n",
       "63      neutral  Virgin America       positive  \n",
       "67     negative  Virgin America        neutral  \n",
       "86      neutral  Virgin America       negative  \n",
       "...         ...             ...            ...  \n",
       "14358  negative        American        neutral  \n",
       "14405  negative        American        neutral  \n",
       "14454   neutral        American       positive  \n",
       "14469   neutral        American       negative  \n",
       "14639   neutral        American       negative  \n",
       "\n",
       "[262 rows x 5 columns]"
      ]
     },
     "execution_count": 28,
     "metadata": {},
     "output_type": "execute_result"
    }
   ],
   "source": [
    "incorrect"
   ]
  },
  {
   "cell_type": "markdown",
   "id": "5c4b5afb-a9cc-425e-9c82-23f535da3c8c",
   "metadata": {},
   "source": [
    "# Save Model"
   ]
  },
  {
   "cell_type": "code",
   "execution_count": 29,
   "id": "a4323bae-980d-40f6-91ae-941d207a6750",
   "metadata": {},
   "outputs": [],
   "source": [
    "import pickle\n",
    "model_fname = 'models/BERT_twitter_airline.sav'\n",
    "pickle.dump(bert_experiment_full, open(model_fname, 'wb'))"
   ]
  },
  {
   "cell_type": "code",
   "execution_count": null,
   "id": "fae2984c-fd4a-4af9-91aa-3a6ceb712573",
   "metadata": {},
   "outputs": [],
   "source": []
  }
 ],
 "metadata": {
  "kernelspec": {
   "display_name": "Python 3 (ipykernel)",
   "language": "python",
   "name": "python3"
  },
  "language_info": {
   "codemirror_mode": {
    "name": "ipython",
    "version": 3
   },
   "file_extension": ".py",
   "mimetype": "text/x-python",
   "name": "python",
   "nbconvert_exporter": "python",
   "pygments_lexer": "ipython3",
   "version": "3.8.12"
  }
 },
 "nbformat": 4,
 "nbformat_minor": 5
}

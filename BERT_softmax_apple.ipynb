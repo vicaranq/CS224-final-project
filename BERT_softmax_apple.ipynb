{
 "cells": [
  {
   "cell_type": "markdown",
   "id": "47e8f743-ceab-449c-9ee7-200a1785cb16",
   "metadata": {},
   "source": [
    "# Use BERT Representations with LogisticRegression Softmax Classifier"
   ]
  },
  {
   "cell_type": "code",
   "execution_count": 1,
   "id": "30dae3b5-f005-418c-8e46-9bd8758cf351",
   "metadata": {},
   "outputs": [],
   "source": [
    "from collections import Counter\n",
    "import os\n",
    "import numpy as np\n",
    "import pandas as pd\n",
    "import torch\n",
    "from torch import nn, optim\n",
    "import torch.nn as nn\n",
    "from torch.utils.data import TensorDataset, Dataset, DataLoader\n",
    "from sklearn.model_selection import train_test_split\n",
    "from sklearn.linear_model import LogisticRegression\n",
    "from sklearn.model_selection import cross_val_score\n",
    "from transformers import BertTokenizer, BertModel, BertForSequenceClassification\n",
    "\n",
    "\n",
    "import dataset\n",
    "import vsm\n",
    "import sst"
   ]
  },
  {
   "cell_type": "code",
   "execution_count": 2,
   "id": "1c995c70-1ec0-47c7-be85-5a622874c493",
   "metadata": {},
   "outputs": [],
   "source": [
    "TWITTER = 2\n",
    "TWITTER_AIRLINES = 3\n",
    "TWITTER_APPLE = 4"
   ]
  },
  {
   "cell_type": "code",
   "execution_count": 3,
   "id": "5059a022-607d-493b-8e7e-82937409db1c",
   "metadata": {},
   "outputs": [],
   "source": [
    "twitter_train, twitter_validate, twitter_test =  dataset.dataset_reader(TWITTER_APPLE)\n",
    "[twitter_train, twitter_validate, twitter_test] = list(map(lambda ds : dataset.prune_columns(TWITTER_APPLE, ds), [twitter_train, twitter_validate, twitter_test]))"
   ]
  },
  {
   "cell_type": "code",
   "execution_count": 4,
   "id": "b41be400-82cf-469e-96b0-522cf9de12b3",
   "metadata": {},
   "outputs": [],
   "source": [
    "bert_weights_name = 'bert-base-cased'\n",
    "bert_tokenizer = BertTokenizer.from_pretrained(bert_weights_name)\n",
    "bert_model = BertModel.from_pretrained(bert_weights_name)\n",
    "# model = BertForSequenceClassification.from_pretrained(bert_weights_name)\n",
    "# Unique values of sentiment\n",
    "twitter_sentiment_labels = twitter_train['sentiment'].unique()"
   ]
  },
  {
   "cell_type": "code",
   "execution_count": 5,
   "id": "f23b9013-5def-4e2a-a699-3bb3b3cd984d",
   "metadata": {},
   "outputs": [],
   "source": [
    "def fit_softmax_classifier(X, y):\n",
    "    mod = LogisticRegression(\n",
    "        fit_intercept=True,\n",
    "        solver='liblinear',\n",
    "        multi_class='ovr')\n",
    "    mod.fit(X, y)\n",
    "    return mod"
   ]
  },
  {
   "cell_type": "code",
   "execution_count": 6,
   "id": "466a1797-1ce2-4a94-b900-776777db0d20",
   "metadata": {},
   "outputs": [],
   "source": [
    "def hf_cls_phi(text):\n",
    "    # Get the ids. `vsm.hf_encode` will help; be sure to\n",
    "    # set `add_special_tokens=True`.\n",
    "    ##### YOUR CODE HERE\n",
    "    subtok_ids = vsm.hf_encode(text, bert_tokenizer, add_special_tokens=True)\n",
    "\n",
    "    # Get the BERT representations. `vsm.hf_represent` will help:\n",
    "    ##### YOUR CODE HERE\n",
    "    subtok_reps = vsm.hf_represent(subtok_ids, bert_model, layer=-1)\n",
    "\n",
    "    # Index into `reps` to get the representation above [CLS].\n",
    "    # The shape of `reps` should be (1, n, 768), where n is the\n",
    "    # number of tokens. You need the 0th element of the 2nd dim:\n",
    "    ##### YOUR CODE HERE\n",
    "    cls_rep = subtok_reps[0][:][0]\n",
    "\n",
    "    # These conversions should ensure that you can work with the\n",
    "    # representations flexibly. Feel free to change the variable\n",
    "    # name:\n",
    "    return cls_rep.cpu().numpy()"
   ]
  },
  {
   "cell_type": "code",
   "execution_count": 7,
   "id": "a7bb900e-ec8f-4e7c-92e2-987c363777e0",
   "metadata": {},
   "outputs": [
    {
     "data": {
      "text/plain": [
       "(9327, 1164, 1167)"
      ]
     },
     "execution_count": 7,
     "metadata": {},
     "output_type": "execute_result"
    }
   ],
   "source": [
    "twitter_train.size, twitter_validate.size, twitter_test.size"
   ]
  },
  {
   "cell_type": "code",
   "execution_count": 8,
   "id": "8d2c69f6-6084-4316-899d-b2ec9d52d16a",
   "metadata": {},
   "outputs": [
    {
     "name": "stdout",
     "output_type": "stream",
     "text": [
      "              precision    recall  f1-score   support\n",
      "\n",
      "           1      0.730     0.654     0.690       136\n",
      "           3      0.716     0.869     0.785       206\n",
      "           5      0.688     0.297     0.415        37\n",
      "not_relevant      0.000     0.000     0.000         9\n",
      "\n",
      "    accuracy                          0.719       388\n",
      "   macro avg      0.533     0.455     0.473       388\n",
      "weighted avg      0.701     0.719     0.698       388\n",
      "\n",
      "CPU times: user 23min 31s, sys: 14 s, total: 23min 45s\n",
      "Wall time: 3min 59s\n"
     ]
    },
    {
     "name": "stderr",
     "output_type": "stream",
     "text": [
      "/home/echyam/miniconda3/envs/nlu/lib/python3.8/site-packages/sklearn/metrics/_classification.py:1318: UndefinedMetricWarning: Precision and F-score are ill-defined and being set to 0.0 in labels with no predicted samples. Use `zero_division` parameter to control this behavior.\n",
      "  _warn_prf(average, modifier, msg_start, len(result))\n",
      "/home/echyam/miniconda3/envs/nlu/lib/python3.8/site-packages/sklearn/metrics/_classification.py:1318: UndefinedMetricWarning: Precision and F-score are ill-defined and being set to 0.0 in labels with no predicted samples. Use `zero_division` parameter to control this behavior.\n",
      "  _warn_prf(average, modifier, msg_start, len(result))\n",
      "/home/echyam/miniconda3/envs/nlu/lib/python3.8/site-packages/sklearn/metrics/_classification.py:1318: UndefinedMetricWarning: Precision and F-score are ill-defined and being set to 0.0 in labels with no predicted samples. Use `zero_division` parameter to control this behavior.\n",
      "  _warn_prf(average, modifier, msg_start, len(result))\n"
     ]
    }
   ],
   "source": [
    "%%time\n",
    "bert_experiment1500 = sst.experiment(\n",
    "    twitter_train[:1500], # \n",
    "    hf_cls_phi,\n",
    "    fit_softmax_classifier,\n",
    "    assess_dataframes=[twitter_validate[:1000]],\n",
    "    vectorize=False)"
   ]
  },
  {
   "cell_type": "code",
   "execution_count": 9,
   "id": "4326b274-a348-4623-a1eb-3142a2a52b2b",
   "metadata": {},
   "outputs": [
    {
     "name": "stdout",
     "output_type": "stream",
     "text": [
      "              precision    recall  f1-score   support\n",
      "\n",
      "           1      0.761     0.654     0.704       136\n",
      "           3      0.723     0.888     0.797       206\n",
      "           5      0.722     0.351     0.473        37\n",
      "not_relevant      0.000     0.000     0.000         9\n",
      "\n",
      "    accuracy                          0.735       388\n",
      "   macro avg      0.552     0.474     0.493       388\n",
      "weighted avg      0.720     0.735     0.715       388\n",
      "\n",
      "CPU times: user 40min 56s, sys: 23.8 s, total: 41min 20s\n",
      "Wall time: 6min 57s\n"
     ]
    },
    {
     "name": "stderr",
     "output_type": "stream",
     "text": [
      "/home/echyam/miniconda3/envs/nlu/lib/python3.8/site-packages/sklearn/metrics/_classification.py:1318: UndefinedMetricWarning: Precision and F-score are ill-defined and being set to 0.0 in labels with no predicted samples. Use `zero_division` parameter to control this behavior.\n",
      "  _warn_prf(average, modifier, msg_start, len(result))\n",
      "/home/echyam/miniconda3/envs/nlu/lib/python3.8/site-packages/sklearn/metrics/_classification.py:1318: UndefinedMetricWarning: Precision and F-score are ill-defined and being set to 0.0 in labels with no predicted samples. Use `zero_division` parameter to control this behavior.\n",
      "  _warn_prf(average, modifier, msg_start, len(result))\n",
      "/home/echyam/miniconda3/envs/nlu/lib/python3.8/site-packages/sklearn/metrics/_classification.py:1318: UndefinedMetricWarning: Precision and F-score are ill-defined and being set to 0.0 in labels with no predicted samples. Use `zero_division` parameter to control this behavior.\n",
      "  _warn_prf(average, modifier, msg_start, len(result))\n"
     ]
    }
   ],
   "source": [
    "%%time\n",
    "bert_experiment_full = sst.experiment(\n",
    "    twitter_train, # \n",
    "    hf_cls_phi,\n",
    "    fit_softmax_classifier,\n",
    "    assess_dataframes=[twitter_validate],\n",
    "    vectorize=False)"
   ]
  },
  {
   "cell_type": "code",
   "execution_count": 10,
   "id": "d54b31f7-4cb2-4e55-b20d-ccde15e31350",
   "metadata": {},
   "outputs": [
    {
     "data": {
      "text/plain": [
       "dict_keys(['model', 'phi', 'train_dataset', 'assess_datasets', 'predictions', 'metric', 'scores'])"
      ]
     },
     "execution_count": 10,
     "metadata": {},
     "output_type": "execute_result"
    }
   ],
   "source": [
    "bert_experiment_full.keys()"
   ]
  },
  {
   "cell_type": "code",
   "execution_count": 11,
   "id": "a7bac1a5-92e3-468e-847b-e759eb09a2bc",
   "metadata": {},
   "outputs": [
    {
     "data": {
      "text/plain": [
       "[0.4934175514738175]"
      ]
     },
     "execution_count": 11,
     "metadata": {},
     "output_type": "execute_result"
    }
   ],
   "source": [
    "bert_experiment_full['scores']"
   ]
  },
  {
   "cell_type": "code",
   "execution_count": 12,
   "id": "8a0ed646-5437-43db-a2f5-7938349cea10",
   "metadata": {},
   "outputs": [
    {
     "data": {
      "text/plain": [
       "'safe_macro_f1'"
      ]
     },
     "execution_count": 12,
     "metadata": {},
     "output_type": "execute_result"
    }
   ],
   "source": [
    "bert_experiment_full['metric']"
   ]
  },
  {
   "cell_type": "code",
   "execution_count": 13,
   "id": "95567ac1-8815-4694-96c7-dff72617250b",
   "metadata": {
    "tags": []
   },
   "outputs": [
    {
     "data": {
      "text/plain": [
       "LogisticRegression(multi_class='ovr', solver='liblinear')"
      ]
     },
     "execution_count": 13,
     "metadata": {},
     "output_type": "execute_result"
    }
   ],
   "source": [
    "bert_experiment_full['model']"
   ]
  },
  {
   "cell_type": "markdown",
   "id": "d7ccb547-1174-471f-b6e5-e9239d23fe4b",
   "metadata": {},
   "source": [
    "# Test BERT trained on Tweets on test set"
   ]
  },
  {
   "cell_type": "code",
   "execution_count": 14,
   "id": "1f4d5a18-66b3-467b-aea7-59f196b07bf4",
   "metadata": {},
   "outputs": [],
   "source": [
    "def predict_one_bert(text):\n",
    "    # List of tokenized examples:\n",
    "    X = [bert_experiment_full['phi'](text)]\n",
    "    # Standard `predict` step on a list of lists of str:\n",
    "    preds = bert_experiment_full['model'].predict(X)\n",
    "    # Be sure to return the only member of the predictions,\n",
    "    # rather than the singleton list:\n",
    "    return preds[0]"
   ]
  },
  {
   "cell_type": "code",
   "execution_count": 15,
   "id": "8ca03e9e-f006-40a3-aa3a-681dacbac891",
   "metadata": {},
   "outputs": [],
   "source": [
    "# %% time\n",
    "# twitter_test['prediction'] = twitter_test['text'].apply(predict_one_bert)"
   ]
  },
  {
   "cell_type": "code",
   "execution_count": 16,
   "id": "145568c0-81b1-485f-9cc5-8c5fcd4ed951",
   "metadata": {},
   "outputs": [
    {
     "data": {
      "text/plain": [
       "<module 'sst' from '/mnt/c/Users/echya/Documents/XCS224U - 007 Natural Language Understanding/CS224-final-project/sst.py'>"
      ]
     },
     "execution_count": 16,
     "metadata": {},
     "output_type": "execute_result"
    }
   ],
   "source": [
    "import importlib\n",
    "importlib.reload(sst)"
   ]
  },
  {
   "cell_type": "code",
   "execution_count": 17,
   "id": "09db34c2-0a98-4627-ae75-75653fdde41e",
   "metadata": {},
   "outputs": [
    {
     "name": "stdout",
     "output_type": "stream",
     "text": [
      "              precision    recall  f1-score   support\n",
      "\n",
      "           1      0.739     0.675     0.705       126\n",
      "           3      0.721     0.894     0.798       208\n",
      "           5      0.800     0.267     0.400        45\n",
      "not_relevant      0.000     0.000     0.000        10\n",
      "\n",
      "    accuracy                          0.728       389\n",
      "   macro avg      0.565     0.459     0.476       389\n",
      "weighted avg      0.717     0.728     0.702       389\n",
      "\n",
      "CPU times: user 5min 8s, sys: 2.89 s, total: 5min 11s\n",
      "Wall time: 51.9 s\n"
     ]
    }
   ],
   "source": [
    "%%time\n",
    "bert_test = sst.evaluate(\n",
    "    bert_experiment_full['model'],\n",
    "    bert_experiment_full['phi'],\n",
    "    assess_dataframes=[twitter_test],\n",
    "    vectorizer=bert_experiment_full['assess_datasets'][0]['vectorizer'],\n",
    "    vectorize=False\n",
    ")"
   ]
  },
  {
   "cell_type": "code",
   "execution_count": 18,
   "id": "f49ec6d2-f389-4995-b1d9-5003bff03522",
   "metadata": {},
   "outputs": [
    {
     "data": {
      "text/plain": [
       "numpy.ndarray"
      ]
     },
     "execution_count": 18,
     "metadata": {},
     "output_type": "execute_result"
    }
   ],
   "source": [
    "type(bert_test['predictions'][0])"
   ]
  },
  {
   "cell_type": "code",
   "execution_count": 20,
   "id": "6dbc9350-3873-4226-8430-e1851b8f1a59",
   "metadata": {},
   "outputs": [],
   "source": [
    "predictions_fname ='results/BERT_predictions_on_twitter_test_apple.csv'\n",
    "df = bert_test['predictions'][0]\n",
    "pd.DataFrame(df).to_csv(predictions_fname)"
   ]
  },
  {
   "cell_type": "code",
   "execution_count": 21,
   "id": "13e45694-66b9-41f2-9159-70f048dbae48",
   "metadata": {
    "tags": []
   },
   "outputs": [],
   "source": [
    "encoding_fname ='results/BERT_encodings_on_twitter_test_apple.csv'\n",
    "encoded_test = bert_test['assess_datasets'][0]\n",
    "pd.DataFrame(df).to_csv(encoding_fname)"
   ]
  },
  {
   "cell_type": "code",
   "execution_count": 22,
   "id": "eb5ae92e-80a6-44f3-827b-a79eab788ddc",
   "metadata": {},
   "outputs": [
    {
     "data": {
      "text/html": [
       "<div>\n",
       "<style scoped>\n",
       "    .dataframe tbody tr th:only-of-type {\n",
       "        vertical-align: middle;\n",
       "    }\n",
       "\n",
       "    .dataframe tbody tr th {\n",
       "        vertical-align: top;\n",
       "    }\n",
       "\n",
       "    .dataframe thead th {\n",
       "        text-align: right;\n",
       "    }\n",
       "</style>\n",
       "<table border=\"1\" class=\"dataframe\">\n",
       "  <thead>\n",
       "    <tr style=\"text-align: right;\">\n",
       "      <th></th>\n",
       "      <th>0</th>\n",
       "    </tr>\n",
       "  </thead>\n",
       "  <tbody>\n",
       "    <tr>\n",
       "      <th>3</th>\n",
       "      <td>5</td>\n",
       "    </tr>\n",
       "    <tr>\n",
       "      <th>8</th>\n",
       "      <td>3</td>\n",
       "    </tr>\n",
       "    <tr>\n",
       "      <th>14</th>\n",
       "      <td>1</td>\n",
       "    </tr>\n",
       "    <tr>\n",
       "      <th>16</th>\n",
       "      <td>1</td>\n",
       "    </tr>\n",
       "    <tr>\n",
       "      <th>26</th>\n",
       "      <td>1</td>\n",
       "    </tr>\n",
       "    <tr>\n",
       "      <th>...</th>\n",
       "      <td>...</td>\n",
       "    </tr>\n",
       "    <tr>\n",
       "      <th>3778</th>\n",
       "      <td>3</td>\n",
       "    </tr>\n",
       "    <tr>\n",
       "      <th>3817</th>\n",
       "      <td>3</td>\n",
       "    </tr>\n",
       "    <tr>\n",
       "      <th>3838</th>\n",
       "      <td>3</td>\n",
       "    </tr>\n",
       "    <tr>\n",
       "      <th>3840</th>\n",
       "      <td>5</td>\n",
       "    </tr>\n",
       "    <tr>\n",
       "      <th>3864</th>\n",
       "      <td>3</td>\n",
       "    </tr>\n",
       "  </tbody>\n",
       "</table>\n",
       "<p>389 rows × 1 columns</p>\n",
       "</div>"
      ],
      "text/plain": [
       "      0\n",
       "3     5\n",
       "8     3\n",
       "14    1\n",
       "16    1\n",
       "26    1\n",
       "...  ..\n",
       "3778  3\n",
       "3817  3\n",
       "3838  3\n",
       "3840  5\n",
       "3864  3\n",
       "\n",
       "[389 rows x 1 columns]"
      ]
     },
     "execution_count": 22,
     "metadata": {},
     "output_type": "execute_result"
    }
   ],
   "source": [
    "predictions_df = pd.DataFrame(df)\n",
    "predictions_df = predictions_df.set_index(twitter_test.index)\n",
    "predictions_df"
   ]
  },
  {
   "cell_type": "code",
   "execution_count": 23,
   "id": "ed7099ef-7ce4-4346-a0fd-fea8fa9f4580",
   "metadata": {},
   "outputs": [],
   "source": [
    "twitter_test['BERT_sentiment'] = predictions_df"
   ]
  },
  {
   "cell_type": "code",
   "execution_count": 24,
   "id": "71be05a5-02e8-4315-88a7-0651caf140b9",
   "metadata": {},
   "outputs": [
    {
     "data": {
      "text/html": [
       "<div>\n",
       "<style scoped>\n",
       "    .dataframe tbody tr th:only-of-type {\n",
       "        vertical-align: middle;\n",
       "    }\n",
       "\n",
       "    .dataframe tbody tr th {\n",
       "        vertical-align: top;\n",
       "    }\n",
       "\n",
       "    .dataframe thead th {\n",
       "        text-align: right;\n",
       "    }\n",
       "</style>\n",
       "<table border=\"1\" class=\"dataframe\">\n",
       "  <thead>\n",
       "    <tr style=\"text-align: right;\">\n",
       "      <th></th>\n",
       "      <th>tweet_id</th>\n",
       "      <th>text</th>\n",
       "      <th>sentiment</th>\n",
       "      <th>BERT_sentiment</th>\n",
       "    </tr>\n",
       "  </thead>\n",
       "  <tbody>\n",
       "    <tr>\n",
       "      <th>3</th>\n",
       "      <td>623495516</td>\n",
       "      <td>I agree with @jimcramer that the #IndividualIn...</td>\n",
       "      <td>3</td>\n",
       "      <td>5</td>\n",
       "    </tr>\n",
       "    <tr>\n",
       "      <th>8</th>\n",
       "      <td>623495521</td>\n",
       "      <td>Apple Inc. Flash Crash: What You Need to Know ...</td>\n",
       "      <td>3</td>\n",
       "      <td>3</td>\n",
       "    </tr>\n",
       "    <tr>\n",
       "      <th>14</th>\n",
       "      <td>623495527</td>\n",
       "      <td>@apple Contact sync between Yosemite and iOS8 ...</td>\n",
       "      <td>1</td>\n",
       "      <td>1</td>\n",
       "    </tr>\n",
       "    <tr>\n",
       "      <th>16</th>\n",
       "      <td>623495529</td>\n",
       "      <td>WARNING IF YOU BUY AN IPHONE 5S UNLOCKED FROM ...</td>\n",
       "      <td>1</td>\n",
       "      <td>1</td>\n",
       "    </tr>\n",
       "    <tr>\n",
       "      <th>26</th>\n",
       "      <td>623495539</td>\n",
       "      <td>@ me RT @101Baemations: Can't stand those ppl ...</td>\n",
       "      <td>1</td>\n",
       "      <td>1</td>\n",
       "    </tr>\n",
       "    <tr>\n",
       "      <th>...</th>\n",
       "      <td>...</td>\n",
       "      <td>...</td>\n",
       "      <td>...</td>\n",
       "      <td>...</td>\n",
       "    </tr>\n",
       "    <tr>\n",
       "      <th>3778</th>\n",
       "      <td>623499308</td>\n",
       "      <td>#AAPL:Apple products may have Bah! Humbug! hol...</td>\n",
       "      <td>1</td>\n",
       "      <td>3</td>\n",
       "    </tr>\n",
       "    <tr>\n",
       "      <th>3817</th>\n",
       "      <td>623499347</td>\n",
       "      <td>Why Apple Watch May Be a Luxury Fashion Hit  $...</td>\n",
       "      <td>3</td>\n",
       "      <td>3</td>\n",
       "    </tr>\n",
       "    <tr>\n",
       "      <th>3838</th>\n",
       "      <td>623499368</td>\n",
       "      <td>Apple:Dec 9 Trading Daily Profit $3.48/sh, Wee...</td>\n",
       "      <td>3</td>\n",
       "      <td>3</td>\n",
       "    </tr>\n",
       "    <tr>\n",
       "      <th>3840</th>\n",
       "      <td>623499370</td>\n",
       "      <td>Lets go shopping!!! @apple http://t.co/uTFUHuoJIi</td>\n",
       "      <td>5</td>\n",
       "      <td>5</td>\n",
       "    </tr>\n",
       "    <tr>\n",
       "      <th>3864</th>\n",
       "      <td>623499394</td>\n",
       "      <td>Apple Is Warming Up To Social Media: Apple is ...</td>\n",
       "      <td>3</td>\n",
       "      <td>3</td>\n",
       "    </tr>\n",
       "  </tbody>\n",
       "</table>\n",
       "<p>389 rows × 4 columns</p>\n",
       "</div>"
      ],
      "text/plain": [
       "       tweet_id                                               text sentiment  \\\n",
       "3     623495516  I agree with @jimcramer that the #IndividualIn...         3   \n",
       "8     623495521  Apple Inc. Flash Crash: What You Need to Know ...         3   \n",
       "14    623495527  @apple Contact sync between Yosemite and iOS8 ...         1   \n",
       "16    623495529  WARNING IF YOU BUY AN IPHONE 5S UNLOCKED FROM ...         1   \n",
       "26    623495539  @ me RT @101Baemations: Can't stand those ppl ...         1   \n",
       "...         ...                                                ...       ...   \n",
       "3778  623499308  #AAPL:Apple products may have Bah! Humbug! hol...         1   \n",
       "3817  623499347  Why Apple Watch May Be a Luxury Fashion Hit  $...         3   \n",
       "3838  623499368  Apple:Dec 9 Trading Daily Profit $3.48/sh, Wee...         3   \n",
       "3840  623499370  Lets go shopping!!! @apple http://t.co/uTFUHuoJIi         5   \n",
       "3864  623499394  Apple Is Warming Up To Social Media: Apple is ...         3   \n",
       "\n",
       "     BERT_sentiment  \n",
       "3                 5  \n",
       "8                 3  \n",
       "14                1  \n",
       "16                1  \n",
       "26                1  \n",
       "...             ...  \n",
       "3778              3  \n",
       "3817              3  \n",
       "3838              3  \n",
       "3840              5  \n",
       "3864              3  \n",
       "\n",
       "[389 rows x 4 columns]"
      ]
     },
     "execution_count": 24,
     "metadata": {},
     "output_type": "execute_result"
    }
   ],
   "source": [
    "twitter_test"
   ]
  },
  {
   "cell_type": "code",
   "execution_count": 25,
   "id": "cf9c4767-072f-4201-9c43-e65c04e97858",
   "metadata": {},
   "outputs": [],
   "source": [
    "test_predictions_fname ='results/BERT_predictions_added_to_twitter_test_apple.csv'\n",
    "twitter_test.to_csv(test_predictions_fname)"
   ]
  },
  {
   "cell_type": "code",
   "execution_count": 26,
   "id": "d1b799ce-e850-4035-bae7-8ddb45eecb27",
   "metadata": {},
   "outputs": [],
   "source": [
    "correct = twitter_test[twitter_test['sentiment'] == twitter_test['BERT_sentiment']]"
   ]
  },
  {
   "cell_type": "code",
   "execution_count": 27,
   "id": "682cdd73-a337-436e-a3f5-1ee6bb8a8ee1",
   "metadata": {},
   "outputs": [
    {
     "data": {
      "text/html": [
       "<div>\n",
       "<style scoped>\n",
       "    .dataframe tbody tr th:only-of-type {\n",
       "        vertical-align: middle;\n",
       "    }\n",
       "\n",
       "    .dataframe tbody tr th {\n",
       "        vertical-align: top;\n",
       "    }\n",
       "\n",
       "    .dataframe thead th {\n",
       "        text-align: right;\n",
       "    }\n",
       "</style>\n",
       "<table border=\"1\" class=\"dataframe\">\n",
       "  <thead>\n",
       "    <tr style=\"text-align: right;\">\n",
       "      <th></th>\n",
       "      <th>tweet_id</th>\n",
       "      <th>text</th>\n",
       "      <th>sentiment</th>\n",
       "      <th>BERT_sentiment</th>\n",
       "    </tr>\n",
       "  </thead>\n",
       "  <tbody>\n",
       "    <tr>\n",
       "      <th>8</th>\n",
       "      <td>623495521</td>\n",
       "      <td>Apple Inc. Flash Crash: What You Need to Know ...</td>\n",
       "      <td>3</td>\n",
       "      <td>3</td>\n",
       "    </tr>\n",
       "    <tr>\n",
       "      <th>14</th>\n",
       "      <td>623495527</td>\n",
       "      <td>@apple Contact sync between Yosemite and iOS8 ...</td>\n",
       "      <td>1</td>\n",
       "      <td>1</td>\n",
       "    </tr>\n",
       "    <tr>\n",
       "      <th>16</th>\n",
       "      <td>623495529</td>\n",
       "      <td>WARNING IF YOU BUY AN IPHONE 5S UNLOCKED FROM ...</td>\n",
       "      <td>1</td>\n",
       "      <td>1</td>\n",
       "    </tr>\n",
       "    <tr>\n",
       "      <th>26</th>\n",
       "      <td>623495539</td>\n",
       "      <td>@ me RT @101Baemations: Can't stand those ppl ...</td>\n",
       "      <td>1</td>\n",
       "      <td>1</td>\n",
       "    </tr>\n",
       "    <tr>\n",
       "      <th>45</th>\n",
       "      <td>623495558</td>\n",
       "      <td>RT @thehill: Justice Department cites 18th cen...</td>\n",
       "      <td>3</td>\n",
       "      <td>3</td>\n",
       "    </tr>\n",
       "    <tr>\n",
       "      <th>...</th>\n",
       "      <td>...</td>\n",
       "      <td>...</td>\n",
       "      <td>...</td>\n",
       "      <td>...</td>\n",
       "    </tr>\n",
       "    <tr>\n",
       "      <th>3764</th>\n",
       "      <td>623499294</td>\n",
       "      <td>@Apple, you made a mistake. Now itå«s time to ...</td>\n",
       "      <td>1</td>\n",
       "      <td>1</td>\n",
       "    </tr>\n",
       "    <tr>\n",
       "      <th>3817</th>\n",
       "      <td>623499347</td>\n",
       "      <td>Why Apple Watch May Be a Luxury Fashion Hit  $...</td>\n",
       "      <td>3</td>\n",
       "      <td>3</td>\n",
       "    </tr>\n",
       "    <tr>\n",
       "      <th>3838</th>\n",
       "      <td>623499368</td>\n",
       "      <td>Apple:Dec 9 Trading Daily Profit $3.48/sh, Wee...</td>\n",
       "      <td>3</td>\n",
       "      <td>3</td>\n",
       "    </tr>\n",
       "    <tr>\n",
       "      <th>3840</th>\n",
       "      <td>623499370</td>\n",
       "      <td>Lets go shopping!!! @apple http://t.co/uTFUHuoJIi</td>\n",
       "      <td>5</td>\n",
       "      <td>5</td>\n",
       "    </tr>\n",
       "    <tr>\n",
       "      <th>3864</th>\n",
       "      <td>623499394</td>\n",
       "      <td>Apple Is Warming Up To Social Media: Apple is ...</td>\n",
       "      <td>3</td>\n",
       "      <td>3</td>\n",
       "    </tr>\n",
       "  </tbody>\n",
       "</table>\n",
       "<p>283 rows × 4 columns</p>\n",
       "</div>"
      ],
      "text/plain": [
       "       tweet_id                                               text sentiment  \\\n",
       "8     623495521  Apple Inc. Flash Crash: What You Need to Know ...         3   \n",
       "14    623495527  @apple Contact sync between Yosemite and iOS8 ...         1   \n",
       "16    623495529  WARNING IF YOU BUY AN IPHONE 5S UNLOCKED FROM ...         1   \n",
       "26    623495539  @ me RT @101Baemations: Can't stand those ppl ...         1   \n",
       "45    623495558  RT @thehill: Justice Department cites 18th cen...         3   \n",
       "...         ...                                                ...       ...   \n",
       "3764  623499294  @Apple, you made a mistake. Now itå«s time to ...         1   \n",
       "3817  623499347  Why Apple Watch May Be a Luxury Fashion Hit  $...         3   \n",
       "3838  623499368  Apple:Dec 9 Trading Daily Profit $3.48/sh, Wee...         3   \n",
       "3840  623499370  Lets go shopping!!! @apple http://t.co/uTFUHuoJIi         5   \n",
       "3864  623499394  Apple Is Warming Up To Social Media: Apple is ...         3   \n",
       "\n",
       "     BERT_sentiment  \n",
       "8                 3  \n",
       "14                1  \n",
       "16                1  \n",
       "26                1  \n",
       "45                3  \n",
       "...             ...  \n",
       "3764              1  \n",
       "3817              3  \n",
       "3838              3  \n",
       "3840              5  \n",
       "3864              3  \n",
       "\n",
       "[283 rows x 4 columns]"
      ]
     },
     "execution_count": 27,
     "metadata": {},
     "output_type": "execute_result"
    }
   ],
   "source": [
    "correct"
   ]
  },
  {
   "cell_type": "code",
   "execution_count": 28,
   "id": "0b17a467-a521-4f37-9616-c9b925356660",
   "metadata": {},
   "outputs": [],
   "source": [
    "incorrect = twitter_test[twitter_test['sentiment'] != twitter_test['BERT_sentiment']]"
   ]
  },
  {
   "cell_type": "code",
   "execution_count": 29,
   "id": "45b58f07-ebe3-4c83-b614-d1e154e358dd",
   "metadata": {},
   "outputs": [
    {
     "data": {
      "text/html": [
       "<div>\n",
       "<style scoped>\n",
       "    .dataframe tbody tr th:only-of-type {\n",
       "        vertical-align: middle;\n",
       "    }\n",
       "\n",
       "    .dataframe tbody tr th {\n",
       "        vertical-align: top;\n",
       "    }\n",
       "\n",
       "    .dataframe thead th {\n",
       "        text-align: right;\n",
       "    }\n",
       "</style>\n",
       "<table border=\"1\" class=\"dataframe\">\n",
       "  <thead>\n",
       "    <tr style=\"text-align: right;\">\n",
       "      <th></th>\n",
       "      <th>tweet_id</th>\n",
       "      <th>text</th>\n",
       "      <th>sentiment</th>\n",
       "      <th>BERT_sentiment</th>\n",
       "    </tr>\n",
       "  </thead>\n",
       "  <tbody>\n",
       "    <tr>\n",
       "      <th>3</th>\n",
       "      <td>623495516</td>\n",
       "      <td>I agree with @jimcramer that the #IndividualIn...</td>\n",
       "      <td>3</td>\n",
       "      <td>5</td>\n",
       "    </tr>\n",
       "    <tr>\n",
       "      <th>28</th>\n",
       "      <td>623495541</td>\n",
       "      <td>Latest Apple Products Leading in Efficiency ht...</td>\n",
       "      <td>5</td>\n",
       "      <td>3</td>\n",
       "    </tr>\n",
       "    <tr>\n",
       "      <th>95</th>\n",
       "      <td>623495608</td>\n",
       "      <td>#whoknew Why isn't @Apple on Twitter? http://t...</td>\n",
       "      <td>3</td>\n",
       "      <td>1</td>\n",
       "    </tr>\n",
       "    <tr>\n",
       "      <th>144</th>\n",
       "      <td>623495657</td>\n",
       "      <td>@apple and @facebook I speak for all of humani...</td>\n",
       "      <td>1</td>\n",
       "      <td>3</td>\n",
       "    </tr>\n",
       "    <tr>\n",
       "      <th>145</th>\n",
       "      <td>623495658</td>\n",
       "      <td>@Apple I h8 everything about u</td>\n",
       "      <td>1</td>\n",
       "      <td>3</td>\n",
       "    </tr>\n",
       "    <tr>\n",
       "      <th>...</th>\n",
       "      <td>...</td>\n",
       "      <td>...</td>\n",
       "      <td>...</td>\n",
       "      <td>...</td>\n",
       "    </tr>\n",
       "    <tr>\n",
       "      <th>3480</th>\n",
       "      <td>623499010</td>\n",
       "      <td>@panic @jpetersen good call I thought @Apple w...</td>\n",
       "      <td>3</td>\n",
       "      <td>1</td>\n",
       "    </tr>\n",
       "    <tr>\n",
       "      <th>3535</th>\n",
       "      <td>623499065</td>\n",
       "      <td>RT @TeamCavuto: Protesters stage #DieIn protes...</td>\n",
       "      <td>1</td>\n",
       "      <td>3</td>\n",
       "    </tr>\n",
       "    <tr>\n",
       "      <th>3664</th>\n",
       "      <td>623499194</td>\n",
       "      <td>Have been brave and taken out an #AAPL CFD as ...</td>\n",
       "      <td>not_relevant</td>\n",
       "      <td>3</td>\n",
       "    </tr>\n",
       "    <tr>\n",
       "      <th>3749</th>\n",
       "      <td>623499279</td>\n",
       "      <td>#Apple wins patent for #3D iPhone UI w/ motion...</td>\n",
       "      <td>5</td>\n",
       "      <td>3</td>\n",
       "    </tr>\n",
       "    <tr>\n",
       "      <th>3778</th>\n",
       "      <td>623499308</td>\n",
       "      <td>#AAPL:Apple products may have Bah! Humbug! hol...</td>\n",
       "      <td>1</td>\n",
       "      <td>3</td>\n",
       "    </tr>\n",
       "  </tbody>\n",
       "</table>\n",
       "<p>106 rows × 4 columns</p>\n",
       "</div>"
      ],
      "text/plain": [
       "       tweet_id                                               text  \\\n",
       "3     623495516  I agree with @jimcramer that the #IndividualIn...   \n",
       "28    623495541  Latest Apple Products Leading in Efficiency ht...   \n",
       "95    623495608  #whoknew Why isn't @Apple on Twitter? http://t...   \n",
       "144   623495657  @apple and @facebook I speak for all of humani...   \n",
       "145   623495658                     @Apple I h8 everything about u   \n",
       "...         ...                                                ...   \n",
       "3480  623499010  @panic @jpetersen good call I thought @Apple w...   \n",
       "3535  623499065  RT @TeamCavuto: Protesters stage #DieIn protes...   \n",
       "3664  623499194  Have been brave and taken out an #AAPL CFD as ...   \n",
       "3749  623499279  #Apple wins patent for #3D iPhone UI w/ motion...   \n",
       "3778  623499308  #AAPL:Apple products may have Bah! Humbug! hol...   \n",
       "\n",
       "         sentiment BERT_sentiment  \n",
       "3                3              5  \n",
       "28               5              3  \n",
       "95               3              1  \n",
       "144              1              3  \n",
       "145              1              3  \n",
       "...            ...            ...  \n",
       "3480             3              1  \n",
       "3535             1              3  \n",
       "3664  not_relevant              3  \n",
       "3749             5              3  \n",
       "3778             1              3  \n",
       "\n",
       "[106 rows x 4 columns]"
      ]
     },
     "execution_count": 29,
     "metadata": {},
     "output_type": "execute_result"
    }
   ],
   "source": [
    "incorrect"
   ]
  },
  {
   "cell_type": "code",
   "execution_count": null,
   "id": "d4ed8565-b0eb-4266-96ee-d638566adbbb",
   "metadata": {},
   "outputs": [],
   "source": []
  }
 ],
 "metadata": {
  "kernelspec": {
   "display_name": "Python 3 (ipykernel)",
   "language": "python",
   "name": "python3"
  },
  "language_info": {
   "codemirror_mode": {
    "name": "ipython",
    "version": 3
   },
   "file_extension": ".py",
   "mimetype": "text/x-python",
   "name": "python",
   "nbconvert_exporter": "python",
   "pygments_lexer": "ipython3",
   "version": "3.8.12"
  }
 },
 "nbformat": 4,
 "nbformat_minor": 5
}

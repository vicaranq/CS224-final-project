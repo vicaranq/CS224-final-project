{
 "cells": [
  {
   "cell_type": "markdown",
   "id": "47e8f743-ceab-449c-9ee7-200a1785cb16",
   "metadata": {},
   "source": [
    "# Use BERT Representations with LogisticRegression Softmax Classifier"
   ]
  },
  {
   "cell_type": "code",
   "execution_count": 1,
   "id": "30dae3b5-f005-418c-8e46-9bd8758cf351",
   "metadata": {},
   "outputs": [],
   "source": [
    "from collections import Counter\n",
    "import os\n",
    "import numpy as np\n",
    "import pandas as pd\n",
    "from sklearn.model_selection import train_test_split\n",
    "from sklearn.linear_model import LogisticRegression\n",
    "from sklearn.model_selection import cross_val_score\n",
    "from transformers import BertTokenizer, BertModel, BertForSequenceClassification\n",
    "\n",
    "\n",
    "import dataset\n",
    "import vsm\n",
    "import sst"
   ]
  },
  {
   "cell_type": "code",
   "execution_count": 2,
   "id": "1c995c70-1ec0-47c7-be85-5a622874c493",
   "metadata": {},
   "outputs": [],
   "source": [
    "TWITTER = 2\n",
    "TWITTER_AIRLINES = 3\n",
    "TWITTER_APPLE = 4"
   ]
  },
  {
   "cell_type": "code",
   "execution_count": 3,
   "id": "5059a022-607d-493b-8e7e-82937409db1c",
   "metadata": {},
   "outputs": [],
   "source": [
    "twitter_train, twitter_validate, twitter_test =  dataset.dataset_reader(TWITTER_APPLE)\n",
    "[twitter_train, twitter_validate, twitter_test] = list(map(lambda ds : dataset.prune_columns(TWITTER_APPLE, ds), [twitter_train, twitter_validate, twitter_test]))"
   ]
  },
  {
   "cell_type": "code",
   "execution_count": null,
   "id": "831e6143-08a7-4ed2-b767-e66ced2d6690",
   "metadata": {},
   "outputs": [],
   "source": [
    "# Rename labels for consistency\n",
    "def rename_sentiment(sentiment):\n",
    "        if sentiment in [\"5\", \"positive\"]:\n",
    "            return \"Positive\"\n",
    "        elif sentiment in [\"3\", \"neutral\"]:\n",
    "            return \"Neutral\"\n",
    "        elif sentiment in [\"1\", \"negative\"]:\n",
    "            return \"Negative\"\n",
    "        elif sentiment in [\"not_relevant\",\"Irrelevant\"]:\n",
    "            return \"Neutral\"\n",
    "        else:\n",
    "            return sentiment"
   ]
  },
  {
   "cell_type": "code",
   "execution_count": null,
   "id": "6abebe27-987b-4500-bd8d-ddc4c4367c3e",
   "metadata": {},
   "outputs": [],
   "source": [
    "twitter_train['sentiment'] = pd.DataFrame([rename_sentiment(e) for e in twitter_train['sentiment']]).set_index(twitter_train.index)\n",
    "twitter_validate['sentiment'] = pd.DataFrame([rename_sentiment(e) for e in twitter_validate['sentiment']]).set_index(twitter_validate.index)\n",
    "twitter_test['sentiment'] = pd.DataFrame([rename_sentiment(e) for e in twitter_test['sentiment']]).set_index(twitter_test.index)"
   ]
  },
  {
   "cell_type": "code",
   "execution_count": 4,
   "id": "b41be400-82cf-469e-96b0-522cf9de12b3",
   "metadata": {},
   "outputs": [],
   "source": [
    "# bert_weights_name = 'bert-base-cased'\n",
    "# bert_tokenizer = BertTokenizer.from_pretrained(bert_weights_name)\n",
    "# bert_model = BertModel.from_pretrained(bert_weights_name)\n",
    "# model = BertForSequenceClassification.from_pretrained(bert_weights_name)\n",
    "# Unique values of sentiment\n",
    "twitter_sentiment_labels = twitter_train['sentiment'].unique()"
   ]
  },
  {
   "cell_type": "code",
   "execution_count": 5,
   "id": "a7bb900e-ec8f-4e7c-92e2-987c363777e0",
   "metadata": {},
   "outputs": [
    {
     "data": {
      "text/plain": [
       "(9327, 1164, 1167)"
      ]
     },
     "execution_count": 5,
     "metadata": {},
     "output_type": "execute_result"
    }
   ],
   "source": [
    "twitter_train.size, twitter_validate.size, twitter_test.size"
   ]
  },
  {
   "cell_type": "code",
   "execution_count": 6,
   "id": "8d2c69f6-6084-4316-899d-b2ec9d52d16a",
   "metadata": {},
   "outputs": [
    {
     "name": "stdout",
     "output_type": "stream",
     "text": [
      "              precision    recall  f1-score   support\n",
      "\n",
      "           1      0.727     0.611     0.664       131\n",
      "           3      0.712     0.856     0.777       208\n",
      "           5      0.667     0.409     0.507        44\n",
      "not_relevant      0.000     0.000     0.000         5\n",
      "\n",
      "    accuracy                          0.711       388\n",
      "   macro avg      0.526     0.469     0.487       388\n",
      "weighted avg      0.703     0.711     0.698       388\n",
      "\n",
      "CPU times: user 27min 43s, sys: 30 s, total: 28min 13s\n",
      "Wall time: 7min 1s\n"
     ]
    }
   ],
   "source": [
    "%%time\n",
    "bert_experiment1500 = sst.experiment(\n",
    "    twitter_train[:1500], # \n",
    "    dataset.hf_cls_phi,\n",
    "    dataset.fit_softmax_classifier,\n",
    "    assess_dataframes=[twitter_validate[:1000]],\n",
    "    vectorize=False)"
   ]
  },
  {
   "cell_type": "code",
   "execution_count": 7,
   "id": "4326b274-a348-4623-a1eb-3142a2a52b2b",
   "metadata": {},
   "outputs": [
    {
     "name": "stdout",
     "output_type": "stream",
     "text": [
      "              precision    recall  f1-score   support\n",
      "\n",
      "           1      0.737     0.641     0.686       131\n",
      "           3      0.740     0.875     0.802       208\n",
      "           5      0.667     0.409     0.507        44\n",
      "not_relevant      0.000     0.000     0.000         5\n",
      "\n",
      "    accuracy                          0.732       388\n",
      "   macro avg      0.536     0.481     0.499       388\n",
      "weighted avg      0.721     0.732     0.719       388\n",
      "\n",
      "CPU times: user 45min 41s, sys: 45.7 s, total: 46min 27s\n",
      "Wall time: 11min 34s\n"
     ]
    }
   ],
   "source": [
    "%%time\n",
    "bert_experiment_full = sst.experiment(\n",
    "    twitter_train, # \n",
    "    dataset.hf_cls_phi,\n",
    "    dataset.fit_softmax_classifier,\n",
    "    assess_dataframes=[twitter_validate],\n",
    "    vectorize=False)"
   ]
  },
  {
   "cell_type": "code",
   "execution_count": 8,
   "id": "d54b31f7-4cb2-4e55-b20d-ccde15e31350",
   "metadata": {},
   "outputs": [
    {
     "data": {
      "text/plain": [
       "dict_keys(['model', 'phi', 'train_dataset', 'assess_datasets', 'predictions', 'metric', 'scores'])"
      ]
     },
     "execution_count": 8,
     "metadata": {},
     "output_type": "execute_result"
    }
   ],
   "source": [
    "bert_experiment_full.keys()"
   ]
  },
  {
   "cell_type": "code",
   "execution_count": 9,
   "id": "a7bac1a5-92e3-468e-847b-e759eb09a2bc",
   "metadata": {},
   "outputs": [
    {
     "data": {
      "text/plain": [
       "[0.49862966344321435]"
      ]
     },
     "execution_count": 9,
     "metadata": {},
     "output_type": "execute_result"
    }
   ],
   "source": [
    "bert_experiment_full['scores']"
   ]
  },
  {
   "cell_type": "code",
   "execution_count": 10,
   "id": "8a0ed646-5437-43db-a2f5-7938349cea10",
   "metadata": {},
   "outputs": [
    {
     "data": {
      "text/plain": [
       "'safe_macro_f1'"
      ]
     },
     "execution_count": 10,
     "metadata": {},
     "output_type": "execute_result"
    }
   ],
   "source": [
    "bert_experiment_full['metric']"
   ]
  },
  {
   "cell_type": "code",
   "execution_count": 11,
   "id": "95567ac1-8815-4694-96c7-dff72617250b",
   "metadata": {
    "tags": []
   },
   "outputs": [
    {
     "data": {
      "text/plain": [
       "LogisticRegression(multi_class='ovr', solver='liblinear')"
      ]
     },
     "execution_count": 11,
     "metadata": {},
     "output_type": "execute_result"
    }
   ],
   "source": [
    "bert_experiment_full['model']"
   ]
  },
  {
   "cell_type": "markdown",
   "id": "d7ccb547-1174-471f-b6e5-e9239d23fe4b",
   "metadata": {},
   "source": [
    "# Test BERT trained on Tweets on test set"
   ]
  },
  {
   "cell_type": "code",
   "execution_count": 12,
   "id": "1f4d5a18-66b3-467b-aea7-59f196b07bf4",
   "metadata": {},
   "outputs": [],
   "source": [
    "def predict_one_bert(text):\n",
    "    # List of tokenized examples:\n",
    "    X = [bert_experiment_full['phi'](text)]\n",
    "    # Standard `predict` step on a list of lists of str:\n",
    "    preds = bert_experiment_full['model'].predict(X)\n",
    "    # Be sure to return the only member of the predictions,\n",
    "    # rather than the singleton list:\n",
    "    return preds[0]"
   ]
  },
  {
   "cell_type": "code",
   "execution_count": 13,
   "id": "8ca03e9e-f006-40a3-aa3a-681dacbac891",
   "metadata": {},
   "outputs": [],
   "source": [
    "# %% time\n",
    "# twitter_test['prediction'] = twitter_test['text'].apply(predict_one_bert)"
   ]
  },
  {
   "cell_type": "code",
   "execution_count": 14,
   "id": "145568c0-81b1-485f-9cc5-8c5fcd4ed951",
   "metadata": {},
   "outputs": [
    {
     "data": {
      "text/plain": [
       "<module 'sst' from '/mnt/c/Users/echya/Documents/XCS224U - 007 Natural Language Understanding/CS224-final-project/sst.py'>"
      ]
     },
     "execution_count": 14,
     "metadata": {},
     "output_type": "execute_result"
    }
   ],
   "source": [
    "import importlib\n",
    "importlib.reload(sst)"
   ]
  },
  {
   "cell_type": "code",
   "execution_count": 15,
   "id": "09db34c2-0a98-4627-ae75-75653fdde41e",
   "metadata": {},
   "outputs": [
    {
     "name": "stdout",
     "output_type": "stream",
     "text": [
      "              precision    recall  f1-score   support\n",
      "\n",
      "           1      0.728     0.620     0.670       121\n",
      "           3      0.730     0.885     0.800       217\n",
      "           5      0.609     0.304     0.406        46\n",
      "not_relevant      0.000     0.000     0.000         5\n",
      "\n",
      "    accuracy                          0.722       389\n",
      "   macro avg      0.517     0.452     0.469       389\n",
      "weighted avg      0.706     0.722     0.703       389\n",
      "\n",
      "CPU times: user 4min 56s, sys: 4.66 s, total: 5min 1s\n",
      "Wall time: 1min 14s\n"
     ]
    },
    {
     "name": "stderr",
     "output_type": "stream",
     "text": [
      "/home/echyam/miniconda3/envs/nlu/lib/python3.8/site-packages/sklearn/metrics/_classification.py:1318: UndefinedMetricWarning: Precision and F-score are ill-defined and being set to 0.0 in labels with no predicted samples. Use `zero_division` parameter to control this behavior.\n",
      "  _warn_prf(average, modifier, msg_start, len(result))\n",
      "/home/echyam/miniconda3/envs/nlu/lib/python3.8/site-packages/sklearn/metrics/_classification.py:1318: UndefinedMetricWarning: Precision and F-score are ill-defined and being set to 0.0 in labels with no predicted samples. Use `zero_division` parameter to control this behavior.\n",
      "  _warn_prf(average, modifier, msg_start, len(result))\n",
      "/home/echyam/miniconda3/envs/nlu/lib/python3.8/site-packages/sklearn/metrics/_classification.py:1318: UndefinedMetricWarning: Precision and F-score are ill-defined and being set to 0.0 in labels with no predicted samples. Use `zero_division` parameter to control this behavior.\n",
      "  _warn_prf(average, modifier, msg_start, len(result))\n"
     ]
    }
   ],
   "source": [
    "%%time\n",
    "bert_test = sst.evaluate(\n",
    "    bert_experiment_full['model'],\n",
    "    bert_experiment_full['phi'],\n",
    "    assess_dataframes=[twitter_test],\n",
    "    vectorizer=bert_experiment_full['assess_datasets'][0]['vectorizer'],\n",
    "    vectorize=False\n",
    ")"
   ]
  },
  {
   "cell_type": "code",
   "execution_count": 16,
   "id": "f49ec6d2-f389-4995-b1d9-5003bff03522",
   "metadata": {},
   "outputs": [
    {
     "data": {
      "text/plain": [
       "numpy.ndarray"
      ]
     },
     "execution_count": 16,
     "metadata": {},
     "output_type": "execute_result"
    }
   ],
   "source": [
    "type(bert_test['predictions'][0])"
   ]
  },
  {
   "cell_type": "code",
   "execution_count": 17,
   "id": "6dbc9350-3873-4226-8430-e1851b8f1a59",
   "metadata": {},
   "outputs": [],
   "source": [
    "predictions_fname ='results/BERT_predictions_on_twitter_test_apple.csv'\n",
    "df = bert_test['predictions'][0]\n",
    "pd.DataFrame(df).to_csv(predictions_fname)"
   ]
  },
  {
   "cell_type": "code",
   "execution_count": 18,
   "id": "13e45694-66b9-41f2-9159-70f048dbae48",
   "metadata": {
    "tags": []
   },
   "outputs": [],
   "source": [
    "encoding_fname ='results/BERT_encodings_on_twitter_test_apple.csv'\n",
    "encoded_test = bert_test['assess_datasets'][0]\n",
    "pd.DataFrame(df).to_csv(encoding_fname)"
   ]
  },
  {
   "cell_type": "code",
   "execution_count": 19,
   "id": "eb5ae92e-80a6-44f3-827b-a79eab788ddc",
   "metadata": {},
   "outputs": [
    {
     "data": {
      "text/html": [
       "<div>\n",
       "<style scoped>\n",
       "    .dataframe tbody tr th:only-of-type {\n",
       "        vertical-align: middle;\n",
       "    }\n",
       "\n",
       "    .dataframe tbody tr th {\n",
       "        vertical-align: top;\n",
       "    }\n",
       "\n",
       "    .dataframe thead th {\n",
       "        text-align: right;\n",
       "    }\n",
       "</style>\n",
       "<table border=\"1\" class=\"dataframe\">\n",
       "  <thead>\n",
       "    <tr style=\"text-align: right;\">\n",
       "      <th></th>\n",
       "      <th>0</th>\n",
       "    </tr>\n",
       "  </thead>\n",
       "  <tbody>\n",
       "    <tr>\n",
       "      <th>22</th>\n",
       "      <td>3</td>\n",
       "    </tr>\n",
       "    <tr>\n",
       "      <th>31</th>\n",
       "      <td>3</td>\n",
       "    </tr>\n",
       "    <tr>\n",
       "      <th>49</th>\n",
       "      <td>3</td>\n",
       "    </tr>\n",
       "    <tr>\n",
       "      <th>52</th>\n",
       "      <td>3</td>\n",
       "    </tr>\n",
       "    <tr>\n",
       "      <th>58</th>\n",
       "      <td>3</td>\n",
       "    </tr>\n",
       "    <tr>\n",
       "      <th>...</th>\n",
       "      <td>...</td>\n",
       "    </tr>\n",
       "    <tr>\n",
       "      <th>3845</th>\n",
       "      <td>3</td>\n",
       "    </tr>\n",
       "    <tr>\n",
       "      <th>3859</th>\n",
       "      <td>3</td>\n",
       "    </tr>\n",
       "    <tr>\n",
       "      <th>3868</th>\n",
       "      <td>3</td>\n",
       "    </tr>\n",
       "    <tr>\n",
       "      <th>3870</th>\n",
       "      <td>3</td>\n",
       "    </tr>\n",
       "    <tr>\n",
       "      <th>3882</th>\n",
       "      <td>1</td>\n",
       "    </tr>\n",
       "  </tbody>\n",
       "</table>\n",
       "<p>389 rows × 1 columns</p>\n",
       "</div>"
      ],
      "text/plain": [
       "      0\n",
       "22    3\n",
       "31    3\n",
       "49    3\n",
       "52    3\n",
       "58    3\n",
       "...  ..\n",
       "3845  3\n",
       "3859  3\n",
       "3868  3\n",
       "3870  3\n",
       "3882  1\n",
       "\n",
       "[389 rows x 1 columns]"
      ]
     },
     "execution_count": 19,
     "metadata": {},
     "output_type": "execute_result"
    }
   ],
   "source": [
    "predictions_df = pd.DataFrame(df)\n",
    "predictions_df = predictions_df.set_index(twitter_test.index)\n",
    "predictions_df"
   ]
  },
  {
   "cell_type": "code",
   "execution_count": 20,
   "id": "ed7099ef-7ce4-4346-a0fd-fea8fa9f4580",
   "metadata": {},
   "outputs": [],
   "source": [
    "twitter_test['BERT_sentiment'] = predictions_df"
   ]
  },
  {
   "cell_type": "code",
   "execution_count": 21,
   "id": "71be05a5-02e8-4315-88a7-0651caf140b9",
   "metadata": {},
   "outputs": [
    {
     "data": {
      "text/html": [
       "<div>\n",
       "<style scoped>\n",
       "    .dataframe tbody tr th:only-of-type {\n",
       "        vertical-align: middle;\n",
       "    }\n",
       "\n",
       "    .dataframe tbody tr th {\n",
       "        vertical-align: top;\n",
       "    }\n",
       "\n",
       "    .dataframe thead th {\n",
       "        text-align: right;\n",
       "    }\n",
       "</style>\n",
       "<table border=\"1\" class=\"dataframe\">\n",
       "  <thead>\n",
       "    <tr style=\"text-align: right;\">\n",
       "      <th></th>\n",
       "      <th>tweet_id</th>\n",
       "      <th>text</th>\n",
       "      <th>sentiment</th>\n",
       "      <th>BERT_sentiment</th>\n",
       "    </tr>\n",
       "  </thead>\n",
       "  <tbody>\n",
       "    <tr>\n",
       "      <th>22</th>\n",
       "      <td>623495535</td>\n",
       "      <td>@robconeybeer: You need an IP portfolio to def...</td>\n",
       "      <td>3</td>\n",
       "      <td>3</td>\n",
       "    </tr>\n",
       "    <tr>\n",
       "      <th>31</th>\n",
       "      <td>623495544</td>\n",
       "      <td>@thehill @Apple i cite the 4th amendment as a ...</td>\n",
       "      <td>3</td>\n",
       "      <td>3</td>\n",
       "    </tr>\n",
       "    <tr>\n",
       "      <th>49</th>\n",
       "      <td>623495562</td>\n",
       "      <td>RT @thehill: Justice Department cites 18th cen...</td>\n",
       "      <td>3</td>\n",
       "      <td>3</td>\n",
       "    </tr>\n",
       "    <tr>\n",
       "      <th>52</th>\n",
       "      <td>623495565</td>\n",
       "      <td>This one chart explains @tim_cook's affect on ...</td>\n",
       "      <td>3</td>\n",
       "      <td>3</td>\n",
       "    </tr>\n",
       "    <tr>\n",
       "      <th>58</th>\n",
       "      <td>623495571</td>\n",
       "      <td>5 Companies Growing Faster Than Apple Inc. htt...</td>\n",
       "      <td>3</td>\n",
       "      <td>3</td>\n",
       "    </tr>\n",
       "    <tr>\n",
       "      <th>...</th>\n",
       "      <td>...</td>\n",
       "      <td>...</td>\n",
       "      <td>...</td>\n",
       "      <td>...</td>\n",
       "    </tr>\n",
       "    <tr>\n",
       "      <th>3845</th>\n",
       "      <td>623499375</td>\n",
       "      <td>media reports say that @Apple is hiring pros f...</td>\n",
       "      <td>3</td>\n",
       "      <td>3</td>\n",
       "    </tr>\n",
       "    <tr>\n",
       "      <th>3859</th>\n",
       "      <td>623499389</td>\n",
       "      <td>Apple Is Warming Up To Social Media: Apple is ...</td>\n",
       "      <td>3</td>\n",
       "      <td>3</td>\n",
       "    </tr>\n",
       "    <tr>\n",
       "      <th>3868</th>\n",
       "      <td>623499398</td>\n",
       "      <td>Apple Is Warming Up To Social Media: Apple is ...</td>\n",
       "      <td>5</td>\n",
       "      <td>3</td>\n",
       "    </tr>\n",
       "    <tr>\n",
       "      <th>3870</th>\n",
       "      <td>623499400</td>\n",
       "      <td>Apple Is Warming Up To Social Media: Apple is ...</td>\n",
       "      <td>3</td>\n",
       "      <td>3</td>\n",
       "    </tr>\n",
       "    <tr>\n",
       "      <th>3882</th>\n",
       "      <td>623499450</td>\n",
       "      <td>RT @MMLXIV: there is no avocado emoji may I as...</td>\n",
       "      <td>3</td>\n",
       "      <td>1</td>\n",
       "    </tr>\n",
       "  </tbody>\n",
       "</table>\n",
       "<p>389 rows × 4 columns</p>\n",
       "</div>"
      ],
      "text/plain": [
       "       tweet_id                                               text sentiment  \\\n",
       "22    623495535  @robconeybeer: You need an IP portfolio to def...         3   \n",
       "31    623495544  @thehill @Apple i cite the 4th amendment as a ...         3   \n",
       "49    623495562  RT @thehill: Justice Department cites 18th cen...         3   \n",
       "52    623495565  This one chart explains @tim_cook's affect on ...         3   \n",
       "58    623495571  5 Companies Growing Faster Than Apple Inc. htt...         3   \n",
       "...         ...                                                ...       ...   \n",
       "3845  623499375  media reports say that @Apple is hiring pros f...         3   \n",
       "3859  623499389  Apple Is Warming Up To Social Media: Apple is ...         3   \n",
       "3868  623499398  Apple Is Warming Up To Social Media: Apple is ...         5   \n",
       "3870  623499400  Apple Is Warming Up To Social Media: Apple is ...         3   \n",
       "3882  623499450  RT @MMLXIV: there is no avocado emoji may I as...         3   \n",
       "\n",
       "     BERT_sentiment  \n",
       "22                3  \n",
       "31                3  \n",
       "49                3  \n",
       "52                3  \n",
       "58                3  \n",
       "...             ...  \n",
       "3845              3  \n",
       "3859              3  \n",
       "3868              3  \n",
       "3870              3  \n",
       "3882              1  \n",
       "\n",
       "[389 rows x 4 columns]"
      ]
     },
     "execution_count": 21,
     "metadata": {},
     "output_type": "execute_result"
    }
   ],
   "source": [
    "twitter_test"
   ]
  },
  {
   "cell_type": "code",
   "execution_count": 22,
   "id": "cf9c4767-072f-4201-9c43-e65c04e97858",
   "metadata": {},
   "outputs": [],
   "source": [
    "test_predictions_fname ='results/BERT_predictions_added_to_twitter_test_apple.csv'\n",
    "twitter_test.to_csv(test_predictions_fname)"
   ]
  },
  {
   "cell_type": "code",
   "execution_count": 23,
   "id": "d1b799ce-e850-4035-bae7-8ddb45eecb27",
   "metadata": {},
   "outputs": [],
   "source": [
    "correct = twitter_test[twitter_test['sentiment'] == twitter_test['BERT_sentiment']]"
   ]
  },
  {
   "cell_type": "code",
   "execution_count": 24,
   "id": "682cdd73-a337-436e-a3f5-1ee6bb8a8ee1",
   "metadata": {},
   "outputs": [
    {
     "data": {
      "text/html": [
       "<div>\n",
       "<style scoped>\n",
       "    .dataframe tbody tr th:only-of-type {\n",
       "        vertical-align: middle;\n",
       "    }\n",
       "\n",
       "    .dataframe tbody tr th {\n",
       "        vertical-align: top;\n",
       "    }\n",
       "\n",
       "    .dataframe thead th {\n",
       "        text-align: right;\n",
       "    }\n",
       "</style>\n",
       "<table border=\"1\" class=\"dataframe\">\n",
       "  <thead>\n",
       "    <tr style=\"text-align: right;\">\n",
       "      <th></th>\n",
       "      <th>tweet_id</th>\n",
       "      <th>text</th>\n",
       "      <th>sentiment</th>\n",
       "      <th>BERT_sentiment</th>\n",
       "    </tr>\n",
       "  </thead>\n",
       "  <tbody>\n",
       "    <tr>\n",
       "      <th>22</th>\n",
       "      <td>623495535</td>\n",
       "      <td>@robconeybeer: You need an IP portfolio to def...</td>\n",
       "      <td>3</td>\n",
       "      <td>3</td>\n",
       "    </tr>\n",
       "    <tr>\n",
       "      <th>31</th>\n",
       "      <td>623495544</td>\n",
       "      <td>@thehill @Apple i cite the 4th amendment as a ...</td>\n",
       "      <td>3</td>\n",
       "      <td>3</td>\n",
       "    </tr>\n",
       "    <tr>\n",
       "      <th>49</th>\n",
       "      <td>623495562</td>\n",
       "      <td>RT @thehill: Justice Department cites 18th cen...</td>\n",
       "      <td>3</td>\n",
       "      <td>3</td>\n",
       "    </tr>\n",
       "    <tr>\n",
       "      <th>52</th>\n",
       "      <td>623495565</td>\n",
       "      <td>This one chart explains @tim_cook's affect on ...</td>\n",
       "      <td>3</td>\n",
       "      <td>3</td>\n",
       "    </tr>\n",
       "    <tr>\n",
       "      <th>58</th>\n",
       "      <td>623495571</td>\n",
       "      <td>5 Companies Growing Faster Than Apple Inc. htt...</td>\n",
       "      <td>3</td>\n",
       "      <td>3</td>\n",
       "    </tr>\n",
       "    <tr>\n",
       "      <th>...</th>\n",
       "      <td>...</td>\n",
       "      <td>...</td>\n",
       "      <td>...</td>\n",
       "      <td>...</td>\n",
       "    </tr>\n",
       "    <tr>\n",
       "      <th>3812</th>\n",
       "      <td>623499342</td>\n",
       "      <td>@Apple co-founder Steve Wozniak talks about St...</td>\n",
       "      <td>3</td>\n",
       "      <td>3</td>\n",
       "    </tr>\n",
       "    <tr>\n",
       "      <th>3836</th>\n",
       "      <td>623499366</td>\n",
       "      <td>@Apple recruiting luxury executives for iwatch...</td>\n",
       "      <td>3</td>\n",
       "      <td>3</td>\n",
       "    </tr>\n",
       "    <tr>\n",
       "      <th>3845</th>\n",
       "      <td>623499375</td>\n",
       "      <td>media reports say that @Apple is hiring pros f...</td>\n",
       "      <td>3</td>\n",
       "      <td>3</td>\n",
       "    </tr>\n",
       "    <tr>\n",
       "      <th>3859</th>\n",
       "      <td>623499389</td>\n",
       "      <td>Apple Is Warming Up To Social Media: Apple is ...</td>\n",
       "      <td>3</td>\n",
       "      <td>3</td>\n",
       "    </tr>\n",
       "    <tr>\n",
       "      <th>3870</th>\n",
       "      <td>623499400</td>\n",
       "      <td>Apple Is Warming Up To Social Media: Apple is ...</td>\n",
       "      <td>3</td>\n",
       "      <td>3</td>\n",
       "    </tr>\n",
       "  </tbody>\n",
       "</table>\n",
       "<p>281 rows × 4 columns</p>\n",
       "</div>"
      ],
      "text/plain": [
       "       tweet_id                                               text sentiment  \\\n",
       "22    623495535  @robconeybeer: You need an IP portfolio to def...         3   \n",
       "31    623495544  @thehill @Apple i cite the 4th amendment as a ...         3   \n",
       "49    623495562  RT @thehill: Justice Department cites 18th cen...         3   \n",
       "52    623495565  This one chart explains @tim_cook's affect on ...         3   \n",
       "58    623495571  5 Companies Growing Faster Than Apple Inc. htt...         3   \n",
       "...         ...                                                ...       ...   \n",
       "3812  623499342  @Apple co-founder Steve Wozniak talks about St...         3   \n",
       "3836  623499366  @Apple recruiting luxury executives for iwatch...         3   \n",
       "3845  623499375  media reports say that @Apple is hiring pros f...         3   \n",
       "3859  623499389  Apple Is Warming Up To Social Media: Apple is ...         3   \n",
       "3870  623499400  Apple Is Warming Up To Social Media: Apple is ...         3   \n",
       "\n",
       "     BERT_sentiment  \n",
       "22                3  \n",
       "31                3  \n",
       "49                3  \n",
       "52                3  \n",
       "58                3  \n",
       "...             ...  \n",
       "3812              3  \n",
       "3836              3  \n",
       "3845              3  \n",
       "3859              3  \n",
       "3870              3  \n",
       "\n",
       "[281 rows x 4 columns]"
      ]
     },
     "execution_count": 24,
     "metadata": {},
     "output_type": "execute_result"
    }
   ],
   "source": [
    "correct"
   ]
  },
  {
   "cell_type": "code",
   "execution_count": 25,
   "id": "0b17a467-a521-4f37-9616-c9b925356660",
   "metadata": {},
   "outputs": [],
   "source": [
    "incorrect = twitter_test[twitter_test['sentiment'] != twitter_test['BERT_sentiment']]"
   ]
  },
  {
   "cell_type": "code",
   "execution_count": 26,
   "id": "45b58f07-ebe3-4c83-b614-d1e154e358dd",
   "metadata": {},
   "outputs": [
    {
     "data": {
      "text/html": [
       "<div>\n",
       "<style scoped>\n",
       "    .dataframe tbody tr th:only-of-type {\n",
       "        vertical-align: middle;\n",
       "    }\n",
       "\n",
       "    .dataframe tbody tr th {\n",
       "        vertical-align: top;\n",
       "    }\n",
       "\n",
       "    .dataframe thead th {\n",
       "        text-align: right;\n",
       "    }\n",
       "</style>\n",
       "<table border=\"1\" class=\"dataframe\">\n",
       "  <thead>\n",
       "    <tr style=\"text-align: right;\">\n",
       "      <th></th>\n",
       "      <th>tweet_id</th>\n",
       "      <th>text</th>\n",
       "      <th>sentiment</th>\n",
       "      <th>BERT_sentiment</th>\n",
       "    </tr>\n",
       "  </thead>\n",
       "  <tbody>\n",
       "    <tr>\n",
       "      <th>73</th>\n",
       "      <td>623495586</td>\n",
       "      <td>Buy round lot on the open MT @WSJD #AAPL stock...</td>\n",
       "      <td>1</td>\n",
       "      <td>3</td>\n",
       "    </tr>\n",
       "    <tr>\n",
       "      <th>80</th>\n",
       "      <td>623495593</td>\n",
       "      <td>I'm hoping @apple won't automatically make us ...</td>\n",
       "      <td>1</td>\n",
       "      <td>3</td>\n",
       "    </tr>\n",
       "    <tr>\n",
       "      <th>129</th>\n",
       "      <td>623495642</td>\n",
       "      <td>#GoPro: What Competition? Part 2 #GPRO  #AAPL ...</td>\n",
       "      <td>not_relevant</td>\n",
       "      <td>3</td>\n",
       "    </tr>\n",
       "    <tr>\n",
       "      <th>144</th>\n",
       "      <td>623495657</td>\n",
       "      <td>@apple and @facebook I speak for all of humani...</td>\n",
       "      <td>1</td>\n",
       "      <td>3</td>\n",
       "    </tr>\n",
       "    <tr>\n",
       "      <th>214</th>\n",
       "      <td>623495727</td>\n",
       "      <td>Apple tumbles as much as 6 percent in unusual ...</td>\n",
       "      <td>1</td>\n",
       "      <td>3</td>\n",
       "    </tr>\n",
       "    <tr>\n",
       "      <th>...</th>\n",
       "      <td>...</td>\n",
       "      <td>...</td>\n",
       "      <td>...</td>\n",
       "      <td>...</td>\n",
       "    </tr>\n",
       "    <tr>\n",
       "      <th>3790</th>\n",
       "      <td>623499320</td>\n",
       "      <td>Five Apple predictions for 2015. I disagree ab...</td>\n",
       "      <td>5</td>\n",
       "      <td>3</td>\n",
       "    </tr>\n",
       "    <tr>\n",
       "      <th>3800</th>\n",
       "      <td>623499330</td>\n",
       "      <td>Please, @Apple, don't go the way @Facebook has...</td>\n",
       "      <td>1</td>\n",
       "      <td>3</td>\n",
       "    </tr>\n",
       "    <tr>\n",
       "      <th>3809</th>\n",
       "      <td>623499339</td>\n",
       "      <td>BLOCK TRADE detected in #AAPL</td>\n",
       "      <td>1</td>\n",
       "      <td>3</td>\n",
       "    </tr>\n",
       "    <tr>\n",
       "      <th>3868</th>\n",
       "      <td>623499398</td>\n",
       "      <td>Apple Is Warming Up To Social Media: Apple is ...</td>\n",
       "      <td>5</td>\n",
       "      <td>3</td>\n",
       "    </tr>\n",
       "    <tr>\n",
       "      <th>3882</th>\n",
       "      <td>623499450</td>\n",
       "      <td>RT @MMLXIV: there is no avocado emoji may I as...</td>\n",
       "      <td>3</td>\n",
       "      <td>1</td>\n",
       "    </tr>\n",
       "  </tbody>\n",
       "</table>\n",
       "<p>108 rows × 4 columns</p>\n",
       "</div>"
      ],
      "text/plain": [
       "       tweet_id                                               text  \\\n",
       "73    623495586  Buy round lot on the open MT @WSJD #AAPL stock...   \n",
       "80    623495593  I'm hoping @apple won't automatically make us ...   \n",
       "129   623495642  #GoPro: What Competition? Part 2 #GPRO  #AAPL ...   \n",
       "144   623495657  @apple and @facebook I speak for all of humani...   \n",
       "214   623495727  Apple tumbles as much as 6 percent in unusual ...   \n",
       "...         ...                                                ...   \n",
       "3790  623499320  Five Apple predictions for 2015. I disagree ab...   \n",
       "3800  623499330  Please, @Apple, don't go the way @Facebook has...   \n",
       "3809  623499339                      BLOCK TRADE detected in #AAPL   \n",
       "3868  623499398  Apple Is Warming Up To Social Media: Apple is ...   \n",
       "3882  623499450  RT @MMLXIV: there is no avocado emoji may I as...   \n",
       "\n",
       "         sentiment BERT_sentiment  \n",
       "73               1              3  \n",
       "80               1              3  \n",
       "129   not_relevant              3  \n",
       "144              1              3  \n",
       "214              1              3  \n",
       "...            ...            ...  \n",
       "3790             5              3  \n",
       "3800             1              3  \n",
       "3809             1              3  \n",
       "3868             5              3  \n",
       "3882             3              1  \n",
       "\n",
       "[108 rows x 4 columns]"
      ]
     },
     "execution_count": 26,
     "metadata": {},
     "output_type": "execute_result"
    }
   ],
   "source": [
    "incorrect"
   ]
  },
  {
   "cell_type": "code",
   "execution_count": 27,
   "id": "d4ed8565-b0eb-4266-96ee-d638566adbbb",
   "metadata": {},
   "outputs": [
    {
     "data": {
      "text/html": [
       "<div>\n",
       "<style scoped>\n",
       "    .dataframe tbody tr th:only-of-type {\n",
       "        vertical-align: middle;\n",
       "    }\n",
       "\n",
       "    .dataframe tbody tr th {\n",
       "        vertical-align: top;\n",
       "    }\n",
       "\n",
       "    .dataframe thead th {\n",
       "        text-align: right;\n",
       "    }\n",
       "</style>\n",
       "<table border=\"1\" class=\"dataframe\">\n",
       "  <thead>\n",
       "    <tr style=\"text-align: right;\">\n",
       "      <th></th>\n",
       "      <th>tweet_id</th>\n",
       "      <th>text</th>\n",
       "      <th>sentiment</th>\n",
       "      <th>BERT_sentiment</th>\n",
       "    </tr>\n",
       "  </thead>\n",
       "  <tbody>\n",
       "    <tr>\n",
       "      <th>129</th>\n",
       "      <td>623495642</td>\n",
       "      <td>#GoPro: What Competition? Part 2 #GPRO  #AAPL ...</td>\n",
       "      <td>not_relevant</td>\n",
       "      <td>3</td>\n",
       "    </tr>\n",
       "    <tr>\n",
       "      <th>1814</th>\n",
       "      <td>623497338</td>\n",
       "      <td>@kibs33 Dizzy-doings on Wall Street tomorrow? ...</td>\n",
       "      <td>not_relevant</td>\n",
       "      <td>3</td>\n",
       "    </tr>\n",
       "    <tr>\n",
       "      <th>2183</th>\n",
       "      <td>623497713</td>\n",
       "      <td>@Apple honey crisp apple for the win</td>\n",
       "      <td>not_relevant</td>\n",
       "      <td>3</td>\n",
       "    </tr>\n",
       "    <tr>\n",
       "      <th>2572</th>\n",
       "      <td>623498102</td>\n",
       "      <td>#AAPL:After Decades Of Consolidation, Wall Str...</td>\n",
       "      <td>not_relevant</td>\n",
       "      <td>3</td>\n",
       "    </tr>\n",
       "    <tr>\n",
       "      <th>2586</th>\n",
       "      <td>623498116</td>\n",
       "      <td>#Ebay #Music @@Apple TV2 Gen Jailbroken Unteth...</td>\n",
       "      <td>not_relevant</td>\n",
       "      <td>3</td>\n",
       "    </tr>\n",
       "  </tbody>\n",
       "</table>\n",
       "</div>"
      ],
      "text/plain": [
       "       tweet_id                                               text  \\\n",
       "129   623495642  #GoPro: What Competition? Part 2 #GPRO  #AAPL ...   \n",
       "1814  623497338  @kibs33 Dizzy-doings on Wall Street tomorrow? ...   \n",
       "2183  623497713               @Apple honey crisp apple for the win   \n",
       "2572  623498102  #AAPL:After Decades Of Consolidation, Wall Str...   \n",
       "2586  623498116  #Ebay #Music @@Apple TV2 Gen Jailbroken Unteth...   \n",
       "\n",
       "         sentiment BERT_sentiment  \n",
       "129   not_relevant              3  \n",
       "1814  not_relevant              3  \n",
       "2183  not_relevant              3  \n",
       "2572  not_relevant              3  \n",
       "2586  not_relevant              3  "
      ]
     },
     "execution_count": 27,
     "metadata": {},
     "output_type": "execute_result"
    }
   ],
   "source": [
    "irrelevant = twitter_test[twitter_test['sentiment'] == 'not_relevant']\n",
    "irrelevant"
   ]
  },
  {
   "cell_type": "code",
   "execution_count": 28,
   "id": "d76fb986-7807-4e8c-9b14-507595ded908",
   "metadata": {},
   "outputs": [],
   "source": [
    "import pickle\n",
    "model_fname = 'models/BERT_twitter_apple.sav'\n",
    "pickle.dump(bert_experiment_full, open(model_fname, 'wb'))"
   ]
  },
  {
   "cell_type": "code",
   "execution_count": null,
   "id": "1303b6de-0c04-48a8-8c60-04b20cda37b4",
   "metadata": {},
   "outputs": [],
   "source": [
    "test_fname = 'results/BERT_test_apple_neutral.sav'\n",
    "pickle.dump(bert_test, open(test_fname, 'wb'))"
   ]
  }
 ],
 "metadata": {
  "kernelspec": {
   "display_name": "Python 3",
   "language": "python",
   "name": "python3"
  },
  "language_info": {
   "codemirror_mode": {
    "name": "ipython",
    "version": 3
   },
   "file_extension": ".py",
   "mimetype": "text/x-python",
   "name": "python",
   "nbconvert_exporter": "python",
   "pygments_lexer": "ipython3",
   "version": "3.8.12"
  }
 },
 "nbformat": 4,
 "nbformat_minor": 5
}

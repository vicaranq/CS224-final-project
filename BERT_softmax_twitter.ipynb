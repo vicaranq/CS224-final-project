{
 "cells": [
  {
   "cell_type": "markdown",
   "id": "47e8f743-ceab-449c-9ee7-200a1785cb16",
   "metadata": {},
   "source": [
    "# Use BERT Representations with LogisticRegression Softmax Classifier"
   ]
  },
  {
   "cell_type": "code",
   "execution_count": 1,
   "id": "30dae3b5-f005-418c-8e46-9bd8758cf351",
   "metadata": {},
   "outputs": [],
   "source": [
    "from collections import Counter\n",
    "import os\n",
    "import numpy as np\n",
    "import pandas as pd\n",
    "import torch\n",
    "from torch import nn, optim\n",
    "import torch.nn as nn\n",
    "from torch.utils.data import TensorDataset, Dataset, DataLoader\n",
    "from sklearn.model_selection import train_test_split\n",
    "from sklearn.linear_model import LogisticRegression\n",
    "from sklearn.model_selection import cross_val_score\n",
    "from transformers import BertTokenizer, BertModel, BertForSequenceClassification\n",
    "\n",
    "\n",
    "import dataset\n",
    "import vsm\n",
    "import sst"
   ]
  },
  {
   "cell_type": "code",
   "execution_count": 2,
   "id": "1c995c70-1ec0-47c7-be85-5a622874c493",
   "metadata": {},
   "outputs": [],
   "source": [
    "TWITTER = 2\n",
    "TWITTER_AIRLINES = 3\n",
    "TWITTER_APPLE = 4"
   ]
  },
  {
   "cell_type": "code",
   "execution_count": 3,
   "id": "5059a022-607d-493b-8e7e-82937409db1c",
   "metadata": {},
   "outputs": [],
   "source": [
    "twitter_train, twitter_validate, twitter_test =  dataset.dataset_reader(TWITTER)\n",
    "[twitter_train, twitter_validate, twitter_test] = list(map(lambda ds : dataset.prune_columns(2, ds), [twitter_train, twitter_validate, twitter_test]))"
   ]
  },
  {
   "cell_type": "code",
   "execution_count": 4,
   "id": "b41be400-82cf-469e-96b0-522cf9de12b3",
   "metadata": {},
   "outputs": [],
   "source": [
    "bert_weights_name = 'bert-base-cased'\n",
    "bert_tokenizer = BertTokenizer.from_pretrained(bert_weights_name)\n",
    "bert_model = BertModel.from_pretrained(bert_weights_name)\n",
    "# model = BertForSequenceClassification.from_pretrained(bert_weights_name)\n",
    "# Unique values of sentiment\n",
    "twitter_sentiment_labels = twitter_train['sentiment'].unique()"
   ]
  },
  {
   "cell_type": "code",
   "execution_count": 5,
   "id": "a7bb900e-ec8f-4e7c-92e2-987c363777e0",
   "metadata": {},
   "outputs": [
    {
     "data": {
      "text/plain": [
       "(156831, 3000)"
      ]
     },
     "execution_count": 5,
     "metadata": {},
     "output_type": "execute_result"
    }
   ],
   "source": [
    "twitter_train.size, twitter_validate.size"
   ]
  },
  {
   "cell_type": "code",
   "execution_count": 6,
   "id": "8d2c69f6-6084-4316-899d-b2ec9d52d16a",
   "metadata": {},
   "outputs": [
    {
     "name": "stdout",
     "output_type": "stream",
     "text": [
      "              precision    recall  f1-score   support\n",
      "\n",
      "  Irrelevant      0.348     0.267     0.303       172\n",
      "    Negative      0.539     0.624     0.578       266\n",
      "     Neutral      0.534     0.519     0.527       285\n",
      "    Positive      0.558     0.570     0.564       277\n",
      "\n",
      "    accuracy                          0.518      1000\n",
      "   macro avg      0.495     0.495     0.493      1000\n",
      "weighted avg      0.510     0.518     0.512      1000\n",
      "\n",
      "CPU times: user 14min 43s, sys: 5.37 s, total: 14min 49s\n",
      "Wall time: 2min 29s\n"
     ]
    }
   ],
   "source": [
    "%%time\n",
    "bert_experiment1500 = sst.experiment(\n",
    "    twitter_train[:1500], # \n",
    "    dataset.hf_cls_phi,\n",
    "    dataset.fit_softmax_classifier,\n",
    "    assess_dataframes=[twitter_validate[:1000]],\n",
    "    vectorize=False)"
   ]
  },
  {
   "cell_type": "code",
   "execution_count": 7,
   "id": "6a5cdd3f-d4b1-4ccd-9f65-1ddf47011ebe",
   "metadata": {},
   "outputs": [
    {
     "name": "stdout",
     "output_type": "stream",
     "text": [
      "              precision    recall  f1-score   support\n",
      "\n",
      "  Irrelevant      0.480     0.273     0.348       172\n",
      "    Negative      0.570     0.643     0.604       266\n",
      "     Neutral      0.524     0.526     0.525       285\n",
      "    Positive      0.535     0.610     0.570       277\n",
      "\n",
      "    accuracy                          0.537      1000\n",
      "   macro avg      0.527     0.513     0.512      1000\n",
      "weighted avg      0.532     0.537     0.528      1000\n",
      "\n",
      "CPU times: user 23min 5s, sys: 7.21 s, total: 23min 13s\n",
      "Wall time: 3min 55s\n"
     ]
    }
   ],
   "source": [
    "%%time\n",
    "bert_experiment3000 = sst.experiment(\n",
    "    twitter_train[:3000], # \n",
    "    dataset.hf_cls_phi,\n",
    "    dataset.fit_softmax_classifier,\n",
    "    assess_dataframes=[twitter_validate[:1000]],\n",
    "    vectorize=False)"
   ]
  },
  {
   "cell_type": "code",
   "execution_count": 8,
   "id": "1ec4292a-caa6-4f86-a98e-dd673983774d",
   "metadata": {},
   "outputs": [
    {
     "name": "stdout",
     "output_type": "stream",
     "text": [
      "              precision    recall  f1-score   support\n",
      "\n",
      "  Irrelevant      0.489     0.267     0.346       172\n",
      "    Negative      0.585     0.711     0.642       266\n",
      "     Neutral      0.568     0.512     0.539       285\n",
      "    Positive      0.564     0.664     0.610       277\n",
      "\n",
      "    accuracy                          0.565      1000\n",
      "   macro avg      0.552     0.539     0.534      1000\n",
      "weighted avg      0.558     0.565     0.553      1000\n",
      "\n",
      "CPU times: user 39min 40s, sys: 13.1 s, total: 39min 53s\n",
      "Wall time: 6min 46s\n"
     ]
    }
   ],
   "source": [
    "%%time\n",
    "bert_experiment6000 = sst.experiment(\n",
    "    twitter_train[:6000], # \n",
    "    dataset.hf_cls_phi,\n",
    "    dataset.fit_softmax_classifier,\n",
    "    assess_dataframes=[twitter_validate[:1500]],\n",
    "    vectorize=False)"
   ]
  },
  {
   "cell_type": "code",
   "execution_count": 9,
   "id": "dbe91cba-a1d6-4bc5-8c0b-f2272bdee7bf",
   "metadata": {},
   "outputs": [
    {
     "name": "stdout",
     "output_type": "stream",
     "text": [
      "              precision    recall  f1-score   support\n",
      "\n",
      "  Irrelevant      0.571     0.256     0.353       172\n",
      "    Negative      0.590     0.726     0.651       266\n",
      "     Neutral      0.582     0.537     0.558       285\n",
      "    Positive      0.577     0.693     0.630       277\n",
      "\n",
      "    accuracy                          0.582      1000\n",
      "   macro avg      0.580     0.553     0.548      1000\n",
      "weighted avg      0.581     0.582     0.567      1000\n",
      "\n",
      "CPU times: user 1h 13min 9s, sys: 24 s, total: 1h 13min 33s\n",
      "Wall time: 12min 34s\n"
     ]
    }
   ],
   "source": [
    "%%time\n",
    "bert_experiment12000 = sst.experiment(\n",
    "    twitter_train[:12000], # \n",
    "    dataset.hf_cls_phi,\n",
    "    dataset.fit_softmax_classifier,\n",
    "    assess_dataframes=[twitter_validate[:2000]],\n",
    "    vectorize=False)"
   ]
  },
  {
   "cell_type": "code",
   "execution_count": 10,
   "id": "4326b274-a348-4623-a1eb-3142a2a52b2b",
   "metadata": {},
   "outputs": [
    {
     "name": "stdout",
     "output_type": "stream",
     "text": [
      "              precision    recall  f1-score   support\n",
      "\n",
      "  Irrelevant      0.570     0.262     0.359       172\n",
      "    Negative      0.584     0.771     0.665       266\n",
      "     Neutral      0.602     0.547     0.574       285\n",
      "    Positive      0.595     0.668     0.629       277\n",
      "\n",
      "    accuracy                          0.591      1000\n",
      "   macro avg      0.588     0.562     0.556      1000\n",
      "weighted avg      0.590     0.591     0.576      1000\n",
      "\n",
      "CPU times: user 5h 9min 13s, sys: 1min 55s, total: 5h 11min 9s\n",
      "Wall time: 53min 34s\n"
     ]
    }
   ],
   "source": [
    "%%time\n",
    "bert_experiment_full = sst.experiment(\n",
    "    twitter_train, # \n",
    "    dataset.hf_cls_phi,\n",
    "    dataset.fit_softmax_classifier,\n",
    "    assess_dataframes=[twitter_validate],\n",
    "    vectorize=False)"
   ]
  },
  {
   "cell_type": "code",
   "execution_count": 11,
   "id": "d54b31f7-4cb2-4e55-b20d-ccde15e31350",
   "metadata": {},
   "outputs": [
    {
     "data": {
      "text/plain": [
       "dict_keys(['model', 'phi', 'train_dataset', 'assess_datasets', 'predictions', 'metric', 'scores'])"
      ]
     },
     "execution_count": 11,
     "metadata": {},
     "output_type": "execute_result"
    }
   ],
   "source": [
    "bert_experiment_full.keys()"
   ]
  },
  {
   "cell_type": "code",
   "execution_count": 12,
   "id": "a7bac1a5-92e3-468e-847b-e759eb09a2bc",
   "metadata": {},
   "outputs": [
    {
     "data": {
      "text/plain": [
       "[0.5564631305265428]"
      ]
     },
     "execution_count": 12,
     "metadata": {},
     "output_type": "execute_result"
    }
   ],
   "source": [
    "bert_experiment_full['scores']"
   ]
  },
  {
   "cell_type": "code",
   "execution_count": 13,
   "id": "8a0ed646-5437-43db-a2f5-7938349cea10",
   "metadata": {},
   "outputs": [
    {
     "data": {
      "text/plain": [
       "'safe_macro_f1'"
      ]
     },
     "execution_count": 13,
     "metadata": {},
     "output_type": "execute_result"
    }
   ],
   "source": [
    "bert_experiment_full['metric']"
   ]
  },
  {
   "cell_type": "code",
   "execution_count": 14,
   "id": "95567ac1-8815-4694-96c7-dff72617250b",
   "metadata": {
    "tags": []
   },
   "outputs": [
    {
     "data": {
      "text/plain": [
       "LogisticRegression(multi_class='ovr', solver='liblinear')"
      ]
     },
     "execution_count": 14,
     "metadata": {},
     "output_type": "execute_result"
    }
   ],
   "source": [
    "bert_experiment_full['model']"
   ]
  },
  {
   "cell_type": "markdown",
   "id": "d7ccb547-1174-471f-b6e5-e9239d23fe4b",
   "metadata": {},
   "source": [
    "# Test BERT trained on Tweets on test set"
   ]
  },
  {
   "cell_type": "code",
   "execution_count": 15,
   "id": "1f4d5a18-66b3-467b-aea7-59f196b07bf4",
   "metadata": {},
   "outputs": [],
   "source": [
    "def predict_one_bert(text):\n",
    "    # List of tokenized examples:\n",
    "    X = [bert_experiment_full['phi'](text)]\n",
    "    # Standard `predict` step on a list of lists of str:\n",
    "    preds = bert_experiment_full['model'].predict(X)\n",
    "    # Be sure to return the only member of the predictions,\n",
    "    # rather than the singleton list:\n",
    "    return preds[0]"
   ]
  },
  {
   "cell_type": "code",
   "execution_count": 16,
   "id": "8ca03e9e-f006-40a3-aa3a-681dacbac891",
   "metadata": {},
   "outputs": [],
   "source": [
    "# %% time\n",
    "# twitter_test['prediction'] = twitter_test['text'].apply(predict_one_bert)"
   ]
  },
  {
   "cell_type": "code",
   "execution_count": 17,
   "id": "145568c0-81b1-485f-9cc5-8c5fcd4ed951",
   "metadata": {},
   "outputs": [
    {
     "data": {
      "text/plain": [
       "<module 'sst' from '/mnt/c/Users/echya/Documents/XCS224U - 007 Natural Language Understanding/CS224-final-project/sst.py'>"
      ]
     },
     "execution_count": 17,
     "metadata": {},
     "output_type": "execute_result"
    }
   ],
   "source": [
    "import importlib\n",
    "importlib.reload(sst)"
   ]
  },
  {
   "cell_type": "code",
   "execution_count": 18,
   "id": "09db34c2-0a98-4627-ae75-75653fdde41e",
   "metadata": {},
   "outputs": [
    {
     "name": "stdout",
     "output_type": "stream",
     "text": [
      "              precision    recall  f1-score   support\n",
      "\n",
      "  Irrelevant      0.457     0.254     0.326      3943\n",
      "    Negative      0.591     0.721     0.650      6682\n",
      "     Neutral      0.554     0.515     0.534      5514\n",
      "    Positive      0.572     0.634     0.601      6266\n",
      "\n",
      "    accuracy                          0.564     22405\n",
      "   macro avg      0.543     0.531     0.528     22405\n",
      "weighted avg      0.553     0.564     0.551     22405\n",
      "\n",
      "CPU times: user 2h 5min 50s, sys: 43.3 s, total: 2h 6min 34s\n",
      "Wall time: 21min 8s\n"
     ]
    }
   ],
   "source": [
    "%%time\n",
    "bert_test = sst.evaluate(\n",
    "    bert_experiment_full['model'],\n",
    "    bert_experiment_full['phi'],\n",
    "    assess_dataframes=[twitter_test],\n",
    "    vectorizer=bert_experiment_full['assess_datasets'][0]['vectorizer'],\n",
    "    vectorize=False\n",
    ")"
   ]
  },
  {
   "cell_type": "code",
   "execution_count": 19,
   "id": "f49ec6d2-f389-4995-b1d9-5003bff03522",
   "metadata": {},
   "outputs": [
    {
     "data": {
      "text/plain": [
       "numpy.ndarray"
      ]
     },
     "execution_count": 19,
     "metadata": {},
     "output_type": "execute_result"
    }
   ],
   "source": [
    "type(bert_test['predictions'][0])"
   ]
  },
  {
   "cell_type": "code",
   "execution_count": 20,
   "id": "6dbc9350-3873-4226-8430-e1851b8f1a59",
   "metadata": {},
   "outputs": [],
   "source": [
    "predictions_fname ='results/BERT_predictions_on_twitter_test.csv'\n",
    "df = bert_test['predictions'][0]\n",
    "pd.DataFrame(df).to_csv(predictions_fname)"
   ]
  },
  {
   "cell_type": "code",
   "execution_count": 21,
   "id": "13e45694-66b9-41f2-9159-70f048dbae48",
   "metadata": {
    "tags": []
   },
   "outputs": [],
   "source": [
    "encoding_fname ='results/BERT_encodings_on_twitter_test.csv'\n",
    "encoded_test = bert_test['assess_datasets'][0]\n",
    "pd.DataFrame(df).to_csv(encoding_fname)"
   ]
  },
  {
   "cell_type": "code",
   "execution_count": 22,
   "id": "eb5ae92e-80a6-44f3-827b-a79eab788ddc",
   "metadata": {},
   "outputs": [
    {
     "data": {
      "text/html": [
       "<div>\n",
       "<style scoped>\n",
       "    .dataframe tbody tr th:only-of-type {\n",
       "        vertical-align: middle;\n",
       "    }\n",
       "\n",
       "    .dataframe tbody tr th {\n",
       "        vertical-align: top;\n",
       "    }\n",
       "\n",
       "    .dataframe thead th {\n",
       "        text-align: right;\n",
       "    }\n",
       "</style>\n",
       "<table border=\"1\" class=\"dataframe\">\n",
       "  <thead>\n",
       "    <tr style=\"text-align: right;\">\n",
       "      <th></th>\n",
       "      <th>0</th>\n",
       "    </tr>\n",
       "  </thead>\n",
       "  <tbody>\n",
       "    <tr>\n",
       "      <th>1</th>\n",
       "      <td>Neutral</td>\n",
       "    </tr>\n",
       "    <tr>\n",
       "      <th>3</th>\n",
       "      <td>Irrelevant</td>\n",
       "    </tr>\n",
       "    <tr>\n",
       "      <th>5</th>\n",
       "      <td>Negative</td>\n",
       "    </tr>\n",
       "    <tr>\n",
       "      <th>15</th>\n",
       "      <td>Neutral</td>\n",
       "    </tr>\n",
       "    <tr>\n",
       "      <th>18</th>\n",
       "      <td>Positive</td>\n",
       "    </tr>\n",
       "    <tr>\n",
       "      <th>...</th>\n",
       "      <td>...</td>\n",
       "    </tr>\n",
       "    <tr>\n",
       "      <th>74670</th>\n",
       "      <td>Positive</td>\n",
       "    </tr>\n",
       "    <tr>\n",
       "      <th>74672</th>\n",
       "      <td>Neutral</td>\n",
       "    </tr>\n",
       "    <tr>\n",
       "      <th>74674</th>\n",
       "      <td>Irrelevant</td>\n",
       "    </tr>\n",
       "    <tr>\n",
       "      <th>74676</th>\n",
       "      <td>Negative</td>\n",
       "    </tr>\n",
       "    <tr>\n",
       "      <th>74680</th>\n",
       "      <td>Negative</td>\n",
       "    </tr>\n",
       "  </tbody>\n",
       "</table>\n",
       "<p>22405 rows × 1 columns</p>\n",
       "</div>"
      ],
      "text/plain": [
       "                0\n",
       "1         Neutral\n",
       "3      Irrelevant\n",
       "5        Negative\n",
       "15        Neutral\n",
       "18       Positive\n",
       "...           ...\n",
       "74670    Positive\n",
       "74672     Neutral\n",
       "74674  Irrelevant\n",
       "74676    Negative\n",
       "74680    Negative\n",
       "\n",
       "[22405 rows x 1 columns]"
      ]
     },
     "execution_count": 22,
     "metadata": {},
     "output_type": "execute_result"
    }
   ],
   "source": [
    "predictions_df = pd.DataFrame(df)\n",
    "predictions_df = predictions_df.set_index(twitter_test.index)\n",
    "predictions_df"
   ]
  },
  {
   "cell_type": "code",
   "execution_count": 23,
   "id": "ed7099ef-7ce4-4346-a0fd-fea8fa9f4580",
   "metadata": {},
   "outputs": [],
   "source": [
    "twitter_test['BERT_sentiment'] = predictions_df"
   ]
  },
  {
   "cell_type": "code",
   "execution_count": 24,
   "id": "71be05a5-02e8-4315-88a7-0651caf140b9",
   "metadata": {},
   "outputs": [
    {
     "data": {
      "text/html": [
       "<div>\n",
       "<style scoped>\n",
       "    .dataframe tbody tr th:only-of-type {\n",
       "        vertical-align: middle;\n",
       "    }\n",
       "\n",
       "    .dataframe tbody tr th {\n",
       "        vertical-align: top;\n",
       "    }\n",
       "\n",
       "    .dataframe thead th {\n",
       "        text-align: right;\n",
       "    }\n",
       "</style>\n",
       "<table border=\"1\" class=\"dataframe\">\n",
       "  <thead>\n",
       "    <tr style=\"text-align: right;\">\n",
       "      <th></th>\n",
       "      <th>text</th>\n",
       "      <th>sentiment</th>\n",
       "      <th>entity</th>\n",
       "      <th>BERT_sentiment</th>\n",
       "    </tr>\n",
       "  </thead>\n",
       "  <tbody>\n",
       "    <tr>\n",
       "      <th>1</th>\n",
       "      <td>I am coming to the borders and I will kill you...</td>\n",
       "      <td>Positive</td>\n",
       "      <td>2401</td>\n",
       "      <td>Neutral</td>\n",
       "    </tr>\n",
       "    <tr>\n",
       "      <th>3</th>\n",
       "      <td>im coming on borderlands and i will murder you...</td>\n",
       "      <td>Positive</td>\n",
       "      <td>2401</td>\n",
       "      <td>Irrelevant</td>\n",
       "    </tr>\n",
       "    <tr>\n",
       "      <th>5</th>\n",
       "      <td>im getting into borderlands and i can murder y...</td>\n",
       "      <td>Positive</td>\n",
       "      <td>2401</td>\n",
       "      <td>Negative</td>\n",
       "    </tr>\n",
       "    <tr>\n",
       "      <th>15</th>\n",
       "      <td>Rock-Hard La Vita, RARE BUT POWERFUL, HANDSOME...</td>\n",
       "      <td>Neutral</td>\n",
       "      <td>2403</td>\n",
       "      <td>Neutral</td>\n",
       "    </tr>\n",
       "    <tr>\n",
       "      <th>18</th>\n",
       "      <td>that was the first borderlands session in a lo...</td>\n",
       "      <td>Positive</td>\n",
       "      <td>2404</td>\n",
       "      <td>Positive</td>\n",
       "    </tr>\n",
       "    <tr>\n",
       "      <th>...</th>\n",
       "      <td>...</td>\n",
       "      <td>...</td>\n",
       "      <td>...</td>\n",
       "      <td>...</td>\n",
       "    </tr>\n",
       "    <tr>\n",
       "      <th>74670</th>\n",
       "      <td>Let no elim go unnoticed. . . . NVIDIA Highlig...</td>\n",
       "      <td>Positive</td>\n",
       "      <td>9199</td>\n",
       "      <td>Positive</td>\n",
       "    </tr>\n",
       "    <tr>\n",
       "      <th>74672</th>\n",
       "      <td>Let no elite go unnoticed... NVIDIA Highlights...</td>\n",
       "      <td>Positive</td>\n",
       "      <td>9199</td>\n",
       "      <td>Neutral</td>\n",
       "    </tr>\n",
       "    <tr>\n",
       "      <th>74674</th>\n",
       "      <td>Let a no information elim that go unnoticed......</td>\n",
       "      <td>Positive</td>\n",
       "      <td>9199</td>\n",
       "      <td>Irrelevant</td>\n",
       "    </tr>\n",
       "    <tr>\n",
       "      <th>74676</th>\n",
       "      <td>Just realized the windows partition of my Mac ...</td>\n",
       "      <td>Positive</td>\n",
       "      <td>9200</td>\n",
       "      <td>Negative</td>\n",
       "    </tr>\n",
       "    <tr>\n",
       "      <th>74680</th>\n",
       "      <td>Just realized between the windows partition of...</td>\n",
       "      <td>Positive</td>\n",
       "      <td>9200</td>\n",
       "      <td>Negative</td>\n",
       "    </tr>\n",
       "  </tbody>\n",
       "</table>\n",
       "<p>22405 rows × 4 columns</p>\n",
       "</div>"
      ],
      "text/plain": [
       "                                                    text sentiment  entity  \\\n",
       "1      I am coming to the borders and I will kill you...  Positive    2401   \n",
       "3      im coming on borderlands and i will murder you...  Positive    2401   \n",
       "5      im getting into borderlands and i can murder y...  Positive    2401   \n",
       "15     Rock-Hard La Vita, RARE BUT POWERFUL, HANDSOME...   Neutral    2403   \n",
       "18     that was the first borderlands session in a lo...  Positive    2404   \n",
       "...                                                  ...       ...     ...   \n",
       "74670  Let no elim go unnoticed. . . . NVIDIA Highlig...  Positive    9199   \n",
       "74672  Let no elite go unnoticed... NVIDIA Highlights...  Positive    9199   \n",
       "74674  Let a no information elim that go unnoticed......  Positive    9199   \n",
       "74676  Just realized the windows partition of my Mac ...  Positive    9200   \n",
       "74680  Just realized between the windows partition of...  Positive    9200   \n",
       "\n",
       "      BERT_sentiment  \n",
       "1            Neutral  \n",
       "3         Irrelevant  \n",
       "5           Negative  \n",
       "15           Neutral  \n",
       "18          Positive  \n",
       "...              ...  \n",
       "74670       Positive  \n",
       "74672        Neutral  \n",
       "74674     Irrelevant  \n",
       "74676       Negative  \n",
       "74680       Negative  \n",
       "\n",
       "[22405 rows x 4 columns]"
      ]
     },
     "execution_count": 24,
     "metadata": {},
     "output_type": "execute_result"
    }
   ],
   "source": [
    "twitter_test"
   ]
  },
  {
   "cell_type": "code",
   "execution_count": 25,
   "id": "cf9c4767-072f-4201-9c43-e65c04e97858",
   "metadata": {},
   "outputs": [],
   "source": [
    "test_predictions_fname ='results/BERT_predictions_added_to_twitter_test.csv'\n",
    "twitter_test.to_csv(test_predictions_fname)"
   ]
  },
  {
   "cell_type": "code",
   "execution_count": 26,
   "id": "d1b799ce-e850-4035-bae7-8ddb45eecb27",
   "metadata": {},
   "outputs": [],
   "source": [
    "correct = twitter_test[twitter_test['sentiment'] == twitter_test['BERT_sentiment']]"
   ]
  },
  {
   "cell_type": "code",
   "execution_count": 27,
   "id": "682cdd73-a337-436e-a3f5-1ee6bb8a8ee1",
   "metadata": {},
   "outputs": [
    {
     "data": {
      "text/html": [
       "<div>\n",
       "<style scoped>\n",
       "    .dataframe tbody tr th:only-of-type {\n",
       "        vertical-align: middle;\n",
       "    }\n",
       "\n",
       "    .dataframe tbody tr th {\n",
       "        vertical-align: top;\n",
       "    }\n",
       "\n",
       "    .dataframe thead th {\n",
       "        text-align: right;\n",
       "    }\n",
       "</style>\n",
       "<table border=\"1\" class=\"dataframe\">\n",
       "  <thead>\n",
       "    <tr style=\"text-align: right;\">\n",
       "      <th></th>\n",
       "      <th>text</th>\n",
       "      <th>sentiment</th>\n",
       "      <th>entity</th>\n",
       "      <th>BERT_sentiment</th>\n",
       "    </tr>\n",
       "  </thead>\n",
       "  <tbody>\n",
       "    <tr>\n",
       "      <th>15</th>\n",
       "      <td>Rock-Hard La Vita, RARE BUT POWERFUL, HANDSOME...</td>\n",
       "      <td>Neutral</td>\n",
       "      <td>2403</td>\n",
       "      <td>Neutral</td>\n",
       "    </tr>\n",
       "    <tr>\n",
       "      <th>18</th>\n",
       "      <td>that was the first borderlands session in a lo...</td>\n",
       "      <td>Positive</td>\n",
       "      <td>2404</td>\n",
       "      <td>Positive</td>\n",
       "    </tr>\n",
       "    <tr>\n",
       "      <th>19</th>\n",
       "      <td>this was the first Borderlands session in a lo...</td>\n",
       "      <td>Positive</td>\n",
       "      <td>2404</td>\n",
       "      <td>Positive</td>\n",
       "    </tr>\n",
       "    <tr>\n",
       "      <th>25</th>\n",
       "      <td>The biggest disappointment of my life came a y...</td>\n",
       "      <td>Negative</td>\n",
       "      <td>2405</td>\n",
       "      <td>Negative</td>\n",
       "    </tr>\n",
       "    <tr>\n",
       "      <th>27</th>\n",
       "      <td>the biggest dissappoinment in my life coming o...</td>\n",
       "      <td>Negative</td>\n",
       "      <td>2405</td>\n",
       "      <td>Negative</td>\n",
       "    </tr>\n",
       "    <tr>\n",
       "      <th>...</th>\n",
       "      <td>...</td>\n",
       "      <td>...</td>\n",
       "      <td>...</td>\n",
       "      <td>...</td>\n",
       "    </tr>\n",
       "    <tr>\n",
       "      <th>74651</th>\n",
       "      <td>NVIDIA released its substantial update for its...</td>\n",
       "      <td>Neutral</td>\n",
       "      <td>9195</td>\n",
       "      <td>Neutral</td>\n",
       "    </tr>\n",
       "    <tr>\n",
       "      <th>74664</th>\n",
       "      <td>Nvidia really delayed the 3070 2 weeks .</td>\n",
       "      <td>Negative</td>\n",
       "      <td>9198</td>\n",
       "      <td>Negative</td>\n",
       "    </tr>\n",
       "    <tr>\n",
       "      <th>74668</th>\n",
       "      <td>Nvidia really only delayed the 3070 2 flight w...</td>\n",
       "      <td>Negative</td>\n",
       "      <td>9198</td>\n",
       "      <td>Negative</td>\n",
       "    </tr>\n",
       "    <tr>\n",
       "      <th>74669</th>\n",
       "      <td>Nvidia really delayed the next 2 weeks.</td>\n",
       "      <td>Negative</td>\n",
       "      <td>9198</td>\n",
       "      <td>Negative</td>\n",
       "    </tr>\n",
       "    <tr>\n",
       "      <th>74670</th>\n",
       "      <td>Let no elim go unnoticed. . . . NVIDIA Highlig...</td>\n",
       "      <td>Positive</td>\n",
       "      <td>9199</td>\n",
       "      <td>Positive</td>\n",
       "    </tr>\n",
       "  </tbody>\n",
       "</table>\n",
       "<p>12627 rows × 4 columns</p>\n",
       "</div>"
      ],
      "text/plain": [
       "                                                    text sentiment  entity  \\\n",
       "15     Rock-Hard La Vita, RARE BUT POWERFUL, HANDSOME...   Neutral    2403   \n",
       "18     that was the first borderlands session in a lo...  Positive    2404   \n",
       "19     this was the first Borderlands session in a lo...  Positive    2404   \n",
       "25     The biggest disappointment of my life came a y...  Negative    2405   \n",
       "27     the biggest dissappoinment in my life coming o...  Negative    2405   \n",
       "...                                                  ...       ...     ...   \n",
       "74651  NVIDIA released its substantial update for its...   Neutral    9195   \n",
       "74664          Nvidia really delayed the 3070 2 weeks .   Negative    9198   \n",
       "74668  Nvidia really only delayed the 3070 2 flight w...  Negative    9198   \n",
       "74669            Nvidia really delayed the next 2 weeks.  Negative    9198   \n",
       "74670  Let no elim go unnoticed. . . . NVIDIA Highlig...  Positive    9199   \n",
       "\n",
       "      BERT_sentiment  \n",
       "15           Neutral  \n",
       "18          Positive  \n",
       "19          Positive  \n",
       "25          Negative  \n",
       "27          Negative  \n",
       "...              ...  \n",
       "74651        Neutral  \n",
       "74664       Negative  \n",
       "74668       Negative  \n",
       "74669       Negative  \n",
       "74670       Positive  \n",
       "\n",
       "[12627 rows x 4 columns]"
      ]
     },
     "execution_count": 27,
     "metadata": {},
     "output_type": "execute_result"
    }
   ],
   "source": [
    "correct"
   ]
  },
  {
   "cell_type": "code",
   "execution_count": 28,
   "id": "0b17a467-a521-4f37-9616-c9b925356660",
   "metadata": {},
   "outputs": [],
   "source": [
    "incorrect = twitter_test[twitter_test['sentiment'] != twitter_test['BERT_sentiment']]"
   ]
  },
  {
   "cell_type": "code",
   "execution_count": 29,
   "id": "45b58f07-ebe3-4c83-b614-d1e154e358dd",
   "metadata": {},
   "outputs": [
    {
     "data": {
      "text/html": [
       "<div>\n",
       "<style scoped>\n",
       "    .dataframe tbody tr th:only-of-type {\n",
       "        vertical-align: middle;\n",
       "    }\n",
       "\n",
       "    .dataframe tbody tr th {\n",
       "        vertical-align: top;\n",
       "    }\n",
       "\n",
       "    .dataframe thead th {\n",
       "        text-align: right;\n",
       "    }\n",
       "</style>\n",
       "<table border=\"1\" class=\"dataframe\">\n",
       "  <thead>\n",
       "    <tr style=\"text-align: right;\">\n",
       "      <th></th>\n",
       "      <th>text</th>\n",
       "      <th>sentiment</th>\n",
       "      <th>entity</th>\n",
       "      <th>BERT_sentiment</th>\n",
       "    </tr>\n",
       "  </thead>\n",
       "  <tbody>\n",
       "    <tr>\n",
       "      <th>1</th>\n",
       "      <td>I am coming to the borders and I will kill you...</td>\n",
       "      <td>Positive</td>\n",
       "      <td>2401</td>\n",
       "      <td>Neutral</td>\n",
       "    </tr>\n",
       "    <tr>\n",
       "      <th>3</th>\n",
       "      <td>im coming on borderlands and i will murder you...</td>\n",
       "      <td>Positive</td>\n",
       "      <td>2401</td>\n",
       "      <td>Irrelevant</td>\n",
       "    </tr>\n",
       "    <tr>\n",
       "      <th>5</th>\n",
       "      <td>im getting into borderlands and i can murder y...</td>\n",
       "      <td>Positive</td>\n",
       "      <td>2401</td>\n",
       "      <td>Negative</td>\n",
       "    </tr>\n",
       "    <tr>\n",
       "      <th>37</th>\n",
       "      <td>Man Gearbox really needs to fix these disappoi...</td>\n",
       "      <td>Negative</td>\n",
       "      <td>2407</td>\n",
       "      <td>Positive</td>\n",
       "    </tr>\n",
       "    <tr>\n",
       "      <th>44</th>\n",
       "      <td>Watch this epic striptease!.</td>\n",
       "      <td>Neutral</td>\n",
       "      <td>2408</td>\n",
       "      <td>Positive</td>\n",
       "    </tr>\n",
       "    <tr>\n",
       "      <th>...</th>\n",
       "      <td>...</td>\n",
       "      <td>...</td>\n",
       "      <td>...</td>\n",
       "      <td>...</td>\n",
       "    </tr>\n",
       "    <tr>\n",
       "      <th>74667</th>\n",
       "      <td>Nvidia really delayed the 3070 several weeks.</td>\n",
       "      <td>Negative</td>\n",
       "      <td>9198</td>\n",
       "      <td>Positive</td>\n",
       "    </tr>\n",
       "    <tr>\n",
       "      <th>74672</th>\n",
       "      <td>Let no elite go unnoticed... NVIDIA Highlights...</td>\n",
       "      <td>Positive</td>\n",
       "      <td>9199</td>\n",
       "      <td>Neutral</td>\n",
       "    </tr>\n",
       "    <tr>\n",
       "      <th>74674</th>\n",
       "      <td>Let a no information elim that go unnoticed......</td>\n",
       "      <td>Positive</td>\n",
       "      <td>9199</td>\n",
       "      <td>Irrelevant</td>\n",
       "    </tr>\n",
       "    <tr>\n",
       "      <th>74676</th>\n",
       "      <td>Just realized the windows partition of my Mac ...</td>\n",
       "      <td>Positive</td>\n",
       "      <td>9200</td>\n",
       "      <td>Negative</td>\n",
       "    </tr>\n",
       "    <tr>\n",
       "      <th>74680</th>\n",
       "      <td>Just realized between the windows partition of...</td>\n",
       "      <td>Positive</td>\n",
       "      <td>9200</td>\n",
       "      <td>Negative</td>\n",
       "    </tr>\n",
       "  </tbody>\n",
       "</table>\n",
       "<p>9778 rows × 4 columns</p>\n",
       "</div>"
      ],
      "text/plain": [
       "                                                    text sentiment  entity  \\\n",
       "1      I am coming to the borders and I will kill you...  Positive    2401   \n",
       "3      im coming on borderlands and i will murder you...  Positive    2401   \n",
       "5      im getting into borderlands and i can murder y...  Positive    2401   \n",
       "37     Man Gearbox really needs to fix these disappoi...  Negative    2407   \n",
       "44                          Watch this epic striptease!.   Neutral    2408   \n",
       "...                                                  ...       ...     ...   \n",
       "74667      Nvidia really delayed the 3070 several weeks.  Negative    9198   \n",
       "74672  Let no elite go unnoticed... NVIDIA Highlights...  Positive    9199   \n",
       "74674  Let a no information elim that go unnoticed......  Positive    9199   \n",
       "74676  Just realized the windows partition of my Mac ...  Positive    9200   \n",
       "74680  Just realized between the windows partition of...  Positive    9200   \n",
       "\n",
       "      BERT_sentiment  \n",
       "1            Neutral  \n",
       "3         Irrelevant  \n",
       "5           Negative  \n",
       "37          Positive  \n",
       "44          Positive  \n",
       "...              ...  \n",
       "74667       Positive  \n",
       "74672        Neutral  \n",
       "74674     Irrelevant  \n",
       "74676       Negative  \n",
       "74680       Negative  \n",
       "\n",
       "[9778 rows x 4 columns]"
      ]
     },
     "execution_count": 29,
     "metadata": {},
     "output_type": "execute_result"
    }
   ],
   "source": [
    "incorrect"
   ]
  },
  {
   "cell_type": "code",
   "execution_count": 30,
   "id": "ff9d3b45-ccca-4c20-b38e-fc5278d24d0e",
   "metadata": {},
   "outputs": [
    {
     "data": {
      "text/html": [
       "<div>\n",
       "<style scoped>\n",
       "    .dataframe tbody tr th:only-of-type {\n",
       "        vertical-align: middle;\n",
       "    }\n",
       "\n",
       "    .dataframe tbody tr th {\n",
       "        vertical-align: top;\n",
       "    }\n",
       "\n",
       "    .dataframe thead th {\n",
       "        text-align: right;\n",
       "    }\n",
       "</style>\n",
       "<table border=\"1\" class=\"dataframe\">\n",
       "  <thead>\n",
       "    <tr style=\"text-align: right;\">\n",
       "      <th></th>\n",
       "      <th>text</th>\n",
       "      <th>sentiment</th>\n",
       "      <th>entity</th>\n",
       "      <th>BERT_sentiment</th>\n",
       "    </tr>\n",
       "  </thead>\n",
       "  <tbody>\n",
       "    <tr>\n",
       "      <th>102</th>\n",
       "      <td>Appreciate the (sonic) concepts / praxis Valen...</td>\n",
       "      <td>Irrelevant</td>\n",
       "      <td>2418</td>\n",
       "      <td>Neutral</td>\n",
       "    </tr>\n",
       "    <tr>\n",
       "      <th>104</th>\n",
       "      <td>Evaluate the (sound) concepts / concepts of Va...</td>\n",
       "      <td>Irrelevant</td>\n",
       "      <td>2418</td>\n",
       "      <td>Positive</td>\n",
       "    </tr>\n",
       "    <tr>\n",
       "      <th>107</th>\n",
       "      <td>Appreciate the (sonic) conversations / actions...</td>\n",
       "      <td>Irrelevant</td>\n",
       "      <td>2418</td>\n",
       "      <td>Neutral</td>\n",
       "    </tr>\n",
       "    <tr>\n",
       "      <th>128</th>\n",
       "      <td>Love these new @ GhostLive cans!! Does anyone ...</td>\n",
       "      <td>Irrelevant</td>\n",
       "      <td>2422</td>\n",
       "      <td>Neutral</td>\n",
       "    </tr>\n",
       "    <tr>\n",
       "      <th>129</th>\n",
       "      <td>Loving these new @GhostLifestyle cans!! Anyone...</td>\n",
       "      <td>Irrelevant</td>\n",
       "      <td>2422</td>\n",
       "      <td>Irrelevant</td>\n",
       "    </tr>\n",
       "    <tr>\n",
       "      <th>...</th>\n",
       "      <td>...</td>\n",
       "      <td>...</td>\n",
       "      <td>...</td>\n",
       "      <td>...</td>\n",
       "    </tr>\n",
       "    <tr>\n",
       "      <th>73962</th>\n",
       "      <td>I know this asset they are referring to (it's ...</td>\n",
       "      <td>Irrelevant</td>\n",
       "      <td>9071</td>\n",
       "      <td>Negative</td>\n",
       "    </tr>\n",
       "    <tr>\n",
       "      <th>73963</th>\n",
       "      <td>I know this asset they're referring to (it's n...</td>\n",
       "      <td>Irrelevant</td>\n",
       "      <td>9071</td>\n",
       "      <td>Negative</td>\n",
       "    </tr>\n",
       "    <tr>\n",
       "      <th>73993</th>\n",
       "      <td>Oh, yes, I used to work with these guys. Secon...</td>\n",
       "      <td>Irrelevant</td>\n",
       "      <td>9077</td>\n",
       "      <td>Positive</td>\n",
       "    </tr>\n",
       "    <tr>\n",
       "      <th>73997</th>\n",
       "      <td>Oh, yeah, I used to work under these guys. Tot...</td>\n",
       "      <td>Irrelevant</td>\n",
       "      <td>9077</td>\n",
       "      <td>Positive</td>\n",
       "    </tr>\n",
       "    <tr>\n",
       "      <th>74038</th>\n",
       "      <td>9 Good idea for them. This is all based on ear...</td>\n",
       "      <td>Irrelevant</td>\n",
       "      <td>9085</td>\n",
       "      <td>Positive</td>\n",
       "    </tr>\n",
       "  </tbody>\n",
       "</table>\n",
       "<p>3943 rows × 4 columns</p>\n",
       "</div>"
      ],
      "text/plain": [
       "                                                    text   sentiment  entity  \\\n",
       "102    Appreciate the (sonic) concepts / praxis Valen...  Irrelevant    2418   \n",
       "104    Evaluate the (sound) concepts / concepts of Va...  Irrelevant    2418   \n",
       "107    Appreciate the (sonic) conversations / actions...  Irrelevant    2418   \n",
       "128    Love these new @ GhostLive cans!! Does anyone ...  Irrelevant    2422   \n",
       "129    Loving these new @GhostLifestyle cans!! Anyone...  Irrelevant    2422   \n",
       "...                                                  ...         ...     ...   \n",
       "73962  I know this asset they are referring to (it's ...  Irrelevant    9071   \n",
       "73963  I know this asset they're referring to (it's n...  Irrelevant    9071   \n",
       "73993  Oh, yes, I used to work with these guys. Secon...  Irrelevant    9077   \n",
       "73997  Oh, yeah, I used to work under these guys. Tot...  Irrelevant    9077   \n",
       "74038  9 Good idea for them. This is all based on ear...  Irrelevant    9085   \n",
       "\n",
       "      BERT_sentiment  \n",
       "102          Neutral  \n",
       "104         Positive  \n",
       "107          Neutral  \n",
       "128          Neutral  \n",
       "129       Irrelevant  \n",
       "...              ...  \n",
       "73962       Negative  \n",
       "73963       Negative  \n",
       "73993       Positive  \n",
       "73997       Positive  \n",
       "74038       Positive  \n",
       "\n",
       "[3943 rows x 4 columns]"
      ]
     },
     "execution_count": 30,
     "metadata": {},
     "output_type": "execute_result"
    }
   ],
   "source": [
    "irrelevant = twitter_test[twitter_test['sentiment'] == 'Irrelevant']\n",
    "irrelevant"
   ]
  },
  {
   "cell_type": "markdown",
   "id": "7cc61387-6176-4775-b332-99b161a5fc69",
   "metadata": {},
   "source": [
    "# Save Model"
   ]
  },
  {
   "cell_type": "code",
   "execution_count": 31,
   "id": "39d9e185-1e2e-43d1-b776-af27747750b6",
   "metadata": {},
   "outputs": [],
   "source": [
    "import pickle\n",
    "model_fname = 'models/BERT_twitter_model.sav'\n",
    "pickle.dump(bert_experiment_full['model'], open(model_fname, 'wb'))"
   ]
  },
  {
   "cell_type": "code",
   "execution_count": null,
   "id": "6daebf7f-eeb2-4831-b5cd-ac245929614a",
   "metadata": {},
   "outputs": [],
   "source": []
  }
 ],
 "metadata": {
  "kernelspec": {
   "display_name": "Python 3 (ipykernel)",
   "language": "python",
   "name": "python3"
  },
  "language_info": {
   "codemirror_mode": {
    "name": "ipython",
    "version": 3
   },
   "file_extension": ".py",
   "mimetype": "text/x-python",
   "name": "python",
   "nbconvert_exporter": "python",
   "pygments_lexer": "ipython3",
   "version": "3.8.12"
  }
 },
 "nbformat": 4,
 "nbformat_minor": 5
}

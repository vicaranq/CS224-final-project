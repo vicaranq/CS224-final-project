{
 "cells": [
  {
   "cell_type": "markdown",
   "id": "47e8f743-ceab-449c-9ee7-200a1785cb16",
   "metadata": {},
   "source": [
    "# Use BERT Representations with LogisticRegression Softmax Classifier"
   ]
  },
  {
   "cell_type": "code",
   "execution_count": 1,
   "id": "30dae3b5-f005-418c-8e46-9bd8758cf351",
   "metadata": {},
   "outputs": [],
   "source": [
    "from collections import Counter\n",
    "import os\n",
    "import numpy as np\n",
    "import pandas as pd\n",
    "import torch\n",
    "from torch import nn, optim\n",
    "import torch.nn as nn\n",
    "from torch.utils.data import TensorDataset, Dataset, DataLoader\n",
    "from sklearn.model_selection import train_test_split\n",
    "from sklearn.linear_model import LogisticRegression\n",
    "from sklearn.model_selection import cross_val_score\n",
    "from transformers import BertTokenizer, BertModel, BertForSequenceClassification\n",
    "\n",
    "\n",
    "import dataset\n",
    "import vsm\n",
    "import sst"
   ]
  },
  {
   "cell_type": "code",
   "execution_count": 2,
   "id": "1c995c70-1ec0-47c7-be85-5a622874c493",
   "metadata": {},
   "outputs": [],
   "source": [
    "TWITTER = 2\n",
    "TWITTER_AIRLINES = 3\n",
    "TWITTER_APPLE = 4"
   ]
  },
  {
   "cell_type": "code",
   "execution_count": 3,
   "id": "5059a022-607d-493b-8e7e-82937409db1c",
   "metadata": {},
   "outputs": [],
   "source": [
    "twitter_train, twitter_validate, twitter_test =  dataset.dataset_reader(TWITTER)\n",
    "[twitter_train, twitter_validate, twitter_test] = list(map(lambda ds : dataset.prune_columns(2, ds), [twitter_train, twitter_validate, twitter_test]))"
   ]
  },
  {
   "cell_type": "code",
   "execution_count": 4,
   "id": "5bd35302-accd-45d3-9473-8a437bd46757",
   "metadata": {},
   "outputs": [],
   "source": [
    "airline_train, airline_validate, airline_test =  dataset.dataset_reader(TWITTER_AIRLINES)\n",
    "[airline_train, airline_validate, airline_test] = list(map(lambda ds : dataset.prune_columns(3, ds), [airline_train, airline_validate, airline_test]))"
   ]
  },
  {
   "cell_type": "code",
   "execution_count": 5,
   "id": "1bbf058c-bcbc-4798-8b9a-0682c99722d7",
   "metadata": {},
   "outputs": [],
   "source": [
    "apple_train, apple_validate, apple_test =  dataset.dataset_reader(TWITTER_APPLE)\n",
    "[apple_train, apple_validate, apple_test] = list(map(lambda ds : dataset.prune_columns(4, ds), [apple_train, apple_validate, apple_test]))"
   ]
  },
  {
   "cell_type": "code",
   "execution_count": 6,
   "id": "b8865526-a969-4eaf-9f69-0a3b8f24bebc",
   "metadata": {},
   "outputs": [],
   "source": [
    "# Rename labels for consistency\n",
    "def rename_sentiment(sentiment):\n",
    "        if sentiment in [\"5\", \"positive\"]:\n",
    "            return \"Positive\"\n",
    "        elif sentiment in [\"3\", \"neutral\"]:\n",
    "            return \"Neutral\"\n",
    "        elif sentiment in [\"1\", \"negative\"]:\n",
    "            return \"Negative\"\n",
    "        elif sentiment in [\"not_relevant\",\"Irrelevant\"]:\n",
    "            return \"Neutral\"\n",
    "        else:\n",
    "            return sentiment\n"
   ]
  },
  {
   "cell_type": "code",
   "execution_count": 7,
   "id": "72403b8f-9b74-4a12-81dc-d1ba57859121",
   "metadata": {},
   "outputs": [],
   "source": [
    "twitter_train['sentiment'] = pd.DataFrame([rename_sentiment(e) for e in twitter_train['sentiment']]).set_index(twitter_train.index)\n",
    "twitter_validate['sentiment'] = pd.DataFrame([rename_sentiment(e) for e in twitter_validate['sentiment']]).set_index(twitter_validate.index)\n",
    "twitter_test['sentiment'] = pd.DataFrame([rename_sentiment(e) for e in twitter_test['sentiment']]).set_index(twitter_test.index)"
   ]
  },
  {
   "cell_type": "code",
   "execution_count": 8,
   "id": "cdc60685-b8d8-4d6e-86c9-8d4f8b990a65",
   "metadata": {},
   "outputs": [],
   "source": [
    "airline_train['sentiment'] = pd.DataFrame([rename_sentiment(e) for e in airline_train['sentiment']]).set_index(airline_train.index)\n",
    "airline_validate['sentiment'] = pd.DataFrame([rename_sentiment(e) for e in airline_validate['sentiment']]).set_index(airline_validate.index)\n",
    "airline_test['sentiment'] = pd.DataFrame([rename_sentiment(e) for e in airline_test['sentiment']]).set_index(airline_test.index)"
   ]
  },
  {
   "cell_type": "code",
   "execution_count": 9,
   "id": "c09b5e52-2e08-4324-b355-613f29d3d479",
   "metadata": {},
   "outputs": [],
   "source": [
    "apple_train['sentiment'] = pd.DataFrame([rename_sentiment(e) for e in apple_train['sentiment']]).set_index(apple_train.index)\n",
    "apple_validate['sentiment'] = pd.DataFrame([rename_sentiment(e) for e in apple_validate['sentiment']]).set_index(apple_validate.index)\n",
    "apple_test['sentiment'] = pd.DataFrame([rename_sentiment(e) for e in apple_test['sentiment']]).set_index(apple_test.index)"
   ]
  },
  {
   "cell_type": "code",
   "execution_count": 10,
   "id": "04b265d8-99f7-41b6-b374-76f703f2e289",
   "metadata": {},
   "outputs": [],
   "source": [
    "# cat the datasets\n",
    "train_ds = pd.concat([twitter_train,airline_train,apple_train],axis=0)\n",
    "validate_ds = pd.concat([twitter_validate,airline_validate,apple_validate],axis=0)\n",
    "test_ds = pd.concat([twitter_test,airline_test,apple_test],axis=0)"
   ]
  },
  {
   "cell_type": "code",
   "execution_count": 11,
   "id": "b41be400-82cf-469e-96b0-522cf9de12b3",
   "metadata": {},
   "outputs": [],
   "source": [
    "bert_weights_name = 'bert-base-cased'\n",
    "bert_tokenizer = BertTokenizer.from_pretrained(bert_weights_name)\n",
    "bert_model = BertModel.from_pretrained(bert_weights_name)\n",
    "# model = BertForSequenceClassification.from_pretrained(bert_weights_name)\n",
    "# Unique values of sentiment\n",
    "twitter_sentiment_labels = train_ds['sentiment'].unique()"
   ]
  },
  {
   "cell_type": "code",
   "execution_count": 12,
   "id": "a7bb900e-ec8f-4e7c-92e2-987c363777e0",
   "metadata": {},
   "outputs": [
    {
     "data": {
      "text/plain": [
       "(402588, 17112, 145548)"
      ]
     },
     "execution_count": 12,
     "metadata": {},
     "output_type": "execute_result"
    }
   ],
   "source": [
    "train_ds.size, validate_ds.size, test_ds.size"
   ]
  },
  {
   "cell_type": "code",
   "execution_count": 13,
   "id": "4326b274-a348-4623-a1eb-3142a2a52b2b",
   "metadata": {},
   "outputs": [
    {
     "name": "stdout",
     "output_type": "stream",
     "text": [
      "              precision    recall  f1-score   support\n",
      "\n",
      "    Negative      0.738     0.851     0.791      1294\n",
      "     Neutral      0.673     0.602     0.635      1004\n",
      "    Positive      0.672     0.563     0.613       554\n",
      "\n",
      "    accuracy                          0.707      2852\n",
      "   macro avg      0.695     0.672     0.680      2852\n",
      "weighted avg      0.703     0.707     0.702      2852\n",
      "\n",
      "CPU times: user 6h 56min 30s, sys: 2min 36s, total: 6h 59min 6s\n",
      "Wall time: 1h 11min 30s\n"
     ]
    }
   ],
   "source": [
    "%%time\n",
    "bert_experiment_full = sst.experiment(\n",
    "    [train_ds], # \n",
    "    dataset.hf_cls_phi,\n",
    "    dataset.fit_softmax_classifier,\n",
    "    assess_dataframes=[validate_ds],\n",
    "    vectorize=False)"
   ]
  },
  {
   "cell_type": "code",
   "execution_count": 14,
   "id": "d54b31f7-4cb2-4e55-b20d-ccde15e31350",
   "metadata": {},
   "outputs": [
    {
     "data": {
      "text/plain": [
       "dict_keys(['model', 'phi', 'train_dataset', 'assess_datasets', 'predictions', 'metric', 'scores'])"
      ]
     },
     "execution_count": 14,
     "metadata": {},
     "output_type": "execute_result"
    }
   ],
   "source": [
    "bert_experiment_full.keys()"
   ]
  },
  {
   "cell_type": "code",
   "execution_count": 15,
   "id": "a7bac1a5-92e3-468e-847b-e759eb09a2bc",
   "metadata": {},
   "outputs": [
    {
     "data": {
      "text/plain": [
       "[0.6796952992470061]"
      ]
     },
     "execution_count": 15,
     "metadata": {},
     "output_type": "execute_result"
    }
   ],
   "source": [
    "bert_experiment_full['scores']"
   ]
  },
  {
   "cell_type": "code",
   "execution_count": 16,
   "id": "8a0ed646-5437-43db-a2f5-7938349cea10",
   "metadata": {},
   "outputs": [
    {
     "data": {
      "text/plain": [
       "'safe_macro_f1'"
      ]
     },
     "execution_count": 16,
     "metadata": {},
     "output_type": "execute_result"
    }
   ],
   "source": [
    "bert_experiment_full['metric']"
   ]
  },
  {
   "cell_type": "code",
   "execution_count": 17,
   "id": "95567ac1-8815-4694-96c7-dff72617250b",
   "metadata": {
    "tags": []
   },
   "outputs": [
    {
     "data": {
      "text/plain": [
       "LogisticRegression(multi_class='ovr', solver='liblinear')"
      ]
     },
     "execution_count": 17,
     "metadata": {},
     "output_type": "execute_result"
    }
   ],
   "source": [
    "bert_experiment_full['model']"
   ]
  },
  {
   "cell_type": "markdown",
   "id": "d7ccb547-1174-471f-b6e5-e9239d23fe4b",
   "metadata": {},
   "source": [
    "# Test BERT trained on Tweets on test set"
   ]
  },
  {
   "cell_type": "code",
   "execution_count": 18,
   "id": "1f4d5a18-66b3-467b-aea7-59f196b07bf4",
   "metadata": {},
   "outputs": [],
   "source": [
    "def predict_one_bert(text):\n",
    "    # List of tokenized examples:\n",
    "    X = [bert_experiment_full['phi'](text)]\n",
    "    # Standard `predict` step on a list of lists of str:\n",
    "    preds = bert_experiment_full['model'].predict(X)\n",
    "    # Be sure to return the only member of the predictions,\n",
    "    # rather than the singleton list:\n",
    "    return preds[0]"
   ]
  },
  {
   "cell_type": "code",
   "execution_count": 19,
   "id": "8ca03e9e-f006-40a3-aa3a-681dacbac891",
   "metadata": {},
   "outputs": [],
   "source": [
    "# %% time\n",
    "# twitter_test['prediction'] = twitter_test['text'].apply(predict_one_bert)"
   ]
  },
  {
   "cell_type": "code",
   "execution_count": 20,
   "id": "145568c0-81b1-485f-9cc5-8c5fcd4ed951",
   "metadata": {},
   "outputs": [],
   "source": [
    "# import importlib\n",
    "# importlib.reload(sst)"
   ]
  },
  {
   "cell_type": "code",
   "execution_count": 21,
   "id": "09db34c2-0a98-4627-ae75-75653fdde41e",
   "metadata": {
    "tags": []
   },
   "outputs": [
    {
     "name": "stdout",
     "output_type": "stream",
     "text": [
      "              precision    recall  f1-score   support\n",
      "\n",
      "    Negative      0.644     0.690     0.666      7789\n",
      "     Neutral      0.625     0.650     0.637      9950\n",
      "    Positive      0.630     0.536     0.579      6519\n",
      "\n",
      "    accuracy                          0.633     24258\n",
      "   macro avg      0.633     0.626     0.628     24258\n",
      "weighted avg      0.632     0.633     0.631     24258\n",
      "\n",
      "CPU times: user 2h 22min 46s, sys: 50.7 s, total: 2h 23min 37s\n",
      "Wall time: 23min 56s\n"
     ]
    }
   ],
   "source": [
    "%%time\n",
    "bert_test = sst.evaluate(\n",
    "    bert_experiment_full['model'],\n",
    "    bert_experiment_full['phi'],\n",
    "    assess_dataframes=[test_ds],\n",
    "    vectorizer=bert_experiment_full['assess_datasets'][0]['vectorizer'],\n",
    "    vectorize=False\n",
    ")"
   ]
  },
  {
   "cell_type": "code",
   "execution_count": 22,
   "id": "f49ec6d2-f389-4995-b1d9-5003bff03522",
   "metadata": {},
   "outputs": [
    {
     "data": {
      "text/plain": [
       "numpy.ndarray"
      ]
     },
     "execution_count": 22,
     "metadata": {},
     "output_type": "execute_result"
    }
   ],
   "source": [
    "type(bert_test['predictions'][0])"
   ]
  },
  {
   "cell_type": "code",
   "execution_count": 23,
   "id": "6dbc9350-3873-4226-8430-e1851b8f1a59",
   "metadata": {},
   "outputs": [],
   "source": [
    "predictions_fname ='results/BERT_predictions_on_combined_neutral_twitter_test.csv'\n",
    "df = bert_test['predictions'][0]\n",
    "pd.DataFrame(df).to_csv(predictions_fname)"
   ]
  },
  {
   "cell_type": "code",
   "execution_count": 24,
   "id": "13e45694-66b9-41f2-9159-70f048dbae48",
   "metadata": {
    "tags": []
   },
   "outputs": [],
   "source": [
    "encoding_fname ='results/BERT_encodings_on_combined_neutral_twitter_test.csv'\n",
    "encoded_test = bert_test['assess_datasets'][0]\n",
    "pd.DataFrame(df).to_csv(encoding_fname)"
   ]
  },
  {
   "cell_type": "code",
   "execution_count": 25,
   "id": "eb5ae92e-80a6-44f3-827b-a79eab788ddc",
   "metadata": {},
   "outputs": [
    {
     "data": {
      "text/html": [
       "<div>\n",
       "<style scoped>\n",
       "    .dataframe tbody tr th:only-of-type {\n",
       "        vertical-align: middle;\n",
       "    }\n",
       "\n",
       "    .dataframe tbody tr th {\n",
       "        vertical-align: top;\n",
       "    }\n",
       "\n",
       "    .dataframe thead th {\n",
       "        text-align: right;\n",
       "    }\n",
       "</style>\n",
       "<table border=\"1\" class=\"dataframe\">\n",
       "  <thead>\n",
       "    <tr style=\"text-align: right;\">\n",
       "      <th></th>\n",
       "      <th>0</th>\n",
       "    </tr>\n",
       "  </thead>\n",
       "  <tbody>\n",
       "    <tr>\n",
       "      <th>1</th>\n",
       "      <td>Neutral</td>\n",
       "    </tr>\n",
       "    <tr>\n",
       "      <th>12</th>\n",
       "      <td>Neutral</td>\n",
       "    </tr>\n",
       "    <tr>\n",
       "      <th>13</th>\n",
       "      <td>Neutral</td>\n",
       "    </tr>\n",
       "    <tr>\n",
       "      <th>17</th>\n",
       "      <td>Neutral</td>\n",
       "    </tr>\n",
       "    <tr>\n",
       "      <th>19</th>\n",
       "      <td>Positive</td>\n",
       "    </tr>\n",
       "    <tr>\n",
       "      <th>...</th>\n",
       "      <td>...</td>\n",
       "    </tr>\n",
       "    <tr>\n",
       "      <th>3847</th>\n",
       "      <td>Neutral</td>\n",
       "    </tr>\n",
       "    <tr>\n",
       "      <th>3852</th>\n",
       "      <td>Neutral</td>\n",
       "    </tr>\n",
       "    <tr>\n",
       "      <th>3869</th>\n",
       "      <td>Neutral</td>\n",
       "    </tr>\n",
       "    <tr>\n",
       "      <th>3871</th>\n",
       "      <td>Neutral</td>\n",
       "    </tr>\n",
       "    <tr>\n",
       "      <th>3874</th>\n",
       "      <td>Neutral</td>\n",
       "    </tr>\n",
       "  </tbody>\n",
       "</table>\n",
       "<p>24258 rows × 1 columns</p>\n",
       "</div>"
      ],
      "text/plain": [
       "             0\n",
       "1      Neutral\n",
       "12     Neutral\n",
       "13     Neutral\n",
       "17     Neutral\n",
       "19    Positive\n",
       "...        ...\n",
       "3847   Neutral\n",
       "3852   Neutral\n",
       "3869   Neutral\n",
       "3871   Neutral\n",
       "3874   Neutral\n",
       "\n",
       "[24258 rows x 1 columns]"
      ]
     },
     "execution_count": 25,
     "metadata": {},
     "output_type": "execute_result"
    }
   ],
   "source": [
    "predictions_df = pd.DataFrame(df)\n",
    "predictions_df = predictions_df.set_index(test_ds.index)\n",
    "predictions_df"
   ]
  },
  {
   "cell_type": "code",
   "execution_count": 26,
   "id": "ed7099ef-7ce4-4346-a0fd-fea8fa9f4580",
   "metadata": {},
   "outputs": [],
   "source": [
    "test_ds['BERT_sentiment'] = predictions_df"
   ]
  },
  {
   "cell_type": "code",
   "execution_count": 27,
   "id": "71be05a5-02e8-4315-88a7-0651caf140b9",
   "metadata": {},
   "outputs": [
    {
     "data": {
      "text/html": [
       "<div>\n",
       "<style scoped>\n",
       "    .dataframe tbody tr th:only-of-type {\n",
       "        vertical-align: middle;\n",
       "    }\n",
       "\n",
       "    .dataframe tbody tr th {\n",
       "        vertical-align: top;\n",
       "    }\n",
       "\n",
       "    .dataframe thead th {\n",
       "        text-align: right;\n",
       "    }\n",
       "</style>\n",
       "<table border=\"1\" class=\"dataframe\">\n",
       "  <thead>\n",
       "    <tr style=\"text-align: right;\">\n",
       "      <th></th>\n",
       "      <th>dataset</th>\n",
       "      <th>tweet_id</th>\n",
       "      <th>text</th>\n",
       "      <th>sentiment</th>\n",
       "      <th>entity</th>\n",
       "      <th>airline</th>\n",
       "      <th>BERT_sentiment</th>\n",
       "    </tr>\n",
       "  </thead>\n",
       "  <tbody>\n",
       "    <tr>\n",
       "      <th>1</th>\n",
       "      <td>twitter_sentiment</td>\n",
       "      <td>1</td>\n",
       "      <td>I am coming to the borders and I will kill you...</td>\n",
       "      <td>Positive</td>\n",
       "      <td>2401.0</td>\n",
       "      <td>NaN</td>\n",
       "      <td>Neutral</td>\n",
       "    </tr>\n",
       "    <tr>\n",
       "      <th>12</th>\n",
       "      <td>twitter_sentiment</td>\n",
       "      <td>2</td>\n",
       "      <td>Rock-Hard La Varlope, RARE &amp; POWERFUL, HANDSOM...</td>\n",
       "      <td>Neutral</td>\n",
       "      <td>2403.0</td>\n",
       "      <td>NaN</td>\n",
       "      <td>Neutral</td>\n",
       "    </tr>\n",
       "    <tr>\n",
       "      <th>13</th>\n",
       "      <td>twitter_sentiment</td>\n",
       "      <td>3</td>\n",
       "      <td>Rock-Hard La Varlope, RARE &amp; POWERFUL, HANDSOM...</td>\n",
       "      <td>Neutral</td>\n",
       "      <td>2403.0</td>\n",
       "      <td>NaN</td>\n",
       "      <td>Neutral</td>\n",
       "    </tr>\n",
       "    <tr>\n",
       "      <th>17</th>\n",
       "      <td>twitter_sentiment</td>\n",
       "      <td>4</td>\n",
       "      <td>I-Hard like me, RARE LONDON DE, HANDSOME 2011,...</td>\n",
       "      <td>Neutral</td>\n",
       "      <td>2403.0</td>\n",
       "      <td>NaN</td>\n",
       "      <td>Neutral</td>\n",
       "    </tr>\n",
       "    <tr>\n",
       "      <th>19</th>\n",
       "      <td>twitter_sentiment</td>\n",
       "      <td>5</td>\n",
       "      <td>this was the first Borderlands session in a lo...</td>\n",
       "      <td>Positive</td>\n",
       "      <td>2404.0</td>\n",
       "      <td>NaN</td>\n",
       "      <td>Positive</td>\n",
       "    </tr>\n",
       "    <tr>\n",
       "      <th>...</th>\n",
       "      <td>...</td>\n",
       "      <td>...</td>\n",
       "      <td>...</td>\n",
       "      <td>...</td>\n",
       "      <td>...</td>\n",
       "      <td>...</td>\n",
       "      <td>...</td>\n",
       "    </tr>\n",
       "    <tr>\n",
       "      <th>3847</th>\n",
       "      <td>twitter_apple</td>\n",
       "      <td>623499377</td>\n",
       "      <td>proof @apple does not use it's own products. f...</td>\n",
       "      <td>Negative</td>\n",
       "      <td>NaN</td>\n",
       "      <td>NaN</td>\n",
       "      <td>Neutral</td>\n",
       "    </tr>\n",
       "    <tr>\n",
       "      <th>3852</th>\n",
       "      <td>twitter_apple</td>\n",
       "      <td>623499382</td>\n",
       "      <td>RT @TeamCavuto: Protesters stage #DieIn protes...</td>\n",
       "      <td>Neutral</td>\n",
       "      <td>NaN</td>\n",
       "      <td>NaN</td>\n",
       "      <td>Neutral</td>\n",
       "    </tr>\n",
       "    <tr>\n",
       "      <th>3869</th>\n",
       "      <td>twitter_apple</td>\n",
       "      <td>623499399</td>\n",
       "      <td>Apple Is Warming Up To Social Media: Apple is ...</td>\n",
       "      <td>Neutral</td>\n",
       "      <td>NaN</td>\n",
       "      <td>NaN</td>\n",
       "      <td>Neutral</td>\n",
       "    </tr>\n",
       "    <tr>\n",
       "      <th>3871</th>\n",
       "      <td>twitter_apple</td>\n",
       "      <td>623499401</td>\n",
       "      <td>Apple Is Warming Up To Social Media: Apple is ...</td>\n",
       "      <td>Neutral</td>\n",
       "      <td>NaN</td>\n",
       "      <td>NaN</td>\n",
       "      <td>Neutral</td>\n",
       "    </tr>\n",
       "    <tr>\n",
       "      <th>3874</th>\n",
       "      <td>twitter_apple</td>\n",
       "      <td>623499404</td>\n",
       "      <td>Apple Is Warming Up To Social Media: Apple is ...</td>\n",
       "      <td>Neutral</td>\n",
       "      <td>NaN</td>\n",
       "      <td>NaN</td>\n",
       "      <td>Neutral</td>\n",
       "    </tr>\n",
       "  </tbody>\n",
       "</table>\n",
       "<p>24258 rows × 7 columns</p>\n",
       "</div>"
      ],
      "text/plain": [
       "                dataset   tweet_id  \\\n",
       "1     twitter_sentiment          1   \n",
       "12    twitter_sentiment          2   \n",
       "13    twitter_sentiment          3   \n",
       "17    twitter_sentiment          4   \n",
       "19    twitter_sentiment          5   \n",
       "...                 ...        ...   \n",
       "3847      twitter_apple  623499377   \n",
       "3852      twitter_apple  623499382   \n",
       "3869      twitter_apple  623499399   \n",
       "3871      twitter_apple  623499401   \n",
       "3874      twitter_apple  623499404   \n",
       "\n",
       "                                                   text sentiment  entity  \\\n",
       "1     I am coming to the borders and I will kill you...  Positive  2401.0   \n",
       "12    Rock-Hard La Varlope, RARE & POWERFUL, HANDSOM...   Neutral  2403.0   \n",
       "13    Rock-Hard La Varlope, RARE & POWERFUL, HANDSOM...   Neutral  2403.0   \n",
       "17    I-Hard like me, RARE LONDON DE, HANDSOME 2011,...   Neutral  2403.0   \n",
       "19    this was the first Borderlands session in a lo...  Positive  2404.0   \n",
       "...                                                 ...       ...     ...   \n",
       "3847  proof @apple does not use it's own products. f...  Negative     NaN   \n",
       "3852  RT @TeamCavuto: Protesters stage #DieIn protes...   Neutral     NaN   \n",
       "3869  Apple Is Warming Up To Social Media: Apple is ...   Neutral     NaN   \n",
       "3871  Apple Is Warming Up To Social Media: Apple is ...   Neutral     NaN   \n",
       "3874  Apple Is Warming Up To Social Media: Apple is ...   Neutral     NaN   \n",
       "\n",
       "     airline BERT_sentiment  \n",
       "1        NaN        Neutral  \n",
       "12       NaN        Neutral  \n",
       "13       NaN        Neutral  \n",
       "17       NaN        Neutral  \n",
       "19       NaN       Positive  \n",
       "...      ...            ...  \n",
       "3847     NaN        Neutral  \n",
       "3852     NaN        Neutral  \n",
       "3869     NaN        Neutral  \n",
       "3871     NaN        Neutral  \n",
       "3874     NaN        Neutral  \n",
       "\n",
       "[24258 rows x 7 columns]"
      ]
     },
     "execution_count": 27,
     "metadata": {},
     "output_type": "execute_result"
    }
   ],
   "source": [
    "test_ds"
   ]
  },
  {
   "cell_type": "code",
   "execution_count": 28,
   "id": "cf9c4767-072f-4201-9c43-e65c04e97858",
   "metadata": {},
   "outputs": [],
   "source": [
    "test_predictions_fname ='results/BERT_predictions_added_to_combined_neutral_twitter_test.csv'\n",
    "test_ds.to_csv(test_predictions_fname)"
   ]
  },
  {
   "cell_type": "code",
   "execution_count": 29,
   "id": "d1b799ce-e850-4035-bae7-8ddb45eecb27",
   "metadata": {},
   "outputs": [],
   "source": [
    "correct = test_ds[test_ds['sentiment'] == test_ds['BERT_sentiment']]"
   ]
  },
  {
   "cell_type": "code",
   "execution_count": 30,
   "id": "682cdd73-a337-436e-a3f5-1ee6bb8a8ee1",
   "metadata": {},
   "outputs": [
    {
     "data": {
      "text/html": [
       "<div>\n",
       "<style scoped>\n",
       "    .dataframe tbody tr th:only-of-type {\n",
       "        vertical-align: middle;\n",
       "    }\n",
       "\n",
       "    .dataframe tbody tr th {\n",
       "        vertical-align: top;\n",
       "    }\n",
       "\n",
       "    .dataframe thead th {\n",
       "        text-align: right;\n",
       "    }\n",
       "</style>\n",
       "<table border=\"1\" class=\"dataframe\">\n",
       "  <thead>\n",
       "    <tr style=\"text-align: right;\">\n",
       "      <th></th>\n",
       "      <th>dataset</th>\n",
       "      <th>tweet_id</th>\n",
       "      <th>text</th>\n",
       "      <th>sentiment</th>\n",
       "      <th>entity</th>\n",
       "      <th>airline</th>\n",
       "      <th>BERT_sentiment</th>\n",
       "    </tr>\n",
       "  </thead>\n",
       "  <tbody>\n",
       "    <tr>\n",
       "      <th>12</th>\n",
       "      <td>twitter_sentiment</td>\n",
       "      <td>2</td>\n",
       "      <td>Rock-Hard La Varlope, RARE &amp; POWERFUL, HANDSOM...</td>\n",
       "      <td>Neutral</td>\n",
       "      <td>2403.0</td>\n",
       "      <td>NaN</td>\n",
       "      <td>Neutral</td>\n",
       "    </tr>\n",
       "    <tr>\n",
       "      <th>13</th>\n",
       "      <td>twitter_sentiment</td>\n",
       "      <td>3</td>\n",
       "      <td>Rock-Hard La Varlope, RARE &amp; POWERFUL, HANDSOM...</td>\n",
       "      <td>Neutral</td>\n",
       "      <td>2403.0</td>\n",
       "      <td>NaN</td>\n",
       "      <td>Neutral</td>\n",
       "    </tr>\n",
       "    <tr>\n",
       "      <th>17</th>\n",
       "      <td>twitter_sentiment</td>\n",
       "      <td>4</td>\n",
       "      <td>I-Hard like me, RARE LONDON DE, HANDSOME 2011,...</td>\n",
       "      <td>Neutral</td>\n",
       "      <td>2403.0</td>\n",
       "      <td>NaN</td>\n",
       "      <td>Neutral</td>\n",
       "    </tr>\n",
       "    <tr>\n",
       "      <th>19</th>\n",
       "      <td>twitter_sentiment</td>\n",
       "      <td>5</td>\n",
       "      <td>this was the first Borderlands session in a lo...</td>\n",
       "      <td>Positive</td>\n",
       "      <td>2404.0</td>\n",
       "      <td>NaN</td>\n",
       "      <td>Positive</td>\n",
       "    </tr>\n",
       "    <tr>\n",
       "      <th>29</th>\n",
       "      <td>twitter_sentiment</td>\n",
       "      <td>6</td>\n",
       "      <td>the biggest dissappoinment in my life came bac...</td>\n",
       "      <td>Negative</td>\n",
       "      <td>2405.0</td>\n",
       "      <td>NaN</td>\n",
       "      <td>Negative</td>\n",
       "    </tr>\n",
       "    <tr>\n",
       "      <th>...</th>\n",
       "      <td>...</td>\n",
       "      <td>...</td>\n",
       "      <td>...</td>\n",
       "      <td>...</td>\n",
       "      <td>...</td>\n",
       "      <td>...</td>\n",
       "      <td>...</td>\n",
       "    </tr>\n",
       "    <tr>\n",
       "      <th>3824</th>\n",
       "      <td>twitter_apple</td>\n",
       "      <td>623499354</td>\n",
       "      <td>Finally got my iPhone 6! @apple =) Such a reli...</td>\n",
       "      <td>Positive</td>\n",
       "      <td>NaN</td>\n",
       "      <td>NaN</td>\n",
       "      <td>Positive</td>\n",
       "    </tr>\n",
       "    <tr>\n",
       "      <th>3852</th>\n",
       "      <td>twitter_apple</td>\n",
       "      <td>623499382</td>\n",
       "      <td>RT @TeamCavuto: Protesters stage #DieIn protes...</td>\n",
       "      <td>Neutral</td>\n",
       "      <td>NaN</td>\n",
       "      <td>NaN</td>\n",
       "      <td>Neutral</td>\n",
       "    </tr>\n",
       "    <tr>\n",
       "      <th>3869</th>\n",
       "      <td>twitter_apple</td>\n",
       "      <td>623499399</td>\n",
       "      <td>Apple Is Warming Up To Social Media: Apple is ...</td>\n",
       "      <td>Neutral</td>\n",
       "      <td>NaN</td>\n",
       "      <td>NaN</td>\n",
       "      <td>Neutral</td>\n",
       "    </tr>\n",
       "    <tr>\n",
       "      <th>3871</th>\n",
       "      <td>twitter_apple</td>\n",
       "      <td>623499401</td>\n",
       "      <td>Apple Is Warming Up To Social Media: Apple is ...</td>\n",
       "      <td>Neutral</td>\n",
       "      <td>NaN</td>\n",
       "      <td>NaN</td>\n",
       "      <td>Neutral</td>\n",
       "    </tr>\n",
       "    <tr>\n",
       "      <th>3874</th>\n",
       "      <td>twitter_apple</td>\n",
       "      <td>623499404</td>\n",
       "      <td>Apple Is Warming Up To Social Media: Apple is ...</td>\n",
       "      <td>Neutral</td>\n",
       "      <td>NaN</td>\n",
       "      <td>NaN</td>\n",
       "      <td>Neutral</td>\n",
       "    </tr>\n",
       "  </tbody>\n",
       "</table>\n",
       "<p>15344 rows × 7 columns</p>\n",
       "</div>"
      ],
      "text/plain": [
       "                dataset   tweet_id  \\\n",
       "12    twitter_sentiment          2   \n",
       "13    twitter_sentiment          3   \n",
       "17    twitter_sentiment          4   \n",
       "19    twitter_sentiment          5   \n",
       "29    twitter_sentiment          6   \n",
       "...                 ...        ...   \n",
       "3824      twitter_apple  623499354   \n",
       "3852      twitter_apple  623499382   \n",
       "3869      twitter_apple  623499399   \n",
       "3871      twitter_apple  623499401   \n",
       "3874      twitter_apple  623499404   \n",
       "\n",
       "                                                   text sentiment  entity  \\\n",
       "12    Rock-Hard La Varlope, RARE & POWERFUL, HANDSOM...   Neutral  2403.0   \n",
       "13    Rock-Hard La Varlope, RARE & POWERFUL, HANDSOM...   Neutral  2403.0   \n",
       "17    I-Hard like me, RARE LONDON DE, HANDSOME 2011,...   Neutral  2403.0   \n",
       "19    this was the first Borderlands session in a lo...  Positive  2404.0   \n",
       "29    the biggest dissappoinment in my life came bac...  Negative  2405.0   \n",
       "...                                                 ...       ...     ...   \n",
       "3824  Finally got my iPhone 6! @apple =) Such a reli...  Positive     NaN   \n",
       "3852  RT @TeamCavuto: Protesters stage #DieIn protes...   Neutral     NaN   \n",
       "3869  Apple Is Warming Up To Social Media: Apple is ...   Neutral     NaN   \n",
       "3871  Apple Is Warming Up To Social Media: Apple is ...   Neutral     NaN   \n",
       "3874  Apple Is Warming Up To Social Media: Apple is ...   Neutral     NaN   \n",
       "\n",
       "     airline BERT_sentiment  \n",
       "12       NaN        Neutral  \n",
       "13       NaN        Neutral  \n",
       "17       NaN        Neutral  \n",
       "19       NaN       Positive  \n",
       "29       NaN       Negative  \n",
       "...      ...            ...  \n",
       "3824     NaN       Positive  \n",
       "3852     NaN        Neutral  \n",
       "3869     NaN        Neutral  \n",
       "3871     NaN        Neutral  \n",
       "3874     NaN        Neutral  \n",
       "\n",
       "[15344 rows x 7 columns]"
      ]
     },
     "execution_count": 30,
     "metadata": {},
     "output_type": "execute_result"
    }
   ],
   "source": [
    "correct"
   ]
  },
  {
   "cell_type": "code",
   "execution_count": 31,
   "id": "0b17a467-a521-4f37-9616-c9b925356660",
   "metadata": {},
   "outputs": [],
   "source": [
    "incorrect = test_ds[test_ds['sentiment'] != test_ds['BERT_sentiment']]"
   ]
  },
  {
   "cell_type": "code",
   "execution_count": 32,
   "id": "45b58f07-ebe3-4c83-b614-d1e154e358dd",
   "metadata": {},
   "outputs": [
    {
     "data": {
      "text/html": [
       "<div>\n",
       "<style scoped>\n",
       "    .dataframe tbody tr th:only-of-type {\n",
       "        vertical-align: middle;\n",
       "    }\n",
       "\n",
       "    .dataframe tbody tr th {\n",
       "        vertical-align: top;\n",
       "    }\n",
       "\n",
       "    .dataframe thead th {\n",
       "        text-align: right;\n",
       "    }\n",
       "</style>\n",
       "<table border=\"1\" class=\"dataframe\">\n",
       "  <thead>\n",
       "    <tr style=\"text-align: right;\">\n",
       "      <th></th>\n",
       "      <th>dataset</th>\n",
       "      <th>tweet_id</th>\n",
       "      <th>text</th>\n",
       "      <th>sentiment</th>\n",
       "      <th>entity</th>\n",
       "      <th>airline</th>\n",
       "      <th>BERT_sentiment</th>\n",
       "    </tr>\n",
       "  </thead>\n",
       "  <tbody>\n",
       "    <tr>\n",
       "      <th>1</th>\n",
       "      <td>twitter_sentiment</td>\n",
       "      <td>1</td>\n",
       "      <td>I am coming to the borders and I will kill you...</td>\n",
       "      <td>Positive</td>\n",
       "      <td>2401.0</td>\n",
       "      <td>NaN</td>\n",
       "      <td>Neutral</td>\n",
       "    </tr>\n",
       "    <tr>\n",
       "      <th>44</th>\n",
       "      <td>twitter_sentiment</td>\n",
       "      <td>9</td>\n",
       "      <td>Watch this epic striptease!.</td>\n",
       "      <td>Neutral</td>\n",
       "      <td>2408.0</td>\n",
       "      <td>NaN</td>\n",
       "      <td>Positive</td>\n",
       "    </tr>\n",
       "    <tr>\n",
       "      <th>86</th>\n",
       "      <td>twitter_sentiment</td>\n",
       "      <td>27</td>\n",
       "      <td>FUCK YESSSSSSSS.</td>\n",
       "      <td>Positive</td>\n",
       "      <td>2415.0</td>\n",
       "      <td>NaN</td>\n",
       "      <td>Negative</td>\n",
       "    </tr>\n",
       "    <tr>\n",
       "      <th>132</th>\n",
       "      <td>twitter_sentiment</td>\n",
       "      <td>39</td>\n",
       "      <td>Come meet one of the lovely Gaming Goddesses .</td>\n",
       "      <td>Positive</td>\n",
       "      <td>2423.0</td>\n",
       "      <td>NaN</td>\n",
       "      <td>Neutral</td>\n",
       "    </tr>\n",
       "    <tr>\n",
       "      <th>138</th>\n",
       "      <td>twitter_sentiment</td>\n",
       "      <td>40</td>\n",
       "      <td>How the hell are we into Halloween month alrea...</td>\n",
       "      <td>Neutral</td>\n",
       "      <td>2424.0</td>\n",
       "      <td>NaN</td>\n",
       "      <td>Negative</td>\n",
       "    </tr>\n",
       "    <tr>\n",
       "      <th>...</th>\n",
       "      <td>...</td>\n",
       "      <td>...</td>\n",
       "      <td>...</td>\n",
       "      <td>...</td>\n",
       "      <td>...</td>\n",
       "      <td>...</td>\n",
       "      <td>...</td>\n",
       "    </tr>\n",
       "    <tr>\n",
       "      <th>3731</th>\n",
       "      <td>twitter_apple</td>\n",
       "      <td>623499261</td>\n",
       "      <td>.@Apple and @Amazon refuse to make full federa...</td>\n",
       "      <td>Negative</td>\n",
       "      <td>NaN</td>\n",
       "      <td>NaN</td>\n",
       "      <td>Neutral</td>\n",
       "    </tr>\n",
       "    <tr>\n",
       "      <th>3770</th>\n",
       "      <td>twitter_apple</td>\n",
       "      <td>623499300</td>\n",
       "      <td>Our new @Technogym treadmills getting assemble...</td>\n",
       "      <td>Neutral</td>\n",
       "      <td>NaN</td>\n",
       "      <td>NaN</td>\n",
       "      <td>Negative</td>\n",
       "    </tr>\n",
       "    <tr>\n",
       "      <th>3830</th>\n",
       "      <td>twitter_apple</td>\n",
       "      <td>623499360</td>\n",
       "      <td>C'mon @Apple I'm ready to buy your watch. Hurr...</td>\n",
       "      <td>Negative</td>\n",
       "      <td>NaN</td>\n",
       "      <td>NaN</td>\n",
       "      <td>Positive</td>\n",
       "    </tr>\n",
       "    <tr>\n",
       "      <th>3835</th>\n",
       "      <td>twitter_apple</td>\n",
       "      <td>623499365</td>\n",
       "      <td>@afrobugeisha @Apple watch it!!!!!</td>\n",
       "      <td>Neutral</td>\n",
       "      <td>NaN</td>\n",
       "      <td>NaN</td>\n",
       "      <td>Positive</td>\n",
       "    </tr>\n",
       "    <tr>\n",
       "      <th>3847</th>\n",
       "      <td>twitter_apple</td>\n",
       "      <td>623499377</td>\n",
       "      <td>proof @apple does not use it's own products. f...</td>\n",
       "      <td>Negative</td>\n",
       "      <td>NaN</td>\n",
       "      <td>NaN</td>\n",
       "      <td>Neutral</td>\n",
       "    </tr>\n",
       "  </tbody>\n",
       "</table>\n",
       "<p>8914 rows × 7 columns</p>\n",
       "</div>"
      ],
      "text/plain": [
       "                dataset   tweet_id  \\\n",
       "1     twitter_sentiment          1   \n",
       "44    twitter_sentiment          9   \n",
       "86    twitter_sentiment         27   \n",
       "132   twitter_sentiment         39   \n",
       "138   twitter_sentiment         40   \n",
       "...                 ...        ...   \n",
       "3731      twitter_apple  623499261   \n",
       "3770      twitter_apple  623499300   \n",
       "3830      twitter_apple  623499360   \n",
       "3835      twitter_apple  623499365   \n",
       "3847      twitter_apple  623499377   \n",
       "\n",
       "                                                   text sentiment  entity  \\\n",
       "1     I am coming to the borders and I will kill you...  Positive  2401.0   \n",
       "44                         Watch this epic striptease!.   Neutral  2408.0   \n",
       "86                                     FUCK YESSSSSSSS.  Positive  2415.0   \n",
       "132     Come meet one of the lovely Gaming Goddesses .   Positive  2423.0   \n",
       "138   How the hell are we into Halloween month alrea...   Neutral  2424.0   \n",
       "...                                                 ...       ...     ...   \n",
       "3731  .@Apple and @Amazon refuse to make full federa...  Negative     NaN   \n",
       "3770  Our new @Technogym treadmills getting assemble...   Neutral     NaN   \n",
       "3830  C'mon @Apple I'm ready to buy your watch. Hurr...  Negative     NaN   \n",
       "3835                 @afrobugeisha @Apple watch it!!!!!   Neutral     NaN   \n",
       "3847  proof @apple does not use it's own products. f...  Negative     NaN   \n",
       "\n",
       "     airline BERT_sentiment  \n",
       "1        NaN        Neutral  \n",
       "44       NaN       Positive  \n",
       "86       NaN       Negative  \n",
       "132      NaN        Neutral  \n",
       "138      NaN       Negative  \n",
       "...      ...            ...  \n",
       "3731     NaN        Neutral  \n",
       "3770     NaN       Negative  \n",
       "3830     NaN       Positive  \n",
       "3835     NaN       Positive  \n",
       "3847     NaN        Neutral  \n",
       "\n",
       "[8914 rows x 7 columns]"
      ]
     },
     "execution_count": 32,
     "metadata": {},
     "output_type": "execute_result"
    }
   ],
   "source": [
    "incorrect"
   ]
  },
  {
   "cell_type": "code",
   "execution_count": 33,
   "id": "ff9d3b45-ccca-4c20-b38e-fc5278d24d0e",
   "metadata": {},
   "outputs": [
    {
     "data": {
      "text/html": [
       "<div>\n",
       "<style scoped>\n",
       "    .dataframe tbody tr th:only-of-type {\n",
       "        vertical-align: middle;\n",
       "    }\n",
       "\n",
       "    .dataframe tbody tr th {\n",
       "        vertical-align: top;\n",
       "    }\n",
       "\n",
       "    .dataframe thead th {\n",
       "        text-align: right;\n",
       "    }\n",
       "</style>\n",
       "<table border=\"1\" class=\"dataframe\">\n",
       "  <thead>\n",
       "    <tr style=\"text-align: right;\">\n",
       "      <th></th>\n",
       "      <th>dataset</th>\n",
       "      <th>tweet_id</th>\n",
       "      <th>text</th>\n",
       "      <th>sentiment</th>\n",
       "      <th>entity</th>\n",
       "      <th>airline</th>\n",
       "      <th>BERT_sentiment</th>\n",
       "    </tr>\n",
       "  </thead>\n",
       "  <tbody>\n",
       "  </tbody>\n",
       "</table>\n",
       "</div>"
      ],
      "text/plain": [
       "Empty DataFrame\n",
       "Columns: [dataset, tweet_id, text, sentiment, entity, airline, BERT_sentiment]\n",
       "Index: []"
      ]
     },
     "execution_count": 33,
     "metadata": {},
     "output_type": "execute_result"
    }
   ],
   "source": [
    "irrelevant = test_ds[test_ds['sentiment'] == 'Irrelevant']\n",
    "irrelevant"
   ]
  },
  {
   "cell_type": "markdown",
   "id": "7cc61387-6176-4775-b332-99b161a5fc69",
   "metadata": {},
   "source": [
    "# Save Model"
   ]
  },
  {
   "cell_type": "code",
   "execution_count": 34,
   "id": "6daebf7f-eeb2-4831-b5cd-ac245929614a",
   "metadata": {},
   "outputs": [],
   "source": [
    "import pickle\n",
    "model_fname = 'models/BERT_twitter_model_combined_neutral.sav'\n",
    "pickle.dump(bert_experiment_full['model'], open(model_fname, 'wb'))"
   ]
  },
  {
   "cell_type": "code",
   "execution_count": 35,
   "id": "e5d7b3b4-4ce7-4ba4-9bc7-e977374a6d87",
   "metadata": {},
   "outputs": [],
   "source": [
    "test_fname = 'results/BERT_test_combined_neutral.sav'\n",
    "pickle.dump(bert_test, open(test_fname, 'wb'))"
   ]
  },
  {
   "cell_type": "code",
   "execution_count": null,
   "id": "51326eb4-8a92-45ed-8a3e-450e4c8645fb",
   "metadata": {},
   "outputs": [],
   "source": []
  }
 ],
 "metadata": {
  "kernelspec": {
   "display_name": "Python 3 (ipykernel)",
   "language": "python",
   "name": "python3"
  },
  "language_info": {
   "codemirror_mode": {
    "name": "ipython",
    "version": 3
   },
   "file_extension": ".py",
   "mimetype": "text/x-python",
   "name": "python",
   "nbconvert_exporter": "python",
   "pygments_lexer": "ipython3",
   "version": "3.8.12"
  }
 },
 "nbformat": 4,
 "nbformat_minor": 5
}

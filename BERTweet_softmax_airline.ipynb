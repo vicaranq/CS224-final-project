{
 "cells": [
  {
   "cell_type": "markdown",
   "id": "47e8f743-ceab-449c-9ee7-200a1785cb16",
   "metadata": {},
   "source": [
    "# Use BERTweet Representations with LogisticRegression Softmax Classifier"
   ]
  },
  {
   "cell_type": "code",
   "execution_count": 1,
   "id": "30dae3b5-f005-418c-8e46-9bd8758cf351",
   "metadata": {},
   "outputs": [
    {
     "name": "stderr",
     "output_type": "stream",
     "text": [
      "Some weights of RobertaModel were not initialized from the model checkpoint at vinai/bertweet-large and are newly initialized: ['roberta.pooler.dense.weight', 'roberta.pooler.dense.bias']\n",
      "You should probably TRAIN this model on a down-stream task to be able to use it for predictions and inference.\n"
     ]
    }
   ],
   "source": [
    "from collections import Counter\n",
    "import os\n",
    "import numpy as np\n",
    "import pandas as pd\n",
    "import torch\n",
    "from torch import nn, optim\n",
    "import torch.nn as nn\n",
    "from torch.utils.data import TensorDataset, Dataset, DataLoader\n",
    "from sklearn.model_selection import train_test_split\n",
    "from sklearn.linear_model import LogisticRegression\n",
    "from sklearn.model_selection import cross_val_score\n",
    "from transformers import AutoModel, AutoTokenizer \n",
    "\n",
    "\n",
    "import dataset\n",
    "import vsm\n",
    "import sst"
   ]
  },
  {
   "cell_type": "code",
   "execution_count": 3,
   "id": "78d78a43",
   "metadata": {},
   "outputs": [
    {
     "data": {
      "application/vnd.jupyter.widget-view+json": {
       "model_id": "ab84da5300344083b7b0d33d80ec65e3",
       "version_major": 2,
       "version_minor": 0
      },
      "text/plain": [
       "Downloading:   0%|          | 0.00/614 [00:00<?, ?B/s]"
      ]
     },
     "metadata": {},
     "output_type": "display_data"
    },
    {
     "data": {
      "application/vnd.jupyter.widget-view+json": {
       "model_id": "95edaa992d0b4084b4ff38e7e4ed42a6",
       "version_major": 2,
       "version_minor": 0
      },
      "text/plain": [
       "Downloading:   0%|          | 0.00/1.42G [00:00<?, ?B/s]"
      ]
     },
     "metadata": {},
     "output_type": "display_data"
    },
    {
     "name": "stderr",
     "output_type": "stream",
     "text": [
      "Some weights of RobertaModel were not initialized from the model checkpoint at vinai/bertweet-large and are newly initialized: ['roberta.pooler.dense.weight', 'roberta.pooler.dense.bias']\n",
      "You should probably TRAIN this model on a down-stream task to be able to use it for predictions and inference.\n"
     ]
    },
    {
     "data": {
      "application/vnd.jupyter.widget-view+json": {
       "model_id": "465c0e23cc954cde8609141c7e7e4dc1",
       "version_major": 2,
       "version_minor": 0
      },
      "text/plain": [
       "Downloading:   0%|          | 0.00/899k [00:00<?, ?B/s]"
      ]
     },
     "metadata": {},
     "output_type": "display_data"
    },
    {
     "data": {
      "application/vnd.jupyter.widget-view+json": {
       "model_id": "6a882515a82042bb9e0752ad537f5c6c",
       "version_major": 2,
       "version_minor": 0
      },
      "text/plain": [
       "Downloading:   0%|          | 0.00/456k [00:00<?, ?B/s]"
      ]
     },
     "metadata": {},
     "output_type": "display_data"
    },
    {
     "data": {
      "application/vnd.jupyter.widget-view+json": {
       "model_id": "60366a01baf34a7cbe04ee7e5cf1d17c",
       "version_major": 2,
       "version_minor": 0
      },
      "text/plain": [
       "Downloading:   0%|          | 0.00/1.36M [00:00<?, ?B/s]"
      ]
     },
     "metadata": {},
     "output_type": "display_data"
    }
   ],
   "source": [
    "# bertweet = AutoModel.from_pretrained(\"vinai/bertweet-large\")\n",
    "# tokenizer = AutoTokenizer.from_pretrained(\"vinai/bertweet-large\")"
   ]
  },
  {
   "cell_type": "code",
   "execution_count": 5,
   "id": "76d31b25",
   "metadata": {},
   "outputs": [
    {
     "ename": "AttributeError",
     "evalue": "'NoneType' object has no attribute '__name__'",
     "output_type": "error",
     "traceback": [
      "\u001b[0;31m---------------------------------------------------------------------------\u001b[0m",
      "\u001b[0;31mAttributeError\u001b[0m                            Traceback (most recent call last)",
      "\u001b[0;32m/tmp/ipykernel_274/2996208227.py\u001b[0m in \u001b[0;36m<module>\u001b[0;34m\u001b[0m\n\u001b[1;32m      1\u001b[0m \u001b[0mbertweet_base\u001b[0m \u001b[0;34m=\u001b[0m \u001b[0mAutoModel\u001b[0m\u001b[0;34m.\u001b[0m\u001b[0mfrom_pretrained\u001b[0m\u001b[0;34m(\u001b[0m\u001b[0;34m\"vinai/bertweet-base\"\u001b[0m\u001b[0;34m)\u001b[0m\u001b[0;34m\u001b[0m\u001b[0;34m\u001b[0m\u001b[0m\n\u001b[0;32m----> 2\u001b[0;31m \u001b[0mtokenizer_base\u001b[0m \u001b[0;34m=\u001b[0m \u001b[0mAutoTokenizer\u001b[0m\u001b[0;34m.\u001b[0m\u001b[0mfrom_pretrained\u001b[0m\u001b[0;34m(\u001b[0m\u001b[0;34m\"vinai/bertweet-base\"\u001b[0m\u001b[0;34m)\u001b[0m\u001b[0;34m\u001b[0m\u001b[0;34m\u001b[0m\u001b[0m\n\u001b[0m",
      "\u001b[0;32m~/anaconda3/envs/nlu/lib/python3.8/site-packages/transformers/models/auto/tokenization_auto.py\u001b[0m in \u001b[0;36mfrom_pretrained\u001b[0;34m(cls, pretrained_model_name_or_path, *inputs, **kwargs)\u001b[0m\n\u001b[1;32m    368\u001b[0m             \u001b[0;32mif\u001b[0m \u001b[0muse_fast\u001b[0m \u001b[0;32mand\u001b[0m \u001b[0;32mnot\u001b[0m \u001b[0mconfig\u001b[0m\u001b[0;34m.\u001b[0m\u001b[0mtokenizer_class\u001b[0m\u001b[0;34m.\u001b[0m\u001b[0mendswith\u001b[0m\u001b[0;34m(\u001b[0m\u001b[0;34m\"Fast\"\u001b[0m\u001b[0;34m)\u001b[0m\u001b[0;34m:\u001b[0m\u001b[0;34m\u001b[0m\u001b[0;34m\u001b[0m\u001b[0m\n\u001b[1;32m    369\u001b[0m                 \u001b[0mtokenizer_class_candidate\u001b[0m \u001b[0;34m=\u001b[0m \u001b[0;34mf\"{config.tokenizer_class}Fast\"\u001b[0m\u001b[0;34m\u001b[0m\u001b[0;34m\u001b[0m\u001b[0m\n\u001b[0;32m--> 370\u001b[0;31m                 \u001b[0mtokenizer_class\u001b[0m \u001b[0;34m=\u001b[0m \u001b[0mtokenizer_class_from_name\u001b[0m\u001b[0;34m(\u001b[0m\u001b[0mtokenizer_class_candidate\u001b[0m\u001b[0;34m)\u001b[0m\u001b[0;34m\u001b[0m\u001b[0;34m\u001b[0m\u001b[0m\n\u001b[0m\u001b[1;32m    371\u001b[0m             \u001b[0;32mif\u001b[0m \u001b[0mtokenizer_class\u001b[0m \u001b[0;32mis\u001b[0m \u001b[0;32mNone\u001b[0m\u001b[0;34m:\u001b[0m\u001b[0;34m\u001b[0m\u001b[0;34m\u001b[0m\u001b[0m\n\u001b[1;32m    372\u001b[0m                 \u001b[0mtokenizer_class_candidate\u001b[0m \u001b[0;34m=\u001b[0m \u001b[0mconfig\u001b[0m\u001b[0;34m.\u001b[0m\u001b[0mtokenizer_class\u001b[0m\u001b[0;34m\u001b[0m\u001b[0;34m\u001b[0m\u001b[0m\n",
      "\u001b[0;32m~/anaconda3/envs/nlu/lib/python3.8/site-packages/transformers/models/auto/tokenization_auto.py\u001b[0m in \u001b[0;36mtokenizer_class_from_name\u001b[0;34m(class_name)\u001b[0m\n\u001b[1;32m    271\u001b[0m     )\n\u001b[1;32m    272\u001b[0m     \u001b[0;32mfor\u001b[0m \u001b[0mc\u001b[0m \u001b[0;32min\u001b[0m \u001b[0mall_tokenizer_classes\u001b[0m\u001b[0;34m:\u001b[0m\u001b[0;34m\u001b[0m\u001b[0;34m\u001b[0m\u001b[0m\n\u001b[0;32m--> 273\u001b[0;31m         \u001b[0;32mif\u001b[0m \u001b[0mc\u001b[0m\u001b[0;34m.\u001b[0m\u001b[0m__name__\u001b[0m \u001b[0;34m==\u001b[0m \u001b[0mclass_name\u001b[0m\u001b[0;34m:\u001b[0m\u001b[0;34m\u001b[0m\u001b[0;34m\u001b[0m\u001b[0m\n\u001b[0m\u001b[1;32m    274\u001b[0m             \u001b[0;32mreturn\u001b[0m \u001b[0mc\u001b[0m\u001b[0;34m\u001b[0m\u001b[0;34m\u001b[0m\u001b[0m\n\u001b[1;32m    275\u001b[0m \u001b[0;34m\u001b[0m\u001b[0m\n",
      "\u001b[0;31mAttributeError\u001b[0m: 'NoneType' object has no attribute '__name__'"
     ]
    }
   ],
   "source": [
    "# bertweet_base = AutoModel.from_pretrained(\"vinai/bertweet-base\", use_fast=False)\n",
    "# tokenizer_base = AutoTokenizer.from_pretrained(\"vinai/bertweet-base\", use_fast=False)"
   ]
  },
  {
   "cell_type": "code",
   "execution_count": 2,
   "id": "1c995c70-1ec0-47c7-be85-5a622874c493",
   "metadata": {},
   "outputs": [],
   "source": [
    "TWITTER = 2\n",
    "TWITTER_AIRLINES = 3\n",
    "TWITTER_APPLE = 4"
   ]
  },
  {
   "cell_type": "code",
   "execution_count": 3,
   "id": "5059a022-607d-493b-8e7e-82937409db1c",
   "metadata": {},
   "outputs": [],
   "source": [
    "twitter_train, twitter_validate, twitter_test =  dataset.dataset_reader(TWITTER_AIRLINES)\n",
    "[twitter_train, twitter_validate, twitter_test] = list(map(lambda ds : dataset.prune_columns(TWITTER_AIRLINES, ds), [twitter_train, twitter_validate, twitter_test]))"
   ]
  },
  {
   "cell_type": "code",
   "execution_count": 4,
   "id": "b41be400-82cf-469e-96b0-522cf9de12b3",
   "metadata": {},
   "outputs": [],
   "source": [
    "# bert_weights_name = 'bert-base-cased'\n",
    "# bert_tokenizer = BertTokenizer.from_pretrained(bert_weights_name)\n",
    "# bert_model = BertModel.from_pretrained(bert_weights_name)\n",
    "# model = BertForSequenceClassification.from_pretrained(bert_weights_name)\n",
    "# Unique values of sentiment\n",
    "twitter_sentiment_labels = twitter_train['sentiment'].unique()"
   ]
  },
  {
   "cell_type": "code",
   "execution_count": 5,
   "id": "a7bb900e-ec8f-4e7c-92e2-987c363777e0",
   "metadata": {},
   "outputs": [
    {
     "data": {
      "text/plain": [
       "(58560, 7320, 7320)"
      ]
     },
     "execution_count": 5,
     "metadata": {},
     "output_type": "execute_result"
    }
   ],
   "source": [
    "twitter_train.size, twitter_validate.size, twitter_test.size"
   ]
  },
  {
   "cell_type": "code",
   "execution_count": 6,
   "id": "8d2c69f6-6084-4316-899d-b2ec9d52d16a",
   "metadata": {},
   "outputs": [
    {
     "name": "stdout",
     "output_type": "stream",
     "text": [
      "              precision    recall  f1-score   support\n",
      "\n",
      "    negative      0.786     0.938     0.855       612\n",
      "     neutral      0.639     0.454     0.531       207\n",
      "    positive      0.724     0.492     0.586       181\n",
      "\n",
      "    accuracy                          0.757      1000\n",
      "   macro avg      0.716     0.628     0.657      1000\n",
      "weighted avg      0.745     0.757     0.739      1000\n",
      "\n",
      "CPU times: user 47min 7s, sys: 4.73 s, total: 47min 11s\n",
      "Wall time: 11min 58s\n"
     ]
    }
   ],
   "source": [
    "%%time\n",
    "bertweet_experiment1500 = sst.experiment(\n",
    "    twitter_train[:1500], # \n",
    "    dataset.bert_tweet_phi,\n",
    "    dataset.fit_softmax_classifier,\n",
    "    assess_dataframes=[twitter_validate[:1000]],\n",
    "    vectorize=False)"
   ]
  },
  {
   "cell_type": "code",
   "execution_count": 7,
   "id": "6a5cdd3f-d4b1-4ccd-9f65-1ddf47011ebe",
   "metadata": {},
   "outputs": [
    {
     "name": "stdout",
     "output_type": "stream",
     "text": [
      "              precision    recall  f1-score   support\n",
      "\n",
      "    negative      0.805     0.922     0.859       612\n",
      "     neutral      0.639     0.488     0.553       207\n",
      "    positive      0.730     0.569     0.640       181\n",
      "\n",
      "    accuracy                          0.768      1000\n",
      "   macro avg      0.725     0.660     0.684      1000\n",
      "weighted avg      0.757     0.768     0.756      1000\n",
      "\n",
      "CPU times: user 1h 17min 17s, sys: 7.78 s, total: 1h 17min 25s\n",
      "Wall time: 19min 38s\n"
     ]
    }
   ],
   "source": [
    "%%time\n",
    "bertweet_experiment3000 = sst.experiment(\n",
    "    twitter_train[:3000], \n",
    "    dataset.bert_tweet_phi,\n",
    "    dataset.fit_softmax_classifier,\n",
    "    assess_dataframes=[twitter_validate[:1000]],\n",
    "    vectorize=False)"
   ]
  },
  {
   "cell_type": "code",
   "execution_count": null,
   "id": "1ec4292a-caa6-4f86-a98e-dd673983774d",
   "metadata": {},
   "outputs": [],
   "source": [
    "%%time\n",
    "bertweet_experiment6000 = sst.experiment(\n",
    "    twitter_train[:6000], # \n",
    "    dataset.bert_tweet_phi,\n",
    "    dataset.fit_softmax_classifier,\n",
    "    assess_dataframes=[twitter_validate[:1500]],\n",
    "    vectorize=False)"
   ]
  },
  {
   "cell_type": "code",
   "execution_count": null,
   "id": "4326b274-a348-4623-a1eb-3142a2a52b2b",
   "metadata": {},
   "outputs": [],
   "source": [
    "%%time\n",
    "bertweet_experiment_full = sst.experiment(\n",
    "    twitter_train, # \n",
    "    dataset.bert_tweet_phi,\n",
    "    dataset.fit_softmax_classifier,\n",
    "    assess_dataframes=[twitter_validate],\n",
    "    vectorize=False)"
   ]
  },
  {
   "cell_type": "code",
   "execution_count": null,
   "id": "d54b31f7-4cb2-4e55-b20d-ccde15e31350",
   "metadata": {},
   "outputs": [],
   "source": [
    "bertweet_experiment_full.keys()"
   ]
  },
  {
   "cell_type": "code",
   "execution_count": null,
   "id": "a7bac1a5-92e3-468e-847b-e759eb09a2bc",
   "metadata": {},
   "outputs": [],
   "source": [
    "bertweet_experiment_full['scores']"
   ]
  },
  {
   "cell_type": "code",
   "execution_count": null,
   "id": "8a0ed646-5437-43db-a2f5-7938349cea10",
   "metadata": {},
   "outputs": [],
   "source": [
    "bertweet_experiment_full['metric']"
   ]
  },
  {
   "cell_type": "code",
   "execution_count": null,
   "id": "95567ac1-8815-4694-96c7-dff72617250b",
   "metadata": {
    "tags": []
   },
   "outputs": [],
   "source": [
    "bertweet_experiment_full['model']"
   ]
  },
  {
   "cell_type": "markdown",
   "id": "ecc0bb38",
   "metadata": {},
   "source": [
    "----"
   ]
  },
  {
   "cell_type": "markdown",
   "id": "d7ccb547-1174-471f-b6e5-e9239d23fe4b",
   "metadata": {},
   "source": [
    "# Test BERTweet trained on Tweets on test set"
   ]
  },
  {
   "cell_type": "code",
   "execution_count": null,
   "id": "145568c0-81b1-485f-9cc5-8c5fcd4ed951",
   "metadata": {},
   "outputs": [],
   "source": [
    "import importlib\n",
    "importlib.reload(sst)"
   ]
  },
  {
   "cell_type": "code",
   "execution_count": null,
   "id": "09db34c2-0a98-4627-ae75-75653fdde41e",
   "metadata": {},
   "outputs": [],
   "source": [
    "%%time\n",
    "bertweet_test = sst.evaluate(\n",
    "    bertweet_experiment_full['model'],\n",
    "    bertweet_experiment_full['phi'],\n",
    "    assess_dataframes=[twitter_test],\n",
    "    vectorizer=bertweet_experiment_full['assess_datasets'][0]['vectorizer'],\n",
    "    vectorize=False\n",
    ")"
   ]
  },
  {
   "cell_type": "code",
   "execution_count": null,
   "id": "f49ec6d2-f389-4995-b1d9-5003bff03522",
   "metadata": {},
   "outputs": [],
   "source": [
    "type(bertweet_test['predictions'][0])"
   ]
  },
  {
   "cell_type": "code",
   "execution_count": null,
   "id": "6dbc9350-3873-4226-8430-e1851b8f1a59",
   "metadata": {},
   "outputs": [],
   "source": [
    "predictions_fname ='results/BERTweet_predictions_on_twitter_test_airline.csv'\n",
    "df = bertweet_test['predictions'][0]\n",
    "pd.DataFrame(df).to_csv(predictions_fname)"
   ]
  },
  {
   "cell_type": "code",
   "execution_count": null,
   "id": "13e45694-66b9-41f2-9159-70f048dbae48",
   "metadata": {
    "tags": []
   },
   "outputs": [],
   "source": [
    "encoding_fname ='results/BERTweet_encodings_on_twitter_test_airline.csv'\n",
    "encoded_test = bertweet_test['assess_datasets'][0]\n",
    "pd.DataFrame(encoded_test).to_csv(encoding_fname)"
   ]
  },
  {
   "cell_type": "code",
   "execution_count": null,
   "id": "eb5ae92e-80a6-44f3-827b-a79eab788ddc",
   "metadata": {},
   "outputs": [],
   "source": [
    "predictions_df = pd.DataFrame(df)\n",
    "predictions_df = predictions_df.set_index(twitter_test.index)\n",
    "predictions_df"
   ]
  },
  {
   "cell_type": "code",
   "execution_count": null,
   "id": "ed7099ef-7ce4-4346-a0fd-fea8fa9f4580",
   "metadata": {},
   "outputs": [],
   "source": [
    "twitter_test['BERTweet_sentiment'] = predictions_df"
   ]
  },
  {
   "cell_type": "code",
   "execution_count": null,
   "id": "71be05a5-02e8-4315-88a7-0651caf140b9",
   "metadata": {},
   "outputs": [],
   "source": [
    "twitter_test"
   ]
  },
  {
   "cell_type": "code",
   "execution_count": null,
   "id": "cf9c4767-072f-4201-9c43-e65c04e97858",
   "metadata": {},
   "outputs": [],
   "source": [
    "test_predictions_fname ='results/BERTweet_predictions_added_to_twitter_test_airline.csv'\n",
    "twitter_test.to_csv(test_predictions_fname)"
   ]
  },
  {
   "cell_type": "code",
   "execution_count": null,
   "id": "d1b799ce-e850-4035-bae7-8ddb45eecb27",
   "metadata": {},
   "outputs": [],
   "source": [
    "correct = twitter_test[twitter_test['sentiment'] == twitter_test['BERTweet_sentiment']]"
   ]
  },
  {
   "cell_type": "code",
   "execution_count": null,
   "id": "682cdd73-a337-436e-a3f5-1ee6bb8a8ee1",
   "metadata": {},
   "outputs": [],
   "source": [
    "correct"
   ]
  },
  {
   "cell_type": "code",
   "execution_count": null,
   "id": "0b17a467-a521-4f37-9616-c9b925356660",
   "metadata": {},
   "outputs": [],
   "source": [
    "incorrect = twitter_test[twitter_test['sentiment'] != twitter_test['BERTweet_sentiment']]"
   ]
  },
  {
   "cell_type": "code",
   "execution_count": null,
   "id": "45b58f07-ebe3-4c83-b614-d1e154e358dd",
   "metadata": {},
   "outputs": [],
   "source": [
    "incorrect"
   ]
  },
  {
   "cell_type": "markdown",
   "id": "5c4b5afb-a9cc-425e-9c82-23f535da3c8c",
   "metadata": {},
   "source": [
    "# Save Model"
   ]
  },
  {
   "cell_type": "code",
   "execution_count": null,
   "id": "a4323bae-980d-40f6-91ae-941d207a6750",
   "metadata": {},
   "outputs": [],
   "source": [
    "import pickle\n",
    "model_fname = 'models/BERTweet_twitter_airline.sav'\n",
    "pickle.dump(bertweet_experiment_full, open(model_fname, 'wb'))"
   ]
  },
  {
   "cell_type": "code",
   "execution_count": null,
   "id": "fae2984c-fd4a-4af9-91aa-3a6ceb712573",
   "metadata": {},
   "outputs": [],
   "source": []
  }
 ],
 "metadata": {
  "kernelspec": {
   "display_name": "nlu",
   "language": "python",
   "name": "nlu"
  },
  "language_info": {
   "codemirror_mode": {
    "name": "ipython",
    "version": 3
   },
   "file_extension": ".py",
   "mimetype": "text/x-python",
   "name": "python",
   "nbconvert_exporter": "python",
   "pygments_lexer": "ipython3",
   "version": "3.8.12"
  }
 },
 "nbformat": 4,
 "nbformat_minor": 5
}

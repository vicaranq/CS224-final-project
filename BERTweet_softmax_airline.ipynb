{
 "cells": [
  {
   "cell_type": "markdown",
   "id": "47e8f743-ceab-449c-9ee7-200a1785cb16",
   "metadata": {},
   "source": [
    "# Use BERTweet Representations with LogisticRegression Softmax Classifier"
   ]
  },
  {
   "cell_type": "code",
   "execution_count": 1,
   "id": "30dae3b5-f005-418c-8e46-9bd8758cf351",
   "metadata": {},
   "outputs": [
    {
     "name": "stderr",
     "output_type": "stream",
     "text": [
      "Some weights of RobertaModel were not initialized from the model checkpoint at vinai/bertweet-large and are newly initialized: ['roberta.pooler.dense.weight', 'roberta.pooler.dense.bias']\n",
      "You should probably TRAIN this model on a down-stream task to be able to use it for predictions and inference.\n"
     ]
    }
   ],
   "source": [
    "from collections import Counter\n",
    "import os\n",
    "import numpy as np\n",
    "import pandas as pd\n",
    "import torch\n",
    "from torch import nn, optim\n",
    "import torch.nn as nn\n",
    "from torch.utils.data import TensorDataset, Dataset, DataLoader\n",
    "from sklearn.model_selection import train_test_split\n",
    "from sklearn.linear_model import LogisticRegression\n",
    "from sklearn.model_selection import cross_val_score\n",
    "from transformers import AutoModel, AutoTokenizer \n",
    "\n",
    "\n",
    "import dataset\n",
    "import vsm\n",
    "import sst"
   ]
  },
  {
   "cell_type": "code",
   "execution_count": 3,
   "id": "f6400627",
   "metadata": {},
   "outputs": [
    {
     "data": {
      "application/vnd.jupyter.widget-view+json": {
       "model_id": "ab84da5300344083b7b0d33d80ec65e3",
       "version_major": 2,
       "version_minor": 0
      },
      "text/plain": [
       "Downloading:   0%|          | 0.00/614 [00:00<?, ?B/s]"
      ]
     },
     "metadata": {},
     "output_type": "display_data"
    },
    {
     "data": {
      "application/vnd.jupyter.widget-view+json": {
       "model_id": "95edaa992d0b4084b4ff38e7e4ed42a6",
       "version_major": 2,
       "version_minor": 0
      },
      "text/plain": [
       "Downloading:   0%|          | 0.00/1.42G [00:00<?, ?B/s]"
      ]
     },
     "metadata": {},
     "output_type": "display_data"
    },
    {
     "name": "stderr",
     "output_type": "stream",
     "text": [
      "Some weights of RobertaModel were not initialized from the model checkpoint at vinai/bertweet-large and are newly initialized: ['roberta.pooler.dense.weight', 'roberta.pooler.dense.bias']\n",
      "You should probably TRAIN this model on a down-stream task to be able to use it for predictions and inference.\n"
     ]
    },
    {
     "data": {
      "application/vnd.jupyter.widget-view+json": {
       "model_id": "465c0e23cc954cde8609141c7e7e4dc1",
       "version_major": 2,
       "version_minor": 0
      },
      "text/plain": [
       "Downloading:   0%|          | 0.00/899k [00:00<?, ?B/s]"
      ]
     },
     "metadata": {},
     "output_type": "display_data"
    },
    {
     "data": {
      "application/vnd.jupyter.widget-view+json": {
       "model_id": "6a882515a82042bb9e0752ad537f5c6c",
       "version_major": 2,
       "version_minor": 0
      },
      "text/plain": [
       "Downloading:   0%|          | 0.00/456k [00:00<?, ?B/s]"
      ]
     },
     "metadata": {},
     "output_type": "display_data"
    },
    {
     "data": {
      "application/vnd.jupyter.widget-view+json": {
       "model_id": "60366a01baf34a7cbe04ee7e5cf1d17c",
       "version_major": 2,
       "version_minor": 0
      },
      "text/plain": [
       "Downloading:   0%|          | 0.00/1.36M [00:00<?, ?B/s]"
      ]
     },
     "metadata": {},
     "output_type": "display_data"
    }
   ],
   "source": [
    "# bertweet = AutoModel.from_pretrained(\"vinai/bertweet-large\")\n",
    "# tokenizer = AutoTokenizer.from_pretrained(\"vinai/bertweet-large\")"
   ]
  },
  {
   "cell_type": "code",
   "execution_count": 5,
   "id": "87487b75",
   "metadata": {},
   "outputs": [
    {
     "ename": "AttributeError",
     "evalue": "'NoneType' object has no attribute '__name__'",
     "output_type": "error",
     "traceback": [
      "\u001b[0;31m---------------------------------------------------------------------------\u001b[0m",
      "\u001b[0;31mAttributeError\u001b[0m                            Traceback (most recent call last)",
      "\u001b[0;32m/tmp/ipykernel_274/2996208227.py\u001b[0m in \u001b[0;36m<module>\u001b[0;34m\u001b[0m\n\u001b[1;32m      1\u001b[0m \u001b[0mbertweet_base\u001b[0m \u001b[0;34m=\u001b[0m \u001b[0mAutoModel\u001b[0m\u001b[0;34m.\u001b[0m\u001b[0mfrom_pretrained\u001b[0m\u001b[0;34m(\u001b[0m\u001b[0;34m\"vinai/bertweet-base\"\u001b[0m\u001b[0;34m)\u001b[0m\u001b[0;34m\u001b[0m\u001b[0;34m\u001b[0m\u001b[0m\n\u001b[0;32m----> 2\u001b[0;31m \u001b[0mtokenizer_base\u001b[0m \u001b[0;34m=\u001b[0m \u001b[0mAutoTokenizer\u001b[0m\u001b[0;34m.\u001b[0m\u001b[0mfrom_pretrained\u001b[0m\u001b[0;34m(\u001b[0m\u001b[0;34m\"vinai/bertweet-base\"\u001b[0m\u001b[0;34m)\u001b[0m\u001b[0;34m\u001b[0m\u001b[0;34m\u001b[0m\u001b[0m\n\u001b[0m",
      "\u001b[0;32m~/anaconda3/envs/nlu/lib/python3.8/site-packages/transformers/models/auto/tokenization_auto.py\u001b[0m in \u001b[0;36mfrom_pretrained\u001b[0;34m(cls, pretrained_model_name_or_path, *inputs, **kwargs)\u001b[0m\n\u001b[1;32m    368\u001b[0m             \u001b[0;32mif\u001b[0m \u001b[0muse_fast\u001b[0m \u001b[0;32mand\u001b[0m \u001b[0;32mnot\u001b[0m \u001b[0mconfig\u001b[0m\u001b[0;34m.\u001b[0m\u001b[0mtokenizer_class\u001b[0m\u001b[0;34m.\u001b[0m\u001b[0mendswith\u001b[0m\u001b[0;34m(\u001b[0m\u001b[0;34m\"Fast\"\u001b[0m\u001b[0;34m)\u001b[0m\u001b[0;34m:\u001b[0m\u001b[0;34m\u001b[0m\u001b[0;34m\u001b[0m\u001b[0m\n\u001b[1;32m    369\u001b[0m                 \u001b[0mtokenizer_class_candidate\u001b[0m \u001b[0;34m=\u001b[0m \u001b[0;34mf\"{config.tokenizer_class}Fast\"\u001b[0m\u001b[0;34m\u001b[0m\u001b[0;34m\u001b[0m\u001b[0m\n\u001b[0;32m--> 370\u001b[0;31m                 \u001b[0mtokenizer_class\u001b[0m \u001b[0;34m=\u001b[0m \u001b[0mtokenizer_class_from_name\u001b[0m\u001b[0;34m(\u001b[0m\u001b[0mtokenizer_class_candidate\u001b[0m\u001b[0;34m)\u001b[0m\u001b[0;34m\u001b[0m\u001b[0;34m\u001b[0m\u001b[0m\n\u001b[0m\u001b[1;32m    371\u001b[0m             \u001b[0;32mif\u001b[0m \u001b[0mtokenizer_class\u001b[0m \u001b[0;32mis\u001b[0m \u001b[0;32mNone\u001b[0m\u001b[0;34m:\u001b[0m\u001b[0;34m\u001b[0m\u001b[0;34m\u001b[0m\u001b[0m\n\u001b[1;32m    372\u001b[0m                 \u001b[0mtokenizer_class_candidate\u001b[0m \u001b[0;34m=\u001b[0m \u001b[0mconfig\u001b[0m\u001b[0;34m.\u001b[0m\u001b[0mtokenizer_class\u001b[0m\u001b[0;34m\u001b[0m\u001b[0;34m\u001b[0m\u001b[0m\n",
      "\u001b[0;32m~/anaconda3/envs/nlu/lib/python3.8/site-packages/transformers/models/auto/tokenization_auto.py\u001b[0m in \u001b[0;36mtokenizer_class_from_name\u001b[0;34m(class_name)\u001b[0m\n\u001b[1;32m    271\u001b[0m     )\n\u001b[1;32m    272\u001b[0m     \u001b[0;32mfor\u001b[0m \u001b[0mc\u001b[0m \u001b[0;32min\u001b[0m \u001b[0mall_tokenizer_classes\u001b[0m\u001b[0;34m:\u001b[0m\u001b[0;34m\u001b[0m\u001b[0;34m\u001b[0m\u001b[0m\n\u001b[0;32m--> 273\u001b[0;31m         \u001b[0;32mif\u001b[0m \u001b[0mc\u001b[0m\u001b[0;34m.\u001b[0m\u001b[0m__name__\u001b[0m \u001b[0;34m==\u001b[0m \u001b[0mclass_name\u001b[0m\u001b[0;34m:\u001b[0m\u001b[0;34m\u001b[0m\u001b[0;34m\u001b[0m\u001b[0m\n\u001b[0m\u001b[1;32m    274\u001b[0m             \u001b[0;32mreturn\u001b[0m \u001b[0mc\u001b[0m\u001b[0;34m\u001b[0m\u001b[0;34m\u001b[0m\u001b[0m\n\u001b[1;32m    275\u001b[0m \u001b[0;34m\u001b[0m\u001b[0m\n",
      "\u001b[0;31mAttributeError\u001b[0m: 'NoneType' object has no attribute '__name__'"
     ]
    }
   ],
   "source": [
    "# bertweet_base = AutoModel.from_pretrained(\"vinai/bertweet-base\", use_fast=False)\n",
    "# tokenizer_base = AutoTokenizer.from_pretrained(\"vinai/bertweet-base\", use_fast=False)"
   ]
  },
  {
   "cell_type": "code",
   "execution_count": 2,
   "id": "1c995c70-1ec0-47c7-be85-5a622874c493",
   "metadata": {},
   "outputs": [],
   "source": [
    "TWITTER = 2\n",
    "TWITTER_AIRLINES = 3\n",
    "TWITTER_APPLE = 4"
   ]
  },
  {
   "cell_type": "code",
   "execution_count": 3,
   "id": "5059a022-607d-493b-8e7e-82937409db1c",
   "metadata": {},
   "outputs": [],
   "source": [
    "twitter_train, twitter_validate, twitter_test =  dataset.dataset_reader(TWITTER_AIRLINES)\n",
    "[twitter_train, twitter_validate, twitter_test] = list(map(lambda ds : dataset.prune_columns(TWITTER_AIRLINES, ds), [twitter_train, twitter_validate, twitter_test]))"
   ]
  },
  {
   "cell_type": "code",
   "execution_count": 4,
   "id": "b41be400-82cf-469e-96b0-522cf9de12b3",
   "metadata": {},
   "outputs": [],
   "source": [
    "# bert_weights_name = 'bert-base-cased'\n",
    "# bert_tokenizer = BertTokenizer.from_pretrained(bert_weights_name)\n",
    "# bert_model = BertModel.from_pretrained(bert_weights_name)\n",
    "# model = BertForSequenceClassification.from_pretrained(bert_weights_name)\n",
    "# Unique values of sentiment\n",
    "twitter_sentiment_labels = twitter_train['sentiment'].unique()"
   ]
  },
  {
   "cell_type": "code",
   "execution_count": 5,
   "id": "a7bb900e-ec8f-4e7c-92e2-987c363777e0",
   "metadata": {},
   "outputs": [
    {
     "data": {
      "text/plain": [
       "(58560, 7320, 7320)"
      ]
     },
     "execution_count": 5,
     "metadata": {},
     "output_type": "execute_result"
    }
   ],
   "source": [
    "twitter_train.size, twitter_validate.size, twitter_test.size"
   ]
  },
  {
   "cell_type": "code",
   "execution_count": 6,
   "id": "8d2c69f6-6084-4316-899d-b2ec9d52d16a",
   "metadata": {},
   "outputs": [
    {
     "name": "stdout",
     "output_type": "stream",
     "text": [
      "              precision    recall  f1-score   support\n",
      "\n",
      "    negative      0.786     0.938     0.855       612\n",
      "     neutral      0.639     0.454     0.531       207\n",
      "    positive      0.724     0.492     0.586       181\n",
      "\n",
      "    accuracy                          0.757      1000\n",
      "   macro avg      0.716     0.628     0.657      1000\n",
      "weighted avg      0.745     0.757     0.739      1000\n",
      "\n",
      "CPU times: user 47min 7s, sys: 4.73 s, total: 47min 11s\n",
      "Wall time: 11min 58s\n"
     ]
    }
   ],
   "source": [
    "%%time\n",
    "bertweet_experiment1500 = sst.experiment(\n",
    "    twitter_train[:1500], # \n",
    "    dataset.bert_tweet_phi,\n",
    "    dataset.fit_softmax_classifier,\n",
    "    assess_dataframes=[twitter_validate[:1000]],\n",
    "    vectorize=False)"
   ]
  },
  {
   "cell_type": "code",
   "execution_count": 7,
   "id": "6a5cdd3f-d4b1-4ccd-9f65-1ddf47011ebe",
   "metadata": {},
   "outputs": [
    {
     "name": "stdout",
     "output_type": "stream",
     "text": [
      "              precision    recall  f1-score   support\n",
      "\n",
      "    negative      0.805     0.922     0.859       612\n",
      "     neutral      0.639     0.488     0.553       207\n",
      "    positive      0.730     0.569     0.640       181\n",
      "\n",
      "    accuracy                          0.768      1000\n",
      "   macro avg      0.725     0.660     0.684      1000\n",
      "weighted avg      0.757     0.768     0.756      1000\n",
      "\n",
      "CPU times: user 1h 17min 17s, sys: 7.78 s, total: 1h 17min 25s\n",
      "Wall time: 19min 38s\n"
     ]
    }
   ],
   "source": [
    "%%time\n",
    "bertweet_experiment3000 = sst.experiment(\n",
    "    twitter_train[:3000], \n",
    "    dataset.bert_tweet_phi,\n",
    "    dataset.fit_softmax_classifier,\n",
    "    assess_dataframes=[twitter_validate[:1000]],\n",
    "    vectorize=False)"
   ]
  },
  {
   "cell_type": "code",
   "execution_count": 8,
   "id": "1ec4292a-caa6-4f86-a98e-dd673983774d",
   "metadata": {},
   "outputs": [
    {
     "name": "stdout",
     "output_type": "stream",
     "text": [
      "              precision    recall  f1-score   support\n",
      "\n",
      "    negative      0.847     0.930     0.887       895\n",
      "     neutral      0.703     0.599     0.647       312\n",
      "    positive      0.796     0.669     0.727       257\n",
      "\n",
      "    accuracy                          0.814      1464\n",
      "   macro avg      0.782     0.733     0.754      1464\n",
      "weighted avg      0.808     0.814     0.808      1464\n",
      "\n",
      "CPU times: user 2h 16min 36s, sys: 20.6 s, total: 2h 16min 57s\n",
      "Wall time: 34min 46s\n"
     ]
    }
   ],
   "source": [
    "%%time\n",
    "bertweet_experiment6000 = sst.experiment(\n",
    "    twitter_train[:6000], # \n",
    "    dataset.bert_tweet_phi,\n",
    "    dataset.fit_softmax_classifier,\n",
    "    assess_dataframes=[twitter_validate[:1500]],\n",
    "    vectorize=False)"
   ]
  },
  {
   "cell_type": "code",
   "execution_count": 9,
   "id": "4326b274-a348-4623-a1eb-3142a2a52b2b",
   "metadata": {},
   "outputs": [
    {
     "name": "stdout",
     "output_type": "stream",
     "text": [
      "              precision    recall  f1-score   support\n",
      "\n",
      "    negative      0.850     0.935     0.890       895\n",
      "     neutral      0.708     0.574     0.634       312\n",
      "    positive      0.788     0.693     0.737       257\n",
      "\n",
      "    accuracy                          0.816      1464\n",
      "   macro avg      0.782     0.734     0.754      1464\n",
      "weighted avg      0.809     0.816     0.809      1464\n",
      "\n",
      "CPU times: user 3h 54min 32s, sys: 25.7 s, total: 3h 54min 58s\n",
      "Wall time: 59min 42s\n"
     ]
    }
   ],
   "source": [
    "%%time\n",
    "bertweet_experiment_full = sst.experiment(\n",
    "    twitter_train, # \n",
    "    dataset.bert_tweet_phi,\n",
    "    dataset.fit_softmax_classifier,\n",
    "    assess_dataframes=[twitter_validate],\n",
    "    vectorize=False)"
   ]
  },
  {
   "cell_type": "code",
   "execution_count": 10,
   "id": "d54b31f7-4cb2-4e55-b20d-ccde15e31350",
   "metadata": {},
   "outputs": [
    {
     "data": {
      "text/plain": [
       "dict_keys(['model', 'phi', 'train_dataset', 'assess_datasets', 'predictions', 'metric', 'scores'])"
      ]
     },
     "execution_count": 10,
     "metadata": {},
     "output_type": "execute_result"
    }
   ],
   "source": [
    "bertweet_experiment_full.keys()"
   ]
  },
  {
   "cell_type": "code",
   "execution_count": 11,
   "id": "a7bac1a5-92e3-468e-847b-e759eb09a2bc",
   "metadata": {},
   "outputs": [
    {
     "data": {
      "text/plain": [
       "[0.7537046306356107]"
      ]
     },
     "execution_count": 11,
     "metadata": {},
     "output_type": "execute_result"
    }
   ],
   "source": [
    "bertweet_experiment_full['scores']"
   ]
  },
  {
   "cell_type": "code",
   "execution_count": 12,
   "id": "8a0ed646-5437-43db-a2f5-7938349cea10",
   "metadata": {},
   "outputs": [
    {
     "data": {
      "text/plain": [
       "'safe_macro_f1'"
      ]
     },
     "execution_count": 12,
     "metadata": {},
     "output_type": "execute_result"
    }
   ],
   "source": [
    "bertweet_experiment_full['metric']"
   ]
  },
  {
   "cell_type": "code",
   "execution_count": 13,
   "id": "95567ac1-8815-4694-96c7-dff72617250b",
   "metadata": {
    "tags": []
   },
   "outputs": [
    {
     "data": {
      "text/plain": [
       "LogisticRegression(multi_class='ovr', solver='liblinear')"
      ]
     },
     "execution_count": 13,
     "metadata": {},
     "output_type": "execute_result"
    }
   ],
   "source": [
    "bertweet_experiment_full['model']"
   ]
  },
  {
   "cell_type": "markdown",
   "id": "5b0fa5b8",
   "metadata": {},
   "source": [
    "----"
   ]
  },
  {
   "cell_type": "markdown",
   "id": "d7ccb547-1174-471f-b6e5-e9239d23fe4b",
   "metadata": {},
   "source": [
    "# Test BERTweet trained on Tweets on test set"
   ]
  },
  {
   "cell_type": "code",
   "execution_count": 14,
   "id": "145568c0-81b1-485f-9cc5-8c5fcd4ed951",
   "metadata": {},
   "outputs": [
    {
     "data": {
      "text/plain": [
       "<module 'sst' from '/home/vicaran93/repos/CS224-final-project/sst.py'>"
      ]
     },
     "execution_count": 14,
     "metadata": {},
     "output_type": "execute_result"
    }
   ],
   "source": [
    "import importlib\n",
    "importlib.reload(sst)"
   ]
  },
  {
   "cell_type": "code",
   "execution_count": 15,
   "id": "09db34c2-0a98-4627-ae75-75653fdde41e",
   "metadata": {},
   "outputs": [
    {
     "name": "stdout",
     "output_type": "stream",
     "text": [
      "              precision    recall  f1-score   support\n",
      "\n",
      "    negative      0.847     0.937     0.890       911\n",
      "     neutral      0.720     0.566     0.634       332\n",
      "    positive      0.785     0.692     0.736       221\n",
      "\n",
      "    accuracy                          0.816      1464\n",
      "   macro avg      0.784     0.732     0.753      1464\n",
      "weighted avg      0.809     0.816     0.809      1464\n",
      "\n",
      "CPU times: user 25min 54s, sys: 2.44 s, total: 25min 57s\n",
      "Wall time: 6min 33s\n"
     ]
    }
   ],
   "source": [
    "%%time\n",
    "bertweet_test = sst.evaluate(\n",
    "    bertweet_experiment_full['model'],\n",
    "    bertweet_experiment_full['phi'],\n",
    "    assess_dataframes=[twitter_test],\n",
    "    vectorizer=bertweet_experiment_full['assess_datasets'][0]['vectorizer'],\n",
    "    vectorize=False\n",
    ")"
   ]
  },
  {
   "cell_type": "code",
   "execution_count": 16,
   "id": "f49ec6d2-f389-4995-b1d9-5003bff03522",
   "metadata": {},
   "outputs": [
    {
     "data": {
      "text/plain": [
       "numpy.ndarray"
      ]
     },
     "execution_count": 16,
     "metadata": {},
     "output_type": "execute_result"
    }
   ],
   "source": [
    "type(bertweet_test['predictions'][0])"
   ]
  },
  {
   "cell_type": "code",
   "execution_count": 17,
   "id": "6dbc9350-3873-4226-8430-e1851b8f1a59",
   "metadata": {},
   "outputs": [],
   "source": [
    "predictions_fname ='results/BERTweet_predictions_on_twitter_test_airline.csv'\n",
    "df = bertweet_test['predictions'][0]\n",
    "pd.DataFrame(df).to_csv(predictions_fname)"
   ]
  },
  {
   "cell_type": "code",
   "execution_count": 18,
   "id": "13e45694-66b9-41f2-9159-70f048dbae48",
   "metadata": {
    "tags": []
   },
   "outputs": [],
   "source": [
    "encoding_fname ='results/BERTweet_encodings_on_twitter_test_airline.csv'\n",
    "encoded_test = bertweet_test['assess_datasets'][0]\n",
    "pd.DataFrame(encoded_test).to_csv(encoding_fname)"
   ]
  },
  {
   "cell_type": "code",
   "execution_count": 19,
   "id": "eb5ae92e-80a6-44f3-827b-a79eab788ddc",
   "metadata": {},
   "outputs": [
    {
     "data": {
      "text/html": [
       "<div>\n",
       "<style scoped>\n",
       "    .dataframe tbody tr th:only-of-type {\n",
       "        vertical-align: middle;\n",
       "    }\n",
       "\n",
       "    .dataframe tbody tr th {\n",
       "        vertical-align: top;\n",
       "    }\n",
       "\n",
       "    .dataframe thead th {\n",
       "        text-align: right;\n",
       "    }\n",
       "</style>\n",
       "<table border=\"1\" class=\"dataframe\">\n",
       "  <thead>\n",
       "    <tr style=\"text-align: right;\">\n",
       "      <th></th>\n",
       "      <th>0</th>\n",
       "    </tr>\n",
       "  </thead>\n",
       "  <tbody>\n",
       "    <tr>\n",
       "      <th>5</th>\n",
       "      <td>negative</td>\n",
       "    </tr>\n",
       "    <tr>\n",
       "      <th>18</th>\n",
       "      <td>positive</td>\n",
       "    </tr>\n",
       "    <tr>\n",
       "      <th>24</th>\n",
       "      <td>negative</td>\n",
       "    </tr>\n",
       "    <tr>\n",
       "      <th>48</th>\n",
       "      <td>positive</td>\n",
       "    </tr>\n",
       "    <tr>\n",
       "      <th>52</th>\n",
       "      <td>neutral</td>\n",
       "    </tr>\n",
       "    <tr>\n",
       "      <th>...</th>\n",
       "      <td>...</td>\n",
       "    </tr>\n",
       "    <tr>\n",
       "      <th>14595</th>\n",
       "      <td>neutral</td>\n",
       "    </tr>\n",
       "    <tr>\n",
       "      <th>14607</th>\n",
       "      <td>negative</td>\n",
       "    </tr>\n",
       "    <tr>\n",
       "      <th>14614</th>\n",
       "      <td>negative</td>\n",
       "    </tr>\n",
       "    <tr>\n",
       "      <th>14620</th>\n",
       "      <td>negative</td>\n",
       "    </tr>\n",
       "    <tr>\n",
       "      <th>14628</th>\n",
       "      <td>neutral</td>\n",
       "    </tr>\n",
       "  </tbody>\n",
       "</table>\n",
       "<p>1464 rows × 1 columns</p>\n",
       "</div>"
      ],
      "text/plain": [
       "              0\n",
       "5      negative\n",
       "18     positive\n",
       "24     negative\n",
       "48     positive\n",
       "52      neutral\n",
       "...         ...\n",
       "14595   neutral\n",
       "14607  negative\n",
       "14614  negative\n",
       "14620  negative\n",
       "14628   neutral\n",
       "\n",
       "[1464 rows x 1 columns]"
      ]
     },
     "execution_count": 19,
     "metadata": {},
     "output_type": "execute_result"
    }
   ],
   "source": [
    "predictions_df = pd.DataFrame(df)\n",
    "predictions_df = predictions_df.set_index(twitter_test.index)\n",
    "predictions_df"
   ]
  },
  {
   "cell_type": "code",
   "execution_count": 20,
   "id": "ed7099ef-7ce4-4346-a0fd-fea8fa9f4580",
   "metadata": {},
   "outputs": [],
   "source": [
    "twitter_test['BERTweet_sentiment'] = predictions_df"
   ]
  },
  {
   "cell_type": "code",
   "execution_count": 21,
   "id": "71be05a5-02e8-4315-88a7-0651caf140b9",
   "metadata": {},
   "outputs": [
    {
     "data": {
      "text/html": [
       "<div>\n",
       "<style scoped>\n",
       "    .dataframe tbody tr th:only-of-type {\n",
       "        vertical-align: middle;\n",
       "    }\n",
       "\n",
       "    .dataframe tbody tr th {\n",
       "        vertical-align: top;\n",
       "    }\n",
       "\n",
       "    .dataframe thead th {\n",
       "        text-align: right;\n",
       "    }\n",
       "</style>\n",
       "<table border=\"1\" class=\"dataframe\">\n",
       "  <thead>\n",
       "    <tr style=\"text-align: right;\">\n",
       "      <th></th>\n",
       "      <th>dataset</th>\n",
       "      <th>tweet_id</th>\n",
       "      <th>text</th>\n",
       "      <th>sentiment</th>\n",
       "      <th>airline</th>\n",
       "      <th>BERTweet_sentiment</th>\n",
       "    </tr>\n",
       "  </thead>\n",
       "  <tbody>\n",
       "    <tr>\n",
       "      <th>5</th>\n",
       "      <td>twitter_airline</td>\n",
       "      <td>570300767074181121</td>\n",
       "      <td>@VirginAmerica seriously would pay $30 a fligh...</td>\n",
       "      <td>negative</td>\n",
       "      <td>Virgin America</td>\n",
       "      <td>negative</td>\n",
       "    </tr>\n",
       "    <tr>\n",
       "      <th>18</th>\n",
       "      <td>twitter_airline</td>\n",
       "      <td>570270684619923457</td>\n",
       "      <td>I ❤️ flying @VirginAmerica. ☺️👍</td>\n",
       "      <td>positive</td>\n",
       "      <td>Virgin America</td>\n",
       "      <td>positive</td>\n",
       "    </tr>\n",
       "    <tr>\n",
       "      <th>24</th>\n",
       "      <td>twitter_airline</td>\n",
       "      <td>570256553502068736</td>\n",
       "      <td>@VirginAmerica you guys messed up my seating.....</td>\n",
       "      <td>negative</td>\n",
       "      <td>Virgin America</td>\n",
       "      <td>negative</td>\n",
       "    </tr>\n",
       "    <tr>\n",
       "      <th>48</th>\n",
       "      <td>twitter_airline</td>\n",
       "      <td>570010539499393025</td>\n",
       "      <td>@VirginAmerica @ladygaga @carrieunderwood Afte...</td>\n",
       "      <td>neutral</td>\n",
       "      <td>Virgin America</td>\n",
       "      <td>positive</td>\n",
       "    </tr>\n",
       "    <tr>\n",
       "      <th>52</th>\n",
       "      <td>twitter_airline</td>\n",
       "      <td>570004391731847169</td>\n",
       "      <td>@VirginAmerica wish you flew out of Atlanta......</td>\n",
       "      <td>neutral</td>\n",
       "      <td>Virgin America</td>\n",
       "      <td>neutral</td>\n",
       "    </tr>\n",
       "    <tr>\n",
       "      <th>...</th>\n",
       "      <td>...</td>\n",
       "      <td>...</td>\n",
       "      <td>...</td>\n",
       "      <td>...</td>\n",
       "      <td>...</td>\n",
       "      <td>...</td>\n",
       "    </tr>\n",
       "    <tr>\n",
       "      <th>14595</th>\n",
       "      <td>twitter_airline</td>\n",
       "      <td>569593694963310593</td>\n",
       "      <td>@AmericanAir @ShannonBloom Where's my DM? Wher...</td>\n",
       "      <td>negative</td>\n",
       "      <td>American</td>\n",
       "      <td>neutral</td>\n",
       "    </tr>\n",
       "    <tr>\n",
       "      <th>14607</th>\n",
       "      <td>twitter_airline</td>\n",
       "      <td>569592270866878464</td>\n",
       "      <td>@AmericanAir i need someone to help me out</td>\n",
       "      <td>neutral</td>\n",
       "      <td>American</td>\n",
       "      <td>negative</td>\n",
       "    </tr>\n",
       "    <tr>\n",
       "      <th>14614</th>\n",
       "      <td>twitter_airline</td>\n",
       "      <td>569591540944756737</td>\n",
       "      <td>@AmericanAir I need to be at work tomorrow at ...</td>\n",
       "      <td>negative</td>\n",
       "      <td>American</td>\n",
       "      <td>negative</td>\n",
       "    </tr>\n",
       "    <tr>\n",
       "      <th>14620</th>\n",
       "      <td>twitter_airline</td>\n",
       "      <td>569590965880532993</td>\n",
       "      <td>@AmericanAir I wait 2+ hrs for CS to call me b...</td>\n",
       "      <td>negative</td>\n",
       "      <td>American</td>\n",
       "      <td>negative</td>\n",
       "    </tr>\n",
       "    <tr>\n",
       "      <th>14628</th>\n",
       "      <td>twitter_airline</td>\n",
       "      <td>569588651925098496</td>\n",
       "      <td>Thank you. “@AmericanAir: @jlhalldc Customer R...</td>\n",
       "      <td>positive</td>\n",
       "      <td>American</td>\n",
       "      <td>neutral</td>\n",
       "    </tr>\n",
       "  </tbody>\n",
       "</table>\n",
       "<p>1464 rows × 6 columns</p>\n",
       "</div>"
      ],
      "text/plain": [
       "               dataset            tweet_id  \\\n",
       "5      twitter_airline  570300767074181121   \n",
       "18     twitter_airline  570270684619923457   \n",
       "24     twitter_airline  570256553502068736   \n",
       "48     twitter_airline  570010539499393025   \n",
       "52     twitter_airline  570004391731847169   \n",
       "...                ...                 ...   \n",
       "14595  twitter_airline  569593694963310593   \n",
       "14607  twitter_airline  569592270866878464   \n",
       "14614  twitter_airline  569591540944756737   \n",
       "14620  twitter_airline  569590965880532993   \n",
       "14628  twitter_airline  569588651925098496   \n",
       "\n",
       "                                                    text sentiment  \\\n",
       "5      @VirginAmerica seriously would pay $30 a fligh...  negative   \n",
       "18                       I ❤️ flying @VirginAmerica. ☺️👍  positive   \n",
       "24     @VirginAmerica you guys messed up my seating.....  negative   \n",
       "48     @VirginAmerica @ladygaga @carrieunderwood Afte...   neutral   \n",
       "52     @VirginAmerica wish you flew out of Atlanta......   neutral   \n",
       "...                                                  ...       ...   \n",
       "14595  @AmericanAir @ShannonBloom Where's my DM? Wher...  negative   \n",
       "14607         @AmericanAir i need someone to help me out   neutral   \n",
       "14614  @AmericanAir I need to be at work tomorrow at ...  negative   \n",
       "14620  @AmericanAir I wait 2+ hrs for CS to call me b...  negative   \n",
       "14628  Thank you. “@AmericanAir: @jlhalldc Customer R...  positive   \n",
       "\n",
       "              airline BERTweet_sentiment  \n",
       "5      Virgin America           negative  \n",
       "18     Virgin America           positive  \n",
       "24     Virgin America           negative  \n",
       "48     Virgin America           positive  \n",
       "52     Virgin America            neutral  \n",
       "...               ...                ...  \n",
       "14595        American            neutral  \n",
       "14607        American           negative  \n",
       "14614        American           negative  \n",
       "14620        American           negative  \n",
       "14628        American            neutral  \n",
       "\n",
       "[1464 rows x 6 columns]"
      ]
     },
     "execution_count": 21,
     "metadata": {},
     "output_type": "execute_result"
    }
   ],
   "source": [
    "twitter_test"
   ]
  },
  {
   "cell_type": "code",
   "execution_count": 22,
   "id": "cf9c4767-072f-4201-9c43-e65c04e97858",
   "metadata": {},
   "outputs": [],
   "source": [
    "test_predictions_fname ='results/BERTweet_predictions_added_to_twitter_test_airline.csv'\n",
    "twitter_test.to_csv(test_predictions_fname)"
   ]
  },
  {
   "cell_type": "code",
   "execution_count": 23,
   "id": "d1b799ce-e850-4035-bae7-8ddb45eecb27",
   "metadata": {},
   "outputs": [],
   "source": [
    "correct = twitter_test[twitter_test['sentiment'] == twitter_test['BERTweet_sentiment']]"
   ]
  },
  {
   "cell_type": "code",
   "execution_count": 24,
   "id": "682cdd73-a337-436e-a3f5-1ee6bb8a8ee1",
   "metadata": {},
   "outputs": [
    {
     "data": {
      "text/html": [
       "<div>\n",
       "<style scoped>\n",
       "    .dataframe tbody tr th:only-of-type {\n",
       "        vertical-align: middle;\n",
       "    }\n",
       "\n",
       "    .dataframe tbody tr th {\n",
       "        vertical-align: top;\n",
       "    }\n",
       "\n",
       "    .dataframe thead th {\n",
       "        text-align: right;\n",
       "    }\n",
       "</style>\n",
       "<table border=\"1\" class=\"dataframe\">\n",
       "  <thead>\n",
       "    <tr style=\"text-align: right;\">\n",
       "      <th></th>\n",
       "      <th>dataset</th>\n",
       "      <th>tweet_id</th>\n",
       "      <th>text</th>\n",
       "      <th>sentiment</th>\n",
       "      <th>airline</th>\n",
       "      <th>BERTweet_sentiment</th>\n",
       "    </tr>\n",
       "  </thead>\n",
       "  <tbody>\n",
       "    <tr>\n",
       "      <th>5</th>\n",
       "      <td>twitter_airline</td>\n",
       "      <td>570300767074181121</td>\n",
       "      <td>@VirginAmerica seriously would pay $30 a fligh...</td>\n",
       "      <td>negative</td>\n",
       "      <td>Virgin America</td>\n",
       "      <td>negative</td>\n",
       "    </tr>\n",
       "    <tr>\n",
       "      <th>18</th>\n",
       "      <td>twitter_airline</td>\n",
       "      <td>570270684619923457</td>\n",
       "      <td>I ❤️ flying @VirginAmerica. ☺️👍</td>\n",
       "      <td>positive</td>\n",
       "      <td>Virgin America</td>\n",
       "      <td>positive</td>\n",
       "    </tr>\n",
       "    <tr>\n",
       "      <th>24</th>\n",
       "      <td>twitter_airline</td>\n",
       "      <td>570256553502068736</td>\n",
       "      <td>@VirginAmerica you guys messed up my seating.....</td>\n",
       "      <td>negative</td>\n",
       "      <td>Virgin America</td>\n",
       "      <td>negative</td>\n",
       "    </tr>\n",
       "    <tr>\n",
       "      <th>52</th>\n",
       "      <td>twitter_airline</td>\n",
       "      <td>570004391731847169</td>\n",
       "      <td>@VirginAmerica wish you flew out of Atlanta......</td>\n",
       "      <td>neutral</td>\n",
       "      <td>Virgin America</td>\n",
       "      <td>neutral</td>\n",
       "    </tr>\n",
       "    <tr>\n",
       "      <th>70</th>\n",
       "      <td>twitter_airline</td>\n",
       "      <td>569961866224652288</td>\n",
       "      <td>@virginamerica Need to change reservation. Hav...</td>\n",
       "      <td>neutral</td>\n",
       "      <td>Virgin America</td>\n",
       "      <td>neutral</td>\n",
       "    </tr>\n",
       "    <tr>\n",
       "      <th>...</th>\n",
       "      <td>...</td>\n",
       "      <td>...</td>\n",
       "      <td>...</td>\n",
       "      <td>...</td>\n",
       "      <td>...</td>\n",
       "      <td>...</td>\n",
       "    </tr>\n",
       "    <tr>\n",
       "      <th>14553</th>\n",
       "      <td>twitter_airline</td>\n",
       "      <td>569600462661554177</td>\n",
       "      <td>@AmericanAir @tennetexan Too bad there's only,...</td>\n",
       "      <td>negative</td>\n",
       "      <td>American</td>\n",
       "      <td>negative</td>\n",
       "    </tr>\n",
       "    <tr>\n",
       "      <th>14573</th>\n",
       "      <td>twitter_airline</td>\n",
       "      <td>569597220871282690</td>\n",
       "      <td>@AmericanAir You didn't respond to my DM. You ...</td>\n",
       "      <td>negative</td>\n",
       "      <td>American</td>\n",
       "      <td>negative</td>\n",
       "    </tr>\n",
       "    <tr>\n",
       "      <th>14588</th>\n",
       "      <td>twitter_airline</td>\n",
       "      <td>569595309279440896</td>\n",
       "      <td>@AmericanAir if business class if full but 1st...</td>\n",
       "      <td>neutral</td>\n",
       "      <td>American</td>\n",
       "      <td>neutral</td>\n",
       "    </tr>\n",
       "    <tr>\n",
       "      <th>14614</th>\n",
       "      <td>twitter_airline</td>\n",
       "      <td>569591540944756737</td>\n",
       "      <td>@AmericanAir I need to be at work tomorrow at ...</td>\n",
       "      <td>negative</td>\n",
       "      <td>American</td>\n",
       "      <td>negative</td>\n",
       "    </tr>\n",
       "    <tr>\n",
       "      <th>14620</th>\n",
       "      <td>twitter_airline</td>\n",
       "      <td>569590965880532993</td>\n",
       "      <td>@AmericanAir I wait 2+ hrs for CS to call me b...</td>\n",
       "      <td>negative</td>\n",
       "      <td>American</td>\n",
       "      <td>negative</td>\n",
       "    </tr>\n",
       "  </tbody>\n",
       "</table>\n",
       "<p>1195 rows × 6 columns</p>\n",
       "</div>"
      ],
      "text/plain": [
       "               dataset            tweet_id  \\\n",
       "5      twitter_airline  570300767074181121   \n",
       "18     twitter_airline  570270684619923457   \n",
       "24     twitter_airline  570256553502068736   \n",
       "52     twitter_airline  570004391731847169   \n",
       "70     twitter_airline  569961866224652288   \n",
       "...                ...                 ...   \n",
       "14553  twitter_airline  569600462661554177   \n",
       "14573  twitter_airline  569597220871282690   \n",
       "14588  twitter_airline  569595309279440896   \n",
       "14614  twitter_airline  569591540944756737   \n",
       "14620  twitter_airline  569590965880532993   \n",
       "\n",
       "                                                    text sentiment  \\\n",
       "5      @VirginAmerica seriously would pay $30 a fligh...  negative   \n",
       "18                       I ❤️ flying @VirginAmerica. ☺️👍  positive   \n",
       "24     @VirginAmerica you guys messed up my seating.....  negative   \n",
       "52     @VirginAmerica wish you flew out of Atlanta......   neutral   \n",
       "70     @virginamerica Need to change reservation. Hav...   neutral   \n",
       "...                                                  ...       ...   \n",
       "14553  @AmericanAir @tennetexan Too bad there's only,...  negative   \n",
       "14573  @AmericanAir You didn't respond to my DM. You ...  negative   \n",
       "14588  @AmericanAir if business class if full but 1st...   neutral   \n",
       "14614  @AmericanAir I need to be at work tomorrow at ...  negative   \n",
       "14620  @AmericanAir I wait 2+ hrs for CS to call me b...  negative   \n",
       "\n",
       "              airline BERTweet_sentiment  \n",
       "5      Virgin America           negative  \n",
       "18     Virgin America           positive  \n",
       "24     Virgin America           negative  \n",
       "52     Virgin America            neutral  \n",
       "70     Virgin America            neutral  \n",
       "...               ...                ...  \n",
       "14553        American           negative  \n",
       "14573        American           negative  \n",
       "14588        American            neutral  \n",
       "14614        American           negative  \n",
       "14620        American           negative  \n",
       "\n",
       "[1195 rows x 6 columns]"
      ]
     },
     "execution_count": 24,
     "metadata": {},
     "output_type": "execute_result"
    }
   ],
   "source": [
    "correct"
   ]
  },
  {
   "cell_type": "code",
   "execution_count": 25,
   "id": "0b17a467-a521-4f37-9616-c9b925356660",
   "metadata": {},
   "outputs": [],
   "source": [
    "incorrect = twitter_test[twitter_test['sentiment'] != twitter_test['BERTweet_sentiment']]"
   ]
  },
  {
   "cell_type": "code",
   "execution_count": 26,
   "id": "45b58f07-ebe3-4c83-b614-d1e154e358dd",
   "metadata": {},
   "outputs": [
    {
     "data": {
      "text/html": [
       "<div>\n",
       "<style scoped>\n",
       "    .dataframe tbody tr th:only-of-type {\n",
       "        vertical-align: middle;\n",
       "    }\n",
       "\n",
       "    .dataframe tbody tr th {\n",
       "        vertical-align: top;\n",
       "    }\n",
       "\n",
       "    .dataframe thead th {\n",
       "        text-align: right;\n",
       "    }\n",
       "</style>\n",
       "<table border=\"1\" class=\"dataframe\">\n",
       "  <thead>\n",
       "    <tr style=\"text-align: right;\">\n",
       "      <th></th>\n",
       "      <th>dataset</th>\n",
       "      <th>tweet_id</th>\n",
       "      <th>text</th>\n",
       "      <th>sentiment</th>\n",
       "      <th>airline</th>\n",
       "      <th>BERTweet_sentiment</th>\n",
       "    </tr>\n",
       "  </thead>\n",
       "  <tbody>\n",
       "    <tr>\n",
       "      <th>48</th>\n",
       "      <td>twitter_airline</td>\n",
       "      <td>570010539499393025</td>\n",
       "      <td>@VirginAmerica @ladygaga @carrieunderwood Afte...</td>\n",
       "      <td>neutral</td>\n",
       "      <td>Virgin America</td>\n",
       "      <td>positive</td>\n",
       "    </tr>\n",
       "    <tr>\n",
       "      <th>56</th>\n",
       "      <td>twitter_airline</td>\n",
       "      <td>569996245462159361</td>\n",
       "      <td>@VirginAmerica you know it. Need it on my spot...</td>\n",
       "      <td>positive</td>\n",
       "      <td>Virgin America</td>\n",
       "      <td>neutral</td>\n",
       "    </tr>\n",
       "    <tr>\n",
       "      <th>86</th>\n",
       "      <td>twitter_airline</td>\n",
       "      <td>569923394990419968</td>\n",
       "      <td>@VirginAmerica Can't bring up my reservation o...</td>\n",
       "      <td>neutral</td>\n",
       "      <td>Virgin America</td>\n",
       "      <td>negative</td>\n",
       "    </tr>\n",
       "    <tr>\n",
       "      <th>237</th>\n",
       "      <td>twitter_airline</td>\n",
       "      <td>569198782421663745</td>\n",
       "      <td>@VirginAmerica is todays flight from Palm Spri...</td>\n",
       "      <td>negative</td>\n",
       "      <td>Virgin America</td>\n",
       "      <td>neutral</td>\n",
       "    </tr>\n",
       "    <tr>\n",
       "      <th>293</th>\n",
       "      <td>twitter_airline</td>\n",
       "      <td>568840560347373569</td>\n",
       "      <td>@VirginAmerica would love to do more for virgi...</td>\n",
       "      <td>positive</td>\n",
       "      <td>Virgin America</td>\n",
       "      <td>neutral</td>\n",
       "    </tr>\n",
       "    <tr>\n",
       "      <th>...</th>\n",
       "      <td>...</td>\n",
       "      <td>...</td>\n",
       "      <td>...</td>\n",
       "      <td>...</td>\n",
       "      <td>...</td>\n",
       "      <td>...</td>\n",
       "    </tr>\n",
       "    <tr>\n",
       "      <th>14439</th>\n",
       "      <td>twitter_airline</td>\n",
       "      <td>569616120866476032</td>\n",
       "      <td>@AmericanAir so how do we get me a person?</td>\n",
       "      <td>neutral</td>\n",
       "      <td>American</td>\n",
       "      <td>negative</td>\n",
       "    </tr>\n",
       "    <tr>\n",
       "      <th>14545</th>\n",
       "      <td>twitter_airline</td>\n",
       "      <td>569601337882755073</td>\n",
       "      <td>@AmericanAir yes and I would like a refund.</td>\n",
       "      <td>neutral</td>\n",
       "      <td>American</td>\n",
       "      <td>negative</td>\n",
       "    </tr>\n",
       "    <tr>\n",
       "      <th>14595</th>\n",
       "      <td>twitter_airline</td>\n",
       "      <td>569593694963310593</td>\n",
       "      <td>@AmericanAir @ShannonBloom Where's my DM? Wher...</td>\n",
       "      <td>negative</td>\n",
       "      <td>American</td>\n",
       "      <td>neutral</td>\n",
       "    </tr>\n",
       "    <tr>\n",
       "      <th>14607</th>\n",
       "      <td>twitter_airline</td>\n",
       "      <td>569592270866878464</td>\n",
       "      <td>@AmericanAir i need someone to help me out</td>\n",
       "      <td>neutral</td>\n",
       "      <td>American</td>\n",
       "      <td>negative</td>\n",
       "    </tr>\n",
       "    <tr>\n",
       "      <th>14628</th>\n",
       "      <td>twitter_airline</td>\n",
       "      <td>569588651925098496</td>\n",
       "      <td>Thank you. “@AmericanAir: @jlhalldc Customer R...</td>\n",
       "      <td>positive</td>\n",
       "      <td>American</td>\n",
       "      <td>neutral</td>\n",
       "    </tr>\n",
       "  </tbody>\n",
       "</table>\n",
       "<p>269 rows × 6 columns</p>\n",
       "</div>"
      ],
      "text/plain": [
       "               dataset            tweet_id  \\\n",
       "48     twitter_airline  570010539499393025   \n",
       "56     twitter_airline  569996245462159361   \n",
       "86     twitter_airline  569923394990419968   \n",
       "237    twitter_airline  569198782421663745   \n",
       "293    twitter_airline  568840560347373569   \n",
       "...                ...                 ...   \n",
       "14439  twitter_airline  569616120866476032   \n",
       "14545  twitter_airline  569601337882755073   \n",
       "14595  twitter_airline  569593694963310593   \n",
       "14607  twitter_airline  569592270866878464   \n",
       "14628  twitter_airline  569588651925098496   \n",
       "\n",
       "                                                    text sentiment  \\\n",
       "48     @VirginAmerica @ladygaga @carrieunderwood Afte...   neutral   \n",
       "56     @VirginAmerica you know it. Need it on my spot...  positive   \n",
       "86     @VirginAmerica Can't bring up my reservation o...   neutral   \n",
       "237    @VirginAmerica is todays flight from Palm Spri...  negative   \n",
       "293    @VirginAmerica would love to do more for virgi...  positive   \n",
       "...                                                  ...       ...   \n",
       "14439         @AmericanAir so how do we get me a person?   neutral   \n",
       "14545        @AmericanAir yes and I would like a refund.   neutral   \n",
       "14595  @AmericanAir @ShannonBloom Where's my DM? Wher...  negative   \n",
       "14607         @AmericanAir i need someone to help me out   neutral   \n",
       "14628  Thank you. “@AmericanAir: @jlhalldc Customer R...  positive   \n",
       "\n",
       "              airline BERTweet_sentiment  \n",
       "48     Virgin America           positive  \n",
       "56     Virgin America            neutral  \n",
       "86     Virgin America           negative  \n",
       "237    Virgin America            neutral  \n",
       "293    Virgin America            neutral  \n",
       "...               ...                ...  \n",
       "14439        American           negative  \n",
       "14545        American           negative  \n",
       "14595        American            neutral  \n",
       "14607        American           negative  \n",
       "14628        American            neutral  \n",
       "\n",
       "[269 rows x 6 columns]"
      ]
     },
     "execution_count": 26,
     "metadata": {},
     "output_type": "execute_result"
    }
   ],
   "source": [
    "incorrect"
   ]
  },
  {
   "cell_type": "markdown",
   "id": "5c4b5afb-a9cc-425e-9c82-23f535da3c8c",
   "metadata": {},
   "source": [
    "# Save Model"
   ]
  },
  {
   "cell_type": "code",
   "execution_count": 27,
   "id": "a4323bae-980d-40f6-91ae-941d207a6750",
   "metadata": {},
   "outputs": [],
   "source": [
    "import pickle\n",
    "model_fname = 'models/BERTweet_twitter_airline.sav'\n",
    "pickle.dump(bertweet_experiment_full, open(model_fname, 'wb'))"
   ]
  },
  {
   "cell_type": "code",
   "execution_count": null,
   "id": "fae2984c-fd4a-4af9-91aa-3a6ceb712573",
   "metadata": {},
   "outputs": [],
   "source": []
  }
 ],
 "metadata": {
  "kernelspec": {
   "display_name": "nlu",
   "language": "python",
   "name": "nlu"
  },
  "language_info": {
   "codemirror_mode": {
    "name": "ipython",
    "version": 3
   },
   "file_extension": ".py",
   "mimetype": "text/x-python",
   "name": "python",
   "nbconvert_exporter": "python",
   "pygments_lexer": "ipython3",
   "version": "3.8.12"
  }
 },
 "nbformat": 4,
 "nbformat_minor": 5
}

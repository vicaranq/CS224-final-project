{
 "cells": [
  {
   "cell_type": "markdown",
   "id": "47e8f743-ceab-449c-9ee7-200a1785cb16",
   "metadata": {},
   "source": [
    "# Use BERTweet Representations with LogisticRegression Softmax Classifier"
   ]
  },
  {
   "cell_type": "code",
   "execution_count": 1,
   "id": "30dae3b5-f005-418c-8e46-9bd8758cf351",
   "metadata": {},
   "outputs": [
    {
     "name": "stderr",
     "output_type": "stream",
     "text": [
      "Some weights of RobertaModel were not initialized from the model checkpoint at vinai/bertweet-large and are newly initialized: ['roberta.pooler.dense.weight', 'roberta.pooler.dense.bias']\n",
      "You should probably TRAIN this model on a down-stream task to be able to use it for predictions and inference.\n"
     ]
    }
   ],
   "source": [
    "from collections import Counter\n",
    "import os\n",
    "import numpy as np\n",
    "import pandas as pd\n",
    "import torch\n",
    "from torch import nn, optim\n",
    "import torch.nn as nn\n",
    "from torch.utils.data import TensorDataset, Dataset, DataLoader\n",
    "from sklearn.model_selection import train_test_split\n",
    "from sklearn.linear_model import LogisticRegression\n",
    "from sklearn.model_selection import cross_val_score\n",
    "# from transformers import AutoModel, AutoTokenizer \n",
    "\n",
    "\n",
    "import dataset\n",
    "import vsm\n",
    "import sst"
   ]
  },
  {
   "cell_type": "code",
   "execution_count": 2,
   "id": "1c995c70-1ec0-47c7-be85-5a622874c493",
   "metadata": {},
   "outputs": [],
   "source": [
    "TWITTER = 2\n",
    "TWITTER_AIRLINES = 3\n",
    "TWITTER_APPLE = 4"
   ]
  },
  {
   "cell_type": "code",
   "execution_count": 3,
   "id": "5059a022-607d-493b-8e7e-82937409db1c",
   "metadata": {},
   "outputs": [],
   "source": [
    "twitter_train, twitter_validate, twitter_test =  dataset.dataset_reader(TWITTER_APPLE)\n",
    "[twitter_train, twitter_validate, twitter_test] = list(map(lambda ds : dataset.prune_columns(TWITTER_APPLE, ds), [twitter_train, twitter_validate, twitter_test]))"
   ]
  },
  {
   "cell_type": "code",
   "execution_count": 4,
   "id": "b41be400-82cf-469e-96b0-522cf9de12b3",
   "metadata": {},
   "outputs": [],
   "source": [
    "# bert_weights_name = 'bert-base-cased'\n",
    "# bert_tokenizer = BertTokenizer.from_pretrained(bert_weights_name)\n",
    "# bert_model = BertModel.from_pretrained(bert_weights_name)\n",
    "# model = BertForSequenceClassification.from_pretrained(bert_weights_name)\n",
    "# Unique values of sentiment\n",
    "twitter_sentiment_labels = twitter_train['sentiment'].unique()"
   ]
  },
  {
   "cell_type": "code",
   "execution_count": 5,
   "id": "a7bb900e-ec8f-4e7c-92e2-987c363777e0",
   "metadata": {},
   "outputs": [
    {
     "data": {
      "text/plain": [
       "(12436, 1552, 1556)"
      ]
     },
     "execution_count": 5,
     "metadata": {},
     "output_type": "execute_result"
    }
   ],
   "source": [
    "twitter_train.size, twitter_validate.size, twitter_test.size"
   ]
  },
  {
   "cell_type": "code",
   "execution_count": 6,
   "id": "8d2c69f6-6084-4316-899d-b2ec9d52d16a",
   "metadata": {},
   "outputs": [
    {
     "name": "stdout",
     "output_type": "stream",
     "text": [
      "              precision    recall  f1-score   support\n",
      "\n",
      "           1      0.689     0.658     0.673       111\n",
      "           3      0.761     0.904     0.826       229\n",
      "           5      0.700     0.171     0.275        41\n",
      "not_relevant      0.000     0.000     0.000         7\n",
      "\n",
      "    accuracy                          0.740       388\n",
      "   macro avg      0.537     0.433     0.443       388\n",
      "weighted avg      0.720     0.740     0.709       388\n",
      "\n",
      "CPU times: user 39min 6s, sys: 2.28 s, total: 39min 8s\n",
      "Wall time: 9min 53s\n"
     ]
    },
    {
     "name": "stderr",
     "output_type": "stream",
     "text": [
      "/home/vicaran93/anaconda3/envs/nlu/lib/python3.8/site-packages/sklearn/metrics/_classification.py:1318: UndefinedMetricWarning: Precision and F-score are ill-defined and being set to 0.0 in labels with no predicted samples. Use `zero_division` parameter to control this behavior.\n",
      "  _warn_prf(average, modifier, msg_start, len(result))\n",
      "/home/vicaran93/anaconda3/envs/nlu/lib/python3.8/site-packages/sklearn/metrics/_classification.py:1318: UndefinedMetricWarning: Precision and F-score are ill-defined and being set to 0.0 in labels with no predicted samples. Use `zero_division` parameter to control this behavior.\n",
      "  _warn_prf(average, modifier, msg_start, len(result))\n",
      "/home/vicaran93/anaconda3/envs/nlu/lib/python3.8/site-packages/sklearn/metrics/_classification.py:1318: UndefinedMetricWarning: Precision and F-score are ill-defined and being set to 0.0 in labels with no predicted samples. Use `zero_division` parameter to control this behavior.\n",
      "  _warn_prf(average, modifier, msg_start, len(result))\n"
     ]
    }
   ],
   "source": [
    "%%time\n",
    "bertweet_experiment1500 = sst.experiment(\n",
    "    twitter_train[:1500], # \n",
    "    dataset.bert_tweet_phi,\n",
    "    dataset.fit_softmax_classifier,\n",
    "    assess_dataframes=[twitter_validate[:1000]],\n",
    "    vectorize=False)"
   ]
  },
  {
   "cell_type": "code",
   "execution_count": 7,
   "id": "4326b274-a348-4623-a1eb-3142a2a52b2b",
   "metadata": {},
   "outputs": [
    {
     "name": "stdout",
     "output_type": "stream",
     "text": [
      "              precision    recall  f1-score   support\n",
      "\n",
      "           1      0.747     0.667     0.705       111\n",
      "           3      0.772     0.917     0.838       229\n",
      "           5      0.824     0.341     0.483        41\n",
      "not_relevant      0.000     0.000     0.000         7\n",
      "\n",
      "    accuracy                          0.768       388\n",
      "   macro avg      0.586     0.481     0.506       388\n",
      "weighted avg      0.757     0.768     0.747       388\n",
      "\n",
      "CPU times: user 1h 10min 8s, sys: 6.1 s, total: 1h 10min 14s\n",
      "Wall time: 17min 45s\n"
     ]
    },
    {
     "name": "stderr",
     "output_type": "stream",
     "text": [
      "/home/vicaran93/anaconda3/envs/nlu/lib/python3.8/site-packages/sklearn/metrics/_classification.py:1318: UndefinedMetricWarning: Precision and F-score are ill-defined and being set to 0.0 in labels with no predicted samples. Use `zero_division` parameter to control this behavior.\n",
      "  _warn_prf(average, modifier, msg_start, len(result))\n",
      "/home/vicaran93/anaconda3/envs/nlu/lib/python3.8/site-packages/sklearn/metrics/_classification.py:1318: UndefinedMetricWarning: Precision and F-score are ill-defined and being set to 0.0 in labels with no predicted samples. Use `zero_division` parameter to control this behavior.\n",
      "  _warn_prf(average, modifier, msg_start, len(result))\n",
      "/home/vicaran93/anaconda3/envs/nlu/lib/python3.8/site-packages/sklearn/metrics/_classification.py:1318: UndefinedMetricWarning: Precision and F-score are ill-defined and being set to 0.0 in labels with no predicted samples. Use `zero_division` parameter to control this behavior.\n",
      "  _warn_prf(average, modifier, msg_start, len(result))\n"
     ]
    }
   ],
   "source": [
    "%%time\n",
    "bertweet_experiment_full = sst.experiment(\n",
    "    twitter_train, # \n",
    "    dataset.bert_tweet_phi,\n",
    "    dataset.fit_softmax_classifier,\n",
    "    assess_dataframes=[twitter_validate],\n",
    "    vectorize=False)"
   ]
  },
  {
   "cell_type": "code",
   "execution_count": 8,
   "id": "d54b31f7-4cb2-4e55-b20d-ccde15e31350",
   "metadata": {},
   "outputs": [
    {
     "data": {
      "text/plain": [
       "dict_keys(['model', 'phi', 'train_dataset', 'assess_datasets', 'predictions', 'metric', 'scores'])"
      ]
     },
     "execution_count": 8,
     "metadata": {},
     "output_type": "execute_result"
    }
   ],
   "source": [
    "bertweet_experiment_full.keys()"
   ]
  },
  {
   "cell_type": "code",
   "execution_count": 9,
   "id": "a7bac1a5-92e3-468e-847b-e759eb09a2bc",
   "metadata": {},
   "outputs": [
    {
     "data": {
      "text/plain": [
       "[0.5064609696862433]"
      ]
     },
     "execution_count": 9,
     "metadata": {},
     "output_type": "execute_result"
    }
   ],
   "source": [
    "bertweet_experiment_full['scores']"
   ]
  },
  {
   "cell_type": "code",
   "execution_count": 10,
   "id": "8a0ed646-5437-43db-a2f5-7938349cea10",
   "metadata": {},
   "outputs": [
    {
     "data": {
      "text/plain": [
       "'safe_macro_f1'"
      ]
     },
     "execution_count": 10,
     "metadata": {},
     "output_type": "execute_result"
    }
   ],
   "source": [
    "bertweet_experiment_full['metric']"
   ]
  },
  {
   "cell_type": "code",
   "execution_count": 11,
   "id": "95567ac1-8815-4694-96c7-dff72617250b",
   "metadata": {
    "tags": []
   },
   "outputs": [
    {
     "data": {
      "text/plain": [
       "LogisticRegression(multi_class='ovr', solver='liblinear')"
      ]
     },
     "execution_count": 11,
     "metadata": {},
     "output_type": "execute_result"
    }
   ],
   "source": [
    "bertweet_experiment_full['model']"
   ]
  },
  {
   "cell_type": "markdown",
   "id": "5b0fa5b8",
   "metadata": {},
   "source": [
    "----"
   ]
  },
  {
   "cell_type": "markdown",
   "id": "d7ccb547-1174-471f-b6e5-e9239d23fe4b",
   "metadata": {},
   "source": [
    "# Test BERTweet trained on Tweets on test set"
   ]
  },
  {
   "cell_type": "code",
   "execution_count": 12,
   "id": "145568c0-81b1-485f-9cc5-8c5fcd4ed951",
   "metadata": {},
   "outputs": [
    {
     "data": {
      "text/plain": [
       "<module 'sst' from '/home/vicaran93/repos/CS224-final-project/sst.py'>"
      ]
     },
     "execution_count": 12,
     "metadata": {},
     "output_type": "execute_result"
    }
   ],
   "source": [
    "import importlib\n",
    "importlib.reload(sst)"
   ]
  },
  {
   "cell_type": "code",
   "execution_count": 13,
   "id": "09db34c2-0a98-4627-ae75-75653fdde41e",
   "metadata": {},
   "outputs": [
    {
     "name": "stdout",
     "output_type": "stream",
     "text": [
      "              precision    recall  f1-score   support\n",
      "\n",
      "           1      0.781     0.685     0.730       130\n",
      "           3      0.729     0.901     0.806       212\n",
      "           5      0.462     0.171     0.250        35\n",
      "not_relevant      0.000     0.000     0.000        12\n",
      "\n",
      "    accuracy                          0.735       389\n",
      "   macro avg      0.493     0.439     0.446       389\n",
      "weighted avg      0.700     0.735     0.705       389\n",
      "\n",
      "CPU times: user 7min 50s, sys: 856 ms, total: 7min 50s\n",
      "Wall time: 1min 58s\n"
     ]
    },
    {
     "name": "stderr",
     "output_type": "stream",
     "text": [
      "/home/vicaran93/anaconda3/envs/nlu/lib/python3.8/site-packages/sklearn/metrics/_classification.py:1318: UndefinedMetricWarning: Precision and F-score are ill-defined and being set to 0.0 in labels with no predicted samples. Use `zero_division` parameter to control this behavior.\n",
      "  _warn_prf(average, modifier, msg_start, len(result))\n",
      "/home/vicaran93/anaconda3/envs/nlu/lib/python3.8/site-packages/sklearn/metrics/_classification.py:1318: UndefinedMetricWarning: Precision and F-score are ill-defined and being set to 0.0 in labels with no predicted samples. Use `zero_division` parameter to control this behavior.\n",
      "  _warn_prf(average, modifier, msg_start, len(result))\n",
      "/home/vicaran93/anaconda3/envs/nlu/lib/python3.8/site-packages/sklearn/metrics/_classification.py:1318: UndefinedMetricWarning: Precision and F-score are ill-defined and being set to 0.0 in labels with no predicted samples. Use `zero_division` parameter to control this behavior.\n",
      "  _warn_prf(average, modifier, msg_start, len(result))\n"
     ]
    }
   ],
   "source": [
    "%%time\n",
    "bertweet_test = sst.evaluate(\n",
    "    bertweet_experiment_full['model'],\n",
    "    bertweet_experiment_full['phi'],\n",
    "    assess_dataframes=[twitter_test],\n",
    "    vectorizer=bertweet_experiment_full['assess_datasets'][0]['vectorizer'],\n",
    "    vectorize=False\n",
    ")"
   ]
  },
  {
   "cell_type": "code",
   "execution_count": 16,
   "id": "f49ec6d2-f389-4995-b1d9-5003bff03522",
   "metadata": {},
   "outputs": [
    {
     "data": {
      "text/plain": [
       "numpy.ndarray"
      ]
     },
     "execution_count": 16,
     "metadata": {},
     "output_type": "execute_result"
    }
   ],
   "source": [
    "type(bertweet_test['predictions'][0])"
   ]
  },
  {
   "cell_type": "code",
   "execution_count": 14,
   "id": "6dbc9350-3873-4226-8430-e1851b8f1a59",
   "metadata": {},
   "outputs": [],
   "source": [
    "predictions_fname ='results/BERTweet_predictions_on_twitter_test_apple.csv'\n",
    "df = bertweet_test['predictions'][0]\n",
    "pd.DataFrame(df).to_csv(predictions_fname)"
   ]
  },
  {
   "cell_type": "code",
   "execution_count": 15,
   "id": "13e45694-66b9-41f2-9159-70f048dbae48",
   "metadata": {
    "tags": []
   },
   "outputs": [],
   "source": [
    "encoding_fname ='results/BERTweet_encodings_on_twitter_test_apple.csv'\n",
    "encoded_test = bertweet_test['assess_datasets'][0]\n",
    "pd.DataFrame(encoded_test).to_csv(encoding_fname)"
   ]
  },
  {
   "cell_type": "code",
   "execution_count": 16,
   "id": "eb5ae92e-80a6-44f3-827b-a79eab788ddc",
   "metadata": {},
   "outputs": [
    {
     "data": {
      "text/html": [
       "<div>\n",
       "<style scoped>\n",
       "    .dataframe tbody tr th:only-of-type {\n",
       "        vertical-align: middle;\n",
       "    }\n",
       "\n",
       "    .dataframe tbody tr th {\n",
       "        vertical-align: top;\n",
       "    }\n",
       "\n",
       "    .dataframe thead th {\n",
       "        text-align: right;\n",
       "    }\n",
       "</style>\n",
       "<table border=\"1\" class=\"dataframe\">\n",
       "  <thead>\n",
       "    <tr style=\"text-align: right;\">\n",
       "      <th></th>\n",
       "      <th>0</th>\n",
       "    </tr>\n",
       "  </thead>\n",
       "  <tbody>\n",
       "    <tr>\n",
       "      <th>12</th>\n",
       "      <td>3</td>\n",
       "    </tr>\n",
       "    <tr>\n",
       "      <th>15</th>\n",
       "      <td>3</td>\n",
       "    </tr>\n",
       "    <tr>\n",
       "      <th>38</th>\n",
       "      <td>3</td>\n",
       "    </tr>\n",
       "    <tr>\n",
       "      <th>43</th>\n",
       "      <td>3</td>\n",
       "    </tr>\n",
       "    <tr>\n",
       "      <th>45</th>\n",
       "      <td>3</td>\n",
       "    </tr>\n",
       "    <tr>\n",
       "      <th>...</th>\n",
       "      <td>...</td>\n",
       "    </tr>\n",
       "    <tr>\n",
       "      <th>3853</th>\n",
       "      <td>1</td>\n",
       "    </tr>\n",
       "    <tr>\n",
       "      <th>3869</th>\n",
       "      <td>3</td>\n",
       "    </tr>\n",
       "    <tr>\n",
       "      <th>3870</th>\n",
       "      <td>3</td>\n",
       "    </tr>\n",
       "    <tr>\n",
       "      <th>3874</th>\n",
       "      <td>3</td>\n",
       "    </tr>\n",
       "    <tr>\n",
       "      <th>3881</th>\n",
       "      <td>3</td>\n",
       "    </tr>\n",
       "  </tbody>\n",
       "</table>\n",
       "<p>389 rows × 1 columns</p>\n",
       "</div>"
      ],
      "text/plain": [
       "      0\n",
       "12    3\n",
       "15    3\n",
       "38    3\n",
       "43    3\n",
       "45    3\n",
       "...  ..\n",
       "3853  1\n",
       "3869  3\n",
       "3870  3\n",
       "3874  3\n",
       "3881  3\n",
       "\n",
       "[389 rows x 1 columns]"
      ]
     },
     "execution_count": 16,
     "metadata": {},
     "output_type": "execute_result"
    }
   ],
   "source": [
    "predictions_df = pd.DataFrame(df)\n",
    "predictions_df = predictions_df.set_index(twitter_test.index)\n",
    "predictions_df"
   ]
  },
  {
   "cell_type": "code",
   "execution_count": 17,
   "id": "ed7099ef-7ce4-4346-a0fd-fea8fa9f4580",
   "metadata": {},
   "outputs": [],
   "source": [
    "twitter_test['BERTweet_sentiment'] = predictions_df"
   ]
  },
  {
   "cell_type": "code",
   "execution_count": 18,
   "id": "71be05a5-02e8-4315-88a7-0651caf140b9",
   "metadata": {},
   "outputs": [
    {
     "data": {
      "text/html": [
       "<div>\n",
       "<style scoped>\n",
       "    .dataframe tbody tr th:only-of-type {\n",
       "        vertical-align: middle;\n",
       "    }\n",
       "\n",
       "    .dataframe tbody tr th {\n",
       "        vertical-align: top;\n",
       "    }\n",
       "\n",
       "    .dataframe thead th {\n",
       "        text-align: right;\n",
       "    }\n",
       "</style>\n",
       "<table border=\"1\" class=\"dataframe\">\n",
       "  <thead>\n",
       "    <tr style=\"text-align: right;\">\n",
       "      <th></th>\n",
       "      <th>dataset</th>\n",
       "      <th>tweet_id</th>\n",
       "      <th>text</th>\n",
       "      <th>sentiment</th>\n",
       "      <th>BERTweet_sentiment</th>\n",
       "    </tr>\n",
       "  </thead>\n",
       "  <tbody>\n",
       "    <tr>\n",
       "      <th>12</th>\n",
       "      <td>twitter_apple</td>\n",
       "      <td>623495525</td>\n",
       "      <td>The Best-Designed #iPhone #Apps In the World, ...</td>\n",
       "      <td>3</td>\n",
       "      <td>3</td>\n",
       "    </tr>\n",
       "    <tr>\n",
       "      <th>15</th>\n",
       "      <td>twitter_apple</td>\n",
       "      <td>623495528</td>\n",
       "      <td>#aapl @applenws Thanks to the non factual dumb...</td>\n",
       "      <td>3</td>\n",
       "      <td>3</td>\n",
       "    </tr>\n",
       "    <tr>\n",
       "      <th>38</th>\n",
       "      <td>twitter_apple</td>\n",
       "      <td>623495551</td>\n",
       "      <td>RT @thehill: Justice Department cites 18th cen...</td>\n",
       "      <td>3</td>\n",
       "      <td>3</td>\n",
       "    </tr>\n",
       "    <tr>\n",
       "      <th>43</th>\n",
       "      <td>twitter_apple</td>\n",
       "      <td>623495556</td>\n",
       "      <td>RT @thehill: Justice Department cites 18th cen...</td>\n",
       "      <td>1</td>\n",
       "      <td>3</td>\n",
       "    </tr>\n",
       "    <tr>\n",
       "      <th>45</th>\n",
       "      <td>twitter_apple</td>\n",
       "      <td>623495558</td>\n",
       "      <td>RT @thehill: Justice Department cites 18th cen...</td>\n",
       "      <td>3</td>\n",
       "      <td>3</td>\n",
       "    </tr>\n",
       "    <tr>\n",
       "      <th>...</th>\n",
       "      <td>...</td>\n",
       "      <td>...</td>\n",
       "      <td>...</td>\n",
       "      <td>...</td>\n",
       "      <td>...</td>\n",
       "    </tr>\n",
       "    <tr>\n",
       "      <th>3853</th>\n",
       "      <td>twitter_apple</td>\n",
       "      <td>623499383</td>\n",
       "      <td>So @Apple just gave me a huge middle finger to...</td>\n",
       "      <td>1</td>\n",
       "      <td>1</td>\n",
       "    </tr>\n",
       "    <tr>\n",
       "      <th>3869</th>\n",
       "      <td>twitter_apple</td>\n",
       "      <td>623499399</td>\n",
       "      <td>Apple Is Warming Up To Social Media: Apple is ...</td>\n",
       "      <td>3</td>\n",
       "      <td>3</td>\n",
       "    </tr>\n",
       "    <tr>\n",
       "      <th>3870</th>\n",
       "      <td>twitter_apple</td>\n",
       "      <td>623499400</td>\n",
       "      <td>Apple Is Warming Up To Social Media: Apple is ...</td>\n",
       "      <td>3</td>\n",
       "      <td>3</td>\n",
       "    </tr>\n",
       "    <tr>\n",
       "      <th>3874</th>\n",
       "      <td>twitter_apple</td>\n",
       "      <td>623499404</td>\n",
       "      <td>Apple Is Warming Up To Social Media: Apple is ...</td>\n",
       "      <td>3</td>\n",
       "      <td>3</td>\n",
       "    </tr>\n",
       "    <tr>\n",
       "      <th>3881</th>\n",
       "      <td>twitter_apple</td>\n",
       "      <td>623499442</td>\n",
       "      <td>(Via FC) Apple Is Warming Up To Social Media -...</td>\n",
       "      <td>3</td>\n",
       "      <td>3</td>\n",
       "    </tr>\n",
       "  </tbody>\n",
       "</table>\n",
       "<p>389 rows × 5 columns</p>\n",
       "</div>"
      ],
      "text/plain": [
       "            dataset   tweet_id  \\\n",
       "12    twitter_apple  623495525   \n",
       "15    twitter_apple  623495528   \n",
       "38    twitter_apple  623495551   \n",
       "43    twitter_apple  623495556   \n",
       "45    twitter_apple  623495558   \n",
       "...             ...        ...   \n",
       "3853  twitter_apple  623499383   \n",
       "3869  twitter_apple  623499399   \n",
       "3870  twitter_apple  623499400   \n",
       "3874  twitter_apple  623499404   \n",
       "3881  twitter_apple  623499442   \n",
       "\n",
       "                                                   text sentiment  \\\n",
       "12    The Best-Designed #iPhone #Apps In the World, ...         3   \n",
       "15    #aapl @applenws Thanks to the non factual dumb...         3   \n",
       "38    RT @thehill: Justice Department cites 18th cen...         3   \n",
       "43    RT @thehill: Justice Department cites 18th cen...         1   \n",
       "45    RT @thehill: Justice Department cites 18th cen...         3   \n",
       "...                                                 ...       ...   \n",
       "3853  So @Apple just gave me a huge middle finger to...         1   \n",
       "3869  Apple Is Warming Up To Social Media: Apple is ...         3   \n",
       "3870  Apple Is Warming Up To Social Media: Apple is ...         3   \n",
       "3874  Apple Is Warming Up To Social Media: Apple is ...         3   \n",
       "3881  (Via FC) Apple Is Warming Up To Social Media -...         3   \n",
       "\n",
       "     BERTweet_sentiment  \n",
       "12                    3  \n",
       "15                    3  \n",
       "38                    3  \n",
       "43                    3  \n",
       "45                    3  \n",
       "...                 ...  \n",
       "3853                  1  \n",
       "3869                  3  \n",
       "3870                  3  \n",
       "3874                  3  \n",
       "3881                  3  \n",
       "\n",
       "[389 rows x 5 columns]"
      ]
     },
     "execution_count": 18,
     "metadata": {},
     "output_type": "execute_result"
    }
   ],
   "source": [
    "twitter_test"
   ]
  },
  {
   "cell_type": "code",
   "execution_count": 19,
   "id": "cf9c4767-072f-4201-9c43-e65c04e97858",
   "metadata": {},
   "outputs": [],
   "source": [
    "test_predictions_fname ='results/BERTweet_predictions_added_to_twitter_test_apple.csv'\n",
    "twitter_test.to_csv(test_predictions_fname)"
   ]
  },
  {
   "cell_type": "code",
   "execution_count": 20,
   "id": "d1b799ce-e850-4035-bae7-8ddb45eecb27",
   "metadata": {},
   "outputs": [],
   "source": [
    "correct = twitter_test[twitter_test['sentiment'] == twitter_test['BERTweet_sentiment']]"
   ]
  },
  {
   "cell_type": "code",
   "execution_count": 21,
   "id": "682cdd73-a337-436e-a3f5-1ee6bb8a8ee1",
   "metadata": {},
   "outputs": [
    {
     "data": {
      "text/html": [
       "<div>\n",
       "<style scoped>\n",
       "    .dataframe tbody tr th:only-of-type {\n",
       "        vertical-align: middle;\n",
       "    }\n",
       "\n",
       "    .dataframe tbody tr th {\n",
       "        vertical-align: top;\n",
       "    }\n",
       "\n",
       "    .dataframe thead th {\n",
       "        text-align: right;\n",
       "    }\n",
       "</style>\n",
       "<table border=\"1\" class=\"dataframe\">\n",
       "  <thead>\n",
       "    <tr style=\"text-align: right;\">\n",
       "      <th></th>\n",
       "      <th>dataset</th>\n",
       "      <th>tweet_id</th>\n",
       "      <th>text</th>\n",
       "      <th>sentiment</th>\n",
       "      <th>BERTweet_sentiment</th>\n",
       "    </tr>\n",
       "  </thead>\n",
       "  <tbody>\n",
       "    <tr>\n",
       "      <th>12</th>\n",
       "      <td>twitter_apple</td>\n",
       "      <td>623495525</td>\n",
       "      <td>The Best-Designed #iPhone #Apps In the World, ...</td>\n",
       "      <td>3</td>\n",
       "      <td>3</td>\n",
       "    </tr>\n",
       "    <tr>\n",
       "      <th>15</th>\n",
       "      <td>twitter_apple</td>\n",
       "      <td>623495528</td>\n",
       "      <td>#aapl @applenws Thanks to the non factual dumb...</td>\n",
       "      <td>3</td>\n",
       "      <td>3</td>\n",
       "    </tr>\n",
       "    <tr>\n",
       "      <th>38</th>\n",
       "      <td>twitter_apple</td>\n",
       "      <td>623495551</td>\n",
       "      <td>RT @thehill: Justice Department cites 18th cen...</td>\n",
       "      <td>3</td>\n",
       "      <td>3</td>\n",
       "    </tr>\n",
       "    <tr>\n",
       "      <th>45</th>\n",
       "      <td>twitter_apple</td>\n",
       "      <td>623495558</td>\n",
       "      <td>RT @thehill: Justice Department cites 18th cen...</td>\n",
       "      <td>3</td>\n",
       "      <td>3</td>\n",
       "    </tr>\n",
       "    <tr>\n",
       "      <th>46</th>\n",
       "      <td>twitter_apple</td>\n",
       "      <td>623495559</td>\n",
       "      <td>@thehill @Apple I cite the us constitution whe...</td>\n",
       "      <td>1</td>\n",
       "      <td>1</td>\n",
       "    </tr>\n",
       "    <tr>\n",
       "      <th>...</th>\n",
       "      <td>...</td>\n",
       "      <td>...</td>\n",
       "      <td>...</td>\n",
       "      <td>...</td>\n",
       "      <td>...</td>\n",
       "    </tr>\n",
       "    <tr>\n",
       "      <th>3853</th>\n",
       "      <td>twitter_apple</td>\n",
       "      <td>623499383</td>\n",
       "      <td>So @Apple just gave me a huge middle finger to...</td>\n",
       "      <td>1</td>\n",
       "      <td>1</td>\n",
       "    </tr>\n",
       "    <tr>\n",
       "      <th>3869</th>\n",
       "      <td>twitter_apple</td>\n",
       "      <td>623499399</td>\n",
       "      <td>Apple Is Warming Up To Social Media: Apple is ...</td>\n",
       "      <td>3</td>\n",
       "      <td>3</td>\n",
       "    </tr>\n",
       "    <tr>\n",
       "      <th>3870</th>\n",
       "      <td>twitter_apple</td>\n",
       "      <td>623499400</td>\n",
       "      <td>Apple Is Warming Up To Social Media: Apple is ...</td>\n",
       "      <td>3</td>\n",
       "      <td>3</td>\n",
       "    </tr>\n",
       "    <tr>\n",
       "      <th>3874</th>\n",
       "      <td>twitter_apple</td>\n",
       "      <td>623499404</td>\n",
       "      <td>Apple Is Warming Up To Social Media: Apple is ...</td>\n",
       "      <td>3</td>\n",
       "      <td>3</td>\n",
       "    </tr>\n",
       "    <tr>\n",
       "      <th>3881</th>\n",
       "      <td>twitter_apple</td>\n",
       "      <td>623499442</td>\n",
       "      <td>(Via FC) Apple Is Warming Up To Social Media -...</td>\n",
       "      <td>3</td>\n",
       "      <td>3</td>\n",
       "    </tr>\n",
       "  </tbody>\n",
       "</table>\n",
       "<p>286 rows × 5 columns</p>\n",
       "</div>"
      ],
      "text/plain": [
       "            dataset   tweet_id  \\\n",
       "12    twitter_apple  623495525   \n",
       "15    twitter_apple  623495528   \n",
       "38    twitter_apple  623495551   \n",
       "45    twitter_apple  623495558   \n",
       "46    twitter_apple  623495559   \n",
       "...             ...        ...   \n",
       "3853  twitter_apple  623499383   \n",
       "3869  twitter_apple  623499399   \n",
       "3870  twitter_apple  623499400   \n",
       "3874  twitter_apple  623499404   \n",
       "3881  twitter_apple  623499442   \n",
       "\n",
       "                                                   text sentiment  \\\n",
       "12    The Best-Designed #iPhone #Apps In the World, ...         3   \n",
       "15    #aapl @applenws Thanks to the non factual dumb...         3   \n",
       "38    RT @thehill: Justice Department cites 18th cen...         3   \n",
       "45    RT @thehill: Justice Department cites 18th cen...         3   \n",
       "46    @thehill @Apple I cite the us constitution whe...         1   \n",
       "...                                                 ...       ...   \n",
       "3853  So @Apple just gave me a huge middle finger to...         1   \n",
       "3869  Apple Is Warming Up To Social Media: Apple is ...         3   \n",
       "3870  Apple Is Warming Up To Social Media: Apple is ...         3   \n",
       "3874  Apple Is Warming Up To Social Media: Apple is ...         3   \n",
       "3881  (Via FC) Apple Is Warming Up To Social Media -...         3   \n",
       "\n",
       "     BERTweet_sentiment  \n",
       "12                    3  \n",
       "15                    3  \n",
       "38                    3  \n",
       "45                    3  \n",
       "46                    1  \n",
       "...                 ...  \n",
       "3853                  1  \n",
       "3869                  3  \n",
       "3870                  3  \n",
       "3874                  3  \n",
       "3881                  3  \n",
       "\n",
       "[286 rows x 5 columns]"
      ]
     },
     "execution_count": 21,
     "metadata": {},
     "output_type": "execute_result"
    }
   ],
   "source": [
    "correct"
   ]
  },
  {
   "cell_type": "code",
   "execution_count": 22,
   "id": "0b17a467-a521-4f37-9616-c9b925356660",
   "metadata": {},
   "outputs": [],
   "source": [
    "incorrect = twitter_test[twitter_test['sentiment'] != twitter_test['BERTweet_sentiment']]"
   ]
  },
  {
   "cell_type": "code",
   "execution_count": 23,
   "id": "45b58f07-ebe3-4c83-b614-d1e154e358dd",
   "metadata": {},
   "outputs": [
    {
     "data": {
      "text/html": [
       "<div>\n",
       "<style scoped>\n",
       "    .dataframe tbody tr th:only-of-type {\n",
       "        vertical-align: middle;\n",
       "    }\n",
       "\n",
       "    .dataframe tbody tr th {\n",
       "        vertical-align: top;\n",
       "    }\n",
       "\n",
       "    .dataframe thead th {\n",
       "        text-align: right;\n",
       "    }\n",
       "</style>\n",
       "<table border=\"1\" class=\"dataframe\">\n",
       "  <thead>\n",
       "    <tr style=\"text-align: right;\">\n",
       "      <th></th>\n",
       "      <th>dataset</th>\n",
       "      <th>tweet_id</th>\n",
       "      <th>text</th>\n",
       "      <th>sentiment</th>\n",
       "      <th>BERTweet_sentiment</th>\n",
       "    </tr>\n",
       "  </thead>\n",
       "  <tbody>\n",
       "    <tr>\n",
       "      <th>43</th>\n",
       "      <td>twitter_apple</td>\n",
       "      <td>623495556</td>\n",
       "      <td>RT @thehill: Justice Department cites 18th cen...</td>\n",
       "      <td>1</td>\n",
       "      <td>3</td>\n",
       "    </tr>\n",
       "    <tr>\n",
       "      <th>273</th>\n",
       "      <td>twitter_apple</td>\n",
       "      <td>623495786</td>\n",
       "      <td>#AAPL $AAPL daily....wedge... http://t.co/RSkk...</td>\n",
       "      <td>not_relevant</td>\n",
       "      <td>3</td>\n",
       "    </tr>\n",
       "    <tr>\n",
       "      <th>311</th>\n",
       "      <td>twitter_apple</td>\n",
       "      <td>623495824</td>\n",
       "      <td>$AAPL #AAPL green right now. Hope it stays.</td>\n",
       "      <td>3</td>\n",
       "      <td>5</td>\n",
       "    </tr>\n",
       "    <tr>\n",
       "      <th>337</th>\n",
       "      <td>twitter_apple</td>\n",
       "      <td>623495850</td>\n",
       "      <td>TheStreet:  #Android Phones to Dominate Throug...</td>\n",
       "      <td>5</td>\n",
       "      <td>3</td>\n",
       "    </tr>\n",
       "    <tr>\n",
       "      <th>351</th>\n",
       "      <td>twitter_apple</td>\n",
       "      <td>623495864</td>\n",
       "      <td>CNBCTV:  #Cramer: Trading #Apple suckers game ...</td>\n",
       "      <td>1</td>\n",
       "      <td>3</td>\n",
       "    </tr>\n",
       "    <tr>\n",
       "      <th>...</th>\n",
       "      <td>...</td>\n",
       "      <td>...</td>\n",
       "      <td>...</td>\n",
       "      <td>...</td>\n",
       "      <td>...</td>\n",
       "    </tr>\n",
       "    <tr>\n",
       "      <th>3508</th>\n",
       "      <td>twitter_apple</td>\n",
       "      <td>623499038</td>\n",
       "      <td>I applied for @apple's 'head of social media' ...</td>\n",
       "      <td>3</td>\n",
       "      <td>1</td>\n",
       "    </tr>\n",
       "    <tr>\n",
       "      <th>3567</th>\n",
       "      <td>twitter_apple</td>\n",
       "      <td>623499097</td>\n",
       "      <td>@LydiasLyfe @BionicBombshell @Apple Apple bett...</td>\n",
       "      <td>3</td>\n",
       "      <td>1</td>\n",
       "    </tr>\n",
       "    <tr>\n",
       "      <th>3728</th>\n",
       "      <td>twitter_apple</td>\n",
       "      <td>623499258</td>\n",
       "      <td>Apple again orders app developer to remove a u...</td>\n",
       "      <td>3</td>\n",
       "      <td>1</td>\n",
       "    </tr>\n",
       "    <tr>\n",
       "      <th>3742</th>\n",
       "      <td>twitter_apple</td>\n",
       "      <td>623499272</td>\n",
       "      <td>Apple Inc., GoPro Inc Products Are Go-To Gifts...</td>\n",
       "      <td>5</td>\n",
       "      <td>3</td>\n",
       "    </tr>\n",
       "    <tr>\n",
       "      <th>3790</th>\n",
       "      <td>twitter_apple</td>\n",
       "      <td>623499320</td>\n",
       "      <td>Five Apple predictions for 2015. I disagree ab...</td>\n",
       "      <td>5</td>\n",
       "      <td>3</td>\n",
       "    </tr>\n",
       "  </tbody>\n",
       "</table>\n",
       "<p>103 rows × 5 columns</p>\n",
       "</div>"
      ],
      "text/plain": [
       "            dataset   tweet_id  \\\n",
       "43    twitter_apple  623495556   \n",
       "273   twitter_apple  623495786   \n",
       "311   twitter_apple  623495824   \n",
       "337   twitter_apple  623495850   \n",
       "351   twitter_apple  623495864   \n",
       "...             ...        ...   \n",
       "3508  twitter_apple  623499038   \n",
       "3567  twitter_apple  623499097   \n",
       "3728  twitter_apple  623499258   \n",
       "3742  twitter_apple  623499272   \n",
       "3790  twitter_apple  623499320   \n",
       "\n",
       "                                                   text     sentiment  \\\n",
       "43    RT @thehill: Justice Department cites 18th cen...             1   \n",
       "273   #AAPL $AAPL daily....wedge... http://t.co/RSkk...  not_relevant   \n",
       "311         $AAPL #AAPL green right now. Hope it stays.             3   \n",
       "337   TheStreet:  #Android Phones to Dominate Throug...             5   \n",
       "351   CNBCTV:  #Cramer: Trading #Apple suckers game ...             1   \n",
       "...                                                 ...           ...   \n",
       "3508  I applied for @apple's 'head of social media' ...             3   \n",
       "3567  @LydiasLyfe @BionicBombshell @Apple Apple bett...             3   \n",
       "3728  Apple again orders app developer to remove a u...             3   \n",
       "3742  Apple Inc., GoPro Inc Products Are Go-To Gifts...             5   \n",
       "3790  Five Apple predictions for 2015. I disagree ab...             5   \n",
       "\n",
       "     BERTweet_sentiment  \n",
       "43                    3  \n",
       "273                   3  \n",
       "311                   5  \n",
       "337                   3  \n",
       "351                   3  \n",
       "...                 ...  \n",
       "3508                  1  \n",
       "3567                  1  \n",
       "3728                  1  \n",
       "3742                  3  \n",
       "3790                  3  \n",
       "\n",
       "[103 rows x 5 columns]"
      ]
     },
     "execution_count": 23,
     "metadata": {},
     "output_type": "execute_result"
    }
   ],
   "source": [
    "incorrect"
   ]
  },
  {
   "cell_type": "markdown",
   "id": "5c4b5afb-a9cc-425e-9c82-23f535da3c8c",
   "metadata": {},
   "source": [
    "# Save Model"
   ]
  },
  {
   "cell_type": "code",
   "execution_count": 24,
   "id": "a4323bae-980d-40f6-91ae-941d207a6750",
   "metadata": {},
   "outputs": [],
   "source": [
    "import pickle\n",
    "model_fname = 'models/BERTweet_twitter_apple.sav'\n",
    "pickle.dump(bertweet_experiment_full, open(model_fname, 'wb'))"
   ]
  },
  {
   "cell_type": "code",
   "execution_count": null,
   "id": "fae2984c-fd4a-4af9-91aa-3a6ceb712573",
   "metadata": {},
   "outputs": [],
   "source": []
  }
 ],
 "metadata": {
  "kernelspec": {
   "display_name": "nlu",
   "language": "python",
   "name": "nlu"
  },
  "language_info": {
   "codemirror_mode": {
    "name": "ipython",
    "version": 3
   },
   "file_extension": ".py",
   "mimetype": "text/x-python",
   "name": "python",
   "nbconvert_exporter": "python",
   "pygments_lexer": "ipython3",
   "version": "3.8.12"
  }
 },
 "nbformat": 4,
 "nbformat_minor": 5
}

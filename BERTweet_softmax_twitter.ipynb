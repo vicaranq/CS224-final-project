{
 "cells": [
  {
   "cell_type": "markdown",
   "id": "47e8f743-ceab-449c-9ee7-200a1785cb16",
   "metadata": {},
   "source": [
    "# Use BERTweet Representations with LogisticRegression Softmax Classifier"
   ]
  },
  {
   "cell_type": "code",
   "execution_count": 2,
   "id": "30dae3b5-f005-418c-8e46-9bd8758cf351",
   "metadata": {},
   "outputs": [
    {
     "name": "stderr",
     "output_type": "stream",
     "text": [
      "Some weights of RobertaModel were not initialized from the model checkpoint at vinai/bertweet-large and are newly initialized: ['roberta.pooler.dense.weight', 'roberta.pooler.dense.bias']\n",
      "You should probably TRAIN this model on a down-stream task to be able to use it for predictions and inference.\n"
     ]
    }
   ],
   "source": [
    "from collections import Counter\n",
    "import os\n",
    "import numpy as np\n",
    "import pandas as pd\n",
    "import torch\n",
    "from torch import nn, optim\n",
    "import torch.nn as nn\n",
    "from torch.utils.data import TensorDataset, Dataset, DataLoader\n",
    "from sklearn.model_selection import train_test_split\n",
    "from sklearn.linear_model import LogisticRegression\n",
    "from sklearn.model_selection import cross_val_score\n",
    "\n",
    "import dataset\n",
    "import vsm\n",
    "import sst"
   ]
  },
  {
   "cell_type": "code",
   "execution_count": 3,
   "id": "1c995c70-1ec0-47c7-be85-5a622874c493",
   "metadata": {},
   "outputs": [],
   "source": [
    "TWITTER = 2\n",
    "TWITTER_AIRLINES = 3\n",
    "TWITTER_APPLE = 4"
   ]
  },
  {
   "cell_type": "code",
   "execution_count": 4,
   "id": "5059a022-607d-493b-8e7e-82937409db1c",
   "metadata": {},
   "outputs": [],
   "source": [
    "twitter_train, twitter_validate, twitter_test =  dataset.dataset_reader(TWITTER)\n",
    "[twitter_train, twitter_validate, twitter_test] = list(map(lambda ds : dataset.prune_columns(2, ds), [twitter_train, twitter_validate, twitter_test]))"
   ]
  },
  {
   "cell_type": "code",
   "execution_count": 5,
   "id": "b41be400-82cf-469e-96b0-522cf9de12b3",
   "metadata": {},
   "outputs": [],
   "source": [
    "# Unique values of sentiment\n",
    "twitter_sentiment_labels = twitter_train['sentiment'].unique()"
   ]
  },
  {
   "cell_type": "code",
   "execution_count": 6,
   "id": "a7bb900e-ec8f-4e7c-92e2-987c363777e0",
   "metadata": {},
   "outputs": [
    {
     "data": {
      "text/plain": [
       "(261385, 5000)"
      ]
     },
     "execution_count": 6,
     "metadata": {},
     "output_type": "execute_result"
    }
   ],
   "source": [
    "twitter_train.size, twitter_validate.size"
   ]
  },
  {
   "cell_type": "code",
   "execution_count": 6,
   "id": "8d2c69f6-6084-4316-899d-b2ec9d52d16a",
   "metadata": {},
   "outputs": [
    {
     "name": "stdout",
     "output_type": "stream",
     "text": [
      "              precision    recall  f1-score   support\n",
      "\n",
      "  Irrelevant      0.576     0.198     0.294       172\n",
      "    Negative      0.521     0.695     0.596       266\n",
      "     Neutral      0.575     0.512     0.542       285\n",
      "    Positive      0.491     0.588     0.535       277\n",
      "\n",
      "    accuracy                          0.528      1000\n",
      "   macro avg      0.541     0.498     0.492      1000\n",
      "weighted avg      0.538     0.528     0.512      1000\n",
      "\n",
      "CPU times: user 52min 56s, sys: 6.29 s, total: 53min 2s\n",
      "Wall time: 13min 42s\n"
     ]
    }
   ],
   "source": [
    "%%time\n",
    "bertweet_experiment1500 = sst.experiment(\n",
    "    twitter_train[:1500], # \n",
    "    dataset.bert_tweet_phi,\n",
    "    dataset.fit_softmax_classifier,\n",
    "    assess_dataframes=[twitter_validate[:1000]],\n",
    "    vectorize=False)"
   ]
  },
  {
   "cell_type": "code",
   "execution_count": 7,
   "id": "6a5cdd3f-d4b1-4ccd-9f65-1ddf47011ebe",
   "metadata": {},
   "outputs": [
    {
     "name": "stdout",
     "output_type": "stream",
     "text": [
      "              precision    recall  f1-score   support\n",
      "\n",
      "  Irrelevant      0.545     0.279     0.369       172\n",
      "    Negative      0.572     0.703     0.631       266\n",
      "     Neutral      0.603     0.544     0.572       285\n",
      "    Positive      0.552     0.653     0.598       277\n",
      "\n",
      "    accuracy                          0.571      1000\n",
      "   macro avg      0.568     0.545     0.543      1000\n",
      "weighted avg      0.571     0.571     0.560      1000\n",
      "\n",
      "CPU times: user 1h 18min 47s, sys: 8.88 s, total: 1h 18min 55s\n",
      "Wall time: 20min 25s\n"
     ]
    }
   ],
   "source": [
    "%%time\n",
    "bertweet_experiment3000 = sst.experiment(\n",
    "    twitter_train[:3000], # \n",
    "    dataset.bert_tweet_phi,\n",
    "    dataset.fit_softmax_classifier,\n",
    "    assess_dataframes=[twitter_validate[:1000]],\n",
    "    vectorize=False)"
   ]
  },
  {
   "cell_type": "code",
   "execution_count": 8,
   "id": "1ec4292a-caa6-4f86-a98e-dd673983774d",
   "metadata": {},
   "outputs": [
    {
     "name": "stdout",
     "output_type": "stream",
     "text": [
      "              precision    recall  f1-score   support\n",
      "\n",
      "  Irrelevant      0.579     0.256     0.355       172\n",
      "    Negative      0.589     0.756     0.662       266\n",
      "     Neutral      0.601     0.533     0.565       285\n",
      "    Positive      0.564     0.671     0.613       277\n",
      "\n",
      "    accuracy                          0.583      1000\n",
      "   macro avg      0.583     0.554     0.549      1000\n",
      "weighted avg      0.584     0.583     0.568      1000\n",
      "\n",
      "CPU times: user 2h 16min 44s, sys: 16 s, total: 2h 17min\n",
      "Wall time: 35min 38s\n"
     ]
    }
   ],
   "source": [
    "%%time\n",
    "bertweet_experiment6000 = sst.experiment(\n",
    "    twitter_train[:6000], # \n",
    "    dataset.bert_tweet_phi,\n",
    "    dataset.fit_softmax_classifier,\n",
    "    assess_dataframes=[twitter_validate[:1500]],\n",
    "    vectorize=False)"
   ]
  },
  {
   "cell_type": "code",
   "execution_count": 9,
   "id": "dbe91cba-a1d6-4bc5-8c0b-f2272bdee7bf",
   "metadata": {},
   "outputs": [
    {
     "name": "stdout",
     "output_type": "stream",
     "text": [
      "              precision    recall  f1-score   support\n",
      "\n",
      "  Irrelevant      0.565     0.302     0.394       172\n",
      "    Negative      0.604     0.767     0.675       266\n",
      "     Neutral      0.617     0.537     0.574       285\n",
      "    Positive      0.584     0.679     0.628       277\n",
      "\n",
      "    accuracy                          0.597      1000\n",
      "   macro avg      0.592     0.571     0.568      1000\n",
      "weighted avg      0.595     0.597     0.585      1000\n",
      "\n",
      "CPU times: user 4h 22min 45s, sys: 41.2 s, total: 4h 23min 26s\n",
      "Wall time: 1h 8min 20s\n"
     ]
    }
   ],
   "source": [
    "%%time\n",
    "bertweet_experiment12000 = sst.experiment(\n",
    "    twitter_train[:12000], # \n",
    "    dataset.bert_tweet_phi,\n",
    "    dataset.fit_softmax_classifier,\n",
    "    assess_dataframes=[twitter_validate[:2000]],\n",
    "    vectorize=False)"
   ]
  },
  {
   "cell_type": "code",
   "execution_count": null,
   "id": "4326b274-a348-4623-a1eb-3142a2a52b2b",
   "metadata": {},
   "outputs": [],
   "source": [
    "%%time\n",
    "bertweet_experiment_full = sst.experiment(\n",
    "    twitter_train, # \n",
    "    dataset.bert_tweet_phi,\n",
    "    dataset.fit_softmax_classifier,\n",
    "    assess_dataframes=[twitter_validate],\n",
    "    vectorize=False)"
   ]
  },
  {
   "cell_type": "code",
   "execution_count": null,
   "id": "d54b31f7-4cb2-4e55-b20d-ccde15e31350",
   "metadata": {},
   "outputs": [],
   "source": [
    "bertweet_experiment_full.keys()"
   ]
  },
  {
   "cell_type": "code",
   "execution_count": null,
   "id": "a7bac1a5-92e3-468e-847b-e759eb09a2bc",
   "metadata": {},
   "outputs": [],
   "source": [
    "bertweet_experiment_full['scores']"
   ]
  },
  {
   "cell_type": "code",
   "execution_count": null,
   "id": "8a0ed646-5437-43db-a2f5-7938349cea10",
   "metadata": {},
   "outputs": [],
   "source": [
    "bertweet_experiment_full['metric']"
   ]
  },
  {
   "cell_type": "code",
   "execution_count": null,
   "id": "95567ac1-8815-4694-96c7-dff72617250b",
   "metadata": {
    "tags": []
   },
   "outputs": [],
   "source": [
    "bertweet_experiment_full['model']"
   ]
  },
  {
   "cell_type": "markdown",
   "id": "d7ccb547-1174-471f-b6e5-e9239d23fe4b",
   "metadata": {},
   "source": [
    "# Test BERT trained on Tweets on test set"
   ]
  },
  {
   "cell_type": "code",
   "execution_count": null,
   "id": "1f4d5a18-66b3-467b-aea7-59f196b07bf4",
   "metadata": {},
   "outputs": [],
   "source": [
    "def predict_one_bert(text):\n",
    "    # List of tokenized examples:\n",
    "    X = [bertweet_experiment_full['phi'](text)]\n",
    "    # Standard `predict` step on a list of lists of str:\n",
    "    preds = bertweet_experiment_full['model'].predict(X)\n",
    "    # Be sure to return the only member of the predictions,\n",
    "    # rather than the singleton list:\n",
    "    return preds[0]"
   ]
  },
  {
   "cell_type": "code",
   "execution_count": null,
   "id": "8ca03e9e-f006-40a3-aa3a-681dacbac891",
   "metadata": {},
   "outputs": [],
   "source": [
    "# %% time\n",
    "# twitter_test['prediction'] = twitter_test['text'].apply(predict_one_bert)"
   ]
  },
  {
   "cell_type": "code",
   "execution_count": null,
   "id": "145568c0-81b1-485f-9cc5-8c5fcd4ed951",
   "metadata": {},
   "outputs": [],
   "source": [
    "import importlib\n",
    "importlib.reload(sst)"
   ]
  },
  {
   "cell_type": "code",
   "execution_count": null,
   "id": "09db34c2-0a98-4627-ae75-75653fdde41e",
   "metadata": {},
   "outputs": [],
   "source": [
    "%%time\n",
    "bertweet_test = sst.evaluate(\n",
    "    bertweet_experiment_full['model'],\n",
    "    bertweet_experiment_full['phi'],\n",
    "    assess_dataframes=[twitter_test],\n",
    "    vectorizer=bertweet_experiment_full['assess_datasets'][0]['vectorizer'],\n",
    "    vectorize=False\n",
    ")"
   ]
  },
  {
   "cell_type": "code",
   "execution_count": null,
   "id": "f49ec6d2-f389-4995-b1d9-5003bff03522",
   "metadata": {},
   "outputs": [],
   "source": [
    "type(bertweet_test['predictions'][0])"
   ]
  },
  {
   "cell_type": "code",
   "execution_count": 20,
   "id": "6dbc9350-3873-4226-8430-e1851b8f1a59",
   "metadata": {},
   "outputs": [],
   "source": [
    "predictions_fname ='results/BERTweet_predictions_on_twitter_test.csv'\n",
    "df = bertweet_test['predictions'][0]\n",
    "pd.DataFrame(df).to_csv(predictions_fname)"
   ]
  },
  {
   "cell_type": "code",
   "execution_count": null,
   "id": "13e45694-66b9-41f2-9159-70f048dbae48",
   "metadata": {
    "tags": []
   },
   "outputs": [],
   "source": [
    "encoding_fname ='results/BERTweet_encodings_on_twitter_test.csv'\n",
    "encoded_test = bertweet_test['assess_datasets'][0]\n",
    "pd.DataFrame(encoded_test).to_csv(encoding_fname)"
   ]
  },
  {
   "cell_type": "code",
   "execution_count": null,
   "id": "eb5ae92e-80a6-44f3-827b-a79eab788ddc",
   "metadata": {},
   "outputs": [],
   "source": [
    "predictions_df = pd.DataFrame(df)\n",
    "predictions_df = predictions_df.set_index(twitter_test.index)\n",
    "predictions_df"
   ]
  },
  {
   "cell_type": "code",
   "execution_count": null,
   "id": "ed7099ef-7ce4-4346-a0fd-fea8fa9f4580",
   "metadata": {},
   "outputs": [],
   "source": [
    "twitter_test['BERTweet_sentiment'] = predictions_df"
   ]
  },
  {
   "cell_type": "code",
   "execution_count": null,
   "id": "71be05a5-02e8-4315-88a7-0651caf140b9",
   "metadata": {},
   "outputs": [],
   "source": [
    "twitter_test"
   ]
  },
  {
   "cell_type": "code",
   "execution_count": null,
   "id": "cf9c4767-072f-4201-9c43-e65c04e97858",
   "metadata": {},
   "outputs": [],
   "source": [
    "test_predictions_fname ='results/BERTweet_predictions_added_to_twitter_test.csv'\n",
    "twitter_test.to_csv(test_predictions_fname)"
   ]
  },
  {
   "cell_type": "code",
   "execution_count": null,
   "id": "d1b799ce-e850-4035-bae7-8ddb45eecb27",
   "metadata": {},
   "outputs": [],
   "source": [
    "correct = twitter_test[twitter_test['sentiment'] == twitter_test['BERTweet_sentiment']]"
   ]
  },
  {
   "cell_type": "code",
   "execution_count": null,
   "id": "682cdd73-a337-436e-a3f5-1ee6bb8a8ee1",
   "metadata": {},
   "outputs": [],
   "source": [
    "correct"
   ]
  },
  {
   "cell_type": "code",
   "execution_count": null,
   "id": "0b17a467-a521-4f37-9616-c9b925356660",
   "metadata": {},
   "outputs": [],
   "source": [
    "incorrect = twitter_test[twitter_test['sentiment'] != twitter_test['BERTweet_sentiment']]"
   ]
  },
  {
   "cell_type": "code",
   "execution_count": null,
   "id": "45b58f07-ebe3-4c83-b614-d1e154e358dd",
   "metadata": {},
   "outputs": [],
   "source": [
    "incorrect"
   ]
  },
  {
   "cell_type": "code",
   "execution_count": null,
   "id": "ff9d3b45-ccca-4c20-b38e-fc5278d24d0e",
   "metadata": {},
   "outputs": [],
   "source": [
    "irrelevant = twitter_test[twitter_test['sentiment'] == 'Irrelevant']\n",
    "irrelevant"
   ]
  },
  {
   "cell_type": "markdown",
   "id": "7cc61387-6176-4775-b332-99b161a5fc69",
   "metadata": {},
   "source": [
    "# Save Model"
   ]
  },
  {
   "cell_type": "code",
   "execution_count": null,
   "id": "39d9e185-1e2e-43d1-b776-af27747750b6",
   "metadata": {},
   "outputs": [],
   "source": [
    "import pickle\n",
    "model_fname = 'models/BERTweet_twitter_model.sav'\n",
    "pickle.dump(bertweet_experiment_full['model'], open(model_fname, 'wb'))"
   ]
  },
  {
   "cell_type": "code",
   "execution_count": null,
   "id": "6daebf7f-eeb2-4831-b5cd-ac245929614a",
   "metadata": {},
   "outputs": [],
   "source": []
  }
 ],
 "metadata": {
  "kernelspec": {
   "display_name": "nlu",
   "language": "python",
   "name": "nlu"
  },
  "language_info": {
   "codemirror_mode": {
    "name": "ipython",
    "version": 3
   },
   "file_extension": ".py",
   "mimetype": "text/x-python",
   "name": "python",
   "nbconvert_exporter": "python",
   "pygments_lexer": "ipython3",
   "version": "3.8.12"
  }
 },
 "nbformat": 4,
 "nbformat_minor": 5
}

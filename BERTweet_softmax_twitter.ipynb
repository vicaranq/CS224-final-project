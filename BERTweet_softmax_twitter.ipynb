{
 "cells": [
  {
   "cell_type": "markdown",
   "id": "47e8f743-ceab-449c-9ee7-200a1785cb16",
   "metadata": {},
   "source": [
    "# Use BERTweet Representations with LogisticRegression Softmax Classifier"
   ]
  },
  {
   "cell_type": "code",
   "execution_count": 1,
   "id": "30dae3b5-f005-418c-8e46-9bd8758cf351",
   "metadata": {},
   "outputs": [
    {
     "data": {
      "application/vnd.jupyter.widget-view+json": {
       "model_id": "785750a3eef0454eab6838f6492fd608",
       "version_major": 2,
       "version_minor": 0
      },
      "text/plain": [
       "Downloading:   0%|          | 0.00/213k [00:00<?, ?B/s]"
      ]
     },
     "metadata": {},
     "output_type": "display_data"
    },
    {
     "data": {
      "application/vnd.jupyter.widget-view+json": {
       "model_id": "6ad4d15e2911439fb02eb1766ac2029e",
       "version_major": 2,
       "version_minor": 0
      },
      "text/plain": [
       "Downloading:   0%|          | 0.00/570 [00:00<?, ?B/s]"
      ]
     },
     "metadata": {},
     "output_type": "display_data"
    },
    {
     "data": {
      "application/vnd.jupyter.widget-view+json": {
       "model_id": "abc5cf9a3c7c4566977fd0c5ab285ae0",
       "version_major": 2,
       "version_minor": 0
      },
      "text/plain": [
       "Downloading:   0%|          | 0.00/436M [00:00<?, ?B/s]"
      ]
     },
     "metadata": {},
     "output_type": "display_data"
    },
    {
     "data": {
      "application/vnd.jupyter.widget-view+json": {
       "model_id": "336eac65d0a2432ea99f29d3d48ad4a1",
       "version_major": 2,
       "version_minor": 0
      },
      "text/plain": [
       "Downloading:   0%|          | 0.00/614 [00:00<?, ?B/s]"
      ]
     },
     "metadata": {},
     "output_type": "display_data"
    },
    {
     "data": {
      "application/vnd.jupyter.widget-view+json": {
       "model_id": "ac6220cb66d84c6d8252f06fb3f51e4b",
       "version_major": 2,
       "version_minor": 0
      },
      "text/plain": [
       "Downloading:   0%|          | 0.00/899k [00:00<?, ?B/s]"
      ]
     },
     "metadata": {},
     "output_type": "display_data"
    },
    {
     "data": {
      "application/vnd.jupyter.widget-view+json": {
       "model_id": "b95941f9f324401092d91ec34bd69882",
       "version_major": 2,
       "version_minor": 0
      },
      "text/plain": [
       "Downloading:   0%|          | 0.00/456k [00:00<?, ?B/s]"
      ]
     },
     "metadata": {},
     "output_type": "display_data"
    },
    {
     "data": {
      "application/vnd.jupyter.widget-view+json": {
       "model_id": "a7b1f983f28c4e1f819557432c86a3ac",
       "version_major": 2,
       "version_minor": 0
      },
      "text/plain": [
       "Downloading:   0%|          | 0.00/1.36M [00:00<?, ?B/s]"
      ]
     },
     "metadata": {},
     "output_type": "display_data"
    },
    {
     "data": {
      "application/vnd.jupyter.widget-view+json": {
       "model_id": "9c2d49bce162456d82e627ecf7c1a147",
       "version_major": 2,
       "version_minor": 0
      },
      "text/plain": [
       "Downloading:   0%|          | 0.00/1.42G [00:00<?, ?B/s]"
      ]
     },
     "metadata": {},
     "output_type": "display_data"
    },
    {
     "name": "stderr",
     "output_type": "stream",
     "text": [
      "Some weights of RobertaModel were not initialized from the model checkpoint at vinai/bertweet-large and are newly initialized: ['roberta.pooler.dense.weight', 'roberta.pooler.dense.bias']\n",
      "You should probably TRAIN this model on a down-stream task to be able to use it for predictions and inference.\n"
     ]
    }
   ],
   "source": [
    "from collections import Counter\n",
    "import os\n",
    "import numpy as np\n",
    "import pandas as pd\n",
    "import torch\n",
    "from torch import nn, optim\n",
    "import torch.nn as nn\n",
    "from torch.utils.data import TensorDataset, Dataset, DataLoader\n",
    "from sklearn.model_selection import train_test_split\n",
    "from sklearn.linear_model import LogisticRegression\n",
    "from sklearn.model_selection import cross_val_score\n",
    "\n",
    "import dataset\n",
    "import vsm\n",
    "import sst"
   ]
  },
  {
   "cell_type": "code",
   "execution_count": 2,
   "id": "1c995c70-1ec0-47c7-be85-5a622874c493",
   "metadata": {},
   "outputs": [],
   "source": [
    "TWITTER = 2\n",
    "TWITTER_AIRLINES = 3\n",
    "TWITTER_APPLE = 4"
   ]
  },
  {
   "cell_type": "code",
   "execution_count": 3,
   "id": "5059a022-607d-493b-8e7e-82937409db1c",
   "metadata": {},
   "outputs": [],
   "source": [
    "twitter_train, twitter_validate, twitter_test =  dataset.dataset_reader(TWITTER)\n",
    "[twitter_train, twitter_validate, twitter_test] = list(map(lambda ds : dataset.prune_columns(2, ds), [twitter_train, twitter_validate, twitter_test]))"
   ]
  },
  {
   "cell_type": "code",
   "execution_count": 4,
   "id": "b41be400-82cf-469e-96b0-522cf9de12b3",
   "metadata": {},
   "outputs": [],
   "source": [
    "# Unique values of sentiment\n",
    "twitter_sentiment_labels = twitter_train['sentiment'].unique()"
   ]
  },
  {
   "cell_type": "code",
   "execution_count": 5,
   "id": "a7bb900e-ec8f-4e7c-92e2-987c363777e0",
   "metadata": {},
   "outputs": [
    {
     "data": {
      "text/plain": [
       "(261385, 5000)"
      ]
     },
     "execution_count": 5,
     "metadata": {},
     "output_type": "execute_result"
    }
   ],
   "source": [
    "twitter_train.size, twitter_validate.size"
   ]
  },
  {
   "cell_type": "code",
   "execution_count": 6,
   "id": "8d2c69f6-6084-4316-899d-b2ec9d52d16a",
   "metadata": {},
   "outputs": [
    {
     "name": "stdout",
     "output_type": "stream",
     "text": [
      "              precision    recall  f1-score   support\n",
      "\n",
      "  Irrelevant      0.576     0.198     0.294       172\n",
      "    Negative      0.521     0.695     0.596       266\n",
      "     Neutral      0.575     0.512     0.542       285\n",
      "    Positive      0.491     0.588     0.535       277\n",
      "\n",
      "    accuracy                          0.528      1000\n",
      "   macro avg      0.541     0.498     0.492      1000\n",
      "weighted avg      0.538     0.528     0.512      1000\n",
      "\n",
      "CPU times: user 52min 56s, sys: 6.29 s, total: 53min 2s\n",
      "Wall time: 13min 42s\n"
     ]
    }
   ],
   "source": [
    "%%time\n",
    "bertweet_experiment1500 = sst.experiment(\n",
    "    twitter_train[:1500], # \n",
    "    dataset.bert_tweet_phi,\n",
    "    dataset.fit_softmax_classifier,\n",
    "    assess_dataframes=[twitter_validate[:1000]],\n",
    "    vectorize=False)"
   ]
  },
  {
   "cell_type": "code",
   "execution_count": 7,
   "id": "6a5cdd3f-d4b1-4ccd-9f65-1ddf47011ebe",
   "metadata": {},
   "outputs": [
    {
     "name": "stdout",
     "output_type": "stream",
     "text": [
      "              precision    recall  f1-score   support\n",
      "\n",
      "  Irrelevant      0.545     0.279     0.369       172\n",
      "    Negative      0.572     0.703     0.631       266\n",
      "     Neutral      0.603     0.544     0.572       285\n",
      "    Positive      0.552     0.653     0.598       277\n",
      "\n",
      "    accuracy                          0.571      1000\n",
      "   macro avg      0.568     0.545     0.543      1000\n",
      "weighted avg      0.571     0.571     0.560      1000\n",
      "\n",
      "CPU times: user 1h 18min 47s, sys: 8.88 s, total: 1h 18min 55s\n",
      "Wall time: 20min 25s\n"
     ]
    }
   ],
   "source": [
    "%%time\n",
    "bertweet_experiment3000 = sst.experiment(\n",
    "    twitter_train[:3000], # \n",
    "    dataset.bert_tweet_phi,\n",
    "    dataset.fit_softmax_classifier,\n",
    "    assess_dataframes=[twitter_validate[:1000]],\n",
    "    vectorize=False)"
   ]
  },
  {
   "cell_type": "code",
   "execution_count": 8,
   "id": "1ec4292a-caa6-4f86-a98e-dd673983774d",
   "metadata": {},
   "outputs": [
    {
     "name": "stdout",
     "output_type": "stream",
     "text": [
      "              precision    recall  f1-score   support\n",
      "\n",
      "  Irrelevant      0.579     0.256     0.355       172\n",
      "    Negative      0.589     0.756     0.662       266\n",
      "     Neutral      0.601     0.533     0.565       285\n",
      "    Positive      0.564     0.671     0.613       277\n",
      "\n",
      "    accuracy                          0.583      1000\n",
      "   macro avg      0.583     0.554     0.549      1000\n",
      "weighted avg      0.584     0.583     0.568      1000\n",
      "\n",
      "CPU times: user 2h 16min 44s, sys: 16 s, total: 2h 17min\n",
      "Wall time: 35min 38s\n"
     ]
    }
   ],
   "source": [
    "%%time\n",
    "bertweet_experiment6000 = sst.experiment(\n",
    "    twitter_train[:6000], # \n",
    "    dataset.bert_tweet_phi,\n",
    "    dataset.fit_softmax_classifier,\n",
    "    assess_dataframes=[twitter_validate[:1500]],\n",
    "    vectorize=False)"
   ]
  },
  {
   "cell_type": "code",
   "execution_count": 9,
   "id": "dbe91cba-a1d6-4bc5-8c0b-f2272bdee7bf",
   "metadata": {},
   "outputs": [
    {
     "name": "stdout",
     "output_type": "stream",
     "text": [
      "              precision    recall  f1-score   support\n",
      "\n",
      "  Irrelevant      0.565     0.302     0.394       172\n",
      "    Negative      0.604     0.767     0.675       266\n",
      "     Neutral      0.617     0.537     0.574       285\n",
      "    Positive      0.584     0.679     0.628       277\n",
      "\n",
      "    accuracy                          0.597      1000\n",
      "   macro avg      0.592     0.571     0.568      1000\n",
      "weighted avg      0.595     0.597     0.585      1000\n",
      "\n",
      "CPU times: user 4h 22min 45s, sys: 41.2 s, total: 4h 23min 26s\n",
      "Wall time: 1h 8min 20s\n"
     ]
    }
   ],
   "source": [
    "%%time\n",
    "bertweet_experiment12000 = sst.experiment(\n",
    "    twitter_train[:12000], # \n",
    "    dataset.bert_tweet_phi,\n",
    "    dataset.fit_softmax_classifier,\n",
    "    assess_dataframes=[twitter_validate[:2000]],\n",
    "    vectorize=False)"
   ]
  },
  {
   "cell_type": "code",
   "execution_count": 6,
   "id": "4326b274-a348-4623-a1eb-3142a2a52b2b",
   "metadata": {},
   "outputs": [
    {
     "name": "stdout",
     "output_type": "stream",
     "text": [
      "              precision    recall  f1-score   support\n",
      "\n",
      "  Irrelevant      0.592     0.355     0.444       172\n",
      "    Negative      0.652     0.789     0.714       266\n",
      "     Neutral      0.631     0.565     0.596       285\n",
      "    Positive      0.591     0.682     0.633       277\n",
      "\n",
      "    accuracy                          0.621      1000\n",
      "   macro avg      0.617     0.598     0.597      1000\n",
      "weighted avg      0.619     0.621     0.612      1000\n",
      "\n",
      "CPU times: user 12h 3min 34s, sys: 34min 18s, total: 12h 37min 52s\n",
      "Wall time: 4h 20min 43s\n"
     ]
    }
   ],
   "source": [
    "%%time\n",
    "bertweet_experiment_full = sst.experiment(\n",
    "    twitter_train, # \n",
    "    dataset.bert_tweet_phi,\n",
    "    dataset.fit_softmax_classifier,\n",
    "    assess_dataframes=[twitter_validate],\n",
    "    vectorize=False)"
   ]
  },
  {
   "cell_type": "code",
   "execution_count": 7,
   "id": "d54b31f7-4cb2-4e55-b20d-ccde15e31350",
   "metadata": {},
   "outputs": [
    {
     "data": {
      "text/plain": [
       "dict_keys(['model', 'phi', 'train_dataset', 'assess_datasets', 'predictions', 'metric', 'scores'])"
      ]
     },
     "execution_count": 7,
     "metadata": {},
     "output_type": "execute_result"
    }
   ],
   "source": [
    "bertweet_experiment_full.keys()"
   ]
  },
  {
   "cell_type": "code",
   "execution_count": 8,
   "id": "a7bac1a5-92e3-468e-847b-e759eb09a2bc",
   "metadata": {},
   "outputs": [
    {
     "data": {
      "text/plain": [
       "[0.5968460508410257]"
      ]
     },
     "execution_count": 8,
     "metadata": {},
     "output_type": "execute_result"
    }
   ],
   "source": [
    "bertweet_experiment_full['scores']"
   ]
  },
  {
   "cell_type": "code",
   "execution_count": 9,
   "id": "8a0ed646-5437-43db-a2f5-7938349cea10",
   "metadata": {},
   "outputs": [
    {
     "data": {
      "text/plain": [
       "'safe_macro_f1'"
      ]
     },
     "execution_count": 9,
     "metadata": {},
     "output_type": "execute_result"
    }
   ],
   "source": [
    "bertweet_experiment_full['metric']"
   ]
  },
  {
   "cell_type": "code",
   "execution_count": 10,
   "id": "95567ac1-8815-4694-96c7-dff72617250b",
   "metadata": {
    "tags": []
   },
   "outputs": [
    {
     "data": {
      "text/plain": [
       "LogisticRegression(multi_class='ovr', solver='liblinear')"
      ]
     },
     "execution_count": 10,
     "metadata": {},
     "output_type": "execute_result"
    }
   ],
   "source": [
    "bertweet_experiment_full['model']"
   ]
  },
  {
   "cell_type": "markdown",
   "id": "d7ccb547-1174-471f-b6e5-e9239d23fe4b",
   "metadata": {},
   "source": [
    "# Test BERT trained on Tweets on test set"
   ]
  },
  {
   "cell_type": "code",
   "execution_count": 11,
   "id": "1f4d5a18-66b3-467b-aea7-59f196b07bf4",
   "metadata": {},
   "outputs": [],
   "source": [
    "def predict_one_bert(text):\n",
    "    # List of tokenized examples:\n",
    "    X = [bertweet_experiment_full['phi'](text)]\n",
    "    # Standard `predict` step on a list of lists of str:\n",
    "    preds = bertweet_experiment_full['model'].predict(X)\n",
    "    # Be sure to return the only member of the predictions,\n",
    "    # rather than the singleton list:\n",
    "    return preds[0]"
   ]
  },
  {
   "cell_type": "code",
   "execution_count": 12,
   "id": "8ca03e9e-f006-40a3-aa3a-681dacbac891",
   "metadata": {},
   "outputs": [],
   "source": [
    "# %% time\n",
    "# twitter_test['prediction'] = twitter_test['text'].apply(predict_one_bert)"
   ]
  },
  {
   "cell_type": "code",
   "execution_count": 13,
   "id": "145568c0-81b1-485f-9cc5-8c5fcd4ed951",
   "metadata": {},
   "outputs": [
    {
     "data": {
      "text/plain": [
       "<module 'sst' from '/home/scpdxcs/repos/CS224-final-project/sst.py'>"
      ]
     },
     "execution_count": 13,
     "metadata": {},
     "output_type": "execute_result"
    }
   ],
   "source": [
    "import importlib\n",
    "importlib.reload(sst)"
   ]
  },
  {
   "cell_type": "code",
   "execution_count": 14,
   "id": "09db34c2-0a98-4627-ae75-75653fdde41e",
   "metadata": {},
   "outputs": [
    {
     "name": "stdout",
     "output_type": "stream",
     "text": [
      "              precision    recall  f1-score   support\n",
      "\n",
      "  Irrelevant      0.508     0.300     0.377      3976\n",
      "    Negative      0.627     0.735     0.677      6700\n",
      "     Neutral      0.568     0.523     0.545      5523\n",
      "    Positive      0.574     0.659     0.613      6206\n",
      "\n",
      "    accuracy                          0.584     22405\n",
      "   macro avg      0.569     0.554     0.553     22405\n",
      "weighted avg      0.577     0.584     0.574     22405\n",
      "\n",
      "CPU times: user 4h 57min 57s, sys: 13min 31s, total: 5h 11min 28s\n",
      "Wall time: 1h 40min 18s\n"
     ]
    }
   ],
   "source": [
    "%%time\n",
    "bertweet_test = sst.evaluate(\n",
    "    bertweet_experiment_full['model'],\n",
    "    bertweet_experiment_full['phi'],\n",
    "    assess_dataframes=[twitter_test],\n",
    "    vectorizer=bertweet_experiment_full['assess_datasets'][0]['vectorizer'],\n",
    "    vectorize=False\n",
    ")"
   ]
  },
  {
   "cell_type": "code",
   "execution_count": 15,
   "id": "f49ec6d2-f389-4995-b1d9-5003bff03522",
   "metadata": {},
   "outputs": [
    {
     "data": {
      "text/plain": [
       "numpy.ndarray"
      ]
     },
     "execution_count": 15,
     "metadata": {},
     "output_type": "execute_result"
    }
   ],
   "source": [
    "type(bertweet_test['predictions'][0])"
   ]
  },
  {
   "cell_type": "code",
   "execution_count": 16,
   "id": "6dbc9350-3873-4226-8430-e1851b8f1a59",
   "metadata": {},
   "outputs": [],
   "source": [
    "predictions_fname ='results/BERTweet_predictions_on_twitter_test.csv'\n",
    "df = bertweet_test['predictions'][0]\n",
    "pd.DataFrame(df).to_csv(predictions_fname)"
   ]
  },
  {
   "cell_type": "code",
   "execution_count": 17,
   "id": "13e45694-66b9-41f2-9159-70f048dbae48",
   "metadata": {
    "tags": []
   },
   "outputs": [],
   "source": [
    "encoding_fname ='results/BERTweet_encodings_on_twitter_test.csv'\n",
    "encoded_test = bertweet_test['assess_datasets'][0]\n",
    "pd.DataFrame(encoded_test).to_csv(encoding_fname)"
   ]
  },
  {
   "cell_type": "code",
   "execution_count": 18,
   "id": "eb5ae92e-80a6-44f3-827b-a79eab788ddc",
   "metadata": {},
   "outputs": [
    {
     "data": {
      "text/html": [
       "<div>\n",
       "<style scoped>\n",
       "    .dataframe tbody tr th:only-of-type {\n",
       "        vertical-align: middle;\n",
       "    }\n",
       "\n",
       "    .dataframe tbody tr th {\n",
       "        vertical-align: top;\n",
       "    }\n",
       "\n",
       "    .dataframe thead th {\n",
       "        text-align: right;\n",
       "    }\n",
       "</style>\n",
       "<table border=\"1\" class=\"dataframe\">\n",
       "  <thead>\n",
       "    <tr style=\"text-align: right;\">\n",
       "      <th></th>\n",
       "      <th>0</th>\n",
       "    </tr>\n",
       "  </thead>\n",
       "  <tbody>\n",
       "    <tr>\n",
       "      <th>3</th>\n",
       "      <td>Positive</td>\n",
       "    </tr>\n",
       "    <tr>\n",
       "      <th>7</th>\n",
       "      <td>Neutral</td>\n",
       "    </tr>\n",
       "    <tr>\n",
       "      <th>8</th>\n",
       "      <td>Positive</td>\n",
       "    </tr>\n",
       "    <tr>\n",
       "      <th>12</th>\n",
       "      <td>Neutral</td>\n",
       "    </tr>\n",
       "    <tr>\n",
       "      <th>13</th>\n",
       "      <td>Neutral</td>\n",
       "    </tr>\n",
       "    <tr>\n",
       "      <th>...</th>\n",
       "      <td>...</td>\n",
       "    </tr>\n",
       "    <tr>\n",
       "      <th>74657</th>\n",
       "      <td>Neutral</td>\n",
       "    </tr>\n",
       "    <tr>\n",
       "      <th>74661</th>\n",
       "      <td>Neutral</td>\n",
       "    </tr>\n",
       "    <tr>\n",
       "      <th>74662</th>\n",
       "      <td>Neutral</td>\n",
       "    </tr>\n",
       "    <tr>\n",
       "      <th>74671</th>\n",
       "      <td>Neutral</td>\n",
       "    </tr>\n",
       "    <tr>\n",
       "      <th>74676</th>\n",
       "      <td>Negative</td>\n",
       "    </tr>\n",
       "  </tbody>\n",
       "</table>\n",
       "<p>22405 rows × 1 columns</p>\n",
       "</div>"
      ],
      "text/plain": [
       "              0\n",
       "3      Positive\n",
       "7       Neutral\n",
       "8      Positive\n",
       "12      Neutral\n",
       "13      Neutral\n",
       "...         ...\n",
       "74657   Neutral\n",
       "74661   Neutral\n",
       "74662   Neutral\n",
       "74671   Neutral\n",
       "74676  Negative\n",
       "\n",
       "[22405 rows x 1 columns]"
      ]
     },
     "execution_count": 18,
     "metadata": {},
     "output_type": "execute_result"
    }
   ],
   "source": [
    "predictions_df = pd.DataFrame(df)\n",
    "predictions_df = predictions_df.set_index(twitter_test.index)\n",
    "predictions_df"
   ]
  },
  {
   "cell_type": "code",
   "execution_count": 19,
   "id": "ed7099ef-7ce4-4346-a0fd-fea8fa9f4580",
   "metadata": {},
   "outputs": [],
   "source": [
    "twitter_test['BERTweet_sentiment'] = predictions_df"
   ]
  },
  {
   "cell_type": "code",
   "execution_count": 20,
   "id": "71be05a5-02e8-4315-88a7-0651caf140b9",
   "metadata": {},
   "outputs": [
    {
     "data": {
      "text/html": [
       "<div>\n",
       "<style scoped>\n",
       "    .dataframe tbody tr th:only-of-type {\n",
       "        vertical-align: middle;\n",
       "    }\n",
       "\n",
       "    .dataframe tbody tr th {\n",
       "        vertical-align: top;\n",
       "    }\n",
       "\n",
       "    .dataframe thead th {\n",
       "        text-align: right;\n",
       "    }\n",
       "</style>\n",
       "<table border=\"1\" class=\"dataframe\">\n",
       "  <thead>\n",
       "    <tr style=\"text-align: right;\">\n",
       "      <th></th>\n",
       "      <th>dataset</th>\n",
       "      <th>tweet_id</th>\n",
       "      <th>text</th>\n",
       "      <th>sentiment</th>\n",
       "      <th>entity</th>\n",
       "      <th>BERTweet_sentiment</th>\n",
       "    </tr>\n",
       "  </thead>\n",
       "  <tbody>\n",
       "    <tr>\n",
       "      <th>3</th>\n",
       "      <td>twitter_sentiment</td>\n",
       "      <td>1</td>\n",
       "      <td>im coming on borderlands and i will murder you...</td>\n",
       "      <td>Positive</td>\n",
       "      <td>2401</td>\n",
       "      <td>Positive</td>\n",
       "    </tr>\n",
       "    <tr>\n",
       "      <th>7</th>\n",
       "      <td>twitter_sentiment</td>\n",
       "      <td>2</td>\n",
       "      <td>So I spent a couple of hours doing something f...</td>\n",
       "      <td>Positive</td>\n",
       "      <td>2402</td>\n",
       "      <td>Neutral</td>\n",
       "    </tr>\n",
       "    <tr>\n",
       "      <th>8</th>\n",
       "      <td>twitter_sentiment</td>\n",
       "      <td>3</td>\n",
       "      <td>So I spent a few hours doing something for fun...</td>\n",
       "      <td>Positive</td>\n",
       "      <td>2402</td>\n",
       "      <td>Positive</td>\n",
       "    </tr>\n",
       "    <tr>\n",
       "      <th>12</th>\n",
       "      <td>twitter_sentiment</td>\n",
       "      <td>4</td>\n",
       "      <td>Rock-Hard La Varlope, RARE &amp; POWERFUL, HANDSOM...</td>\n",
       "      <td>Neutral</td>\n",
       "      <td>2403</td>\n",
       "      <td>Neutral</td>\n",
       "    </tr>\n",
       "    <tr>\n",
       "      <th>13</th>\n",
       "      <td>twitter_sentiment</td>\n",
       "      <td>5</td>\n",
       "      <td>Rock-Hard La Varlope, RARE &amp; POWERFUL, HANDSOM...</td>\n",
       "      <td>Neutral</td>\n",
       "      <td>2403</td>\n",
       "      <td>Neutral</td>\n",
       "    </tr>\n",
       "    <tr>\n",
       "      <th>...</th>\n",
       "      <td>...</td>\n",
       "      <td>...</td>\n",
       "      <td>...</td>\n",
       "      <td>...</td>\n",
       "      <td>...</td>\n",
       "      <td>...</td>\n",
       "    </tr>\n",
       "    <tr>\n",
       "      <th>74657</th>\n",
       "      <td>twitter_sentiment</td>\n",
       "      <td>22401</td>\n",
       "      <td>really doesn't look bad btw!.. net.com/google-...</td>\n",
       "      <td>Negative</td>\n",
       "      <td>9196</td>\n",
       "      <td>Neutral</td>\n",
       "    </tr>\n",
       "    <tr>\n",
       "      <th>74661</th>\n",
       "      <td>twitter_sentiment</td>\n",
       "      <td>22402</td>\n",
       "      <td>Nvidia doesn’t intend to give away its 2017 ad...</td>\n",
       "      <td>Neutral</td>\n",
       "      <td>9197</td>\n",
       "      <td>Neutral</td>\n",
       "    </tr>\n",
       "    <tr>\n",
       "      <th>74662</th>\n",
       "      <td>twitter_sentiment</td>\n",
       "      <td>22403</td>\n",
       "      <td>Nvidia therefore doesn ’ t want to give up its...</td>\n",
       "      <td>Neutral</td>\n",
       "      <td>9197</td>\n",
       "      <td>Neutral</td>\n",
       "    </tr>\n",
       "    <tr>\n",
       "      <th>74671</th>\n",
       "      <td>twitter_sentiment</td>\n",
       "      <td>22404</td>\n",
       "      <td>t let Elim go unnoticed.... NVIDIA Highlights ...</td>\n",
       "      <td>Positive</td>\n",
       "      <td>9199</td>\n",
       "      <td>Neutral</td>\n",
       "    </tr>\n",
       "    <tr>\n",
       "      <th>74676</th>\n",
       "      <td>twitter_sentiment</td>\n",
       "      <td>22405</td>\n",
       "      <td>Just realized the windows partition of my Mac ...</td>\n",
       "      <td>Positive</td>\n",
       "      <td>9200</td>\n",
       "      <td>Negative</td>\n",
       "    </tr>\n",
       "  </tbody>\n",
       "</table>\n",
       "<p>22405 rows × 6 columns</p>\n",
       "</div>"
      ],
      "text/plain": [
       "                 dataset  tweet_id  \\\n",
       "3      twitter_sentiment         1   \n",
       "7      twitter_sentiment         2   \n",
       "8      twitter_sentiment         3   \n",
       "12     twitter_sentiment         4   \n",
       "13     twitter_sentiment         5   \n",
       "...                  ...       ...   \n",
       "74657  twitter_sentiment     22401   \n",
       "74661  twitter_sentiment     22402   \n",
       "74662  twitter_sentiment     22403   \n",
       "74671  twitter_sentiment     22404   \n",
       "74676  twitter_sentiment     22405   \n",
       "\n",
       "                                                    text sentiment  entity  \\\n",
       "3      im coming on borderlands and i will murder you...  Positive    2401   \n",
       "7      So I spent a couple of hours doing something f...  Positive    2402   \n",
       "8      So I spent a few hours doing something for fun...  Positive    2402   \n",
       "12     Rock-Hard La Varlope, RARE & POWERFUL, HANDSOM...   Neutral    2403   \n",
       "13     Rock-Hard La Varlope, RARE & POWERFUL, HANDSOM...   Neutral    2403   \n",
       "...                                                  ...       ...     ...   \n",
       "74657  really doesn't look bad btw!.. net.com/google-...  Negative    9196   \n",
       "74661  Nvidia doesn’t intend to give away its 2017 ad...   Neutral    9197   \n",
       "74662  Nvidia therefore doesn ’ t want to give up its...   Neutral    9197   \n",
       "74671  t let Elim go unnoticed.... NVIDIA Highlights ...  Positive    9199   \n",
       "74676  Just realized the windows partition of my Mac ...  Positive    9200   \n",
       "\n",
       "      BERTweet_sentiment  \n",
       "3               Positive  \n",
       "7                Neutral  \n",
       "8               Positive  \n",
       "12               Neutral  \n",
       "13               Neutral  \n",
       "...                  ...  \n",
       "74657            Neutral  \n",
       "74661            Neutral  \n",
       "74662            Neutral  \n",
       "74671            Neutral  \n",
       "74676           Negative  \n",
       "\n",
       "[22405 rows x 6 columns]"
      ]
     },
     "execution_count": 20,
     "metadata": {},
     "output_type": "execute_result"
    }
   ],
   "source": [
    "twitter_test"
   ]
  },
  {
   "cell_type": "code",
   "execution_count": 21,
   "id": "cf9c4767-072f-4201-9c43-e65c04e97858",
   "metadata": {},
   "outputs": [],
   "source": [
    "test_predictions_fname ='results/BERTweet_predictions_added_to_twitter_test.csv'\n",
    "twitter_test.to_csv(test_predictions_fname)"
   ]
  },
  {
   "cell_type": "code",
   "execution_count": 22,
   "id": "d1b799ce-e850-4035-bae7-8ddb45eecb27",
   "metadata": {},
   "outputs": [],
   "source": [
    "correct = twitter_test[twitter_test['sentiment'] == twitter_test['BERTweet_sentiment']]"
   ]
  },
  {
   "cell_type": "code",
   "execution_count": 23,
   "id": "682cdd73-a337-436e-a3f5-1ee6bb8a8ee1",
   "metadata": {},
   "outputs": [
    {
     "data": {
      "text/html": [
       "<div>\n",
       "<style scoped>\n",
       "    .dataframe tbody tr th:only-of-type {\n",
       "        vertical-align: middle;\n",
       "    }\n",
       "\n",
       "    .dataframe tbody tr th {\n",
       "        vertical-align: top;\n",
       "    }\n",
       "\n",
       "    .dataframe thead th {\n",
       "        text-align: right;\n",
       "    }\n",
       "</style>\n",
       "<table border=\"1\" class=\"dataframe\">\n",
       "  <thead>\n",
       "    <tr style=\"text-align: right;\">\n",
       "      <th></th>\n",
       "      <th>dataset</th>\n",
       "      <th>tweet_id</th>\n",
       "      <th>text</th>\n",
       "      <th>sentiment</th>\n",
       "      <th>entity</th>\n",
       "      <th>BERTweet_sentiment</th>\n",
       "    </tr>\n",
       "  </thead>\n",
       "  <tbody>\n",
       "    <tr>\n",
       "      <th>3</th>\n",
       "      <td>twitter_sentiment</td>\n",
       "      <td>1</td>\n",
       "      <td>im coming on borderlands and i will murder you...</td>\n",
       "      <td>Positive</td>\n",
       "      <td>2401</td>\n",
       "      <td>Positive</td>\n",
       "    </tr>\n",
       "    <tr>\n",
       "      <th>8</th>\n",
       "      <td>twitter_sentiment</td>\n",
       "      <td>3</td>\n",
       "      <td>So I spent a few hours doing something for fun...</td>\n",
       "      <td>Positive</td>\n",
       "      <td>2402</td>\n",
       "      <td>Positive</td>\n",
       "    </tr>\n",
       "    <tr>\n",
       "      <th>12</th>\n",
       "      <td>twitter_sentiment</td>\n",
       "      <td>4</td>\n",
       "      <td>Rock-Hard La Varlope, RARE &amp; POWERFUL, HANDSOM...</td>\n",
       "      <td>Neutral</td>\n",
       "      <td>2403</td>\n",
       "      <td>Neutral</td>\n",
       "    </tr>\n",
       "    <tr>\n",
       "      <th>13</th>\n",
       "      <td>twitter_sentiment</td>\n",
       "      <td>5</td>\n",
       "      <td>Rock-Hard La Varlope, RARE &amp; POWERFUL, HANDSOM...</td>\n",
       "      <td>Neutral</td>\n",
       "      <td>2403</td>\n",
       "      <td>Neutral</td>\n",
       "    </tr>\n",
       "    <tr>\n",
       "      <th>15</th>\n",
       "      <td>twitter_sentiment</td>\n",
       "      <td>6</td>\n",
       "      <td>Rock-Hard La Vita, RARE BUT POWERFUL, HANDSOME...</td>\n",
       "      <td>Neutral</td>\n",
       "      <td>2403</td>\n",
       "      <td>Neutral</td>\n",
       "    </tr>\n",
       "    <tr>\n",
       "      <th>...</th>\n",
       "      <td>...</td>\n",
       "      <td>...</td>\n",
       "      <td>...</td>\n",
       "      <td>...</td>\n",
       "      <td>...</td>\n",
       "      <td>...</td>\n",
       "    </tr>\n",
       "    <tr>\n",
       "      <th>74626</th>\n",
       "      <td>twitter_sentiment</td>\n",
       "      <td>22393</td>\n",
       "      <td>THE @NVIDIAGeForce The hell with you but Nvidi...</td>\n",
       "      <td>Negative</td>\n",
       "      <td>9191</td>\n",
       "      <td>Negative</td>\n",
       "    </tr>\n",
       "    <tr>\n",
       "      <th>74629</th>\n",
       "      <td>twitter_sentiment</td>\n",
       "      <td>22394</td>\n",
       "      <td>Save $500 on the AERO 15 OLED - Award-winning ...</td>\n",
       "      <td>Neutral</td>\n",
       "      <td>9192</td>\n",
       "      <td>Neutral</td>\n",
       "    </tr>\n",
       "    <tr>\n",
       "      <th>74633</th>\n",
       "      <td>twitter_sentiment</td>\n",
       "      <td>22395</td>\n",
       "      <td>than $500 on the AERO VA OLED - Award winning ...</td>\n",
       "      <td>Neutral</td>\n",
       "      <td>9192</td>\n",
       "      <td>Neutral</td>\n",
       "    </tr>\n",
       "    <tr>\n",
       "      <th>74661</th>\n",
       "      <td>twitter_sentiment</td>\n",
       "      <td>22402</td>\n",
       "      <td>Nvidia doesn’t intend to give away its 2017 ad...</td>\n",
       "      <td>Neutral</td>\n",
       "      <td>9197</td>\n",
       "      <td>Neutral</td>\n",
       "    </tr>\n",
       "    <tr>\n",
       "      <th>74662</th>\n",
       "      <td>twitter_sentiment</td>\n",
       "      <td>22403</td>\n",
       "      <td>Nvidia therefore doesn ’ t want to give up its...</td>\n",
       "      <td>Neutral</td>\n",
       "      <td>9197</td>\n",
       "      <td>Neutral</td>\n",
       "    </tr>\n",
       "  </tbody>\n",
       "</table>\n",
       "<p>13094 rows × 6 columns</p>\n",
       "</div>"
      ],
      "text/plain": [
       "                 dataset  tweet_id  \\\n",
       "3      twitter_sentiment         1   \n",
       "8      twitter_sentiment         3   \n",
       "12     twitter_sentiment         4   \n",
       "13     twitter_sentiment         5   \n",
       "15     twitter_sentiment         6   \n",
       "...                  ...       ...   \n",
       "74626  twitter_sentiment     22393   \n",
       "74629  twitter_sentiment     22394   \n",
       "74633  twitter_sentiment     22395   \n",
       "74661  twitter_sentiment     22402   \n",
       "74662  twitter_sentiment     22403   \n",
       "\n",
       "                                                    text sentiment  entity  \\\n",
       "3      im coming on borderlands and i will murder you...  Positive    2401   \n",
       "8      So I spent a few hours doing something for fun...  Positive    2402   \n",
       "12     Rock-Hard La Varlope, RARE & POWERFUL, HANDSOM...   Neutral    2403   \n",
       "13     Rock-Hard La Varlope, RARE & POWERFUL, HANDSOM...   Neutral    2403   \n",
       "15     Rock-Hard La Vita, RARE BUT POWERFUL, HANDSOME...   Neutral    2403   \n",
       "...                                                  ...       ...     ...   \n",
       "74626  THE @NVIDIAGeForce The hell with you but Nvidi...  Negative    9191   \n",
       "74629  Save $500 on the AERO 15 OLED - Award-winning ...   Neutral    9192   \n",
       "74633  than $500 on the AERO VA OLED - Award winning ...   Neutral    9192   \n",
       "74661  Nvidia doesn’t intend to give away its 2017 ad...   Neutral    9197   \n",
       "74662  Nvidia therefore doesn ’ t want to give up its...   Neutral    9197   \n",
       "\n",
       "      BERTweet_sentiment  \n",
       "3               Positive  \n",
       "8               Positive  \n",
       "12               Neutral  \n",
       "13               Neutral  \n",
       "15               Neutral  \n",
       "...                  ...  \n",
       "74626           Negative  \n",
       "74629            Neutral  \n",
       "74633            Neutral  \n",
       "74661            Neutral  \n",
       "74662            Neutral  \n",
       "\n",
       "[13094 rows x 6 columns]"
      ]
     },
     "execution_count": 23,
     "metadata": {},
     "output_type": "execute_result"
    }
   ],
   "source": [
    "correct"
   ]
  },
  {
   "cell_type": "code",
   "execution_count": 24,
   "id": "0b17a467-a521-4f37-9616-c9b925356660",
   "metadata": {},
   "outputs": [],
   "source": [
    "incorrect = twitter_test[twitter_test['sentiment'] != twitter_test['BERTweet_sentiment']]"
   ]
  },
  {
   "cell_type": "code",
   "execution_count": 25,
   "id": "45b58f07-ebe3-4c83-b614-d1e154e358dd",
   "metadata": {},
   "outputs": [
    {
     "data": {
      "text/html": [
       "<div>\n",
       "<style scoped>\n",
       "    .dataframe tbody tr th:only-of-type {\n",
       "        vertical-align: middle;\n",
       "    }\n",
       "\n",
       "    .dataframe tbody tr th {\n",
       "        vertical-align: top;\n",
       "    }\n",
       "\n",
       "    .dataframe thead th {\n",
       "        text-align: right;\n",
       "    }\n",
       "</style>\n",
       "<table border=\"1\" class=\"dataframe\">\n",
       "  <thead>\n",
       "    <tr style=\"text-align: right;\">\n",
       "      <th></th>\n",
       "      <th>dataset</th>\n",
       "      <th>tweet_id</th>\n",
       "      <th>text</th>\n",
       "      <th>sentiment</th>\n",
       "      <th>entity</th>\n",
       "      <th>BERTweet_sentiment</th>\n",
       "    </tr>\n",
       "  </thead>\n",
       "  <tbody>\n",
       "    <tr>\n",
       "      <th>7</th>\n",
       "      <td>twitter_sentiment</td>\n",
       "      <td>2</td>\n",
       "      <td>So I spent a couple of hours doing something f...</td>\n",
       "      <td>Positive</td>\n",
       "      <td>2402</td>\n",
       "      <td>Neutral</td>\n",
       "    </tr>\n",
       "    <tr>\n",
       "      <th>43</th>\n",
       "      <td>twitter_sentiment</td>\n",
       "      <td>16</td>\n",
       "      <td>Check out this epic streamer!.</td>\n",
       "      <td>Neutral</td>\n",
       "      <td>2408</td>\n",
       "      <td>Irrelevant</td>\n",
       "    </tr>\n",
       "    <tr>\n",
       "      <th>45</th>\n",
       "      <td>twitter_sentiment</td>\n",
       "      <td>17</td>\n",
       "      <td>Check out our epic streamer!.</td>\n",
       "      <td>Neutral</td>\n",
       "      <td>2408</td>\n",
       "      <td>Irrelevant</td>\n",
       "    </tr>\n",
       "    <tr>\n",
       "      <th>51</th>\n",
       "      <td>twitter_sentiment</td>\n",
       "      <td>18</td>\n",
       "      <td>Blaming Sight for Tardiness! A little bit of b...</td>\n",
       "      <td>Neutral</td>\n",
       "      <td>2409</td>\n",
       "      <td>Irrelevant</td>\n",
       "    </tr>\n",
       "    <tr>\n",
       "      <th>53</th>\n",
       "      <td>twitter_sentiment</td>\n",
       "      <td>19</td>\n",
       "      <td>all</td>\n",
       "      <td>Neutral</td>\n",
       "      <td>2409</td>\n",
       "      <td>Positive</td>\n",
       "    </tr>\n",
       "    <tr>\n",
       "      <th>...</th>\n",
       "      <td>...</td>\n",
       "      <td>...</td>\n",
       "      <td>...</td>\n",
       "      <td>...</td>\n",
       "      <td>...</td>\n",
       "      <td>...</td>\n",
       "    </tr>\n",
       "    <tr>\n",
       "      <th>74654</th>\n",
       "      <td>twitter_sentiment</td>\n",
       "      <td>22399</td>\n",
       "      <td>??????????????????????????????????????????????...</td>\n",
       "      <td>Negative</td>\n",
       "      <td>9196</td>\n",
       "      <td>Positive</td>\n",
       "    </tr>\n",
       "    <tr>\n",
       "      <th>74655</th>\n",
       "      <td>twitter_sentiment</td>\n",
       "      <td>22400</td>\n",
       "      <td>Cheap will mean better&lt;unk&gt;!.. techsall.com/go...</td>\n",
       "      <td>Negative</td>\n",
       "      <td>9196</td>\n",
       "      <td>Positive</td>\n",
       "    </tr>\n",
       "    <tr>\n",
       "      <th>74657</th>\n",
       "      <td>twitter_sentiment</td>\n",
       "      <td>22401</td>\n",
       "      <td>really doesn't look bad btw!.. net.com/google-...</td>\n",
       "      <td>Negative</td>\n",
       "      <td>9196</td>\n",
       "      <td>Neutral</td>\n",
       "    </tr>\n",
       "    <tr>\n",
       "      <th>74671</th>\n",
       "      <td>twitter_sentiment</td>\n",
       "      <td>22404</td>\n",
       "      <td>t let Elim go unnoticed.... NVIDIA Highlights ...</td>\n",
       "      <td>Positive</td>\n",
       "      <td>9199</td>\n",
       "      <td>Neutral</td>\n",
       "    </tr>\n",
       "    <tr>\n",
       "      <th>74676</th>\n",
       "      <td>twitter_sentiment</td>\n",
       "      <td>22405</td>\n",
       "      <td>Just realized the windows partition of my Mac ...</td>\n",
       "      <td>Positive</td>\n",
       "      <td>9200</td>\n",
       "      <td>Negative</td>\n",
       "    </tr>\n",
       "  </tbody>\n",
       "</table>\n",
       "<p>9311 rows × 6 columns</p>\n",
       "</div>"
      ],
      "text/plain": [
       "                 dataset  tweet_id  \\\n",
       "7      twitter_sentiment         2   \n",
       "43     twitter_sentiment        16   \n",
       "45     twitter_sentiment        17   \n",
       "51     twitter_sentiment        18   \n",
       "53     twitter_sentiment        19   \n",
       "...                  ...       ...   \n",
       "74654  twitter_sentiment     22399   \n",
       "74655  twitter_sentiment     22400   \n",
       "74657  twitter_sentiment     22401   \n",
       "74671  twitter_sentiment     22404   \n",
       "74676  twitter_sentiment     22405   \n",
       "\n",
       "                                                    text sentiment  entity  \\\n",
       "7      So I spent a couple of hours doing something f...  Positive    2402   \n",
       "43                        Check out this epic streamer!.   Neutral    2408   \n",
       "45                         Check out our epic streamer!.   Neutral    2408   \n",
       "51     Blaming Sight for Tardiness! A little bit of b...   Neutral    2409   \n",
       "53                                                   all   Neutral    2409   \n",
       "...                                                  ...       ...     ...   \n",
       "74654  ??????????????????????????????????????????????...  Negative    9196   \n",
       "74655  Cheap will mean better<unk>!.. techsall.com/go...  Negative    9196   \n",
       "74657  really doesn't look bad btw!.. net.com/google-...  Negative    9196   \n",
       "74671  t let Elim go unnoticed.... NVIDIA Highlights ...  Positive    9199   \n",
       "74676  Just realized the windows partition of my Mac ...  Positive    9200   \n",
       "\n",
       "      BERTweet_sentiment  \n",
       "7                Neutral  \n",
       "43            Irrelevant  \n",
       "45            Irrelevant  \n",
       "51            Irrelevant  \n",
       "53              Positive  \n",
       "...                  ...  \n",
       "74654           Positive  \n",
       "74655           Positive  \n",
       "74657            Neutral  \n",
       "74671            Neutral  \n",
       "74676           Negative  \n",
       "\n",
       "[9311 rows x 6 columns]"
      ]
     },
     "execution_count": 25,
     "metadata": {},
     "output_type": "execute_result"
    }
   ],
   "source": [
    "incorrect"
   ]
  },
  {
   "cell_type": "code",
   "execution_count": 26,
   "id": "ff9d3b45-ccca-4c20-b38e-fc5278d24d0e",
   "metadata": {},
   "outputs": [
    {
     "data": {
      "text/html": [
       "<div>\n",
       "<style scoped>\n",
       "    .dataframe tbody tr th:only-of-type {\n",
       "        vertical-align: middle;\n",
       "    }\n",
       "\n",
       "    .dataframe tbody tr th {\n",
       "        vertical-align: top;\n",
       "    }\n",
       "\n",
       "    .dataframe thead th {\n",
       "        text-align: right;\n",
       "    }\n",
       "</style>\n",
       "<table border=\"1\" class=\"dataframe\">\n",
       "  <thead>\n",
       "    <tr style=\"text-align: right;\">\n",
       "      <th></th>\n",
       "      <th>dataset</th>\n",
       "      <th>tweet_id</th>\n",
       "      <th>text</th>\n",
       "      <th>sentiment</th>\n",
       "      <th>entity</th>\n",
       "      <th>BERTweet_sentiment</th>\n",
       "    </tr>\n",
       "  </thead>\n",
       "  <tbody>\n",
       "    <tr>\n",
       "      <th>102</th>\n",
       "      <td>twitter_sentiment</td>\n",
       "      <td>35</td>\n",
       "      <td>Appreciate the (sonic) concepts / praxis Valen...</td>\n",
       "      <td>Irrelevant</td>\n",
       "      <td>2418</td>\n",
       "      <td>Irrelevant</td>\n",
       "    </tr>\n",
       "    <tr>\n",
       "      <th>126</th>\n",
       "      <td>twitter_sentiment</td>\n",
       "      <td>41</td>\n",
       "      <td>Loving these new @GhostLifestyle cans!! Anyone...</td>\n",
       "      <td>Irrelevant</td>\n",
       "      <td>2422</td>\n",
       "      <td>Positive</td>\n",
       "    </tr>\n",
       "    <tr>\n",
       "      <th>129</th>\n",
       "      <td>twitter_sentiment</td>\n",
       "      <td>42</td>\n",
       "      <td>Loving these new @GhostLifestyle cans!! Anyone...</td>\n",
       "      <td>Irrelevant</td>\n",
       "      <td>2422</td>\n",
       "      <td>Positive</td>\n",
       "    </tr>\n",
       "    <tr>\n",
       "      <th>139</th>\n",
       "      <td>twitter_sentiment</td>\n",
       "      <td>45</td>\n",
       "      <td>How the hell are we already into Halloween mon...</td>\n",
       "      <td>Irrelevant</td>\n",
       "      <td>2424</td>\n",
       "      <td>Neutral</td>\n",
       "    </tr>\n",
       "    <tr>\n",
       "      <th>222</th>\n",
       "      <td>twitter_sentiment</td>\n",
       "      <td>66</td>\n",
       "      <td>I'm in this @CBP video. @DHS_Wolf deceptively ...</td>\n",
       "      <td>Irrelevant</td>\n",
       "      <td>2438</td>\n",
       "      <td>Positive</td>\n",
       "    </tr>\n",
       "    <tr>\n",
       "      <th>...</th>\n",
       "      <td>...</td>\n",
       "      <td>...</td>\n",
       "      <td>...</td>\n",
       "      <td>...</td>\n",
       "      <td>...</td>\n",
       "      <td>...</td>\n",
       "    </tr>\n",
       "    <tr>\n",
       "      <th>73966</th>\n",
       "      <td>twitter_sentiment</td>\n",
       "      <td>22179</td>\n",
       "      <td>2010 I know this asset they are referring to (...</td>\n",
       "      <td>Irrelevant</td>\n",
       "      <td>9071</td>\n",
       "      <td>Irrelevant</td>\n",
       "    </tr>\n",
       "    <tr>\n",
       "      <th>73993</th>\n",
       "      <td>twitter_sentiment</td>\n",
       "      <td>22190</td>\n",
       "      <td>Oh, yes, I used to work with these guys. Secon...</td>\n",
       "      <td>Irrelevant</td>\n",
       "      <td>9077</td>\n",
       "      <td>Positive</td>\n",
       "    </tr>\n",
       "    <tr>\n",
       "      <th>73995</th>\n",
       "      <td>twitter_sentiment</td>\n",
       "      <td>22191</td>\n",
       "      <td>Oh, yeah, I used to work with these guys. Thir...</td>\n",
       "      <td>Irrelevant</td>\n",
       "      <td>9077</td>\n",
       "      <td>Positive</td>\n",
       "    </tr>\n",
       "    <tr>\n",
       "      <th>74038</th>\n",
       "      <td>twitter_sentiment</td>\n",
       "      <td>22199</td>\n",
       "      <td>9 Good idea for them. This is all based on ear...</td>\n",
       "      <td>Irrelevant</td>\n",
       "      <td>9085</td>\n",
       "      <td>Neutral</td>\n",
       "    </tr>\n",
       "    <tr>\n",
       "      <th>74039</th>\n",
       "      <td>twitter_sentiment</td>\n",
       "      <td>22200</td>\n",
       "      <td>goes for them. This is all based on earnings f...</td>\n",
       "      <td>Irrelevant</td>\n",
       "      <td>9085</td>\n",
       "      <td>Positive</td>\n",
       "    </tr>\n",
       "  </tbody>\n",
       "</table>\n",
       "<p>3976 rows × 6 columns</p>\n",
       "</div>"
      ],
      "text/plain": [
       "                 dataset  tweet_id  \\\n",
       "102    twitter_sentiment        35   \n",
       "126    twitter_sentiment        41   \n",
       "129    twitter_sentiment        42   \n",
       "139    twitter_sentiment        45   \n",
       "222    twitter_sentiment        66   \n",
       "...                  ...       ...   \n",
       "73966  twitter_sentiment     22179   \n",
       "73993  twitter_sentiment     22190   \n",
       "73995  twitter_sentiment     22191   \n",
       "74038  twitter_sentiment     22199   \n",
       "74039  twitter_sentiment     22200   \n",
       "\n",
       "                                                    text   sentiment  entity  \\\n",
       "102    Appreciate the (sonic) concepts / praxis Valen...  Irrelevant    2418   \n",
       "126    Loving these new @GhostLifestyle cans!! Anyone...  Irrelevant    2422   \n",
       "129    Loving these new @GhostLifestyle cans!! Anyone...  Irrelevant    2422   \n",
       "139    How the hell are we already into Halloween mon...  Irrelevant    2424   \n",
       "222    I'm in this @CBP video. @DHS_Wolf deceptively ...  Irrelevant    2438   \n",
       "...                                                  ...         ...     ...   \n",
       "73966  2010 I know this asset they are referring to (...  Irrelevant    9071   \n",
       "73993  Oh, yes, I used to work with these guys. Secon...  Irrelevant    9077   \n",
       "73995  Oh, yeah, I used to work with these guys. Thir...  Irrelevant    9077   \n",
       "74038  9 Good idea for them. This is all based on ear...  Irrelevant    9085   \n",
       "74039  goes for them. This is all based on earnings f...  Irrelevant    9085   \n",
       "\n",
       "      BERTweet_sentiment  \n",
       "102           Irrelevant  \n",
       "126             Positive  \n",
       "129             Positive  \n",
       "139              Neutral  \n",
       "222             Positive  \n",
       "...                  ...  \n",
       "73966         Irrelevant  \n",
       "73993           Positive  \n",
       "73995           Positive  \n",
       "74038            Neutral  \n",
       "74039           Positive  \n",
       "\n",
       "[3976 rows x 6 columns]"
      ]
     },
     "execution_count": 26,
     "metadata": {},
     "output_type": "execute_result"
    }
   ],
   "source": [
    "irrelevant = twitter_test[twitter_test['sentiment'] == 'Irrelevant']\n",
    "irrelevant"
   ]
  },
  {
   "cell_type": "markdown",
   "id": "7cc61387-6176-4775-b332-99b161a5fc69",
   "metadata": {},
   "source": [
    "# Save Model"
   ]
  },
  {
   "cell_type": "code",
   "execution_count": 27,
   "id": "39d9e185-1e2e-43d1-b776-af27747750b6",
   "metadata": {},
   "outputs": [],
   "source": [
    "import pickle\n",
    "model_fname = 'models/BERTweet_twitter_model.sav'\n",
    "pickle.dump(bertweet_experiment_full['model'], open(model_fname, 'wb'))"
   ]
  },
  {
   "cell_type": "code",
   "execution_count": null,
   "id": "6daebf7f-eeb2-4831-b5cd-ac245929614a",
   "metadata": {},
   "outputs": [],
   "source": []
  }
 ],
 "metadata": {
  "kernelspec": {
   "display_name": "nlu",
   "language": "python",
   "name": "nlu"
  },
  "language_info": {
   "codemirror_mode": {
    "name": "ipython",
    "version": 3
   },
   "file_extension": ".py",
   "mimetype": "text/x-python",
   "name": "python",
   "nbconvert_exporter": "python",
   "pygments_lexer": "ipython3",
   "version": "3.8.12"
  }
 },
 "nbformat": 4,
 "nbformat_minor": 5
}

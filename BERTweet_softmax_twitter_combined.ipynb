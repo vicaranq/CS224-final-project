{
 "cells": [
  {
   "cell_type": "markdown",
   "id": "47e8f743-ceab-449c-9ee7-200a1785cb16",
   "metadata": {},
   "source": [
    "# Use BERTwet Representations with LogisticRegression Softmax Classifier"
   ]
  },
  {
   "cell_type": "code",
   "execution_count": 1,
   "id": "30dae3b5-f005-418c-8e46-9bd8758cf351",
   "metadata": {},
   "outputs": [
    {
     "name": "stderr",
     "output_type": "stream",
     "text": [
      "Some weights of RobertaModel were not initialized from the model checkpoint at vinai/bertweet-large and are newly initialized: ['roberta.pooler.dense.weight', 'roberta.pooler.dense.bias']\n",
      "You should probably TRAIN this model on a down-stream task to be able to use it for predictions and inference.\n"
     ]
    }
   ],
   "source": [
    "from collections import Counter\n",
    "import os\n",
    "import numpy as np\n",
    "import pandas as pd\n",
    "import torch\n",
    "from torch import nn, optim\n",
    "import torch.nn as nn\n",
    "from torch.utils.data import TensorDataset, Dataset, DataLoader\n",
    "from sklearn.model_selection import train_test_split\n",
    "from sklearn.linear_model import LogisticRegression\n",
    "from sklearn.model_selection import cross_val_score\n",
    "\n",
    "\n",
    "import dataset\n",
    "import vsm\n",
    "import sst"
   ]
  },
  {
   "cell_type": "code",
   "execution_count": 2,
   "id": "1c995c70-1ec0-47c7-be85-5a622874c493",
   "metadata": {},
   "outputs": [],
   "source": [
    "TWITTER = 2\n",
    "TWITTER_AIRLINES = 3\n",
    "TWITTER_APPLE = 4"
   ]
  },
  {
   "cell_type": "code",
   "execution_count": 3,
   "id": "5059a022-607d-493b-8e7e-82937409db1c",
   "metadata": {},
   "outputs": [],
   "source": [
    "twitter_train, twitter_validate, twitter_test =  dataset.dataset_reader(TWITTER)\n",
    "[twitter_train, twitter_validate, twitter_test] = list(map(lambda ds : dataset.prune_columns(2, ds), [twitter_train, twitter_validate, twitter_test]))"
   ]
  },
  {
   "cell_type": "code",
   "execution_count": 4,
   "id": "5bd35302-accd-45d3-9473-8a437bd46757",
   "metadata": {},
   "outputs": [],
   "source": [
    "airline_train, airline_validate, airline_test =  dataset.dataset_reader(TWITTER_AIRLINES)\n",
    "[airline_train, airline_validate, airline_test] = list(map(lambda ds : dataset.prune_columns(3, ds), [airline_train, airline_validate, airline_test]))"
   ]
  },
  {
   "cell_type": "code",
   "execution_count": 5,
   "id": "1bbf058c-bcbc-4798-8b9a-0682c99722d7",
   "metadata": {},
   "outputs": [],
   "source": [
    "apple_train, apple_validate, apple_test =  dataset.dataset_reader(TWITTER_APPLE)\n",
    "[apple_train, apple_validate, apple_test] = list(map(lambda ds : dataset.prune_columns(4, ds), [apple_train, apple_validate, apple_test]))"
   ]
  },
  {
   "cell_type": "code",
   "execution_count": 6,
   "id": "b8865526-a969-4eaf-9f69-0a3b8f24bebc",
   "metadata": {},
   "outputs": [],
   "source": [
    "# Rename labels for consistency\n",
    "def rename_sentiment(sentiment):\n",
    "        if sentiment in [\"5\", \"positive\"]:\n",
    "            return \"Positive\"\n",
    "        elif sentiment in [\"3\", \"neutral\"]:\n",
    "            return \"Neutral\"\n",
    "        elif sentiment in [\"1\", \"negative\"]:\n",
    "            return \"Negative\"\n",
    "        elif sentiment in [\"not_relevant\"]:\n",
    "            return \"Irrelevant\"\n",
    "        else:\n",
    "            return sentiment\n"
   ]
  },
  {
   "cell_type": "code",
   "execution_count": 7,
   "id": "cdc60685-b8d8-4d6e-86c9-8d4f8b990a65",
   "metadata": {},
   "outputs": [],
   "source": [
    "airline_train['sentiment'] = pd.DataFrame([rename_sentiment(e) for e in airline_train['sentiment']]).set_index(airline_train.index)\n",
    "airline_validate['sentiment'] = pd.DataFrame([rename_sentiment(e) for e in airline_validate['sentiment']]).set_index(airline_validate.index)\n",
    "airline_test['sentiment'] = pd.DataFrame([rename_sentiment(e) for e in airline_test['sentiment']]).set_index(airline_test.index)"
   ]
  },
  {
   "cell_type": "code",
   "execution_count": 8,
   "id": "c09b5e52-2e08-4324-b355-613f29d3d479",
   "metadata": {},
   "outputs": [],
   "source": [
    "apple_train['sentiment'] = pd.DataFrame([rename_sentiment(e) for e in apple_train['sentiment']]).set_index(apple_train.index)\n",
    "apple_validate['sentiment'] = pd.DataFrame([rename_sentiment(e) for e in apple_validate['sentiment']]).set_index(apple_validate.index)\n",
    "apple_test['sentiment'] = pd.DataFrame([rename_sentiment(e) for e in apple_test['sentiment']]).set_index(apple_test.index)"
   ]
  },
  {
   "cell_type": "code",
   "execution_count": 9,
   "id": "04b265d8-99f7-41b6-b374-76f703f2e289",
   "metadata": {},
   "outputs": [],
   "source": [
    "# cat the datasets\n",
    "train_ds = pd.concat([twitter_train,airline_train,apple_train],axis=0)\n",
    "validate_ds = pd.concat([twitter_validate,airline_validate,apple_validate],axis=0)\n",
    "test_ds = pd.concat([twitter_test,airline_test,apple_test],axis=0)"
   ]
  },
  {
   "cell_type": "code",
   "execution_count": 10,
   "id": "b41be400-82cf-469e-96b0-522cf9de12b3",
   "metadata": {},
   "outputs": [],
   "source": [
    "# Unique values of sentiment\n",
    "twitter_sentiment_labels = train_ds['sentiment'].unique()"
   ]
  },
  {
   "cell_type": "code",
   "execution_count": 11,
   "id": "a7bb900e-ec8f-4e7c-92e2-987c363777e0",
   "metadata": {},
   "outputs": [
    {
     "data": {
      "text/plain": [
       "(402588, 17112, 145548)"
      ]
     },
     "execution_count": 11,
     "metadata": {},
     "output_type": "execute_result"
    }
   ],
   "source": [
    "train_ds.size, validate_ds.size, test_ds.size"
   ]
  },
  {
   "cell_type": "code",
   "execution_count": 12,
   "id": "4326b274-a348-4623-a1eb-3142a2a52b2b",
   "metadata": {},
   "outputs": [
    {
     "name": "stdout",
     "output_type": "stream",
     "text": [
      "              precision    recall  f1-score   support\n",
      "\n",
      "  Irrelevant      0.593     0.282     0.382       181\n",
      "    Negative      0.759     0.892     0.820      1294\n",
      "     Neutral      0.696     0.578     0.632       820\n",
      "    Positive      0.635     0.645     0.640       557\n",
      "\n",
      "    accuracy                          0.715      2852\n",
      "   macro avg      0.671     0.599     0.618      2852\n",
      "weighted avg      0.706     0.715     0.703      2852\n",
      "\n",
      "CPU times: user 15h 51min 19s, sys: 45min 38s, total: 16h 36min 57s\n",
      "Wall time: 5h 45min 11s\n"
     ]
    }
   ],
   "source": [
    "%%time\n",
    "bertweet_experiment_full = sst.experiment(\n",
    "    [train_ds], # \n",
    "    dataset.bert_tweet_phi,\n",
    "    dataset.fit_softmax_classifier,\n",
    "    assess_dataframes=[validate_ds],\n",
    "    vectorize=False)"
   ]
  },
  {
   "cell_type": "code",
   "execution_count": 13,
   "id": "d54b31f7-4cb2-4e55-b20d-ccde15e31350",
   "metadata": {},
   "outputs": [
    {
     "data": {
      "text/plain": [
       "dict_keys(['model', 'phi', 'train_dataset', 'assess_datasets', 'predictions', 'metric', 'scores'])"
      ]
     },
     "execution_count": 13,
     "metadata": {},
     "output_type": "execute_result"
    }
   ],
   "source": [
    "bertweet_experiment_full.keys()"
   ]
  },
  {
   "cell_type": "code",
   "execution_count": 14,
   "id": "a7bac1a5-92e3-468e-847b-e759eb09a2bc",
   "metadata": {},
   "outputs": [
    {
     "data": {
      "text/plain": [
       "[0.6184287270912014]"
      ]
     },
     "execution_count": 14,
     "metadata": {},
     "output_type": "execute_result"
    }
   ],
   "source": [
    "bertweet_experiment_full['scores']"
   ]
  },
  {
   "cell_type": "code",
   "execution_count": 15,
   "id": "8a0ed646-5437-43db-a2f5-7938349cea10",
   "metadata": {},
   "outputs": [
    {
     "data": {
      "text/plain": [
       "'safe_macro_f1'"
      ]
     },
     "execution_count": 15,
     "metadata": {},
     "output_type": "execute_result"
    }
   ],
   "source": [
    "bertweet_experiment_full['metric']"
   ]
  },
  {
   "cell_type": "code",
   "execution_count": 16,
   "id": "95567ac1-8815-4694-96c7-dff72617250b",
   "metadata": {
    "tags": []
   },
   "outputs": [
    {
     "data": {
      "text/plain": [
       "LogisticRegression(multi_class='ovr', solver='liblinear')"
      ]
     },
     "execution_count": 16,
     "metadata": {},
     "output_type": "execute_result"
    }
   ],
   "source": [
    "bertweet_experiment_full['model']"
   ]
  },
  {
   "cell_type": "markdown",
   "id": "d7ccb547-1174-471f-b6e5-e9239d23fe4b",
   "metadata": {},
   "source": [
    "# Test BERT trained on Tweets on test set"
   ]
  },
  {
   "cell_type": "code",
   "execution_count": 17,
   "id": "1f4d5a18-66b3-467b-aea7-59f196b07bf4",
   "metadata": {},
   "outputs": [],
   "source": [
    "def predict_one_bert(text):\n",
    "    # List of tokenized examples:\n",
    "    X = [bertweet_experiment_full['phi'](text)]\n",
    "    # Standard `predict` step on a list of lists of str:\n",
    "    preds = bertweet_experiment_full['model'].predict(X)\n",
    "    # Be sure to return the only member of the predictions,\n",
    "    # rather than the singleton list:\n",
    "    return preds[0]"
   ]
  },
  {
   "cell_type": "code",
   "execution_count": 18,
   "id": "8ca03e9e-f006-40a3-aa3a-681dacbac891",
   "metadata": {},
   "outputs": [],
   "source": [
    "# %% time\n",
    "# twitter_test['prediction'] = twitter_test['text'].apply(predict_one_bert)"
   ]
  },
  {
   "cell_type": "code",
   "execution_count": 19,
   "id": "145568c0-81b1-485f-9cc5-8c5fcd4ed951",
   "metadata": {},
   "outputs": [],
   "source": [
    "# import importlib\n",
    "# importlib.reload(sst)"
   ]
  },
  {
   "cell_type": "code",
   "execution_count": null,
   "id": "09db34c2-0a98-4627-ae75-75653fdde41e",
   "metadata": {},
   "outputs": [],
   "source": [
    "%%time\n",
    "bert_test = sst.evaluate(\n",
    "    bertweet_experiment_full['model'],\n",
    "    bertweet_experiment_full['phi'],\n",
    "    assess_dataframes=[test_ds],\n",
    "    vectorizer=bertweet_experiment_full['assess_datasets'][0]['vectorizer'],\n",
    "    vectorize=False\n",
    ")"
   ]
  },
  {
   "cell_type": "code",
   "execution_count": null,
   "id": "f49ec6d2-f389-4995-b1d9-5003bff03522",
   "metadata": {},
   "outputs": [],
   "source": [
    "type(bert_test['predictions'][0])"
   ]
  },
  {
   "cell_type": "code",
   "execution_count": null,
   "id": "6dbc9350-3873-4226-8430-e1851b8f1a59",
   "metadata": {},
   "outputs": [],
   "source": [
    "predictions_fname ='results/BERT_predictions_on_combined_twitter_test.csv'\n",
    "df = bert_test['predictions'][0]\n",
    "pd.DataFrame(df).to_csv(predictions_fname)"
   ]
  },
  {
   "cell_type": "code",
   "execution_count": null,
   "id": "13e45694-66b9-41f2-9159-70f048dbae48",
   "metadata": {
    "tags": []
   },
   "outputs": [],
   "source": [
    "encoding_fname ='results/BERT_encodings_on_combined_twitter_test.csv'\n",
    "encoded_test = bert_test['assess_datasets'][0]\n",
    "pd.DataFrame(encoded_test).to_csv(encoding_fname)"
   ]
  },
  {
   "cell_type": "code",
   "execution_count": null,
   "id": "eb5ae92e-80a6-44f3-827b-a79eab788ddc",
   "metadata": {},
   "outputs": [],
   "source": [
    "predictions_df = pd.DataFrame(df)\n",
    "predictions_df = predictions_df.set_index(test_ds.index)\n",
    "predictions_df"
   ]
  },
  {
   "cell_type": "code",
   "execution_count": null,
   "id": "ed7099ef-7ce4-4346-a0fd-fea8fa9f4580",
   "metadata": {},
   "outputs": [],
   "source": [
    "test_ds['BERTweet_sentiment'] = predictions_df"
   ]
  },
  {
   "cell_type": "code",
   "execution_count": null,
   "id": "71be05a5-02e8-4315-88a7-0651caf140b9",
   "metadata": {},
   "outputs": [],
   "source": [
    "test_ds"
   ]
  },
  {
   "cell_type": "code",
   "execution_count": null,
   "id": "cf9c4767-072f-4201-9c43-e65c04e97858",
   "metadata": {},
   "outputs": [],
   "source": [
    "test_predictions_fname ='results/BERTweet_predictions_added_to_combined_twitter_test.csv'\n",
    "test_ds.to_csv(test_predictions_fname)"
   ]
  },
  {
   "cell_type": "code",
   "execution_count": null,
   "id": "d1b799ce-e850-4035-bae7-8ddb45eecb27",
   "metadata": {},
   "outputs": [],
   "source": [
    "correct = test_ds[test_ds['sentiment'] == test_ds['BERTweet_sentiment']]"
   ]
  },
  {
   "cell_type": "code",
   "execution_count": null,
   "id": "682cdd73-a337-436e-a3f5-1ee6bb8a8ee1",
   "metadata": {},
   "outputs": [],
   "source": [
    "correct"
   ]
  },
  {
   "cell_type": "code",
   "execution_count": null,
   "id": "0b17a467-a521-4f37-9616-c9b925356660",
   "metadata": {},
   "outputs": [],
   "source": [
    "incorrect = test_ds[test_ds['sentiment'] != test_ds['BERTweet_sentiment']]"
   ]
  },
  {
   "cell_type": "code",
   "execution_count": null,
   "id": "45b58f07-ebe3-4c83-b614-d1e154e358dd",
   "metadata": {},
   "outputs": [],
   "source": [
    "incorrect"
   ]
  },
  {
   "cell_type": "code",
   "execution_count": null,
   "id": "ff9d3b45-ccca-4c20-b38e-fc5278d24d0e",
   "metadata": {},
   "outputs": [],
   "source": [
    "irrelevant = test_ds[test_ds['sentiment'] == 'Irrelevant']\n",
    "irrelevant"
   ]
  },
  {
   "cell_type": "markdown",
   "id": "7cc61387-6176-4775-b332-99b161a5fc69",
   "metadata": {},
   "source": [
    "# Save Model"
   ]
  },
  {
   "cell_type": "code",
   "execution_count": null,
   "id": "6daebf7f-eeb2-4831-b5cd-ac245929614a",
   "metadata": {},
   "outputs": [],
   "source": [
    "import pickle\n",
    "model_fname = 'models/BERTweet_twitter_model_combined.sav'\n",
    "pickle.dump(bertweet_experiment_full['model'], open(model_fname, 'wb'))"
   ]
  },
  {
   "cell_type": "code",
   "execution_count": null,
   "id": "e5d7b3b4-4ce7-4ba4-9bc7-e977374a6d87",
   "metadata": {},
   "outputs": [],
   "source": [
    "bert_test.keys()"
   ]
  },
  {
   "cell_type": "code",
   "execution_count": null,
   "id": "02413aa9-669d-4be1-a343-82aa2ae095dd",
   "metadata": {},
   "outputs": [],
   "source": [
    "test_fname = 'results/BERTweet_test_combined.sav'\n",
    "pickle.dump(bert_test, open(test_fname, 'wb'))"
   ]
  },
  {
   "cell_type": "code",
   "execution_count": null,
   "id": "7afd5ff5-dc3c-4676-9d80-b45b04ed9267",
   "metadata": {},
   "outputs": [],
   "source": []
  }
 ],
 "metadata": {
  "kernelspec": {
   "display_name": "nlu",
   "language": "python",
   "name": "nlu"
  },
  "language_info": {
   "codemirror_mode": {
    "name": "ipython",
    "version": 3
   },
   "file_extension": ".py",
   "mimetype": "text/x-python",
   "name": "python",
   "nbconvert_exporter": "python",
   "pygments_lexer": "ipython3",
   "version": "3.8.12"
  }
 },
 "nbformat": 4,
 "nbformat_minor": 5
}

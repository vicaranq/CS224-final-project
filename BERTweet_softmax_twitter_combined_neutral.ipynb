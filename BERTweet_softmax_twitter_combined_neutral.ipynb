{
 "cells": [
  {
   "cell_type": "markdown",
   "id": "47e8f743-ceab-449c-9ee7-200a1785cb16",
   "metadata": {},
   "source": [
    "# Use BERTweet Representations with LogisticRegression Softmax Classifier"
   ]
  },
  {
   "cell_type": "code",
   "execution_count": 1,
   "id": "30dae3b5-f005-418c-8e46-9bd8758cf351",
   "metadata": {},
   "outputs": [
    {
     "name": "stderr",
     "output_type": "stream",
     "text": [
      "Some weights of RobertaModel were not initialized from the model checkpoint at vinai/bertweet-large and are newly initialized: ['roberta.pooler.dense.weight', 'roberta.pooler.dense.bias']\n",
      "You should probably TRAIN this model on a down-stream task to be able to use it for predictions and inference.\n"
     ]
    }
   ],
   "source": [
    "from collections import Counter\n",
    "import os\n",
    "import numpy as np\n",
    "import pandas as pd\n",
    "import torch\n",
    "from torch import nn, optim\n",
    "import torch.nn as nn\n",
    "from torch.utils.data import TensorDataset, Dataset, DataLoader\n",
    "from sklearn.model_selection import train_test_split\n",
    "from sklearn.linear_model import LogisticRegression\n",
    "from sklearn.model_selection import cross_val_score\n",
    "# from transformers import BertTokenizer, BertModel, BertForSequenceClassification\n",
    "\n",
    "\n",
    "import dataset\n",
    "import vsm\n",
    "import sst"
   ]
  },
  {
   "cell_type": "code",
   "execution_count": 2,
   "id": "1c995c70-1ec0-47c7-be85-5a622874c493",
   "metadata": {},
   "outputs": [],
   "source": [
    "TWITTER = 2\n",
    "TWITTER_AIRLINES = 3\n",
    "TWITTER_APPLE = 4"
   ]
  },
  {
   "cell_type": "code",
   "execution_count": 3,
   "id": "5059a022-607d-493b-8e7e-82937409db1c",
   "metadata": {},
   "outputs": [],
   "source": [
    "twitter_train, twitter_validate, twitter_test =  dataset.dataset_reader(TWITTER)\n",
    "[twitter_train, twitter_validate, twitter_test] = list(map(lambda ds : dataset.prune_columns(2, ds), [twitter_train, twitter_validate, twitter_test]))"
   ]
  },
  {
   "cell_type": "code",
   "execution_count": 4,
   "id": "5bd35302-accd-45d3-9473-8a437bd46757",
   "metadata": {},
   "outputs": [],
   "source": [
    "airline_train, airline_validate, airline_test =  dataset.dataset_reader(TWITTER_AIRLINES)\n",
    "[airline_train, airline_validate, airline_test] = list(map(lambda ds : dataset.prune_columns(3, ds), [airline_train, airline_validate, airline_test]))"
   ]
  },
  {
   "cell_type": "code",
   "execution_count": 5,
   "id": "1bbf058c-bcbc-4798-8b9a-0682c99722d7",
   "metadata": {},
   "outputs": [],
   "source": [
    "apple_train, apple_validate, apple_test =  dataset.dataset_reader(TWITTER_APPLE)\n",
    "[apple_train, apple_validate, apple_test] = list(map(lambda ds : dataset.prune_columns(4, ds), [apple_train, apple_validate, apple_test]))"
   ]
  },
  {
   "cell_type": "code",
   "execution_count": 6,
   "id": "b8865526-a969-4eaf-9f69-0a3b8f24bebc",
   "metadata": {},
   "outputs": [],
   "source": [
    "# Rename labels for consistency\n",
    "def rename_sentiment(sentiment):\n",
    "        if sentiment in [\"5\", \"positive\"]:\n",
    "            return \"Positive\"\n",
    "        elif sentiment in [\"3\", \"neutral\"]:\n",
    "            return \"Neutral\"\n",
    "        elif sentiment in [\"1\", \"negative\"]:\n",
    "            return \"Negative\"\n",
    "        elif sentiment in [\"not_relevant\",\"Irrelevant\"]:\n",
    "            return \"Neutral\"\n",
    "        else:\n",
    "            return sentiment\n"
   ]
  },
  {
   "cell_type": "code",
   "execution_count": 7,
   "id": "72403b8f-9b74-4a12-81dc-d1ba57859121",
   "metadata": {},
   "outputs": [],
   "source": [
    "twitter_train['sentiment'] = pd.DataFrame([rename_sentiment(e) for e in twitter_train['sentiment']]).set_index(twitter_train.index)\n",
    "twitter_validate['sentiment'] = pd.DataFrame([rename_sentiment(e) for e in twitter_validate['sentiment']]).set_index(twitter_validate.index)\n",
    "twitter_test['sentiment'] = pd.DataFrame([rename_sentiment(e) for e in twitter_test['sentiment']]).set_index(twitter_test.index)"
   ]
  },
  {
   "cell_type": "code",
   "execution_count": 8,
   "id": "cdc60685-b8d8-4d6e-86c9-8d4f8b990a65",
   "metadata": {},
   "outputs": [],
   "source": [
    "airline_train['sentiment'] = pd.DataFrame([rename_sentiment(e) for e in airline_train['sentiment']]).set_index(airline_train.index)\n",
    "airline_validate['sentiment'] = pd.DataFrame([rename_sentiment(e) for e in airline_validate['sentiment']]).set_index(airline_validate.index)\n",
    "airline_test['sentiment'] = pd.DataFrame([rename_sentiment(e) for e in airline_test['sentiment']]).set_index(airline_test.index)"
   ]
  },
  {
   "cell_type": "code",
   "execution_count": 9,
   "id": "c09b5e52-2e08-4324-b355-613f29d3d479",
   "metadata": {},
   "outputs": [],
   "source": [
    "apple_train['sentiment'] = pd.DataFrame([rename_sentiment(e) for e in apple_train['sentiment']]).set_index(apple_train.index)\n",
    "apple_validate['sentiment'] = pd.DataFrame([rename_sentiment(e) for e in apple_validate['sentiment']]).set_index(apple_validate.index)\n",
    "apple_test['sentiment'] = pd.DataFrame([rename_sentiment(e) for e in apple_test['sentiment']]).set_index(apple_test.index)"
   ]
  },
  {
   "cell_type": "code",
   "execution_count": 10,
   "id": "04b265d8-99f7-41b6-b374-76f703f2e289",
   "metadata": {},
   "outputs": [],
   "source": [
    "# cat the datasets\n",
    "train_ds = pd.concat([twitter_train,airline_train,apple_train],axis=0)\n",
    "validate_ds = pd.concat([twitter_validate,airline_validate,apple_validate],axis=0)\n",
    "test_ds = pd.concat([twitter_test,airline_test,apple_test],axis=0)"
   ]
  },
  {
   "cell_type": "code",
   "execution_count": 11,
   "id": "b41be400-82cf-469e-96b0-522cf9de12b3",
   "metadata": {},
   "outputs": [],
   "source": [
    "# bert_weights_name = 'bert-base-cased'\n",
    "# bert_tokenizer = BertTokenizer.from_pretrained(bert_weights_name)\n",
    "# bert_model = BertModel.from_pretrained(bert_weights_name)\n",
    "# model = BertForSequenceClassification.from_pretrained(bert_weights_name)\n",
    "# Unique values of sentiment\n",
    "twitter_sentiment_labels = train_ds['sentiment'].unique()"
   ]
  },
  {
   "cell_type": "code",
   "execution_count": 12,
   "id": "a7bb900e-ec8f-4e7c-92e2-987c363777e0",
   "metadata": {},
   "outputs": [
    {
     "data": {
      "text/plain": [
       "(402588, 17112, 145548)"
      ]
     },
     "execution_count": 12,
     "metadata": {},
     "output_type": "execute_result"
    }
   ],
   "source": [
    "train_ds.size, validate_ds.size, test_ds.size"
   ]
  },
  {
   "cell_type": "code",
   "execution_count": 13,
   "id": "4326b274-a348-4623-a1eb-3142a2a52b2b",
   "metadata": {},
   "outputs": [
    {
     "name": "stdout",
     "output_type": "stream",
     "text": [
      "              precision    recall  f1-score   support\n",
      "\n",
      "    Negative      0.777     0.872     0.822      1288\n",
      "     Neutral      0.728     0.666     0.695      1005\n",
      "    Positive      0.674     0.589     0.628       559\n",
      "\n",
      "    accuracy                          0.744      2852\n",
      "   macro avg      0.726     0.709     0.715      2852\n",
      "weighted avg      0.740     0.744     0.739      2852\n",
      "\n",
      "CPU times: user 13h 41min 55s, sys: 15min 34s, total: 13h 57min 30s\n",
      "Wall time: 2h 25min 21s\n"
     ]
    }
   ],
   "source": [
    "%%time\n",
    "bert_experiment_full = sst.experiment(\n",
    "    [train_ds], # \n",
    "    dataset.bert_tweet_phi,\n",
    "    dataset.fit_softmax_classifier,\n",
    "    assess_dataframes=[validate_ds],\n",
    "    vectorize=False)"
   ]
  },
  {
   "cell_type": "code",
   "execution_count": 14,
   "id": "d54b31f7-4cb2-4e55-b20d-ccde15e31350",
   "metadata": {},
   "outputs": [
    {
     "data": {
      "text/plain": [
       "dict_keys(['model', 'phi', 'train_dataset', 'assess_datasets', 'predictions', 'metric', 'scores'])"
      ]
     },
     "execution_count": 14,
     "metadata": {},
     "output_type": "execute_result"
    }
   ],
   "source": [
    "bert_experiment_full.keys()"
   ]
  },
  {
   "cell_type": "code",
   "execution_count": 15,
   "id": "a7bac1a5-92e3-468e-847b-e759eb09a2bc",
   "metadata": {},
   "outputs": [
    {
     "data": {
      "text/plain": [
       "[0.7152320020307276]"
      ]
     },
     "execution_count": 15,
     "metadata": {},
     "output_type": "execute_result"
    }
   ],
   "source": [
    "bert_experiment_full['scores']"
   ]
  },
  {
   "cell_type": "code",
   "execution_count": 16,
   "id": "8a0ed646-5437-43db-a2f5-7938349cea10",
   "metadata": {},
   "outputs": [
    {
     "data": {
      "text/plain": [
       "'safe_macro_f1'"
      ]
     },
     "execution_count": 16,
     "metadata": {},
     "output_type": "execute_result"
    }
   ],
   "source": [
    "bert_experiment_full['metric']"
   ]
  },
  {
   "cell_type": "code",
   "execution_count": 17,
   "id": "95567ac1-8815-4694-96c7-dff72617250b",
   "metadata": {
    "tags": []
   },
   "outputs": [
    {
     "data": {
      "text/plain": [
       "LogisticRegression(multi_class='ovr', solver='liblinear')"
      ]
     },
     "execution_count": 17,
     "metadata": {},
     "output_type": "execute_result"
    }
   ],
   "source": [
    "bert_experiment_full['model']"
   ]
  },
  {
   "cell_type": "markdown",
   "id": "d7ccb547-1174-471f-b6e5-e9239d23fe4b",
   "metadata": {},
   "source": [
    "# Test BERTweet trained on Tweets on test set"
   ]
  },
  {
   "cell_type": "code",
   "execution_count": 18,
   "id": "1f4d5a18-66b3-467b-aea7-59f196b07bf4",
   "metadata": {},
   "outputs": [],
   "source": [
    "def predict_one_bert(text):\n",
    "    # List of tokenized examples:\n",
    "    X = [bert_experiment_full['phi'](text)]\n",
    "    # Standard `predict` step on a list of lists of str:\n",
    "    preds = bert_experiment_full['model'].predict(X)\n",
    "    # Be sure to return the only member of the predictions,\n",
    "    # rather than the singleton list:\n",
    "    return preds[0]"
   ]
  },
  {
   "cell_type": "code",
   "execution_count": 19,
   "id": "8ca03e9e-f006-40a3-aa3a-681dacbac891",
   "metadata": {},
   "outputs": [],
   "source": [
    "# %% time\n",
    "# twitter_test['prediction'] = twitter_test['text'].apply(predict_one_bert)"
   ]
  },
  {
   "cell_type": "code",
   "execution_count": 20,
   "id": "145568c0-81b1-485f-9cc5-8c5fcd4ed951",
   "metadata": {},
   "outputs": [],
   "source": [
    "# import importlib\n",
    "# importlib.reload(sst)"
   ]
  },
  {
   "cell_type": "code",
   "execution_count": 19,
   "id": "09db34c2-0a98-4627-ae75-75653fdde41e",
   "metadata": {
    "tags": []
   },
   "outputs": [
    {
     "name": "stdout",
     "output_type": "stream",
     "text": [
      "              precision    recall  f1-score   support\n",
      "\n",
      "    Negative      0.697     0.701     0.699      7820\n",
      "     Neutral      0.636     0.685     0.660      9860\n",
      "    Positive      0.631     0.552     0.589      6578\n",
      "\n",
      "    accuracy                          0.654     24258\n",
      "   macro avg      0.654     0.646     0.649     24258\n",
      "weighted avg      0.654     0.654     0.653     24258\n",
      "\n",
      "CPU times: user 4h 43min 39s, sys: 5min 23s, total: 4h 49min 2s\n",
      "Wall time: 48min 22s\n"
     ]
    }
   ],
   "source": [
    "%%time\n",
    "bert_test = sst.evaluate(\n",
    "    bert_experiment_full['model'],\n",
    "    bert_experiment_full['phi'],\n",
    "    assess_dataframes=[test_ds],\n",
    "    vectorizer=bert_experiment_full['assess_datasets'][0]['vectorizer'],\n",
    "    vectorize=False\n",
    ")"
   ]
  },
  {
   "cell_type": "code",
   "execution_count": 20,
   "id": "f49ec6d2-f389-4995-b1d9-5003bff03522",
   "metadata": {},
   "outputs": [
    {
     "data": {
      "text/plain": [
       "numpy.ndarray"
      ]
     },
     "execution_count": 20,
     "metadata": {},
     "output_type": "execute_result"
    }
   ],
   "source": [
    "type(bert_test['predictions'][0])"
   ]
  },
  {
   "cell_type": "code",
   "execution_count": 21,
   "id": "6dbc9350-3873-4226-8430-e1851b8f1a59",
   "metadata": {},
   "outputs": [],
   "source": [
    "predictions_fname ='results/BERTweet_predictions_on_combined_neutral_twitter_test.csv'\n",
    "df = bert_test['predictions'][0]\n",
    "pd.DataFrame(df).to_csv(predictions_fname)"
   ]
  },
  {
   "cell_type": "code",
   "execution_count": 22,
   "id": "13e45694-66b9-41f2-9159-70f048dbae48",
   "metadata": {
    "tags": []
   },
   "outputs": [],
   "source": [
    "encoding_fname ='results/BERTweet_encodings_on_combined_neutral_twitter_test.csv'\n",
    "encoded_test = bert_test['assess_datasets'][0]\n",
    "pd.DataFrame(encoded_test).to_csv(encoding_fname)"
   ]
  },
  {
   "cell_type": "code",
   "execution_count": 23,
   "id": "eb5ae92e-80a6-44f3-827b-a79eab788ddc",
   "metadata": {},
   "outputs": [
    {
     "data": {
      "text/html": [
       "<div>\n",
       "<style scoped>\n",
       "    .dataframe tbody tr th:only-of-type {\n",
       "        vertical-align: middle;\n",
       "    }\n",
       "\n",
       "    .dataframe tbody tr th {\n",
       "        vertical-align: top;\n",
       "    }\n",
       "\n",
       "    .dataframe thead th {\n",
       "        text-align: right;\n",
       "    }\n",
       "</style>\n",
       "<table border=\"1\" class=\"dataframe\">\n",
       "  <thead>\n",
       "    <tr style=\"text-align: right;\">\n",
       "      <th></th>\n",
       "      <th>0</th>\n",
       "    </tr>\n",
       "  </thead>\n",
       "  <tbody>\n",
       "    <tr>\n",
       "      <th>1</th>\n",
       "      <td>Neutral</td>\n",
       "    </tr>\n",
       "    <tr>\n",
       "      <th>7</th>\n",
       "      <td>Neutral</td>\n",
       "    </tr>\n",
       "    <tr>\n",
       "      <th>10</th>\n",
       "      <td>Positive</td>\n",
       "    </tr>\n",
       "    <tr>\n",
       "      <th>11</th>\n",
       "      <td>Neutral</td>\n",
       "    </tr>\n",
       "    <tr>\n",
       "      <th>16</th>\n",
       "      <td>Neutral</td>\n",
       "    </tr>\n",
       "    <tr>\n",
       "      <th>...</th>\n",
       "      <td>...</td>\n",
       "    </tr>\n",
       "    <tr>\n",
       "      <th>3819</th>\n",
       "      <td>Negative</td>\n",
       "    </tr>\n",
       "    <tr>\n",
       "      <th>3826</th>\n",
       "      <td>Neutral</td>\n",
       "    </tr>\n",
       "    <tr>\n",
       "      <th>3833</th>\n",
       "      <td>Neutral</td>\n",
       "    </tr>\n",
       "    <tr>\n",
       "      <th>3843</th>\n",
       "      <td>Negative</td>\n",
       "    </tr>\n",
       "    <tr>\n",
       "      <th>3848</th>\n",
       "      <td>Neutral</td>\n",
       "    </tr>\n",
       "  </tbody>\n",
       "</table>\n",
       "<p>24258 rows × 1 columns</p>\n",
       "</div>"
      ],
      "text/plain": [
       "             0\n",
       "1      Neutral\n",
       "7      Neutral\n",
       "10    Positive\n",
       "11     Neutral\n",
       "16     Neutral\n",
       "...        ...\n",
       "3819  Negative\n",
       "3826   Neutral\n",
       "3833   Neutral\n",
       "3843  Negative\n",
       "3848   Neutral\n",
       "\n",
       "[24258 rows x 1 columns]"
      ]
     },
     "execution_count": 23,
     "metadata": {},
     "output_type": "execute_result"
    }
   ],
   "source": [
    "predictions_df = pd.DataFrame(df)\n",
    "predictions_df = predictions_df.set_index(test_ds.index)\n",
    "predictions_df"
   ]
  },
  {
   "cell_type": "code",
   "execution_count": 24,
   "id": "ed7099ef-7ce4-4346-a0fd-fea8fa9f4580",
   "metadata": {},
   "outputs": [],
   "source": [
    "test_ds['BERTweet_sentiment'] = predictions_df"
   ]
  },
  {
   "cell_type": "code",
   "execution_count": 25,
   "id": "71be05a5-02e8-4315-88a7-0651caf140b9",
   "metadata": {},
   "outputs": [
    {
     "data": {
      "text/html": [
       "<div>\n",
       "<style scoped>\n",
       "    .dataframe tbody tr th:only-of-type {\n",
       "        vertical-align: middle;\n",
       "    }\n",
       "\n",
       "    .dataframe tbody tr th {\n",
       "        vertical-align: top;\n",
       "    }\n",
       "\n",
       "    .dataframe thead th {\n",
       "        text-align: right;\n",
       "    }\n",
       "</style>\n",
       "<table border=\"1\" class=\"dataframe\">\n",
       "  <thead>\n",
       "    <tr style=\"text-align: right;\">\n",
       "      <th></th>\n",
       "      <th>dataset</th>\n",
       "      <th>tweet_id</th>\n",
       "      <th>text</th>\n",
       "      <th>sentiment</th>\n",
       "      <th>entity</th>\n",
       "      <th>airline</th>\n",
       "      <th>BERTweet_sentiment</th>\n",
       "    </tr>\n",
       "  </thead>\n",
       "  <tbody>\n",
       "    <tr>\n",
       "      <th>1</th>\n",
       "      <td>twitter_sentiment</td>\n",
       "      <td>1</td>\n",
       "      <td>I am coming to the borders and I will kill you...</td>\n",
       "      <td>Positive</td>\n",
       "      <td>2401.0</td>\n",
       "      <td>NaN</td>\n",
       "      <td>Neutral</td>\n",
       "    </tr>\n",
       "    <tr>\n",
       "      <th>7</th>\n",
       "      <td>twitter_sentiment</td>\n",
       "      <td>2</td>\n",
       "      <td>So I spent a couple of hours doing something f...</td>\n",
       "      <td>Positive</td>\n",
       "      <td>2402.0</td>\n",
       "      <td>NaN</td>\n",
       "      <td>Neutral</td>\n",
       "    </tr>\n",
       "    <tr>\n",
       "      <th>10</th>\n",
       "      <td>twitter_sentiment</td>\n",
       "      <td>3</td>\n",
       "      <td>2010 So I spent a few hours making something f...</td>\n",
       "      <td>Positive</td>\n",
       "      <td>2402.0</td>\n",
       "      <td>NaN</td>\n",
       "      <td>Positive</td>\n",
       "    </tr>\n",
       "    <tr>\n",
       "      <th>11</th>\n",
       "      <td>twitter_sentiment</td>\n",
       "      <td>4</td>\n",
       "      <td>was</td>\n",
       "      <td>Positive</td>\n",
       "      <td>2402.0</td>\n",
       "      <td>NaN</td>\n",
       "      <td>Neutral</td>\n",
       "    </tr>\n",
       "    <tr>\n",
       "      <th>16</th>\n",
       "      <td>twitter_sentiment</td>\n",
       "      <td>5</td>\n",
       "      <td>Live Rock - Hard music La la Varlope, RARE &amp; t...</td>\n",
       "      <td>Neutral</td>\n",
       "      <td>2403.0</td>\n",
       "      <td>NaN</td>\n",
       "      <td>Neutral</td>\n",
       "    </tr>\n",
       "    <tr>\n",
       "      <th>...</th>\n",
       "      <td>...</td>\n",
       "      <td>...</td>\n",
       "      <td>...</td>\n",
       "      <td>...</td>\n",
       "      <td>...</td>\n",
       "      <td>...</td>\n",
       "      <td>...</td>\n",
       "    </tr>\n",
       "    <tr>\n",
       "      <th>3819</th>\n",
       "      <td>twitter_apple</td>\n",
       "      <td>623499349</td>\n",
       "      <td>Fuck this is the third charger I've broke in l...</td>\n",
       "      <td>Negative</td>\n",
       "      <td>NaN</td>\n",
       "      <td>NaN</td>\n",
       "      <td>Negative</td>\n",
       "    </tr>\n",
       "    <tr>\n",
       "      <th>3826</th>\n",
       "      <td>twitter_apple</td>\n",
       "      <td>623499356</td>\n",
       "      <td>RT @iLoveMyMom98: I've tried turning it off an...</td>\n",
       "      <td>Negative</td>\n",
       "      <td>NaN</td>\n",
       "      <td>NaN</td>\n",
       "      <td>Neutral</td>\n",
       "    </tr>\n",
       "    <tr>\n",
       "      <th>3833</th>\n",
       "      <td>twitter_apple</td>\n",
       "      <td>623499363</td>\n",
       "      <td>APPLE Intraday Comments - LAST Update - PREMIU...</td>\n",
       "      <td>Neutral</td>\n",
       "      <td>NaN</td>\n",
       "      <td>NaN</td>\n",
       "      <td>Neutral</td>\n",
       "    </tr>\n",
       "    <tr>\n",
       "      <th>3843</th>\n",
       "      <td>twitter_apple</td>\n",
       "      <td>623499373</td>\n",
       "      <td>@iamrayuko @Apple because you know you don't w...</td>\n",
       "      <td>Neutral</td>\n",
       "      <td>NaN</td>\n",
       "      <td>NaN</td>\n",
       "      <td>Negative</td>\n",
       "    </tr>\n",
       "    <tr>\n",
       "      <th>3848</th>\n",
       "      <td>twitter_apple</td>\n",
       "      <td>623499378</td>\n",
       "      <td>@styIesburn @Apple DOIS</td>\n",
       "      <td>Neutral</td>\n",
       "      <td>NaN</td>\n",
       "      <td>NaN</td>\n",
       "      <td>Neutral</td>\n",
       "    </tr>\n",
       "  </tbody>\n",
       "</table>\n",
       "<p>24258 rows × 7 columns</p>\n",
       "</div>"
      ],
      "text/plain": [
       "                dataset   tweet_id  \\\n",
       "1     twitter_sentiment          1   \n",
       "7     twitter_sentiment          2   \n",
       "10    twitter_sentiment          3   \n",
       "11    twitter_sentiment          4   \n",
       "16    twitter_sentiment          5   \n",
       "...                 ...        ...   \n",
       "3819      twitter_apple  623499349   \n",
       "3826      twitter_apple  623499356   \n",
       "3833      twitter_apple  623499363   \n",
       "3843      twitter_apple  623499373   \n",
       "3848      twitter_apple  623499378   \n",
       "\n",
       "                                                   text sentiment  entity  \\\n",
       "1     I am coming to the borders and I will kill you...  Positive  2401.0   \n",
       "7     So I spent a couple of hours doing something f...  Positive  2402.0   \n",
       "10    2010 So I spent a few hours making something f...  Positive  2402.0   \n",
       "11                                                  was  Positive  2402.0   \n",
       "16    Live Rock - Hard music La la Varlope, RARE & t...   Neutral  2403.0   \n",
       "...                                                 ...       ...     ...   \n",
       "3819  Fuck this is the third charger I've broke in l...  Negative     NaN   \n",
       "3826  RT @iLoveMyMom98: I've tried turning it off an...  Negative     NaN   \n",
       "3833  APPLE Intraday Comments - LAST Update - PREMIU...   Neutral     NaN   \n",
       "3843  @iamrayuko @Apple because you know you don't w...   Neutral     NaN   \n",
       "3848                            @styIesburn @Apple DOIS   Neutral     NaN   \n",
       "\n",
       "     airline BERTweet_sentiment  \n",
       "1        NaN            Neutral  \n",
       "7        NaN            Neutral  \n",
       "10       NaN           Positive  \n",
       "11       NaN            Neutral  \n",
       "16       NaN            Neutral  \n",
       "...      ...                ...  \n",
       "3819     NaN           Negative  \n",
       "3826     NaN            Neutral  \n",
       "3833     NaN            Neutral  \n",
       "3843     NaN           Negative  \n",
       "3848     NaN            Neutral  \n",
       "\n",
       "[24258 rows x 7 columns]"
      ]
     },
     "execution_count": 25,
     "metadata": {},
     "output_type": "execute_result"
    }
   ],
   "source": [
    "test_ds"
   ]
  },
  {
   "cell_type": "code",
   "execution_count": 28,
   "id": "cf9c4767-072f-4201-9c43-e65c04e97858",
   "metadata": {},
   "outputs": [],
   "source": [
    "test_predictions_fname ='results/BERTweet_predictions_added_to_combined_neutral_twitter_test.csv'\n",
    "test_ds.to_csv(test_predictions_fname)"
   ]
  },
  {
   "cell_type": "code",
   "execution_count": 26,
   "id": "d1b799ce-e850-4035-bae7-8ddb45eecb27",
   "metadata": {},
   "outputs": [],
   "source": [
    "correct = test_ds[test_ds['sentiment'] == test_ds['BERTweet_sentiment']]"
   ]
  },
  {
   "cell_type": "code",
   "execution_count": 27,
   "id": "682cdd73-a337-436e-a3f5-1ee6bb8a8ee1",
   "metadata": {},
   "outputs": [
    {
     "data": {
      "text/html": [
       "<div>\n",
       "<style scoped>\n",
       "    .dataframe tbody tr th:only-of-type {\n",
       "        vertical-align: middle;\n",
       "    }\n",
       "\n",
       "    .dataframe tbody tr th {\n",
       "        vertical-align: top;\n",
       "    }\n",
       "\n",
       "    .dataframe thead th {\n",
       "        text-align: right;\n",
       "    }\n",
       "</style>\n",
       "<table border=\"1\" class=\"dataframe\">\n",
       "  <thead>\n",
       "    <tr style=\"text-align: right;\">\n",
       "      <th></th>\n",
       "      <th>dataset</th>\n",
       "      <th>tweet_id</th>\n",
       "      <th>text</th>\n",
       "      <th>sentiment</th>\n",
       "      <th>entity</th>\n",
       "      <th>airline</th>\n",
       "      <th>BERTweet_sentiment</th>\n",
       "    </tr>\n",
       "  </thead>\n",
       "  <tbody>\n",
       "    <tr>\n",
       "      <th>10</th>\n",
       "      <td>twitter_sentiment</td>\n",
       "      <td>3</td>\n",
       "      <td>2010 So I spent a few hours making something f...</td>\n",
       "      <td>Positive</td>\n",
       "      <td>2402.0</td>\n",
       "      <td>NaN</td>\n",
       "      <td>Positive</td>\n",
       "    </tr>\n",
       "    <tr>\n",
       "      <th>16</th>\n",
       "      <td>twitter_sentiment</td>\n",
       "      <td>5</td>\n",
       "      <td>Live Rock - Hard music La la Varlope, RARE &amp; t...</td>\n",
       "      <td>Neutral</td>\n",
       "      <td>2403.0</td>\n",
       "      <td>NaN</td>\n",
       "      <td>Neutral</td>\n",
       "    </tr>\n",
       "    <tr>\n",
       "      <th>20</th>\n",
       "      <td>twitter_sentiment</td>\n",
       "      <td>6</td>\n",
       "      <td>that was the first borderlands session in a lo...</td>\n",
       "      <td>Positive</td>\n",
       "      <td>2404.0</td>\n",
       "      <td>NaN</td>\n",
       "      <td>Positive</td>\n",
       "    </tr>\n",
       "    <tr>\n",
       "      <th>21</th>\n",
       "      <td>twitter_sentiment</td>\n",
       "      <td>7</td>\n",
       "      <td>that was the first borderlands session in a lo...</td>\n",
       "      <td>Positive</td>\n",
       "      <td>2404.0</td>\n",
       "      <td>NaN</td>\n",
       "      <td>Positive</td>\n",
       "    </tr>\n",
       "    <tr>\n",
       "      <th>23</th>\n",
       "      <td>twitter_sentiment</td>\n",
       "      <td>8</td>\n",
       "      <td>that was the first borderlands session in a ho...</td>\n",
       "      <td>Positive</td>\n",
       "      <td>2404.0</td>\n",
       "      <td>NaN</td>\n",
       "      <td>Positive</td>\n",
       "    </tr>\n",
       "    <tr>\n",
       "      <th>...</th>\n",
       "      <td>...</td>\n",
       "      <td>...</td>\n",
       "      <td>...</td>\n",
       "      <td>...</td>\n",
       "      <td>...</td>\n",
       "      <td>...</td>\n",
       "      <td>...</td>\n",
       "    </tr>\n",
       "    <tr>\n",
       "      <th>3813</th>\n",
       "      <td>twitter_apple</td>\n",
       "      <td>623499343</td>\n",
       "      <td>My phone went from 78% to 21% @apple please te...</td>\n",
       "      <td>Negative</td>\n",
       "      <td>NaN</td>\n",
       "      <td>NaN</td>\n",
       "      <td>Negative</td>\n",
       "    </tr>\n",
       "    <tr>\n",
       "      <th>3817</th>\n",
       "      <td>twitter_apple</td>\n",
       "      <td>623499347</td>\n",
       "      <td>Why Apple Watch May Be a Luxury Fashion Hit  $...</td>\n",
       "      <td>Neutral</td>\n",
       "      <td>NaN</td>\n",
       "      <td>NaN</td>\n",
       "      <td>Neutral</td>\n",
       "    </tr>\n",
       "    <tr>\n",
       "      <th>3819</th>\n",
       "      <td>twitter_apple</td>\n",
       "      <td>623499349</td>\n",
       "      <td>Fuck this is the third charger I've broke in l...</td>\n",
       "      <td>Negative</td>\n",
       "      <td>NaN</td>\n",
       "      <td>NaN</td>\n",
       "      <td>Negative</td>\n",
       "    </tr>\n",
       "    <tr>\n",
       "      <th>3833</th>\n",
       "      <td>twitter_apple</td>\n",
       "      <td>623499363</td>\n",
       "      <td>APPLE Intraday Comments - LAST Update - PREMIU...</td>\n",
       "      <td>Neutral</td>\n",
       "      <td>NaN</td>\n",
       "      <td>NaN</td>\n",
       "      <td>Neutral</td>\n",
       "    </tr>\n",
       "    <tr>\n",
       "      <th>3848</th>\n",
       "      <td>twitter_apple</td>\n",
       "      <td>623499378</td>\n",
       "      <td>@styIesburn @Apple DOIS</td>\n",
       "      <td>Neutral</td>\n",
       "      <td>NaN</td>\n",
       "      <td>NaN</td>\n",
       "      <td>Neutral</td>\n",
       "    </tr>\n",
       "  </tbody>\n",
       "</table>\n",
       "<p>15875 rows × 7 columns</p>\n",
       "</div>"
      ],
      "text/plain": [
       "                dataset   tweet_id  \\\n",
       "10    twitter_sentiment          3   \n",
       "16    twitter_sentiment          5   \n",
       "20    twitter_sentiment          6   \n",
       "21    twitter_sentiment          7   \n",
       "23    twitter_sentiment          8   \n",
       "...                 ...        ...   \n",
       "3813      twitter_apple  623499343   \n",
       "3817      twitter_apple  623499347   \n",
       "3819      twitter_apple  623499349   \n",
       "3833      twitter_apple  623499363   \n",
       "3848      twitter_apple  623499378   \n",
       "\n",
       "                                                   text sentiment  entity  \\\n",
       "10    2010 So I spent a few hours making something f...  Positive  2402.0   \n",
       "16    Live Rock - Hard music La la Varlope, RARE & t...   Neutral  2403.0   \n",
       "20    that was the first borderlands session in a lo...  Positive  2404.0   \n",
       "21    that was the first borderlands session in a lo...  Positive  2404.0   \n",
       "23    that was the first borderlands session in a ho...  Positive  2404.0   \n",
       "...                                                 ...       ...     ...   \n",
       "3813  My phone went from 78% to 21% @apple please te...  Negative     NaN   \n",
       "3817  Why Apple Watch May Be a Luxury Fashion Hit  $...   Neutral     NaN   \n",
       "3819  Fuck this is the third charger I've broke in l...  Negative     NaN   \n",
       "3833  APPLE Intraday Comments - LAST Update - PREMIU...   Neutral     NaN   \n",
       "3848                            @styIesburn @Apple DOIS   Neutral     NaN   \n",
       "\n",
       "     airline BERTweet_sentiment  \n",
       "10       NaN           Positive  \n",
       "16       NaN            Neutral  \n",
       "20       NaN           Positive  \n",
       "21       NaN           Positive  \n",
       "23       NaN           Positive  \n",
       "...      ...                ...  \n",
       "3813     NaN           Negative  \n",
       "3817     NaN            Neutral  \n",
       "3819     NaN           Negative  \n",
       "3833     NaN            Neutral  \n",
       "3848     NaN            Neutral  \n",
       "\n",
       "[15875 rows x 7 columns]"
      ]
     },
     "execution_count": 27,
     "metadata": {},
     "output_type": "execute_result"
    }
   ],
   "source": [
    "correct"
   ]
  },
  {
   "cell_type": "code",
   "execution_count": 28,
   "id": "0b17a467-a521-4f37-9616-c9b925356660",
   "metadata": {},
   "outputs": [],
   "source": [
    "incorrect = test_ds[test_ds['sentiment'] != test_ds['BERTweet_sentiment']]"
   ]
  },
  {
   "cell_type": "code",
   "execution_count": 29,
   "id": "45b58f07-ebe3-4c83-b614-d1e154e358dd",
   "metadata": {},
   "outputs": [
    {
     "data": {
      "text/html": [
       "<div>\n",
       "<style scoped>\n",
       "    .dataframe tbody tr th:only-of-type {\n",
       "        vertical-align: middle;\n",
       "    }\n",
       "\n",
       "    .dataframe tbody tr th {\n",
       "        vertical-align: top;\n",
       "    }\n",
       "\n",
       "    .dataframe thead th {\n",
       "        text-align: right;\n",
       "    }\n",
       "</style>\n",
       "<table border=\"1\" class=\"dataframe\">\n",
       "  <thead>\n",
       "    <tr style=\"text-align: right;\">\n",
       "      <th></th>\n",
       "      <th>dataset</th>\n",
       "      <th>tweet_id</th>\n",
       "      <th>text</th>\n",
       "      <th>sentiment</th>\n",
       "      <th>entity</th>\n",
       "      <th>airline</th>\n",
       "      <th>BERTweet_sentiment</th>\n",
       "    </tr>\n",
       "  </thead>\n",
       "  <tbody>\n",
       "    <tr>\n",
       "      <th>1</th>\n",
       "      <td>twitter_sentiment</td>\n",
       "      <td>1</td>\n",
       "      <td>I am coming to the borders and I will kill you...</td>\n",
       "      <td>Positive</td>\n",
       "      <td>2401.0</td>\n",
       "      <td>NaN</td>\n",
       "      <td>Neutral</td>\n",
       "    </tr>\n",
       "    <tr>\n",
       "      <th>7</th>\n",
       "      <td>twitter_sentiment</td>\n",
       "      <td>2</td>\n",
       "      <td>So I spent a couple of hours doing something f...</td>\n",
       "      <td>Positive</td>\n",
       "      <td>2402.0</td>\n",
       "      <td>NaN</td>\n",
       "      <td>Neutral</td>\n",
       "    </tr>\n",
       "    <tr>\n",
       "      <th>11</th>\n",
       "      <td>twitter_sentiment</td>\n",
       "      <td>4</td>\n",
       "      <td>was</td>\n",
       "      <td>Positive</td>\n",
       "      <td>2402.0</td>\n",
       "      <td>NaN</td>\n",
       "      <td>Neutral</td>\n",
       "    </tr>\n",
       "    <tr>\n",
       "      <th>65</th>\n",
       "      <td>twitter_sentiment</td>\n",
       "      <td>20</td>\n",
       "      <td>.. what</td>\n",
       "      <td>Neutral</td>\n",
       "      <td>2411.0</td>\n",
       "      <td>NaN</td>\n",
       "      <td>Positive</td>\n",
       "    </tr>\n",
       "    <tr>\n",
       "      <th>74</th>\n",
       "      <td>twitter_sentiment</td>\n",
       "      <td>25</td>\n",
       "      <td>imma will probably play some border tps in a b...</td>\n",
       "      <td>Positive</td>\n",
       "      <td>2413.0</td>\n",
       "      <td>NaN</td>\n",
       "      <td>Neutral</td>\n",
       "    </tr>\n",
       "    <tr>\n",
       "      <th>...</th>\n",
       "      <td>...</td>\n",
       "      <td>...</td>\n",
       "      <td>...</td>\n",
       "      <td>...</td>\n",
       "      <td>...</td>\n",
       "      <td>...</td>\n",
       "      <td>...</td>\n",
       "    </tr>\n",
       "    <tr>\n",
       "      <th>3744</th>\n",
       "      <td>twitter_apple</td>\n",
       "      <td>623499274</td>\n",
       "      <td>RT @iLoveMyMom98: I've tried turning it off an...</td>\n",
       "      <td>Negative</td>\n",
       "      <td>NaN</td>\n",
       "      <td>NaN</td>\n",
       "      <td>Neutral</td>\n",
       "    </tr>\n",
       "    <tr>\n",
       "      <th>3756</th>\n",
       "      <td>twitter_apple</td>\n",
       "      <td>623499286</td>\n",
       "      <td>The best @Apple #iPhone apps for 2014 http://t...</td>\n",
       "      <td>Neutral</td>\n",
       "      <td>NaN</td>\n",
       "      <td>NaN</td>\n",
       "      <td>Positive</td>\n",
       "    </tr>\n",
       "    <tr>\n",
       "      <th>3818</th>\n",
       "      <td>twitter_apple</td>\n",
       "      <td>623499348</td>\n",
       "      <td>RT @CNET: @Apple pioneer Bill Fernandez on @Go...</td>\n",
       "      <td>Neutral</td>\n",
       "      <td>NaN</td>\n",
       "      <td>NaN</td>\n",
       "      <td>Positive</td>\n",
       "    </tr>\n",
       "    <tr>\n",
       "      <th>3826</th>\n",
       "      <td>twitter_apple</td>\n",
       "      <td>623499356</td>\n",
       "      <td>RT @iLoveMyMom98: I've tried turning it off an...</td>\n",
       "      <td>Negative</td>\n",
       "      <td>NaN</td>\n",
       "      <td>NaN</td>\n",
       "      <td>Neutral</td>\n",
       "    </tr>\n",
       "    <tr>\n",
       "      <th>3843</th>\n",
       "      <td>twitter_apple</td>\n",
       "      <td>623499373</td>\n",
       "      <td>@iamrayuko @Apple because you know you don't w...</td>\n",
       "      <td>Neutral</td>\n",
       "      <td>NaN</td>\n",
       "      <td>NaN</td>\n",
       "      <td>Negative</td>\n",
       "    </tr>\n",
       "  </tbody>\n",
       "</table>\n",
       "<p>8383 rows × 7 columns</p>\n",
       "</div>"
      ],
      "text/plain": [
       "                dataset   tweet_id  \\\n",
       "1     twitter_sentiment          1   \n",
       "7     twitter_sentiment          2   \n",
       "11    twitter_sentiment          4   \n",
       "65    twitter_sentiment         20   \n",
       "74    twitter_sentiment         25   \n",
       "...                 ...        ...   \n",
       "3744      twitter_apple  623499274   \n",
       "3756      twitter_apple  623499286   \n",
       "3818      twitter_apple  623499348   \n",
       "3826      twitter_apple  623499356   \n",
       "3843      twitter_apple  623499373   \n",
       "\n",
       "                                                   text sentiment  entity  \\\n",
       "1     I am coming to the borders and I will kill you...  Positive  2401.0   \n",
       "7     So I spent a couple of hours doing something f...  Positive  2402.0   \n",
       "11                                                  was  Positive  2402.0   \n",
       "65                                              .. what   Neutral  2411.0   \n",
       "74    imma will probably play some border tps in a b...  Positive  2413.0   \n",
       "...                                                 ...       ...     ...   \n",
       "3744  RT @iLoveMyMom98: I've tried turning it off an...  Negative     NaN   \n",
       "3756  The best @Apple #iPhone apps for 2014 http://t...   Neutral     NaN   \n",
       "3818  RT @CNET: @Apple pioneer Bill Fernandez on @Go...   Neutral     NaN   \n",
       "3826  RT @iLoveMyMom98: I've tried turning it off an...  Negative     NaN   \n",
       "3843  @iamrayuko @Apple because you know you don't w...   Neutral     NaN   \n",
       "\n",
       "     airline BERTweet_sentiment  \n",
       "1        NaN            Neutral  \n",
       "7        NaN            Neutral  \n",
       "11       NaN            Neutral  \n",
       "65       NaN           Positive  \n",
       "74       NaN            Neutral  \n",
       "...      ...                ...  \n",
       "3744     NaN            Neutral  \n",
       "3756     NaN           Positive  \n",
       "3818     NaN           Positive  \n",
       "3826     NaN            Neutral  \n",
       "3843     NaN           Negative  \n",
       "\n",
       "[8383 rows x 7 columns]"
      ]
     },
     "execution_count": 29,
     "metadata": {},
     "output_type": "execute_result"
    }
   ],
   "source": [
    "incorrect"
   ]
  },
  {
   "cell_type": "code",
   "execution_count": 30,
   "id": "ff9d3b45-ccca-4c20-b38e-fc5278d24d0e",
   "metadata": {},
   "outputs": [
    {
     "data": {
      "text/html": [
       "<div>\n",
       "<style scoped>\n",
       "    .dataframe tbody tr th:only-of-type {\n",
       "        vertical-align: middle;\n",
       "    }\n",
       "\n",
       "    .dataframe tbody tr th {\n",
       "        vertical-align: top;\n",
       "    }\n",
       "\n",
       "    .dataframe thead th {\n",
       "        text-align: right;\n",
       "    }\n",
       "</style>\n",
       "<table border=\"1\" class=\"dataframe\">\n",
       "  <thead>\n",
       "    <tr style=\"text-align: right;\">\n",
       "      <th></th>\n",
       "      <th>dataset</th>\n",
       "      <th>tweet_id</th>\n",
       "      <th>text</th>\n",
       "      <th>sentiment</th>\n",
       "      <th>entity</th>\n",
       "      <th>airline</th>\n",
       "      <th>BERTweet_sentiment</th>\n",
       "    </tr>\n",
       "  </thead>\n",
       "  <tbody>\n",
       "  </tbody>\n",
       "</table>\n",
       "</div>"
      ],
      "text/plain": [
       "Empty DataFrame\n",
       "Columns: [dataset, tweet_id, text, sentiment, entity, airline, BERTweet_sentiment]\n",
       "Index: []"
      ]
     },
     "execution_count": 30,
     "metadata": {},
     "output_type": "execute_result"
    }
   ],
   "source": [
    "irrelevant = test_ds[test_ds['sentiment'] == 'Irrelevant']\n",
    "irrelevant"
   ]
  },
  {
   "cell_type": "markdown",
   "id": "7cc61387-6176-4775-b332-99b161a5fc69",
   "metadata": {},
   "source": [
    "# Save Model"
   ]
  },
  {
   "cell_type": "code",
   "execution_count": 31,
   "id": "6daebf7f-eeb2-4831-b5cd-ac245929614a",
   "metadata": {},
   "outputs": [],
   "source": [
    "import pickle\n",
    "model_fname = 'models/BERTweet_twitter_model_combined_neutral.sav'\n",
    "pickle.dump(bert_experiment_full['model'], open(model_fname, 'wb'))"
   ]
  },
  {
   "cell_type": "code",
   "execution_count": 32,
   "id": "e5d7b3b4-4ce7-4ba4-9bc7-e977374a6d87",
   "metadata": {},
   "outputs": [],
   "source": [
    "test_fname = 'results/BERTweet_test_combined_neutral.sav'\n",
    "pickle.dump(bert_test, open(test_fname, 'wb'))"
   ]
  },
  {
   "cell_type": "code",
   "execution_count": null,
   "id": "51326eb4-8a92-45ed-8a3e-450e4c8645fb",
   "metadata": {},
   "outputs": [],
   "source": []
  }
 ],
 "metadata": {
  "kernelspec": {
   "display_name": "nlu",
   "language": "python",
   "name": "nlu"
  },
  "language_info": {
   "codemirror_mode": {
    "name": "ipython",
    "version": 3
   },
   "file_extension": ".py",
   "mimetype": "text/x-python",
   "name": "python",
   "nbconvert_exporter": "python",
   "pygments_lexer": "ipython3",
   "version": "3.8.12"
  }
 },
 "nbformat": 4,
 "nbformat_minor": 5
}

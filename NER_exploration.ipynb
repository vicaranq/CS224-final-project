{
 "cells": [
  {
   "cell_type": "code",
   "execution_count": null,
   "id": "430bdad2",
   "metadata": {},
   "outputs": [],
   "source": [
    "# Install spacy on NLU environment\n",
    "# > conda install -c conda-forge spacy \n",
    "# > python -m spacy download en_core_web_md"
   ]
  },
  {
   "cell_type": "code",
   "execution_count": 1,
   "id": "18297f9c",
   "metadata": {},
   "outputs": [],
   "source": [
    "import spacy\n",
    "from spacy import displacy\n",
    "from collections import Counter\n",
    "import en_core_web_sm\n",
    "\n",
    "nlp = en_core_web_sm.load()"
   ]
  },
  {
   "cell_type": "code",
   "execution_count": 8,
   "id": "3b32b800",
   "metadata": {},
   "outputs": [],
   "source": [
    "import pandas as pd\n",
    "import dataset\n",
    "import vsm\n",
    "import sst"
   ]
  },
  {
   "cell_type": "code",
   "execution_count": 18,
   "id": "670672c2",
   "metadata": {},
   "outputs": [],
   "source": [
    "from pprint import pprint\n"
   ]
  },
  {
   "cell_type": "code",
   "execution_count": 2,
   "id": "3fac1642",
   "metadata": {},
   "outputs": [],
   "source": [
    "TWITTER = 2\n",
    "TWITTER_AIRLINES = 3\n",
    "TWITTER_APPLE = 4"
   ]
  },
  {
   "cell_type": "markdown",
   "id": "953fec9d",
   "metadata": {},
   "source": [
    "------------"
   ]
  },
  {
   "cell_type": "markdown",
   "id": "cfe444ea",
   "metadata": {},
   "source": [
    "## Exploring Apple Dataset"
   ]
  },
  {
   "cell_type": "code",
   "execution_count": 5,
   "id": "539b6274",
   "metadata": {},
   "outputs": [],
   "source": [
    "twitter_train, twitter_validate, twitter_test =  dataset.dataset_reader(TWITTER_APPLE)\n",
    "[twitter_train, twitter_validate, twitter_test] = list(map(lambda ds : dataset.prune_columns(TWITTER_APPLE, ds), [twitter_train, twitter_validate, twitter_test]))"
   ]
  },
  {
   "cell_type": "code",
   "execution_count": 6,
   "id": "2b2eccec",
   "metadata": {},
   "outputs": [
    {
     "data": {
      "text/plain": [
       "[(3109, 4), (388, 4), (389, 4)]"
      ]
     },
     "execution_count": 6,
     "metadata": {},
     "output_type": "execute_result"
    }
   ],
   "source": [
    "[ds.shape for ds in [twitter_train, twitter_validate, twitter_test]]"
   ]
  },
  {
   "cell_type": "code",
   "execution_count": 9,
   "id": "60cad18b",
   "metadata": {},
   "outputs": [],
   "source": [
    "twitter_ds = pd.concat([twitter_train,twitter_validate,twitter_test],axis=0)"
   ]
  },
  {
   "cell_type": "code",
   "execution_count": 10,
   "id": "c34259e9",
   "metadata": {},
   "outputs": [
    {
     "data": {
      "text/html": [
       "<div>\n",
       "<style scoped>\n",
       "    .dataframe tbody tr th:only-of-type {\n",
       "        vertical-align: middle;\n",
       "    }\n",
       "\n",
       "    .dataframe tbody tr th {\n",
       "        vertical-align: top;\n",
       "    }\n",
       "\n",
       "    .dataframe thead th {\n",
       "        text-align: right;\n",
       "    }\n",
       "</style>\n",
       "<table border=\"1\" class=\"dataframe\">\n",
       "  <thead>\n",
       "    <tr style=\"text-align: right;\">\n",
       "      <th></th>\n",
       "      <th>dataset</th>\n",
       "      <th>tweet_id</th>\n",
       "      <th>text</th>\n",
       "      <th>sentiment</th>\n",
       "    </tr>\n",
       "  </thead>\n",
       "  <tbody>\n",
       "    <tr>\n",
       "      <th>1408</th>\n",
       "      <td>twitter_apple</td>\n",
       "      <td>623496932</td>\n",
       "      <td>RT @huffpostgay: @Apple CEO Time Cook gets a u...</td>\n",
       "      <td>3</td>\n",
       "    </tr>\n",
       "    <tr>\n",
       "      <th>3132</th>\n",
       "      <td>twitter_apple</td>\n",
       "      <td>623498662</td>\n",
       "      <td>NO CALLER ID must be able to be BLOCKED on @Ap...</td>\n",
       "      <td>1</td>\n",
       "    </tr>\n",
       "    <tr>\n",
       "      <th>1362</th>\n",
       "      <td>twitter_apple</td>\n",
       "      <td>623496886</td>\n",
       "      <td>RT @JPDesloges: iPhone 6 makes iOS a success i...</td>\n",
       "      <td>3</td>\n",
       "    </tr>\n",
       "    <tr>\n",
       "      <th>988</th>\n",
       "      <td>twitter_apple</td>\n",
       "      <td>623496506</td>\n",
       "      <td>RT @HamzeiAnalytics: BLOCK TRADE detected in #...</td>\n",
       "      <td>3</td>\n",
       "    </tr>\n",
       "    <tr>\n",
       "      <th>1516</th>\n",
       "      <td>twitter_apple</td>\n",
       "      <td>623497040</td>\n",
       "      <td>@OneRepublic @Apple Lmaoo! Someone needs to ge...</td>\n",
       "      <td>3</td>\n",
       "    </tr>\n",
       "    <tr>\n",
       "      <th>...</th>\n",
       "      <td>...</td>\n",
       "      <td>...</td>\n",
       "      <td>...</td>\n",
       "      <td>...</td>\n",
       "    </tr>\n",
       "    <tr>\n",
       "      <th>3810</th>\n",
       "      <td>twitter_apple</td>\n",
       "      <td>623499340</td>\n",
       "      <td>We hope @Apple doesn't use glass for their new...</td>\n",
       "      <td>1</td>\n",
       "    </tr>\n",
       "    <tr>\n",
       "      <th>3812</th>\n",
       "      <td>twitter_apple</td>\n",
       "      <td>623499342</td>\n",
       "      <td>@Apple co-founder Steve Wozniak talks about St...</td>\n",
       "      <td>3</td>\n",
       "    </tr>\n",
       "    <tr>\n",
       "      <th>3840</th>\n",
       "      <td>twitter_apple</td>\n",
       "      <td>623499370</td>\n",
       "      <td>Lets go shopping!!! @apple http://t.co/uTFUHuoJIi</td>\n",
       "      <td>5</td>\n",
       "    </tr>\n",
       "    <tr>\n",
       "      <th>3847</th>\n",
       "      <td>twitter_apple</td>\n",
       "      <td>623499377</td>\n",
       "      <td>proof @apple does not use it's own products. f...</td>\n",
       "      <td>1</td>\n",
       "    </tr>\n",
       "    <tr>\n",
       "      <th>3884</th>\n",
       "      <td>twitter_apple</td>\n",
       "      <td>623499514</td>\n",
       "      <td>My iPhone 5's photos are no longer downloading...</td>\n",
       "      <td>1</td>\n",
       "    </tr>\n",
       "  </tbody>\n",
       "</table>\n",
       "<p>3886 rows × 4 columns</p>\n",
       "</div>"
      ],
      "text/plain": [
       "            dataset   tweet_id  \\\n",
       "1408  twitter_apple  623496932   \n",
       "3132  twitter_apple  623498662   \n",
       "1362  twitter_apple  623496886   \n",
       "988   twitter_apple  623496506   \n",
       "1516  twitter_apple  623497040   \n",
       "...             ...        ...   \n",
       "3810  twitter_apple  623499340   \n",
       "3812  twitter_apple  623499342   \n",
       "3840  twitter_apple  623499370   \n",
       "3847  twitter_apple  623499377   \n",
       "3884  twitter_apple  623499514   \n",
       "\n",
       "                                                   text sentiment  \n",
       "1408  RT @huffpostgay: @Apple CEO Time Cook gets a u...         3  \n",
       "3132  NO CALLER ID must be able to be BLOCKED on @Ap...         1  \n",
       "1362  RT @JPDesloges: iPhone 6 makes iOS a success i...         3  \n",
       "988   RT @HamzeiAnalytics: BLOCK TRADE detected in #...         3  \n",
       "1516  @OneRepublic @Apple Lmaoo! Someone needs to ge...         3  \n",
       "...                                                 ...       ...  \n",
       "3810  We hope @Apple doesn't use glass for their new...         1  \n",
       "3812  @Apple co-founder Steve Wozniak talks about St...         3  \n",
       "3840  Lets go shopping!!! @apple http://t.co/uTFUHuoJIi         5  \n",
       "3847  proof @apple does not use it's own products. f...         1  \n",
       "3884  My iPhone 5's photos are no longer downloading...         1  \n",
       "\n",
       "[3886 rows x 4 columns]"
      ]
     },
     "execution_count": 10,
     "metadata": {},
     "output_type": "execute_result"
    }
   ],
   "source": [
    "twitter_ds"
   ]
  },
  {
   "cell_type": "markdown",
   "id": "f8993be2",
   "metadata": {},
   "source": [
    "### Exploring single text input"
   ]
  },
  {
   "cell_type": "code",
   "execution_count": 16,
   "id": "50dd94d3",
   "metadata": {},
   "outputs": [
    {
     "data": {
      "text/plain": [
       "'Top 3 all @Apple #tablets. Damn right! http://t.co/RJiGn2JUuB'"
      ]
     },
     "execution_count": 16,
     "metadata": {},
     "output_type": "execute_result"
    }
   ],
   "source": [
    "text = twitter_ds['text'][6] #6 -> tablets\n",
    "text"
   ]
  },
  {
   "cell_type": "code",
   "execution_count": 17,
   "id": "303c8441",
   "metadata": {},
   "outputs": [
    {
     "data": {
      "text/plain": [
       "Top 3 all @Apple #tablets. Damn right! http://t.co/RJiGn2JUuB"
      ]
     },
     "execution_count": 17,
     "metadata": {},
     "output_type": "execute_result"
    }
   ],
   "source": [
    "doc = nlp(text)\n",
    "doc"
   ]
  },
  {
   "cell_type": "code",
   "execution_count": 19,
   "id": "913ebca4",
   "metadata": {},
   "outputs": [
    {
     "name": "stdout",
     "output_type": "stream",
     "text": [
      "[('3', 'CARDINAL')]\n"
     ]
    }
   ],
   "source": [
    "pprint([(X.text, X.label_) for X in doc.ents])"
   ]
  },
  {
   "cell_type": "markdown",
   "id": "fe828291",
   "metadata": {},
   "source": [
    "### Exploring all tweets entities"
   ]
  },
  {
   "cell_type": "code",
   "execution_count": 21,
   "id": "12fd34bf",
   "metadata": {},
   "outputs": [],
   "source": [
    "twitter_ds['ner_entities'] = twitter_ds['text'].apply(lambda x: [(ent.text, ent.label_) for ent in nlp(x).ents])"
   ]
  },
  {
   "cell_type": "code",
   "execution_count": 22,
   "id": "fe80c199",
   "metadata": {},
   "outputs": [
    {
     "data": {
      "text/plain": [
       "1408    [(Time Cook, PERSON), (Alabama http://t.co/TDR...\n",
       "3132                [(BLOCKED, ORG), (#iPhone6 #, MONEY)]\n",
       "1362    [(6, CARDINAL), (UK, GPE), (Android, ORG), (Ja...\n",
       "988                                                    []\n",
       "1516                                                   []\n",
       "                              ...                        \n",
       "3810    [(Williamsburg, PERSON), (Sikrikim, PERSON), (...\n",
       "3812    [(Steve Wozniak, PERSON), (Steve Jobs &amp, OR...\n",
       "3840                                   [(@apple, PERSON)]\n",
       "3847                                        [(MAIL, ORG)]\n",
       "3884                                                   []\n",
       "Name: ner_entities, Length: 3886, dtype: object"
      ]
     },
     "execution_count": 22,
     "metadata": {},
     "output_type": "execute_result"
    }
   ],
   "source": [
    "twitter_ds['ner_entities'] "
   ]
  },
  {
   "cell_type": "markdown",
   "id": "21aaec8c",
   "metadata": {},
   "source": [
    "Get only records with PRODUCT labels:"
   ]
  },
  {
   "cell_type": "code",
   "execution_count": 27,
   "id": "898e322d",
   "metadata": {},
   "outputs": [
    {
     "data": {
      "text/plain": [
       "True"
      ]
     },
     "execution_count": 27,
     "metadata": {},
     "output_type": "execute_result"
    }
   ],
   "source": [
    "def find_product(ents, tag=\"PRODUCT\"):    \n",
    "    entities = set()\n",
    "    [entities.add(tup[1]) for tup in ents]    \n",
    "    return tag in entities\n",
    "# test\n",
    "find_product([('6', 'CARDINAL'), ('UK', 'GPE'), ('Android', 'ORG'), ('x','PRODUCT')])"
   ]
  },
  {
   "cell_type": "code",
   "execution_count": 31,
   "id": "ab3a1f9c",
   "metadata": {},
   "outputs": [
    {
     "data": {
      "text/plain": [
       "(60, 5)"
      ]
     },
     "execution_count": 31,
     "metadata": {},
     "output_type": "execute_result"
    }
   ],
   "source": [
    "twitter_products_ds = twitter_ds[twitter_ds.ner_entities.apply(lambda x: find_product(x))]\n",
    "twitter_products_ds.shape"
   ]
  },
  {
   "cell_type": "code",
   "execution_count": 32,
   "id": "bab2d0ce",
   "metadata": {},
   "outputs": [
    {
     "data": {
      "text/html": [
       "<div>\n",
       "<style scoped>\n",
       "    .dataframe tbody tr th:only-of-type {\n",
       "        vertical-align: middle;\n",
       "    }\n",
       "\n",
       "    .dataframe tbody tr th {\n",
       "        vertical-align: top;\n",
       "    }\n",
       "\n",
       "    .dataframe thead th {\n",
       "        text-align: right;\n",
       "    }\n",
       "</style>\n",
       "<table border=\"1\" class=\"dataframe\">\n",
       "  <thead>\n",
       "    <tr style=\"text-align: right;\">\n",
       "      <th></th>\n",
       "      <th>dataset</th>\n",
       "      <th>tweet_id</th>\n",
       "      <th>text</th>\n",
       "      <th>sentiment</th>\n",
       "      <th>ner_entities</th>\n",
       "    </tr>\n",
       "  </thead>\n",
       "  <tbody>\n",
       "    <tr>\n",
       "      <th>178</th>\n",
       "      <td>twitter_apple</td>\n",
       "      <td>623495691</td>\n",
       "      <td>None too happy with @Apple Mac OS X (Yosemite)...</td>\n",
       "      <td>1</td>\n",
       "      <td>[(@Apple Mac OS, ORG), (Yosemite, NORP), (File...</td>\n",
       "    </tr>\n",
       "    <tr>\n",
       "      <th>2355</th>\n",
       "      <td>twitter_apple</td>\n",
       "      <td>623497885</td>\n",
       "      <td>AFP requests to Apple reveal 'get a warrant' p...</td>\n",
       "      <td>3</td>\n",
       "      <td>[(AFP, ORG), (Apple, ORG), (http://t.co/7zH5iM...</td>\n",
       "    </tr>\n",
       "    <tr>\n",
       "      <th>860</th>\n",
       "      <td>twitter_apple</td>\n",
       "      <td>623496373</td>\n",
       "      <td>#New #foldable #Macbook #Pro falling on your l...</td>\n",
       "      <td>3</td>\n",
       "      <td>[(Pro, PERSON), (@Apple s, PRODUCT)]</td>\n",
       "    </tr>\n",
       "    <tr>\n",
       "      <th>3069</th>\n",
       "      <td>twitter_apple</td>\n",
       "      <td>623498599</td>\n",
       "      <td>In the @Apple iPod antitrust case, recent deve...</td>\n",
       "      <td>3</td>\n",
       "      <td>[(@Apple iPod, ORG), (iPods, PRODUCT), (first,...</td>\n",
       "    </tr>\n",
       "    <tr>\n",
       "      <th>3707</th>\n",
       "      <td>twitter_apple</td>\n",
       "      <td>623499237</td>\n",
       "      <td>CNBCTV:  #Cramer's view on #Apple &amp;amp; Tesla ...</td>\n",
       "      <td>3</td>\n",
       "      <td>[(Cramer, PERSON), (Apple &amp;amp, ORG), (Tesla, ...</td>\n",
       "    </tr>\n",
       "  </tbody>\n",
       "</table>\n",
       "</div>"
      ],
      "text/plain": [
       "            dataset   tweet_id  \\\n",
       "178   twitter_apple  623495691   \n",
       "2355  twitter_apple  623497885   \n",
       "860   twitter_apple  623496373   \n",
       "3069  twitter_apple  623498599   \n",
       "3707  twitter_apple  623499237   \n",
       "\n",
       "                                                   text sentiment  \\\n",
       "178   None too happy with @Apple Mac OS X (Yosemite)...         1   \n",
       "2355  AFP requests to Apple reveal 'get a warrant' p...         3   \n",
       "860   #New #foldable #Macbook #Pro falling on your l...         3   \n",
       "3069  In the @Apple iPod antitrust case, recent deve...         3   \n",
       "3707  CNBCTV:  #Cramer's view on #Apple &amp; Tesla ...         3   \n",
       "\n",
       "                                           ner_entities  \n",
       "178   [(@Apple Mac OS, ORG), (Yosemite, NORP), (File...  \n",
       "2355  [(AFP, ORG), (Apple, ORG), (http://t.co/7zH5iM...  \n",
       "860                [(Pro, PERSON), (@Apple s, PRODUCT)]  \n",
       "3069  [(@Apple iPod, ORG), (iPods, PRODUCT), (first,...  \n",
       "3707  [(Cramer, PERSON), (Apple &amp, ORG), (Tesla, ...  "
      ]
     },
     "execution_count": 32,
     "metadata": {},
     "output_type": "execute_result"
    }
   ],
   "source": [
    "twitter_products_ds.head()"
   ]
  },
  {
   "cell_type": "markdown",
   "id": "770f03c5",
   "metadata": {},
   "source": [
    "--------------\n",
    "--------------"
   ]
  },
  {
   "cell_type": "markdown",
   "id": "6515a3d5",
   "metadata": {},
   "source": [
    "## NER + Sentiment"
   ]
  },
  {
   "cell_type": "markdown",
   "id": "6b6751f7",
   "metadata": {},
   "source": [
    "### Get Entities and Product Flag into Sentiment Analysis Results (Twitter Apple Dataset)"
   ]
  },
  {
   "cell_type": "code",
   "execution_count": 44,
   "id": "f42c70af",
   "metadata": {},
   "outputs": [],
   "source": [
    "apple_sent = pd.read_csv('results/BERT_predictions_added_to_twitter_test_apple.csv',index_col=0)"
   ]
  },
  {
   "cell_type": "code",
   "execution_count": 46,
   "id": "595f2bee",
   "metadata": {},
   "outputs": [
    {
     "data": {
      "text/html": [
       "<div>\n",
       "<style scoped>\n",
       "    .dataframe tbody tr th:only-of-type {\n",
       "        vertical-align: middle;\n",
       "    }\n",
       "\n",
       "    .dataframe tbody tr th {\n",
       "        vertical-align: top;\n",
       "    }\n",
       "\n",
       "    .dataframe thead th {\n",
       "        text-align: right;\n",
       "    }\n",
       "</style>\n",
       "<table border=\"1\" class=\"dataframe\">\n",
       "  <thead>\n",
       "    <tr style=\"text-align: right;\">\n",
       "      <th></th>\n",
       "      <th>tweet_id</th>\n",
       "      <th>text</th>\n",
       "      <th>sentiment</th>\n",
       "      <th>BERT_sentiment</th>\n",
       "    </tr>\n",
       "  </thead>\n",
       "  <tbody>\n",
       "    <tr>\n",
       "      <th>22</th>\n",
       "      <td>623495535</td>\n",
       "      <td>@robconeybeer: You need an IP portfolio to def...</td>\n",
       "      <td>3</td>\n",
       "      <td>3</td>\n",
       "    </tr>\n",
       "    <tr>\n",
       "      <th>31</th>\n",
       "      <td>623495544</td>\n",
       "      <td>@thehill @Apple i cite the 4th amendment as a ...</td>\n",
       "      <td>3</td>\n",
       "      <td>3</td>\n",
       "    </tr>\n",
       "    <tr>\n",
       "      <th>49</th>\n",
       "      <td>623495562</td>\n",
       "      <td>RT @thehill: Justice Department cites 18th cen...</td>\n",
       "      <td>3</td>\n",
       "      <td>3</td>\n",
       "    </tr>\n",
       "    <tr>\n",
       "      <th>52</th>\n",
       "      <td>623495565</td>\n",
       "      <td>This one chart explains @tim_cook's affect on ...</td>\n",
       "      <td>3</td>\n",
       "      <td>3</td>\n",
       "    </tr>\n",
       "    <tr>\n",
       "      <th>58</th>\n",
       "      <td>623495571</td>\n",
       "      <td>5 Companies Growing Faster Than Apple Inc. htt...</td>\n",
       "      <td>3</td>\n",
       "      <td>3</td>\n",
       "    </tr>\n",
       "  </tbody>\n",
       "</table>\n",
       "</div>"
      ],
      "text/plain": [
       "     tweet_id                                               text sentiment  \\\n",
       "22  623495535  @robconeybeer: You need an IP portfolio to def...         3   \n",
       "31  623495544  @thehill @Apple i cite the 4th amendment as a ...         3   \n",
       "49  623495562  RT @thehill: Justice Department cites 18th cen...         3   \n",
       "52  623495565  This one chart explains @tim_cook's affect on ...         3   \n",
       "58  623495571  5 Companies Growing Faster Than Apple Inc. htt...         3   \n",
       "\n",
       "    BERT_sentiment  \n",
       "22               3  \n",
       "31               3  \n",
       "49               3  \n",
       "52               3  \n",
       "58               3  "
      ]
     },
     "execution_count": 46,
     "metadata": {},
     "output_type": "execute_result"
    }
   ],
   "source": [
    "apple_sent.head()"
   ]
  },
  {
   "cell_type": "code",
   "execution_count": 48,
   "id": "1e3daf2e",
   "metadata": {},
   "outputs": [],
   "source": [
    "def get_entities(ds_text_col):    \n",
    "    return ds_text_col.apply(lambda x: [(ent.text, ent.label_) for ent in nlp(x).ents])\n",
    "    \n",
    "def get_product_flag(ds_entity_col):\n",
    "    def find_product(ents, tag=\"PRODUCT\"):    \n",
    "        entities = set()\n",
    "        [entities.add(tup[1]) for tup in ents]            \n",
    "        return tag in entities\n",
    "    return ds_entity_col.apply(lambda x: find_product(x))\n",
    "    \n",
    "    "
   ]
  },
  {
   "cell_type": "code",
   "execution_count": 49,
   "id": "f91d73c0",
   "metadata": {},
   "outputs": [],
   "source": [
    "apple_sent['NER_ents'] = get_entities(apple_sent['text'])"
   ]
  },
  {
   "cell_type": "code",
   "execution_count": 50,
   "id": "f1b33ae1",
   "metadata": {},
   "outputs": [],
   "source": [
    "apple_sent['NER_prod_flag']  = get_product_flag(apple_sent['NER_ents'])"
   ]
  },
  {
   "cell_type": "code",
   "execution_count": 51,
   "id": "09d95d6f",
   "metadata": {},
   "outputs": [
    {
     "data": {
      "text/html": [
       "<div>\n",
       "<style scoped>\n",
       "    .dataframe tbody tr th:only-of-type {\n",
       "        vertical-align: middle;\n",
       "    }\n",
       "\n",
       "    .dataframe tbody tr th {\n",
       "        vertical-align: top;\n",
       "    }\n",
       "\n",
       "    .dataframe thead th {\n",
       "        text-align: right;\n",
       "    }\n",
       "</style>\n",
       "<table border=\"1\" class=\"dataframe\">\n",
       "  <thead>\n",
       "    <tr style=\"text-align: right;\">\n",
       "      <th></th>\n",
       "      <th>tweet_id</th>\n",
       "      <th>text</th>\n",
       "      <th>sentiment</th>\n",
       "      <th>BERT_sentiment</th>\n",
       "      <th>NER_ents</th>\n",
       "      <th>NER_prod_flag</th>\n",
       "    </tr>\n",
       "  </thead>\n",
       "  <tbody>\n",
       "    <tr>\n",
       "      <th>22</th>\n",
       "      <td>623495535</td>\n",
       "      <td>@robconeybeer: You need an IP portfolio to def...</td>\n",
       "      <td>3</td>\n",
       "      <td>3</td>\n",
       "      <td>[(IP, ORG), (@Samsung @Apple court, ORG)]</td>\n",
       "      <td>False</td>\n",
       "    </tr>\n",
       "    <tr>\n",
       "      <th>31</th>\n",
       "      <td>623495544</td>\n",
       "      <td>@thehill @Apple i cite the 4th amendment as a ...</td>\n",
       "      <td>3</td>\n",
       "      <td>3</td>\n",
       "      <td>[(4th, ORDINAL)]</td>\n",
       "      <td>False</td>\n",
       "    </tr>\n",
       "    <tr>\n",
       "      <th>49</th>\n",
       "      <td>623495562</td>\n",
       "      <td>RT @thehill: Justice Department cites 18th cen...</td>\n",
       "      <td>3</td>\n",
       "      <td>3</td>\n",
       "      <td>[(Justice Department, ORG), (18th century, DAT...</td>\n",
       "      <td>False</td>\n",
       "    </tr>\n",
       "    <tr>\n",
       "      <th>52</th>\n",
       "      <td>623495565</td>\n",
       "      <td>This one chart explains @tim_cook's affect on ...</td>\n",
       "      <td>3</td>\n",
       "      <td>3</td>\n",
       "      <td>[(one, CARDINAL), (@tim_cook, ORG), (@Apple, O...</td>\n",
       "      <td>False</td>\n",
       "    </tr>\n",
       "    <tr>\n",
       "      <th>58</th>\n",
       "      <td>623495571</td>\n",
       "      <td>5 Companies Growing Faster Than Apple Inc. htt...</td>\n",
       "      <td>3</td>\n",
       "      <td>3</td>\n",
       "      <td>[(5, CARDINAL)]</td>\n",
       "      <td>False</td>\n",
       "    </tr>\n",
       "    <tr>\n",
       "      <th>...</th>\n",
       "      <td>...</td>\n",
       "      <td>...</td>\n",
       "      <td>...</td>\n",
       "      <td>...</td>\n",
       "      <td>...</td>\n",
       "      <td>...</td>\n",
       "    </tr>\n",
       "    <tr>\n",
       "      <th>3845</th>\n",
       "      <td>623499375</td>\n",
       "      <td>media reports say that @Apple is hiring pros f...</td>\n",
       "      <td>3</td>\n",
       "      <td>3</td>\n",
       "      <td>[(@Apple, ORG)]</td>\n",
       "      <td>False</td>\n",
       "    </tr>\n",
       "    <tr>\n",
       "      <th>3859</th>\n",
       "      <td>623499389</td>\n",
       "      <td>Apple Is Warming Up To Social Media: Apple is ...</td>\n",
       "      <td>3</td>\n",
       "      <td>3</td>\n",
       "      <td>[(Apple, ORG), (Apple, ORG), (L.A., GPE)]</td>\n",
       "      <td>False</td>\n",
       "    </tr>\n",
       "    <tr>\n",
       "      <th>3868</th>\n",
       "      <td>623499398</td>\n",
       "      <td>Apple Is Warming Up To Social Media: Apple is ...</td>\n",
       "      <td>5</td>\n",
       "      <td>3</td>\n",
       "      <td>[(Apple, ORG), (Apple, ORG), (L.A., GPE)]</td>\n",
       "      <td>False</td>\n",
       "    </tr>\n",
       "    <tr>\n",
       "      <th>3870</th>\n",
       "      <td>623499400</td>\n",
       "      <td>Apple Is Warming Up To Social Media: Apple is ...</td>\n",
       "      <td>3</td>\n",
       "      <td>3</td>\n",
       "      <td>[(Apple, ORG), (Apple, ORG), (L.A., GPE)]</td>\n",
       "      <td>False</td>\n",
       "    </tr>\n",
       "    <tr>\n",
       "      <th>3882</th>\n",
       "      <td>623499450</td>\n",
       "      <td>RT @MMLXIV: there is no avocado emoji may I as...</td>\n",
       "      <td>3</td>\n",
       "      <td>1</td>\n",
       "      <td>[]</td>\n",
       "      <td>False</td>\n",
       "    </tr>\n",
       "  </tbody>\n",
       "</table>\n",
       "<p>389 rows × 6 columns</p>\n",
       "</div>"
      ],
      "text/plain": [
       "       tweet_id                                               text sentiment  \\\n",
       "22    623495535  @robconeybeer: You need an IP portfolio to def...         3   \n",
       "31    623495544  @thehill @Apple i cite the 4th amendment as a ...         3   \n",
       "49    623495562  RT @thehill: Justice Department cites 18th cen...         3   \n",
       "52    623495565  This one chart explains @tim_cook's affect on ...         3   \n",
       "58    623495571  5 Companies Growing Faster Than Apple Inc. htt...         3   \n",
       "...         ...                                                ...       ...   \n",
       "3845  623499375  media reports say that @Apple is hiring pros f...         3   \n",
       "3859  623499389  Apple Is Warming Up To Social Media: Apple is ...         3   \n",
       "3868  623499398  Apple Is Warming Up To Social Media: Apple is ...         5   \n",
       "3870  623499400  Apple Is Warming Up To Social Media: Apple is ...         3   \n",
       "3882  623499450  RT @MMLXIV: there is no avocado emoji may I as...         3   \n",
       "\n",
       "      BERT_sentiment                                           NER_ents  \\\n",
       "22                 3          [(IP, ORG), (@Samsung @Apple court, ORG)]   \n",
       "31                 3                                   [(4th, ORDINAL)]   \n",
       "49                 3  [(Justice Department, ORG), (18th century, DAT...   \n",
       "52                 3  [(one, CARDINAL), (@tim_cook, ORG), (@Apple, O...   \n",
       "58                 3                                    [(5, CARDINAL)]   \n",
       "...              ...                                                ...   \n",
       "3845               3                                    [(@Apple, ORG)]   \n",
       "3859               3          [(Apple, ORG), (Apple, ORG), (L.A., GPE)]   \n",
       "3868               3          [(Apple, ORG), (Apple, ORG), (L.A., GPE)]   \n",
       "3870               3          [(Apple, ORG), (Apple, ORG), (L.A., GPE)]   \n",
       "3882               1                                                 []   \n",
       "\n",
       "      NER_prod_flag  \n",
       "22            False  \n",
       "31            False  \n",
       "49            False  \n",
       "52            False  \n",
       "58            False  \n",
       "...             ...  \n",
       "3845          False  \n",
       "3859          False  \n",
       "3868          False  \n",
       "3870          False  \n",
       "3882          False  \n",
       "\n",
       "[389 rows x 6 columns]"
      ]
     },
     "execution_count": 51,
     "metadata": {},
     "output_type": "execute_result"
    }
   ],
   "source": [
    "apple_sent"
   ]
  }
 ],
 "metadata": {
  "kernelspec": {
   "display_name": "nlu",
   "language": "python",
   "name": "nlu"
  },
  "language_info": {
   "codemirror_mode": {
    "name": "ipython",
    "version": 3
   },
   "file_extension": ".py",
   "mimetype": "text/x-python",
   "name": "python",
   "nbconvert_exporter": "python",
   "pygments_lexer": "ipython3",
   "version": "3.8.12"
  }
 },
 "nbformat": 4,
 "nbformat_minor": 5
}

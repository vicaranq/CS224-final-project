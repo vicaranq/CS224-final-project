{
 "cells": [
  {
   "cell_type": "code",
   "execution_count": null,
   "id": "430bdad2",
   "metadata": {},
   "outputs": [],
   "source": [
    "# Install spacy on NLU environment\n",
    "# > conda install -c conda-forge spacy \n",
    "# > python -m spacy download en_core_web_md"
   ]
  },
  {
   "cell_type": "code",
   "execution_count": 1,
   "id": "18297f9c",
   "metadata": {},
   "outputs": [],
   "source": [
    "import spacy\n",
    "from spacy import displacy\n",
    "from collections import Counter\n",
    "import en_core_web_sm\n",
    "\n",
    "nlp = en_core_web_sm.load()"
   ]
  },
  {
   "cell_type": "code",
   "execution_count": 8,
   "id": "5839f716",
   "metadata": {},
   "outputs": [],
   "source": [
    "import pandas as pd\n",
    "import dataset\n",
    "import vsm\n",
    "import sst"
   ]
  },
  {
   "cell_type": "code",
   "execution_count": 18,
   "id": "645e1532",
   "metadata": {},
   "outputs": [],
   "source": [
    "from pprint import pprint\n"
   ]
  },
  {
   "cell_type": "code",
   "execution_count": 2,
   "id": "3fac1642",
   "metadata": {},
   "outputs": [],
   "source": [
    "TWITTER = 2\n",
    "TWITTER_AIRLINES = 3\n",
    "TWITTER_APPLE = 4"
   ]
  },
  {
   "cell_type": "markdown",
   "id": "143af85c",
   "metadata": {},
   "source": [
    "------------"
   ]
  },
  {
   "cell_type": "markdown",
   "id": "8c7de324",
   "metadata": {},
   "source": [
    "## Exploring Apple Dataset"
   ]
  },
  {
   "cell_type": "code",
   "execution_count": 5,
   "id": "539b6274",
   "metadata": {},
   "outputs": [],
   "source": [
    "twitter_train, twitter_validate, twitter_test =  dataset.dataset_reader(TWITTER_APPLE)\n",
    "[twitter_train, twitter_validate, twitter_test] = list(map(lambda ds : dataset.prune_columns(TWITTER_APPLE, ds), [twitter_train, twitter_validate, twitter_test]))"
   ]
  },
  {
   "cell_type": "code",
   "execution_count": 6,
   "id": "743b0941",
   "metadata": {},
   "outputs": [
    {
     "data": {
      "text/plain": [
       "[(3109, 4), (388, 4), (389, 4)]"
      ]
     },
     "execution_count": 6,
     "metadata": {},
     "output_type": "execute_result"
    }
   ],
   "source": [
    "[ds.shape for ds in [twitter_train, twitter_validate, twitter_test]]"
   ]
  },
  {
   "cell_type": "code",
   "execution_count": 9,
   "id": "60cad18b",
   "metadata": {},
   "outputs": [],
   "source": [
    "twitter_ds = pd.concat([twitter_train,twitter_validate,twitter_test],axis=0)"
   ]
  },
  {
   "cell_type": "code",
   "execution_count": 10,
   "id": "441f4854",
   "metadata": {},
   "outputs": [
    {
     "data": {
      "text/html": [
       "<div>\n",
       "<style scoped>\n",
       "    .dataframe tbody tr th:only-of-type {\n",
       "        vertical-align: middle;\n",
       "    }\n",
       "\n",
       "    .dataframe tbody tr th {\n",
       "        vertical-align: top;\n",
       "    }\n",
       "\n",
       "    .dataframe thead th {\n",
       "        text-align: right;\n",
       "    }\n",
       "</style>\n",
       "<table border=\"1\" class=\"dataframe\">\n",
       "  <thead>\n",
       "    <tr style=\"text-align: right;\">\n",
       "      <th></th>\n",
       "      <th>dataset</th>\n",
       "      <th>tweet_id</th>\n",
       "      <th>text</th>\n",
       "      <th>sentiment</th>\n",
       "    </tr>\n",
       "  </thead>\n",
       "  <tbody>\n",
       "    <tr>\n",
       "      <th>1408</th>\n",
       "      <td>twitter_apple</td>\n",
       "      <td>623496932</td>\n",
       "      <td>RT @huffpostgay: @Apple CEO Time Cook gets a u...</td>\n",
       "      <td>3</td>\n",
       "    </tr>\n",
       "    <tr>\n",
       "      <th>3132</th>\n",
       "      <td>twitter_apple</td>\n",
       "      <td>623498662</td>\n",
       "      <td>NO CALLER ID must be able to be BLOCKED on @Ap...</td>\n",
       "      <td>1</td>\n",
       "    </tr>\n",
       "    <tr>\n",
       "      <th>1362</th>\n",
       "      <td>twitter_apple</td>\n",
       "      <td>623496886</td>\n",
       "      <td>RT @JPDesloges: iPhone 6 makes iOS a success i...</td>\n",
       "      <td>3</td>\n",
       "    </tr>\n",
       "    <tr>\n",
       "      <th>988</th>\n",
       "      <td>twitter_apple</td>\n",
       "      <td>623496506</td>\n",
       "      <td>RT @HamzeiAnalytics: BLOCK TRADE detected in #...</td>\n",
       "      <td>3</td>\n",
       "    </tr>\n",
       "    <tr>\n",
       "      <th>1516</th>\n",
       "      <td>twitter_apple</td>\n",
       "      <td>623497040</td>\n",
       "      <td>@OneRepublic @Apple Lmaoo! Someone needs to ge...</td>\n",
       "      <td>3</td>\n",
       "    </tr>\n",
       "    <tr>\n",
       "      <th>...</th>\n",
       "      <td>...</td>\n",
       "      <td>...</td>\n",
       "      <td>...</td>\n",
       "      <td>...</td>\n",
       "    </tr>\n",
       "    <tr>\n",
       "      <th>3810</th>\n",
       "      <td>twitter_apple</td>\n",
       "      <td>623499340</td>\n",
       "      <td>We hope @Apple doesn't use glass for their new...</td>\n",
       "      <td>1</td>\n",
       "    </tr>\n",
       "    <tr>\n",
       "      <th>3812</th>\n",
       "      <td>twitter_apple</td>\n",
       "      <td>623499342</td>\n",
       "      <td>@Apple co-founder Steve Wozniak talks about St...</td>\n",
       "      <td>3</td>\n",
       "    </tr>\n",
       "    <tr>\n",
       "      <th>3840</th>\n",
       "      <td>twitter_apple</td>\n",
       "      <td>623499370</td>\n",
       "      <td>Lets go shopping!!! @apple http://t.co/uTFUHuoJIi</td>\n",
       "      <td>5</td>\n",
       "    </tr>\n",
       "    <tr>\n",
       "      <th>3847</th>\n",
       "      <td>twitter_apple</td>\n",
       "      <td>623499377</td>\n",
       "      <td>proof @apple does not use it's own products. f...</td>\n",
       "      <td>1</td>\n",
       "    </tr>\n",
       "    <tr>\n",
       "      <th>3884</th>\n",
       "      <td>twitter_apple</td>\n",
       "      <td>623499514</td>\n",
       "      <td>My iPhone 5's photos are no longer downloading...</td>\n",
       "      <td>1</td>\n",
       "    </tr>\n",
       "  </tbody>\n",
       "</table>\n",
       "<p>3886 rows × 4 columns</p>\n",
       "</div>"
      ],
      "text/plain": [
       "            dataset   tweet_id  \\\n",
       "1408  twitter_apple  623496932   \n",
       "3132  twitter_apple  623498662   \n",
       "1362  twitter_apple  623496886   \n",
       "988   twitter_apple  623496506   \n",
       "1516  twitter_apple  623497040   \n",
       "...             ...        ...   \n",
       "3810  twitter_apple  623499340   \n",
       "3812  twitter_apple  623499342   \n",
       "3840  twitter_apple  623499370   \n",
       "3847  twitter_apple  623499377   \n",
       "3884  twitter_apple  623499514   \n",
       "\n",
       "                                                   text sentiment  \n",
       "1408  RT @huffpostgay: @Apple CEO Time Cook gets a u...         3  \n",
       "3132  NO CALLER ID must be able to be BLOCKED on @Ap...         1  \n",
       "1362  RT @JPDesloges: iPhone 6 makes iOS a success i...         3  \n",
       "988   RT @HamzeiAnalytics: BLOCK TRADE detected in #...         3  \n",
       "1516  @OneRepublic @Apple Lmaoo! Someone needs to ge...         3  \n",
       "...                                                 ...       ...  \n",
       "3810  We hope @Apple doesn't use glass for their new...         1  \n",
       "3812  @Apple co-founder Steve Wozniak talks about St...         3  \n",
       "3840  Lets go shopping!!! @apple http://t.co/uTFUHuoJIi         5  \n",
       "3847  proof @apple does not use it's own products. f...         1  \n",
       "3884  My iPhone 5's photos are no longer downloading...         1  \n",
       "\n",
       "[3886 rows x 4 columns]"
      ]
     },
     "execution_count": 10,
     "metadata": {},
     "output_type": "execute_result"
    }
   ],
   "source": [
    "twitter_ds"
   ]
  },
  {
   "cell_type": "markdown",
   "id": "567f2f22",
   "metadata": {},
   "source": [
    "### Exploring single text input"
   ]
  },
  {
   "cell_type": "code",
   "execution_count": 16,
   "id": "fceb46a3",
   "metadata": {},
   "outputs": [
    {
     "data": {
      "text/plain": [
       "'Top 3 all @Apple #tablets. Damn right! http://t.co/RJiGn2JUuB'"
      ]
     },
     "execution_count": 16,
     "metadata": {},
     "output_type": "execute_result"
    }
   ],
   "source": [
    "text = twitter_ds['text'][6] #6 -> tablets\n",
    "text"
   ]
  },
  {
   "cell_type": "code",
   "execution_count": 17,
   "id": "c83a8497",
   "metadata": {},
   "outputs": [
    {
     "data": {
      "text/plain": [
       "Top 3 all @Apple #tablets. Damn right! http://t.co/RJiGn2JUuB"
      ]
     },
     "execution_count": 17,
     "metadata": {},
     "output_type": "execute_result"
    }
   ],
   "source": [
    "doc = nlp(text)\n",
    "doc"
   ]
  },
  {
   "cell_type": "code",
   "execution_count": 19,
   "id": "c3b26362",
   "metadata": {},
   "outputs": [
    {
     "name": "stdout",
     "output_type": "stream",
     "text": [
      "[('3', 'CARDINAL')]\n"
     ]
    }
   ],
   "source": [
    "pprint([(X.text, X.label_) for X in doc.ents])"
   ]
  },
  {
   "cell_type": "markdown",
   "id": "4457b4e2",
   "metadata": {},
   "source": [
    "### Exploring all tweets entities"
   ]
  },
  {
   "cell_type": "code",
   "execution_count": 21,
   "id": "eba1a838",
   "metadata": {},
   "outputs": [],
   "source": [
    "twitter_ds['ner_entities'] = twitter_ds['text'].apply(lambda x: [(ent.text, ent.label_) for ent in nlp(x).ents])"
   ]
  },
  {
   "cell_type": "code",
   "execution_count": 22,
   "id": "796062f6",
   "metadata": {},
   "outputs": [
    {
     "data": {
      "text/plain": [
       "1408    [(Time Cook, PERSON), (Alabama http://t.co/TDR...\n",
       "3132                [(BLOCKED, ORG), (#iPhone6 #, MONEY)]\n",
       "1362    [(6, CARDINAL), (UK, GPE), (Android, ORG), (Ja...\n",
       "988                                                    []\n",
       "1516                                                   []\n",
       "                              ...                        \n",
       "3810    [(Williamsburg, PERSON), (Sikrikim, PERSON), (...\n",
       "3812    [(Steve Wozniak, PERSON), (Steve Jobs &amp, OR...\n",
       "3840                                   [(@apple, PERSON)]\n",
       "3847                                        [(MAIL, ORG)]\n",
       "3884                                                   []\n",
       "Name: ner_entities, Length: 3886, dtype: object"
      ]
     },
     "execution_count": 22,
     "metadata": {},
     "output_type": "execute_result"
    }
   ],
   "source": [
    "twitter_ds['ner_entities'] "
   ]
  },
  {
   "cell_type": "markdown",
   "id": "cebee341",
   "metadata": {},
   "source": [
    "Get only records with PRODUCT labels:"
   ]
  },
  {
   "cell_type": "code",
   "execution_count": 27,
   "id": "02980fb0",
   "metadata": {},
   "outputs": [
    {
     "data": {
      "text/plain": [
       "True"
      ]
     },
     "execution_count": 27,
     "metadata": {},
     "output_type": "execute_result"
    }
   ],
   "source": [
    "def find_product(ents, tag=\"PRODUCT\"):    \n",
    "    entities = set()\n",
    "    [entities.add(tup[1]) for tup in ents]    \n",
    "    return tag in entities\n",
    "# test\n",
    "find_product([('6', 'CARDINAL'), ('UK', 'GPE'), ('Android', 'ORG'), ('x','PRODUCT')])"
   ]
  },
  {
   "cell_type": "code",
   "execution_count": 31,
   "id": "ad4a7ec4",
   "metadata": {},
   "outputs": [
    {
     "data": {
      "text/plain": [
       "(60, 5)"
      ]
     },
     "execution_count": 31,
     "metadata": {},
     "output_type": "execute_result"
    }
   ],
   "source": [
    "twitter_products_ds = twitter_ds[twitter_ds.ner_entities.apply(lambda x: find_product(x))]\n",
    "twitter_products_ds.shape"
   ]
  },
  {
   "cell_type": "code",
   "execution_count": 32,
   "id": "d9252249",
   "metadata": {},
   "outputs": [
    {
     "data": {
      "text/html": [
       "<div>\n",
       "<style scoped>\n",
       "    .dataframe tbody tr th:only-of-type {\n",
       "        vertical-align: middle;\n",
       "    }\n",
       "\n",
       "    .dataframe tbody tr th {\n",
       "        vertical-align: top;\n",
       "    }\n",
       "\n",
       "    .dataframe thead th {\n",
       "        text-align: right;\n",
       "    }\n",
       "</style>\n",
       "<table border=\"1\" class=\"dataframe\">\n",
       "  <thead>\n",
       "    <tr style=\"text-align: right;\">\n",
       "      <th></th>\n",
       "      <th>dataset</th>\n",
       "      <th>tweet_id</th>\n",
       "      <th>text</th>\n",
       "      <th>sentiment</th>\n",
       "      <th>ner_entities</th>\n",
       "    </tr>\n",
       "  </thead>\n",
       "  <tbody>\n",
       "    <tr>\n",
       "      <th>178</th>\n",
       "      <td>twitter_apple</td>\n",
       "      <td>623495691</td>\n",
       "      <td>None too happy with @Apple Mac OS X (Yosemite)...</td>\n",
       "      <td>1</td>\n",
       "      <td>[(@Apple Mac OS, ORG), (Yosemite, NORP), (File...</td>\n",
       "    </tr>\n",
       "    <tr>\n",
       "      <th>2355</th>\n",
       "      <td>twitter_apple</td>\n",
       "      <td>623497885</td>\n",
       "      <td>AFP requests to Apple reveal 'get a warrant' p...</td>\n",
       "      <td>3</td>\n",
       "      <td>[(AFP, ORG), (Apple, ORG), (http://t.co/7zH5iM...</td>\n",
       "    </tr>\n",
       "    <tr>\n",
       "      <th>860</th>\n",
       "      <td>twitter_apple</td>\n",
       "      <td>623496373</td>\n",
       "      <td>#New #foldable #Macbook #Pro falling on your l...</td>\n",
       "      <td>3</td>\n",
       "      <td>[(Pro, PERSON), (@Apple s, PRODUCT)]</td>\n",
       "    </tr>\n",
       "    <tr>\n",
       "      <th>3069</th>\n",
       "      <td>twitter_apple</td>\n",
       "      <td>623498599</td>\n",
       "      <td>In the @Apple iPod antitrust case, recent deve...</td>\n",
       "      <td>3</td>\n",
       "      <td>[(@Apple iPod, ORG), (iPods, PRODUCT), (first,...</td>\n",
       "    </tr>\n",
       "    <tr>\n",
       "      <th>3707</th>\n",
       "      <td>twitter_apple</td>\n",
       "      <td>623499237</td>\n",
       "      <td>CNBCTV:  #Cramer's view on #Apple &amp;amp; Tesla ...</td>\n",
       "      <td>3</td>\n",
       "      <td>[(Cramer, PERSON), (Apple &amp;amp, ORG), (Tesla, ...</td>\n",
       "    </tr>\n",
       "  </tbody>\n",
       "</table>\n",
       "</div>"
      ],
      "text/plain": [
       "            dataset   tweet_id  \\\n",
       "178   twitter_apple  623495691   \n",
       "2355  twitter_apple  623497885   \n",
       "860   twitter_apple  623496373   \n",
       "3069  twitter_apple  623498599   \n",
       "3707  twitter_apple  623499237   \n",
       "\n",
       "                                                   text sentiment  \\\n",
       "178   None too happy with @Apple Mac OS X (Yosemite)...         1   \n",
       "2355  AFP requests to Apple reveal 'get a warrant' p...         3   \n",
       "860   #New #foldable #Macbook #Pro falling on your l...         3   \n",
       "3069  In the @Apple iPod antitrust case, recent deve...         3   \n",
       "3707  CNBCTV:  #Cramer's view on #Apple &amp; Tesla ...         3   \n",
       "\n",
       "                                           ner_entities  \n",
       "178   [(@Apple Mac OS, ORG), (Yosemite, NORP), (File...  \n",
       "2355  [(AFP, ORG), (Apple, ORG), (http://t.co/7zH5iM...  \n",
       "860                [(Pro, PERSON), (@Apple s, PRODUCT)]  \n",
       "3069  [(@Apple iPod, ORG), (iPods, PRODUCT), (first,...  \n",
       "3707  [(Cramer, PERSON), (Apple &amp, ORG), (Tesla, ...  "
      ]
     },
     "execution_count": 32,
     "metadata": {},
     "output_type": "execute_result"
    }
   ],
   "source": [
    "twitter_products_ds.head()"
   ]
  },
  {
   "cell_type": "markdown",
   "id": "3bce675e",
   "metadata": {},
   "source": [
    "--------------\n",
    "--------------"
   ]
  },
  {
   "cell_type": "markdown",
   "id": "ac696686",
   "metadata": {},
   "source": [
    "## NER + Sentiment"
   ]
  },
  {
   "cell_type": "markdown",
   "id": "02ffab13",
   "metadata": {},
   "source": [
    "### Get Entities and Product Flag into Sentiment Analysis Results (Twitter Apple Dataset)"
   ]
  },
  {
   "cell_type": "code",
   "execution_count": 56,
   "id": "c8b7781e",
   "metadata": {},
   "outputs": [],
   "source": [
    "apple_sent = pd.read_csv('results/BERTweet_predictions_added_to_twitter_test_apple.csv',index_col=0)"
   ]
  },
  {
   "cell_type": "code",
   "execution_count": 57,
   "id": "5303091e",
   "metadata": {},
   "outputs": [
    {
     "data": {
      "text/html": [
       "<div>\n",
       "<style scoped>\n",
       "    .dataframe tbody tr th:only-of-type {\n",
       "        vertical-align: middle;\n",
       "    }\n",
       "\n",
       "    .dataframe tbody tr th {\n",
       "        vertical-align: top;\n",
       "    }\n",
       "\n",
       "    .dataframe thead th {\n",
       "        text-align: right;\n",
       "    }\n",
       "</style>\n",
       "<table border=\"1\" class=\"dataframe\">\n",
       "  <thead>\n",
       "    <tr style=\"text-align: right;\">\n",
       "      <th></th>\n",
       "      <th>dataset</th>\n",
       "      <th>tweet_id</th>\n",
       "      <th>text</th>\n",
       "      <th>sentiment</th>\n",
       "      <th>BERTweet_sentiment</th>\n",
       "    </tr>\n",
       "  </thead>\n",
       "  <tbody>\n",
       "    <tr>\n",
       "      <th>12</th>\n",
       "      <td>twitter_apple</td>\n",
       "      <td>623495525</td>\n",
       "      <td>The Best-Designed #iPhone #Apps In the World, ...</td>\n",
       "      <td>3</td>\n",
       "      <td>3</td>\n",
       "    </tr>\n",
       "    <tr>\n",
       "      <th>15</th>\n",
       "      <td>twitter_apple</td>\n",
       "      <td>623495528</td>\n",
       "      <td>#aapl @applenws Thanks to the non factual dumb...</td>\n",
       "      <td>3</td>\n",
       "      <td>3</td>\n",
       "    </tr>\n",
       "    <tr>\n",
       "      <th>38</th>\n",
       "      <td>twitter_apple</td>\n",
       "      <td>623495551</td>\n",
       "      <td>RT @thehill: Justice Department cites 18th cen...</td>\n",
       "      <td>3</td>\n",
       "      <td>3</td>\n",
       "    </tr>\n",
       "    <tr>\n",
       "      <th>43</th>\n",
       "      <td>twitter_apple</td>\n",
       "      <td>623495556</td>\n",
       "      <td>RT @thehill: Justice Department cites 18th cen...</td>\n",
       "      <td>1</td>\n",
       "      <td>3</td>\n",
       "    </tr>\n",
       "    <tr>\n",
       "      <th>45</th>\n",
       "      <td>twitter_apple</td>\n",
       "      <td>623495558</td>\n",
       "      <td>RT @thehill: Justice Department cites 18th cen...</td>\n",
       "      <td>3</td>\n",
       "      <td>3</td>\n",
       "    </tr>\n",
       "  </tbody>\n",
       "</table>\n",
       "</div>"
      ],
      "text/plain": [
       "          dataset   tweet_id  \\\n",
       "12  twitter_apple  623495525   \n",
       "15  twitter_apple  623495528   \n",
       "38  twitter_apple  623495551   \n",
       "43  twitter_apple  623495556   \n",
       "45  twitter_apple  623495558   \n",
       "\n",
       "                                                 text sentiment  \\\n",
       "12  The Best-Designed #iPhone #Apps In the World, ...         3   \n",
       "15  #aapl @applenws Thanks to the non factual dumb...         3   \n",
       "38  RT @thehill: Justice Department cites 18th cen...         3   \n",
       "43  RT @thehill: Justice Department cites 18th cen...         1   \n",
       "45  RT @thehill: Justice Department cites 18th cen...         3   \n",
       "\n",
       "    BERTweet_sentiment  \n",
       "12                   3  \n",
       "15                   3  \n",
       "38                   3  \n",
       "43                   3  \n",
       "45                   3  "
      ]
     },
     "execution_count": 57,
     "metadata": {},
     "output_type": "execute_result"
    }
   ],
   "source": [
    "apple_sent.head()"
   ]
  },
  {
   "cell_type": "code",
   "execution_count": 58,
   "id": "4c274e84",
   "metadata": {},
   "outputs": [],
   "source": [
    "def get_entities(ds_text_col):    \n",
    "    return ds_text_col.apply(lambda x: [(ent.text, ent.label_) for ent in nlp(x).ents])\n",
    "    \n",
    "def get_product_flag(ds_entity_col):\n",
    "    def find_product(ents, tag=\"PRODUCT\"):    \n",
    "        entities = set()\n",
    "        [entities.add(tup[1]) for tup in ents]            \n",
    "        return tag in entities\n",
    "    return ds_entity_col.apply(lambda x: find_product(x))    "
   ]
  },
  {
   "cell_type": "code",
   "execution_count": 59,
   "id": "1759c504",
   "metadata": {},
   "outputs": [],
   "source": [
    "apple_sent['NER_ents'] = get_entities(apple_sent['text'])"
   ]
  },
  {
   "cell_type": "code",
   "execution_count": 60,
   "id": "ac8ac76e",
   "metadata": {},
   "outputs": [],
   "source": [
    "apple_sent['NER_prod_flag']  = get_product_flag(apple_sent['NER_ents'])"
   ]
  },
  {
   "cell_type": "code",
   "execution_count": 61,
   "id": "63dea9c6",
   "metadata": {},
   "outputs": [
    {
     "data": {
      "text/html": [
       "<div>\n",
       "<style scoped>\n",
       "    .dataframe tbody tr th:only-of-type {\n",
       "        vertical-align: middle;\n",
       "    }\n",
       "\n",
       "    .dataframe tbody tr th {\n",
       "        vertical-align: top;\n",
       "    }\n",
       "\n",
       "    .dataframe thead th {\n",
       "        text-align: right;\n",
       "    }\n",
       "</style>\n",
       "<table border=\"1\" class=\"dataframe\">\n",
       "  <thead>\n",
       "    <tr style=\"text-align: right;\">\n",
       "      <th></th>\n",
       "      <th>dataset</th>\n",
       "      <th>tweet_id</th>\n",
       "      <th>text</th>\n",
       "      <th>sentiment</th>\n",
       "      <th>BERTweet_sentiment</th>\n",
       "      <th>NER_ents</th>\n",
       "      <th>NER_prod_flag</th>\n",
       "    </tr>\n",
       "  </thead>\n",
       "  <tbody>\n",
       "    <tr>\n",
       "      <th>12</th>\n",
       "      <td>twitter_apple</td>\n",
       "      <td>623495525</td>\n",
       "      <td>The Best-Designed #iPhone #Apps In the World, ...</td>\n",
       "      <td>3</td>\n",
       "      <td>3</td>\n",
       "      <td>[(Apps, PERSON)]</td>\n",
       "      <td>False</td>\n",
       "    </tr>\n",
       "    <tr>\n",
       "      <th>15</th>\n",
       "      <td>twitter_apple</td>\n",
       "      <td>623495528</td>\n",
       "      <td>#aapl @applenws Thanks to the non factual dumb...</td>\n",
       "      <td>3</td>\n",
       "      <td>3</td>\n",
       "      <td>[(aapl @applenws, PERSON), (3, CARDINAL), (one...</td>\n",
       "      <td>False</td>\n",
       "    </tr>\n",
       "    <tr>\n",
       "      <th>38</th>\n",
       "      <td>twitter_apple</td>\n",
       "      <td>623495551</td>\n",
       "      <td>RT @thehill: Justice Department cites 18th cen...</td>\n",
       "      <td>3</td>\n",
       "      <td>3</td>\n",
       "      <td>[(Justice Department, ORG), (18th century, DAT...</td>\n",
       "      <td>False</td>\n",
       "    </tr>\n",
       "    <tr>\n",
       "      <th>43</th>\n",
       "      <td>twitter_apple</td>\n",
       "      <td>623495556</td>\n",
       "      <td>RT @thehill: Justice Department cites 18th cen...</td>\n",
       "      <td>1</td>\n",
       "      <td>3</td>\n",
       "      <td>[(Justice Department, ORG), (18th century, DAT...</td>\n",
       "      <td>False</td>\n",
       "    </tr>\n",
       "    <tr>\n",
       "      <th>45</th>\n",
       "      <td>twitter_apple</td>\n",
       "      <td>623495558</td>\n",
       "      <td>RT @thehill: Justice Department cites 18th cen...</td>\n",
       "      <td>3</td>\n",
       "      <td>3</td>\n",
       "      <td>[(Justice Department, ORG), (18th century, DAT...</td>\n",
       "      <td>False</td>\n",
       "    </tr>\n",
       "    <tr>\n",
       "      <th>...</th>\n",
       "      <td>...</td>\n",
       "      <td>...</td>\n",
       "      <td>...</td>\n",
       "      <td>...</td>\n",
       "      <td>...</td>\n",
       "      <td>...</td>\n",
       "      <td>...</td>\n",
       "    </tr>\n",
       "    <tr>\n",
       "      <th>3853</th>\n",
       "      <td>twitter_apple</td>\n",
       "      <td>623499383</td>\n",
       "      <td>So @Apple just gave me a huge middle finger to...</td>\n",
       "      <td>1</td>\n",
       "      <td>1</td>\n",
       "      <td>[]</td>\n",
       "      <td>False</td>\n",
       "    </tr>\n",
       "    <tr>\n",
       "      <th>3869</th>\n",
       "      <td>twitter_apple</td>\n",
       "      <td>623499399</td>\n",
       "      <td>Apple Is Warming Up To Social Media: Apple is ...</td>\n",
       "      <td>3</td>\n",
       "      <td>3</td>\n",
       "      <td>[(Apple, ORG), (Apple, ORG), (L.A., GPE)]</td>\n",
       "      <td>False</td>\n",
       "    </tr>\n",
       "    <tr>\n",
       "      <th>3870</th>\n",
       "      <td>twitter_apple</td>\n",
       "      <td>623499400</td>\n",
       "      <td>Apple Is Warming Up To Social Media: Apple is ...</td>\n",
       "      <td>3</td>\n",
       "      <td>3</td>\n",
       "      <td>[(Apple, ORG), (Apple, ORG), (L.A., GPE)]</td>\n",
       "      <td>False</td>\n",
       "    </tr>\n",
       "    <tr>\n",
       "      <th>3874</th>\n",
       "      <td>twitter_apple</td>\n",
       "      <td>623499404</td>\n",
       "      <td>Apple Is Warming Up To Social Media: Apple is ...</td>\n",
       "      <td>3</td>\n",
       "      <td>3</td>\n",
       "      <td>[(Apple, ORG), (Apple, ORG), (L.A., GPE)]</td>\n",
       "      <td>False</td>\n",
       "    </tr>\n",
       "    <tr>\n",
       "      <th>3881</th>\n",
       "      <td>twitter_apple</td>\n",
       "      <td>623499442</td>\n",
       "      <td>(Via FC) Apple Is Warming Up To Social Media -...</td>\n",
       "      <td>3</td>\n",
       "      <td>3</td>\n",
       "      <td>[(Apple, ORG), (L.A., GPE)]</td>\n",
       "      <td>False</td>\n",
       "    </tr>\n",
       "  </tbody>\n",
       "</table>\n",
       "<p>389 rows × 7 columns</p>\n",
       "</div>"
      ],
      "text/plain": [
       "            dataset   tweet_id  \\\n",
       "12    twitter_apple  623495525   \n",
       "15    twitter_apple  623495528   \n",
       "38    twitter_apple  623495551   \n",
       "43    twitter_apple  623495556   \n",
       "45    twitter_apple  623495558   \n",
       "...             ...        ...   \n",
       "3853  twitter_apple  623499383   \n",
       "3869  twitter_apple  623499399   \n",
       "3870  twitter_apple  623499400   \n",
       "3874  twitter_apple  623499404   \n",
       "3881  twitter_apple  623499442   \n",
       "\n",
       "                                                   text sentiment  \\\n",
       "12    The Best-Designed #iPhone #Apps In the World, ...         3   \n",
       "15    #aapl @applenws Thanks to the non factual dumb...         3   \n",
       "38    RT @thehill: Justice Department cites 18th cen...         3   \n",
       "43    RT @thehill: Justice Department cites 18th cen...         1   \n",
       "45    RT @thehill: Justice Department cites 18th cen...         3   \n",
       "...                                                 ...       ...   \n",
       "3853  So @Apple just gave me a huge middle finger to...         1   \n",
       "3869  Apple Is Warming Up To Social Media: Apple is ...         3   \n",
       "3870  Apple Is Warming Up To Social Media: Apple is ...         3   \n",
       "3874  Apple Is Warming Up To Social Media: Apple is ...         3   \n",
       "3881  (Via FC) Apple Is Warming Up To Social Media -...         3   \n",
       "\n",
       "      BERTweet_sentiment                                           NER_ents  \\\n",
       "12                     3                                   [(Apps, PERSON)]   \n",
       "15                     3  [(aapl @applenws, PERSON), (3, CARDINAL), (one...   \n",
       "38                     3  [(Justice Department, ORG), (18th century, DAT...   \n",
       "43                     3  [(Justice Department, ORG), (18th century, DAT...   \n",
       "45                     3  [(Justice Department, ORG), (18th century, DAT...   \n",
       "...                  ...                                                ...   \n",
       "3853                   1                                                 []   \n",
       "3869                   3          [(Apple, ORG), (Apple, ORG), (L.A., GPE)]   \n",
       "3870                   3          [(Apple, ORG), (Apple, ORG), (L.A., GPE)]   \n",
       "3874                   3          [(Apple, ORG), (Apple, ORG), (L.A., GPE)]   \n",
       "3881                   3                        [(Apple, ORG), (L.A., GPE)]   \n",
       "\n",
       "      NER_prod_flag  \n",
       "12            False  \n",
       "15            False  \n",
       "38            False  \n",
       "43            False  \n",
       "45            False  \n",
       "...             ...  \n",
       "3853          False  \n",
       "3869          False  \n",
       "3870          False  \n",
       "3874          False  \n",
       "3881          False  \n",
       "\n",
       "[389 rows x 7 columns]"
      ]
     },
     "execution_count": 61,
     "metadata": {},
     "output_type": "execute_result"
    }
   ],
   "source": [
    "apple_sent"
   ]
  },
  {
   "cell_type": "markdown",
   "id": "907b5b4e",
   "metadata": {},
   "source": [
    "Get tweets where NER detected PRODUCT tag:"
   ]
  },
  {
   "cell_type": "code",
   "execution_count": 63,
   "id": "c9e58619",
   "metadata": {},
   "outputs": [
    {
     "data": {
      "text/html": [
       "<div>\n",
       "<style scoped>\n",
       "    .dataframe tbody tr th:only-of-type {\n",
       "        vertical-align: middle;\n",
       "    }\n",
       "\n",
       "    .dataframe tbody tr th {\n",
       "        vertical-align: top;\n",
       "    }\n",
       "\n",
       "    .dataframe thead th {\n",
       "        text-align: right;\n",
       "    }\n",
       "</style>\n",
       "<table border=\"1\" class=\"dataframe\">\n",
       "  <thead>\n",
       "    <tr style=\"text-align: right;\">\n",
       "      <th></th>\n",
       "      <th>dataset</th>\n",
       "      <th>tweet_id</th>\n",
       "      <th>text</th>\n",
       "      <th>sentiment</th>\n",
       "      <th>BERTweet_sentiment</th>\n",
       "      <th>NER_ents</th>\n",
       "      <th>NER_prod_flag</th>\n",
       "    </tr>\n",
       "  </thead>\n",
       "  <tbody>\n",
       "    <tr>\n",
       "      <th>178</th>\n",
       "      <td>twitter_apple</td>\n",
       "      <td>623495691</td>\n",
       "      <td>None too happy with @Apple Mac OS X (Yosemite)...</td>\n",
       "      <td>1</td>\n",
       "      <td>1</td>\n",
       "      <td>[(@Apple Mac OS, ORG), (Yosemite, NORP), (File...</td>\n",
       "      <td>True</td>\n",
       "    </tr>\n",
       "    <tr>\n",
       "      <th>649</th>\n",
       "      <td>twitter_apple</td>\n",
       "      <td>623496162</td>\n",
       "      <td>That would be brilliant! It's sad @Apple doesn...</td>\n",
       "      <td>1</td>\n",
       "      <td>1</td>\n",
       "      <td>[(@Apple, ORG), (Mozilla, PRODUCT), (@OpenSour...</td>\n",
       "      <td>True</td>\n",
       "    </tr>\n",
       "    <tr>\n",
       "      <th>1155</th>\n",
       "      <td>twitter_apple</td>\n",
       "      <td>623496674</td>\n",
       "      <td>@Apple removed songs from iPods without tellin...</td>\n",
       "      <td>1</td>\n",
       "      <td>3</td>\n",
       "      <td>[(@Apple, ORG), (iPods, PRODUCT)]</td>\n",
       "      <td>True</td>\n",
       "    </tr>\n",
       "    <tr>\n",
       "      <th>1790</th>\n",
       "      <td>twitter_apple</td>\n",
       "      <td>623497314</td>\n",
       "      <td>#AAPL:Apple says plaintiffs' iPods not covered...</td>\n",
       "      <td>3</td>\n",
       "      <td>3</td>\n",
       "      <td>[(AAPL, PERSON), (Apple, ORG), (iPods, PRODUCT)]</td>\n",
       "      <td>True</td>\n",
       "    </tr>\n",
       "  </tbody>\n",
       "</table>\n",
       "</div>"
      ],
      "text/plain": [
       "            dataset   tweet_id  \\\n",
       "178   twitter_apple  623495691   \n",
       "649   twitter_apple  623496162   \n",
       "1155  twitter_apple  623496674   \n",
       "1790  twitter_apple  623497314   \n",
       "\n",
       "                                                   text sentiment  \\\n",
       "178   None too happy with @Apple Mac OS X (Yosemite)...         1   \n",
       "649   That would be brilliant! It's sad @Apple doesn...         1   \n",
       "1155  @Apple removed songs from iPods without tellin...         1   \n",
       "1790  #AAPL:Apple says plaintiffs' iPods not covered...         3   \n",
       "\n",
       "      BERTweet_sentiment                                           NER_ents  \\\n",
       "178                    1  [(@Apple Mac OS, ORG), (Yosemite, NORP), (File...   \n",
       "649                    1  [(@Apple, ORG), (Mozilla, PRODUCT), (@OpenSour...   \n",
       "1155                   3                  [(@Apple, ORG), (iPods, PRODUCT)]   \n",
       "1790                   3   [(AAPL, PERSON), (Apple, ORG), (iPods, PRODUCT)]   \n",
       "\n",
       "      NER_prod_flag  \n",
       "178            True  \n",
       "649            True  \n",
       "1155           True  \n",
       "1790           True  "
      ]
     },
     "execution_count": 63,
     "metadata": {},
     "output_type": "execute_result"
    }
   ],
   "source": [
    "apple_products = apple_sent[apple_sent.NER_prod_flag]\n",
    "apple_products"
   ]
  },
  {
   "cell_type": "code",
   "execution_count": 75,
   "id": "ae4c7c49",
   "metadata": {},
   "outputs": [
    {
     "name": "stdout",
     "output_type": "stream",
     "text": [
      "[ negative ] -> None too happy with @Apple Mac OS X (Yosemite), File Vault 2, or Boot Camp right now. Thankful to own a @lenovo. \n",
      "--------------------------\n",
      "[ negative ] -> That would be brilliant! It's sad @Apple doesn't allow Mozilla's better engine @OpenSourceAgent #opensource \n",
      "--------------------------\n",
      "[ negative ] -> @Apple removed songs from iPods without telling customers http://t.co/C29jxFuNcJ \n",
      "--------------------------\n",
      "[ neutral ] -> #AAPL:Apple says plaintiffs' iPods not covered by suit...http://t.co/8V0eYzQFDQ \n",
      "--------------------------\n"
     ]
    }
   ],
   "source": [
    "def get_sent(sent):\n",
    "    if sent == '1':\n",
    "        return \"negative\"\n",
    "    elif sent == '3':\n",
    "        return \"neutral\"\n",
    "    else:\n",
    "        return \"positive\"\n",
    "for sentiment, tweet in zip(apple_products['sentiment'], apple_products['text']):     \n",
    "    print('[',get_sent(sentiment),'] ->',tweet,'\\n--------------------------')"
   ]
  },
  {
   "cell_type": "markdown",
   "id": "41184b20",
   "metadata": {},
   "source": [
    "-----"
   ]
  },
  {
   "cell_type": "markdown",
   "id": "9fa10358",
   "metadata": {},
   "source": [
    "### Get Entities and Product Flag into Sentiment Analysis Results (Airline Datasets)"
   ]
  },
  {
   "cell_type": "code",
   "execution_count": 82,
   "id": "1c8e9d52",
   "metadata": {},
   "outputs": [
    {
     "data": {
      "text/html": [
       "<div>\n",
       "<style scoped>\n",
       "    .dataframe tbody tr th:only-of-type {\n",
       "        vertical-align: middle;\n",
       "    }\n",
       "\n",
       "    .dataframe tbody tr th {\n",
       "        vertical-align: top;\n",
       "    }\n",
       "\n",
       "    .dataframe thead th {\n",
       "        text-align: right;\n",
       "    }\n",
       "</style>\n",
       "<table border=\"1\" class=\"dataframe\">\n",
       "  <thead>\n",
       "    <tr style=\"text-align: right;\">\n",
       "      <th></th>\n",
       "      <th>dataset</th>\n",
       "      <th>tweet_id</th>\n",
       "      <th>text</th>\n",
       "      <th>sentiment</th>\n",
       "      <th>airline</th>\n",
       "      <th>BERTweet_sentiment</th>\n",
       "    </tr>\n",
       "  </thead>\n",
       "  <tbody>\n",
       "    <tr>\n",
       "      <th>5</th>\n",
       "      <td>twitter_airline</td>\n",
       "      <td>570300767074181121</td>\n",
       "      <td>@VirginAmerica seriously would pay $30 a fligh...</td>\n",
       "      <td>negative</td>\n",
       "      <td>Virgin America</td>\n",
       "      <td>negative</td>\n",
       "    </tr>\n",
       "    <tr>\n",
       "      <th>18</th>\n",
       "      <td>twitter_airline</td>\n",
       "      <td>570270684619923457</td>\n",
       "      <td>I ❤️ flying @VirginAmerica. ☺️👍</td>\n",
       "      <td>positive</td>\n",
       "      <td>Virgin America</td>\n",
       "      <td>positive</td>\n",
       "    </tr>\n",
       "    <tr>\n",
       "      <th>24</th>\n",
       "      <td>twitter_airline</td>\n",
       "      <td>570256553502068736</td>\n",
       "      <td>@VirginAmerica you guys messed up my seating.....</td>\n",
       "      <td>negative</td>\n",
       "      <td>Virgin America</td>\n",
       "      <td>negative</td>\n",
       "    </tr>\n",
       "    <tr>\n",
       "      <th>48</th>\n",
       "      <td>twitter_airline</td>\n",
       "      <td>570010539499393025</td>\n",
       "      <td>@VirginAmerica @ladygaga @carrieunderwood Afte...</td>\n",
       "      <td>neutral</td>\n",
       "      <td>Virgin America</td>\n",
       "      <td>positive</td>\n",
       "    </tr>\n",
       "    <tr>\n",
       "      <th>52</th>\n",
       "      <td>twitter_airline</td>\n",
       "      <td>570004391731847169</td>\n",
       "      <td>@VirginAmerica wish you flew out of Atlanta......</td>\n",
       "      <td>neutral</td>\n",
       "      <td>Virgin America</td>\n",
       "      <td>neutral</td>\n",
       "    </tr>\n",
       "  </tbody>\n",
       "</table>\n",
       "</div>"
      ],
      "text/plain": [
       "            dataset            tweet_id  \\\n",
       "5   twitter_airline  570300767074181121   \n",
       "18  twitter_airline  570270684619923457   \n",
       "24  twitter_airline  570256553502068736   \n",
       "48  twitter_airline  570010539499393025   \n",
       "52  twitter_airline  570004391731847169   \n",
       "\n",
       "                                                 text sentiment  \\\n",
       "5   @VirginAmerica seriously would pay $30 a fligh...  negative   \n",
       "18                    I ❤️ flying @VirginAmerica. ☺️👍  positive   \n",
       "24  @VirginAmerica you guys messed up my seating.....  negative   \n",
       "48  @VirginAmerica @ladygaga @carrieunderwood Afte...   neutral   \n",
       "52  @VirginAmerica wish you flew out of Atlanta......   neutral   \n",
       "\n",
       "           airline BERTweet_sentiment  \n",
       "5   Virgin America           negative  \n",
       "18  Virgin America           positive  \n",
       "24  Virgin America           negative  \n",
       "48  Virgin America           positive  \n",
       "52  Virgin America            neutral  "
      ]
     },
     "execution_count": 82,
     "metadata": {},
     "output_type": "execute_result"
    }
   ],
   "source": [
    "df = pd.read_csv('results/BERTweet_predictions_added_to_twitter_test_airline.csv',index_col=0)\n",
    "df.head()"
   ]
  },
  {
   "cell_type": "code",
   "execution_count": 80,
   "id": "4adc8ed6",
   "metadata": {},
   "outputs": [
    {
     "data": {
      "text/plain": [
       "2       im getting on borderlands and i will kill you ...\n",
       "3       im coming on borderlands and i will murder you...\n",
       "7       So I spent a couple of hours doing something f...\n",
       "14      Rock-Hard La Varlope, RARE & POWERFUL, HANDSOM...\n",
       "17      I-Hard like me, RARE LONDON DE, HANDSOME 2011,...\n",
       "                              ...                        \n",
       "3836    @Apple recruiting luxury executives for iwatch...\n",
       "3846    RT @TeamCavuto: Protesters stage #DieIn protes...\n",
       "3858    Apple Is Warming Up To Social Media: Apple is ...\n",
       "3870    Apple Is Warming Up To Social Media: Apple is ...\n",
       "3872    Apple Is Warming Up To Social Media: Apple is ...\n",
       "Name: text, Length: 24258, dtype: object"
      ]
     },
     "execution_count": 80,
     "metadata": {},
     "output_type": "execute_result"
    }
   ],
   "source": [
    "df['text'].astype(str)"
   ]
  },
  {
   "cell_type": "code",
   "execution_count": 83,
   "id": "85e6cd74",
   "metadata": {},
   "outputs": [],
   "source": [
    "df['NER_ents'] = get_entities(df['text'])"
   ]
  },
  {
   "cell_type": "code",
   "execution_count": 84,
   "id": "5d824cc7",
   "metadata": {},
   "outputs": [],
   "source": [
    "df['NER_prod_flag']  = get_product_flag(df['NER_ents'])"
   ]
  },
  {
   "cell_type": "code",
   "execution_count": 85,
   "id": "9fd983e0",
   "metadata": {},
   "outputs": [
    {
     "data": {
      "text/html": [
       "<div>\n",
       "<style scoped>\n",
       "    .dataframe tbody tr th:only-of-type {\n",
       "        vertical-align: middle;\n",
       "    }\n",
       "\n",
       "    .dataframe tbody tr th {\n",
       "        vertical-align: top;\n",
       "    }\n",
       "\n",
       "    .dataframe thead th {\n",
       "        text-align: right;\n",
       "    }\n",
       "</style>\n",
       "<table border=\"1\" class=\"dataframe\">\n",
       "  <thead>\n",
       "    <tr style=\"text-align: right;\">\n",
       "      <th></th>\n",
       "      <th>dataset</th>\n",
       "      <th>tweet_id</th>\n",
       "      <th>text</th>\n",
       "      <th>sentiment</th>\n",
       "      <th>airline</th>\n",
       "      <th>BERTweet_sentiment</th>\n",
       "      <th>NER_ents</th>\n",
       "      <th>NER_prod_flag</th>\n",
       "    </tr>\n",
       "  </thead>\n",
       "  <tbody>\n",
       "    <tr>\n",
       "      <th>5</th>\n",
       "      <td>twitter_airline</td>\n",
       "      <td>570300767074181121</td>\n",
       "      <td>@VirginAmerica seriously would pay $30 a fligh...</td>\n",
       "      <td>negative</td>\n",
       "      <td>Virgin America</td>\n",
       "      <td>negative</td>\n",
       "      <td>[(@VirginAmerica, GPE), (30, MONEY), (VA, ORG)]</td>\n",
       "      <td>False</td>\n",
       "    </tr>\n",
       "    <tr>\n",
       "      <th>18</th>\n",
       "      <td>twitter_airline</td>\n",
       "      <td>570270684619923457</td>\n",
       "      <td>I ❤️ flying @VirginAmerica. ☺️👍</td>\n",
       "      <td>positive</td>\n",
       "      <td>Virgin America</td>\n",
       "      <td>positive</td>\n",
       "      <td>[(@VirginAmerica, GPE), (☺, ORG)]</td>\n",
       "      <td>False</td>\n",
       "    </tr>\n",
       "    <tr>\n",
       "      <th>24</th>\n",
       "      <td>twitter_airline</td>\n",
       "      <td>570256553502068736</td>\n",
       "      <td>@VirginAmerica you guys messed up my seating.....</td>\n",
       "      <td>negative</td>\n",
       "      <td>Virgin America</td>\n",
       "      <td>negative</td>\n",
       "      <td>[(@VirginAmerica, GPE)]</td>\n",
       "      <td>False</td>\n",
       "    </tr>\n",
       "    <tr>\n",
       "      <th>48</th>\n",
       "      <td>twitter_airline</td>\n",
       "      <td>570010539499393025</td>\n",
       "      <td>@VirginAmerica @ladygaga @carrieunderwood Afte...</td>\n",
       "      <td>neutral</td>\n",
       "      <td>Virgin America</td>\n",
       "      <td>positive</td>\n",
       "      <td>[(@VirginAmerica @ladygaga @carrieunderwood, O...</td>\n",
       "      <td>False</td>\n",
       "    </tr>\n",
       "    <tr>\n",
       "      <th>52</th>\n",
       "      <td>twitter_airline</td>\n",
       "      <td>570004391731847169</td>\n",
       "      <td>@VirginAmerica wish you flew out of Atlanta......</td>\n",
       "      <td>neutral</td>\n",
       "      <td>Virgin America</td>\n",
       "      <td>neutral</td>\n",
       "      <td>[(@VirginAmerica, GPE), (Atlanta, GPE)]</td>\n",
       "      <td>False</td>\n",
       "    </tr>\n",
       "    <tr>\n",
       "      <th>...</th>\n",
       "      <td>...</td>\n",
       "      <td>...</td>\n",
       "      <td>...</td>\n",
       "      <td>...</td>\n",
       "      <td>...</td>\n",
       "      <td>...</td>\n",
       "      <td>...</td>\n",
       "      <td>...</td>\n",
       "    </tr>\n",
       "    <tr>\n",
       "      <th>14595</th>\n",
       "      <td>twitter_airline</td>\n",
       "      <td>569593694963310593</td>\n",
       "      <td>@AmericanAir @ShannonBloom Where's my DM? Wher...</td>\n",
       "      <td>negative</td>\n",
       "      <td>American</td>\n",
       "      <td>neutral</td>\n",
       "      <td>[(70, MONEY), (50, MONEY), (JFK, PERSON), (tom...</td>\n",
       "      <td>False</td>\n",
       "    </tr>\n",
       "    <tr>\n",
       "      <th>14607</th>\n",
       "      <td>twitter_airline</td>\n",
       "      <td>569592270866878464</td>\n",
       "      <td>@AmericanAir i need someone to help me out</td>\n",
       "      <td>neutral</td>\n",
       "      <td>American</td>\n",
       "      <td>negative</td>\n",
       "      <td>[]</td>\n",
       "      <td>False</td>\n",
       "    </tr>\n",
       "    <tr>\n",
       "      <th>14614</th>\n",
       "      <td>twitter_airline</td>\n",
       "      <td>569591540944756737</td>\n",
       "      <td>@AmericanAir I need to be at work tomorrow at ...</td>\n",
       "      <td>negative</td>\n",
       "      <td>American</td>\n",
       "      <td>negative</td>\n",
       "      <td>[(tomorrow, DATE), (8am, TIME), (800, CARDINAL...</td>\n",
       "      <td>False</td>\n",
       "    </tr>\n",
       "    <tr>\n",
       "      <th>14620</th>\n",
       "      <td>twitter_airline</td>\n",
       "      <td>569590965880532993</td>\n",
       "      <td>@AmericanAir I wait 2+ hrs for CS to call me b...</td>\n",
       "      <td>negative</td>\n",
       "      <td>American</td>\n",
       "      <td>negative</td>\n",
       "      <td>[(2, CARDINAL), (CS, ORG), (the minute, TIME),...</td>\n",
       "      <td>False</td>\n",
       "    </tr>\n",
       "    <tr>\n",
       "      <th>14628</th>\n",
       "      <td>twitter_airline</td>\n",
       "      <td>569588651925098496</td>\n",
       "      <td>Thank you. “@AmericanAir: @jlhalldc Customer R...</td>\n",
       "      <td>positive</td>\n",
       "      <td>American</td>\n",
       "      <td>neutral</td>\n",
       "      <td>[(@AmericanAir:, WORK_OF_ART), (John, PERSON)]</td>\n",
       "      <td>False</td>\n",
       "    </tr>\n",
       "  </tbody>\n",
       "</table>\n",
       "<p>1464 rows × 8 columns</p>\n",
       "</div>"
      ],
      "text/plain": [
       "               dataset            tweet_id  \\\n",
       "5      twitter_airline  570300767074181121   \n",
       "18     twitter_airline  570270684619923457   \n",
       "24     twitter_airline  570256553502068736   \n",
       "48     twitter_airline  570010539499393025   \n",
       "52     twitter_airline  570004391731847169   \n",
       "...                ...                 ...   \n",
       "14595  twitter_airline  569593694963310593   \n",
       "14607  twitter_airline  569592270866878464   \n",
       "14614  twitter_airline  569591540944756737   \n",
       "14620  twitter_airline  569590965880532993   \n",
       "14628  twitter_airline  569588651925098496   \n",
       "\n",
       "                                                    text sentiment  \\\n",
       "5      @VirginAmerica seriously would pay $30 a fligh...  negative   \n",
       "18                       I ❤️ flying @VirginAmerica. ☺️👍  positive   \n",
       "24     @VirginAmerica you guys messed up my seating.....  negative   \n",
       "48     @VirginAmerica @ladygaga @carrieunderwood Afte...   neutral   \n",
       "52     @VirginAmerica wish you flew out of Atlanta......   neutral   \n",
       "...                                                  ...       ...   \n",
       "14595  @AmericanAir @ShannonBloom Where's my DM? Wher...  negative   \n",
       "14607         @AmericanAir i need someone to help me out   neutral   \n",
       "14614  @AmericanAir I need to be at work tomorrow at ...  negative   \n",
       "14620  @AmericanAir I wait 2+ hrs for CS to call me b...  negative   \n",
       "14628  Thank you. “@AmericanAir: @jlhalldc Customer R...  positive   \n",
       "\n",
       "              airline BERTweet_sentiment  \\\n",
       "5      Virgin America           negative   \n",
       "18     Virgin America           positive   \n",
       "24     Virgin America           negative   \n",
       "48     Virgin America           positive   \n",
       "52     Virgin America            neutral   \n",
       "...               ...                ...   \n",
       "14595        American            neutral   \n",
       "14607        American           negative   \n",
       "14614        American           negative   \n",
       "14620        American           negative   \n",
       "14628        American            neutral   \n",
       "\n",
       "                                                NER_ents  NER_prod_flag  \n",
       "5        [(@VirginAmerica, GPE), (30, MONEY), (VA, ORG)]          False  \n",
       "18                     [(@VirginAmerica, GPE), (☺, ORG)]          False  \n",
       "24                               [(@VirginAmerica, GPE)]          False  \n",
       "48     [(@VirginAmerica @ladygaga @carrieunderwood, O...          False  \n",
       "52               [(@VirginAmerica, GPE), (Atlanta, GPE)]          False  \n",
       "...                                                  ...            ...  \n",
       "14595  [(70, MONEY), (50, MONEY), (JFK, PERSON), (tom...          False  \n",
       "14607                                                 []          False  \n",
       "14614  [(tomorrow, DATE), (8am, TIME), (800, CARDINAL...          False  \n",
       "14620  [(2, CARDINAL), (CS, ORG), (the minute, TIME),...          False  \n",
       "14628     [(@AmericanAir:, WORK_OF_ART), (John, PERSON)]          False  \n",
       "\n",
       "[1464 rows x 8 columns]"
      ]
     },
     "execution_count": 85,
     "metadata": {},
     "output_type": "execute_result"
    }
   ],
   "source": [
    "df"
   ]
  },
  {
   "cell_type": "code",
   "execution_count": 88,
   "id": "b09b0f73",
   "metadata": {},
   "outputs": [
    {
     "data": {
      "text/plain": [
       "(40, 8)"
      ]
     },
     "execution_count": 88,
     "metadata": {},
     "output_type": "execute_result"
    }
   ],
   "source": [
    "df_products = df[df.NER_prod_flag]\n",
    "df_products.shape"
   ]
  },
  {
   "cell_type": "code",
   "execution_count": 90,
   "id": "4ec86584",
   "metadata": {
    "scrolled": false
   },
   "outputs": [
    {
     "name": "stdout",
     "output_type": "stream",
     "text": [
      "[ neutral ] -> @VirginAmerica Can't bring up my reservation online using Flight Booking Problems code \n",
      "--------------------------\n",
      "[ negative ] -> @VirginAmerica And now the flight Flight Booking Problems site is totally down. Folks, what is the problem? \n",
      "--------------------------\n",
      "[ positive ] -> @VirginAmerica thanks to your outstanding NYC-JFK crew who moved mountains to get me home to San Francisco tonight! \n",
      "--------------------------\n",
      "[ neutral ] -> @VirginAmerica - can you tweet me the Cancelled Flight/chng fee for a flight? or can I rebook under one of your affiliates? If so, who are afiliates? \n",
      "--------------------------\n",
      "[ neutral ] -> @united Left item n the seatback on UA1260. Is there any way to call DCA to ask if they have the item? Already submitted lost &amp; found report \n",
      "--------------------------\n",
      "[ neutral ] -> @united Seat 14A, Flight UA895 \n",
      "--------------------------\n",
      "[ neutral ] -> @united any chance you'll ever do CPUs on your JFK-LAX like @AmericanAir? \n",
      "--------------------------\n",
      "[ neutral ] -> @SouthwestAir @PHLAirport Will Flight 2155 that arrives at E11 be a penguin plane? \n",
      "--------------------------\n",
      "[ negative ] -> @SouthwestAir why was Southwest only airline to Cancelled Flight all flights from Charleston? Was 7:50pm flight Cancelled Flightation really weather reLate Flightd? \n",
      "--------------------------\n",
      "[ negative ] -> @SouthwestAir FIND A WAY TO Cancelled Flight FLIGHT 310!!!!!!! \n",
      "--------------------------\n",
      "[ negative ] -> @SouthwestAir I'm just calling to Cancelled Flight a flight. I already rebooked it on another card. Just need to Cancelled Flight the previous reservation. \n",
      "--------------------------\n",
      "[ negative ] -> @SouthwestAir is Flight 3113 OMA&gt;DEN on 2/21 actually Cancelled Flightled? Been on hold for over an hour and your website says conflicting messages \n",
      "--------------------------\n",
      "[ negative ] -> @SouthwestAir - 800 is not int'l friendly \n",
      "--------------------------\n",
      "[ positive ] -> @SouthwestAir thank you for your help resolving my problem Shannon ROCKS - even though Rhonda didn't !! \n",
      "--------------------------\n",
      "[ negative ] -> @JetBlue absolutely. The missed connection caused us to miss our ferry to Vieques. Get us to Vieques. Also, flight vouchers. #PRBound \n",
      "--------------------------\n",
      "[ negative ] -> C'mon, this is worse than JetBae. RT @JetBlue Our fleet's on fleek. https://t.co/yZXfe7au22 \n",
      "--------------------------\n",
      "[ negative ] -> @JetBlue I thought being a mosaic member had 'perks' the best part is instead of checking the extra 5lbs I'm carrying it on 😒 \n",
      "--------------------------\n",
      "[ negative ] -> @JetBlue I guess I have to redo the Flight Booking Problems. Ugh! \n",
      "--------------------------\n",
      "[ negative ] -> “@JetBlue: @benjaminokeefe Thanks for including us on your tour! Did you pack your winter coat?”Unfortunately yes ❄️⛄️ #WereNotinCaliAnymore \n",
      "--------------------------\n",
      "[ negative ] -> @JetBlue flight 348 is a freaking nightmare tonight #sittingonthetarmac #delay \n",
      "--------------------------\n",
      "[ neutral ] -> @JetBlue Can you tell me which days you fly direct BUF - FLL and FLL - BUF? \n",
      "--------------------------\n",
      "[ positive ] -> @JetBlue we have just landed, thank you anyway. Btw, flight staff on flight 654 were wonderful despite their full day and heavy load. \n",
      "--------------------------\n",
      "[ negative ] -> @USAirways the only time I tweet is to tell you how horrible you're attendants are. Flight 3841 to LGA. I feel in jail \n",
      "--------------------------\n",
      "[ negative ] -> @usairways @usair   idiots took our plane &amp; gave it to someone else. Fudgers!!!! Flight 799 from Philly to Orlando \n",
      "--------------------------\n",
      "[ negative ] -> @USAirways 4+ hour hold, finally Cancelled Flighted ticket! sticking to @delta @Expedia who allow easy online Cancelled Flights/refunds! http://t.co/RKVCZBpdCE \n",
      "--------------------------\n",
      "[ negative ] -> @USAirways Only the JFK baggage office is open to help re-book all of us on Cancelled Flightled flight 3121 to DCA. Shameful. \n",
      "--------------------------\n",
      "[ negative ] -> @AmericanAir my flight 386 to Dallas from Jacksonville fl has been Cancelled Flightled. No one has notified me. What's going on? \n",
      "--------------------------\n",
      "[ neutral ] -> @AmericanAir u r horrible.went online to Cancelled Flight flight-no button-4that.Called CS &amp;wait time 40 mins&amp;put in my #.800#called&amp;it hungupNOHELP \n",
      "--------------------------\n",
      "[ neutral ] -> @AmericanAir @USAirways I need to Cancelled Flight a flight I booked earlier tonight. Are you able to do it over Twitter? \n",
      "--------------------------\n",
      "[ neutral ] -> @AmericanAir any idea why flight 5392 from HSV to DFW tomorrow Cancelled Flightled about 45 minutes ago? \n",
      "--------------------------\n",
      "[ negative ] -> @AmericanAir On hold since 5am. When no one can get to the airport, Cancelled Flight flight, don't make us pay huge fee to change flight. \n",
      "--------------------------\n",
      "[ negative ] -> @AmericanAir 249 EWR - DFW is now stopping BNA to refuel 4 bad weather? Are YOU just trying to get the plane closer 2 DFW then Cancelled Flight on us? \n",
      "--------------------------\n",
      "[ neutral ] -> @AmericanAir #AmericanView\n",
      "The view of Oregon from seat 31F, flight AA1469 2/22/15 http://t.co/t9JBN9WZtq \n",
      "--------------------------\n",
      "[ negative ] -> @AmericanAir I was flying today to MTY Mex at 9:30am but still appear Cancelled Flight, Where can i talk for another flight? \n",
      "--------------------------\n",
      "[ negative ] -> @AmericanAir How am I supposed to Cancelled Flight it if I can't do it online?  I don't want to lose all the funds on the ticket.  HELP!!! :( \n",
      "--------------------------\n",
      "[ negative ] -> @AmericanAir I can't get an operator after an hour's worth of calls to Cancelled Flight a delayed flight. Automated system doesn't go beyond message. \n",
      "--------------------------\n",
      "[ negative ] -> @AmericanAir - cruel &amp; unusual to Cancelled Flight flight w/o notice &amp; make someone stay on hold for 30min &amp; listen to the same ad in a loop \n",
      "--------------------------\n",
      "[ negative ] -> @AmericanAir just want to thank you guys for the 27 hour delay for flight AA106 from JFK due to staff shortage and not weather✈️ \n",
      "--------------------------\n",
      "[ negative ] -> @AmericanAir Worst airline. You Cancelled Flight flight, don't let me know, I wait on hold 30 mins, told to enter callback for middle of the night?!! \n",
      "--------------------------\n",
      "[ negative ] -> @AmericanAir Yes, it says my reservation cannot be retrieved at this time. Also I never got an email from AA saying my flight was Cancelled Flightled. \n",
      "--------------------------\n"
     ]
    }
   ],
   "source": [
    "for sentiment, tweet in zip(df_products['sentiment'], df_products['text']):     \n",
    "    print('[',sentiment,'] ->',tweet,'\\n--------------------------')"
   ]
  },
  {
   "cell_type": "code",
   "execution_count": null,
   "id": "3803c782",
   "metadata": {},
   "outputs": [],
   "source": []
  }
 ],
 "metadata": {
  "kernelspec": {
   "display_name": "nlu",
   "language": "python",
   "name": "nlu"
  },
  "language_info": {
   "codemirror_mode": {
    "name": "ipython",
    "version": 3
   },
   "file_extension": ".py",
   "mimetype": "text/x-python",
   "name": "python",
   "nbconvert_exporter": "python",
   "pygments_lexer": "ipython3",
   "version": "3.8.12"
  }
 },
 "nbformat": 4,
 "nbformat_minor": 5
}

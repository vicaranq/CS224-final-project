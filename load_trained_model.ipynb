{
 "cells": [
  {
   "cell_type": "code",
   "execution_count": 1,
   "id": "2b227b38-28db-4c3c-bfb5-83b7a1236b60",
   "metadata": {},
   "outputs": [],
   "source": [
    "import pickle\n",
    "import dataset_no_model as dataset\n",
    "import vsm\n",
    "import sst"
   ]
  },
  {
   "cell_type": "code",
   "execution_count": 2,
   "id": "18c5e53a-12bd-4334-8f2c-12ce12f6d16e",
   "metadata": {},
   "outputs": [],
   "source": [
    "BERT_TWITTER_MODEL_FNAME = 'models/BERT_twitter_model.sav'\n",
    "BERT_TWITTER_AIRLINE_MODEL_FNAME = 'models/BERT_twitter_airline.sav'\n",
    "BERT_TWITTER_APPLE_MODEL_FNAME = 'models/BERT_twitter_apple.sav'\n",
    "BERT_TWITTER_COMBINED_FNAME = 'models/BERT_twitter_model_combined.sav'\n",
    "\n",
    "BERTWEET_TWITTER_MODEL_FNAME = 'models/BERTweet_twitter_model.sav'\n",
    "BERTWEET_TWITTER_AIRLINE_MODEL_FNAME = 'models/BERTweet_twitter_airline.sav'\n",
    "BERTWEET_TWITTER_APPLE_MODEL_FNAME = 'models/BERTweet_twitter_apple.sav'\n",
    "BERTWEET_TWITTER_COMBINED_FNAME = 'models/BERTweet_twitter_model_combined.sav'"
   ]
  },
  {
   "cell_type": "code",
   "execution_count": null,
   "id": "7fb8807a-56d2-4cf4-839a-d626b4cd9a92",
   "metadata": {},
   "outputs": [],
   "source": [
    "bert_twitter_exp = pickle.load(open(BERT_TWITTER_MODEL_FNAME, 'rb'))\n",
    "bert_airline_exp = pickle.load(open(BERT_TWITTER_AIRLINE_MODEL_FNAME, 'rb'))\n",
    "bert_apple_exp = pickle.load(open(BERT_TWITTER_APPLE_MODEL_FNAME, 'rb'))\n",
    "bert_combined_exp = pickle.load(open(BERT_TWITTER_COMBINED_FNAME, 'rb'))\n",
    "\n",
    "bertweet_twitter_exp = pickle.load(open(BERTWEET_TWITTER_MODEL_FNAME, 'rb'))\n",
    "bertweet_airline_exp = pickle.load(open(BERTWEET_TWITTER_AIRLINE_MODEL_FNAME, 'rb'))\n",
    "bertweet_apple_exp = pickle.load(open(BERTWEET_TWITTER_APPLE_MODEL_FNAME, 'rb'))\n",
    "bertweet_combined_exp = pickle.load(open(BERTWEET_TWITTER_COMBINED_FNAME, 'rb'))"
   ]
  },
  {
   "cell_type": "code",
   "execution_count": null,
   "id": "5138b73f-8455-4050-bbe1-61f93f532af9",
   "metadata": {},
   "outputs": [],
   "source": [
    "BERT_TEST_FNAME = 'results/BERT_test_combined.sav'\n",
    "BERTWEET_TEST_FNAME = 'results/BERTweet_test_combined.sav'\n",
    "BERT_TEST_NEUTRAL_FNAME = 'results/BERT_test_combined_neutral.sav'"
   ]
  },
  {
   "cell_type": "code",
   "execution_count": null,
   "id": "05f2cf2b-ce91-435a-9079-6df33e9d3a8c",
   "metadata": {},
   "outputs": [],
   "source": [
    "bert_test = pickle.load(open(BERT_TEST_FNAME, 'rb'))\n",
    "bertweet_test = pickle.load(open(BERTWEET_TEST_FNAME, 'rb'))"
   ]
  },
  {
   "cell_type": "code",
   "execution_count": null,
   "id": "ef0be54e-85a1-453b-8a4d-d2d33520bdb0",
   "metadata": {},
   "outputs": [],
   "source": [
    "bert_test['scores']"
   ]
  },
  {
   "cell_type": "code",
   "execution_count": null,
   "id": "638b09c7-71fd-47ae-83ef-70855f795540",
   "metadata": {},
   "outputs": [],
   "source": [
    "bertweet_test['scores']"
   ]
  },
  {
   "cell_type": "code",
   "execution_count": null,
   "id": "ef2106fe-0ee1-45ca-b9ab-811dfd5a6f37",
   "metadata": {},
   "outputs": [],
   "source": [
    "bert_test_neutral = pickle.load(open(BERT_TEST_NEUTRAL_FNAME, 'rb'))"
   ]
  },
  {
   "cell_type": "code",
   "execution_count": null,
   "id": "6593e931-2c22-4cde-b115-cd9a8e6e4bdd",
   "metadata": {},
   "outputs": [],
   "source": [
    "bert_test_neutral['scores']"
   ]
  },
  {
   "cell_type": "code",
   "execution_count": null,
   "id": "05457d9f-3686-4610-83bc-a12c229d65ba",
   "metadata": {},
   "outputs": [],
   "source": [
    "from IPython.display import Markdown as md"
   ]
  },
  {
   "cell_type": "markdown",
   "id": "783d0cb6-0573-43d3-81d5-4f1779bde62d",
   "metadata": {},
   "source": [
    "## Sentiment Data As-Is\n",
    "\n",
    "|Model|Dataset|macro f1|weighted f1|\n",
    "|-----|-------|--------|-----------|\n",
    "|BERT|Twitter Sentiment Analysis|0.528|0.551|\n",
    "|BERT|Twitter Airline Sentiment|0.758|0.816|\n",
    "|BERT|Twitter Apple Sentiment|0.469|0.703|\n",
    "|BERT|Combined|0.530|0.561|\n",
    "|BERTweet|Twitter Sentiment Analysis|0.553|0.574|\n",
    "|BERTweet|Twitter Airline Sentiment|0.753|0.809|\n",
    "|BERTweet|Twitter Apple Sentiment|0.446|0.705|\n",
    "|BERTweet|Combined|0.550|0.581|"
   ]
  },
  {
   "cell_type": "markdown",
   "id": "11b6ff0b-86e2-4a37-894a-ec19c0ec2eea",
   "metadata": {},
   "source": [
    "## Sentiment Data with Irrelevant Relabeled as Neutral\n",
    "\n",
    "|Model|Dataset|macro f1|weighted f1|\n",
    "|-----|-------|--------|-----------|\n",
    "|BERT|Twitter Sentiment Analysis|0|0|\n",
    "|BERT|Twitter Airline Sentiment|0.758|0.816|\n",
    "|BERT|Twitter Apple Sentiment|0.668|0.758|\n",
    "|BERT|Combined|0.628|0.631|\n",
    "|BERTweet|Twitter Sentiment Analysis|0|0|\n",
    "|BERTweet|Twitter Airline Sentiment|0.753|0.809|\n",
    "|BERTweet|Twitter Apple Sentiment|0.622|0.730|\n",
    "|BERTweet|Combined|0|0|"
   ]
  },
  {
   "cell_type": "markdown",
   "id": "3655e475-1543-479f-86fd-abbdb13a8ba3",
   "metadata": {},
   "source": [
    "## Look at Twitter Irrelevant"
   ]
  },
  {
   "cell_type": "code",
   "execution_count": 21,
   "id": "201a7997-d741-4bfd-8fc8-41d90e920829",
   "metadata": {},
   "outputs": [],
   "source": [
    "import pandas as pd\n",
    "import numpy as np\n",
    "import matplotlib.pyplot as plt"
   ]
  },
  {
   "cell_type": "code",
   "execution_count": 4,
   "id": "5d35310b-3772-49e5-b84a-8ed209787eb5",
   "metadata": {},
   "outputs": [],
   "source": [
    "bert_twitter_test = pd.read_csv('results/BERT_predictions_added_to_twitter_test.csv')"
   ]
  },
  {
   "cell_type": "code",
   "execution_count": 11,
   "id": "fa3584f5-a23e-44f6-ab4b-114ffb85d610",
   "metadata": {},
   "outputs": [
    {
     "data": {
      "text/html": [
       "<div>\n",
       "<style scoped>\n",
       "    .dataframe tbody tr th:only-of-type {\n",
       "        vertical-align: middle;\n",
       "    }\n",
       "\n",
       "    .dataframe tbody tr th {\n",
       "        vertical-align: top;\n",
       "    }\n",
       "\n",
       "    .dataframe thead th {\n",
       "        text-align: right;\n",
       "    }\n",
       "</style>\n",
       "<table border=\"1\" class=\"dataframe\">\n",
       "  <thead>\n",
       "    <tr style=\"text-align: right;\">\n",
       "      <th></th>\n",
       "      <th>Unnamed: 0</th>\n",
       "      <th>text</th>\n",
       "      <th>sentiment</th>\n",
       "      <th>entity</th>\n",
       "      <th>BERT_sentiment</th>\n",
       "    </tr>\n",
       "  </thead>\n",
       "  <tbody>\n",
       "    <tr>\n",
       "      <th>37</th>\n",
       "      <td>102</td>\n",
       "      <td>Appreciate the (sonic) concepts / praxis Valen...</td>\n",
       "      <td>Irrelevant</td>\n",
       "      <td>2418</td>\n",
       "      <td>Neutral</td>\n",
       "    </tr>\n",
       "    <tr>\n",
       "      <th>38</th>\n",
       "      <td>104</td>\n",
       "      <td>Evaluate the (sound) concepts / concepts of Va...</td>\n",
       "      <td>Irrelevant</td>\n",
       "      <td>2418</td>\n",
       "      <td>Positive</td>\n",
       "    </tr>\n",
       "    <tr>\n",
       "      <th>39</th>\n",
       "      <td>107</td>\n",
       "      <td>Appreciate the (sonic) conversations / actions...</td>\n",
       "      <td>Irrelevant</td>\n",
       "      <td>2418</td>\n",
       "      <td>Neutral</td>\n",
       "    </tr>\n",
       "    <tr>\n",
       "      <th>43</th>\n",
       "      <td>128</td>\n",
       "      <td>Love these new @ GhostLive cans!! Does anyone ...</td>\n",
       "      <td>Irrelevant</td>\n",
       "      <td>2422</td>\n",
       "      <td>Neutral</td>\n",
       "    </tr>\n",
       "    <tr>\n",
       "      <th>44</th>\n",
       "      <td>129</td>\n",
       "      <td>Loving these new @GhostLifestyle cans!! Anyone...</td>\n",
       "      <td>Irrelevant</td>\n",
       "      <td>2422</td>\n",
       "      <td>Irrelevant</td>\n",
       "    </tr>\n",
       "    <tr>\n",
       "      <th>...</th>\n",
       "      <td>...</td>\n",
       "      <td>...</td>\n",
       "      <td>...</td>\n",
       "      <td>...</td>\n",
       "      <td>...</td>\n",
       "    </tr>\n",
       "    <tr>\n",
       "      <th>22187</th>\n",
       "      <td>73962</td>\n",
       "      <td>I know this asset they are referring to (it's ...</td>\n",
       "      <td>Irrelevant</td>\n",
       "      <td>9071</td>\n",
       "      <td>Negative</td>\n",
       "    </tr>\n",
       "    <tr>\n",
       "      <th>22188</th>\n",
       "      <td>73963</td>\n",
       "      <td>I know this asset they're referring to (it's n...</td>\n",
       "      <td>Irrelevant</td>\n",
       "      <td>9071</td>\n",
       "      <td>Negative</td>\n",
       "    </tr>\n",
       "    <tr>\n",
       "      <th>22197</th>\n",
       "      <td>73993</td>\n",
       "      <td>Oh, yes, I used to work with these guys. Secon...</td>\n",
       "      <td>Irrelevant</td>\n",
       "      <td>9077</td>\n",
       "      <td>Positive</td>\n",
       "    </tr>\n",
       "    <tr>\n",
       "      <th>22198</th>\n",
       "      <td>73997</td>\n",
       "      <td>Oh, yeah, I used to work under these guys. Tot...</td>\n",
       "      <td>Irrelevant</td>\n",
       "      <td>9077</td>\n",
       "      <td>Positive</td>\n",
       "    </tr>\n",
       "    <tr>\n",
       "      <th>22209</th>\n",
       "      <td>74038</td>\n",
       "      <td>9 Good idea for them. This is all based on ear...</td>\n",
       "      <td>Irrelevant</td>\n",
       "      <td>9085</td>\n",
       "      <td>Positive</td>\n",
       "    </tr>\n",
       "  </tbody>\n",
       "</table>\n",
       "<p>3943 rows × 5 columns</p>\n",
       "</div>"
      ],
      "text/plain": [
       "       Unnamed: 0                                               text  \\\n",
       "37            102  Appreciate the (sonic) concepts / praxis Valen...   \n",
       "38            104  Evaluate the (sound) concepts / concepts of Va...   \n",
       "39            107  Appreciate the (sonic) conversations / actions...   \n",
       "43            128  Love these new @ GhostLive cans!! Does anyone ...   \n",
       "44            129  Loving these new @GhostLifestyle cans!! Anyone...   \n",
       "...           ...                                                ...   \n",
       "22187       73962  I know this asset they are referring to (it's ...   \n",
       "22188       73963  I know this asset they're referring to (it's n...   \n",
       "22197       73993  Oh, yes, I used to work with these guys. Secon...   \n",
       "22198       73997  Oh, yeah, I used to work under these guys. Tot...   \n",
       "22209       74038  9 Good idea for them. This is all based on ear...   \n",
       "\n",
       "        sentiment  entity BERT_sentiment  \n",
       "37     Irrelevant    2418        Neutral  \n",
       "38     Irrelevant    2418       Positive  \n",
       "39     Irrelevant    2418        Neutral  \n",
       "43     Irrelevant    2422        Neutral  \n",
       "44     Irrelevant    2422     Irrelevant  \n",
       "...           ...     ...            ...  \n",
       "22187  Irrelevant    9071       Negative  \n",
       "22188  Irrelevant    9071       Negative  \n",
       "22197  Irrelevant    9077       Positive  \n",
       "22198  Irrelevant    9077       Positive  \n",
       "22209  Irrelevant    9085       Positive  \n",
       "\n",
       "[3943 rows x 5 columns]"
      ]
     },
     "execution_count": 11,
     "metadata": {},
     "output_type": "execute_result"
    }
   ],
   "source": [
    "irr = bert_twitter_test[bert_twitter_test['sentiment'] == 'Irrelevant']\n",
    "irr"
   ]
  },
  {
   "cell_type": "code",
   "execution_count": 24,
   "id": "4b06a6e6-2917-49b0-b1a3-0234a0336f05",
   "metadata": {},
   "outputs": [
    {
     "name": "stderr",
     "output_type": "stream",
     "text": [
      "No artists with labels found to put in legend.  Note that artists whose label start with an underscore are ignored when legend() is called with no argument.\n"
     ]
    },
    {
     "data": {
      "image/png": "[encoded data removed]",
      "text/plain": [
       "<Figure size 432x288 with 1 Axes>"
      ]
     },
     "metadata": {
      "needs_background": "light"
     },
     "output_type": "display_data"
    }
   ],
   "source": [
    "# Unique values of sentiment\n",
    "twitter_sentiment_labels = [\"Positive\",\"Neutral\",\"Negative\",\"Irrelevant\"]\n",
    "\n",
    "irr_cts = irr['BERT_sentiment'].value_counts()\n",
    "\n",
    "X_axis = np.arange(len(irr_cts))\n",
    "  \n",
    "plt.bar(X_axis - 0.1, irr_cts)\n",
    "  \n",
    "plt.xticks(X_axis, twitter_sentiment_labels)\n",
    "plt.xlabel(\"sentiment\")\n",
    "plt.ylabel(\"frequency\")\n",
    "plt.title(\"BERT labels for irrelevant tweets\")\n",
    "plt.legend()\n",
    "plt.show()"
   ]
  },
  {
   "cell_type": "markdown",
   "id": "f679c5eb-db6c-4f9c-8adf-e447876b61ba",
   "metadata": {},
   "source": [
    "## Look at Twitter not_relevant"
   ]
  },
  {
   "cell_type": "code",
   "execution_count": 25,
   "id": "75058807-79af-412e-bb08-3229888f7b1a",
   "metadata": {},
   "outputs": [],
   "source": [
    "bert_apple_test = pd.read_csv('results/BERT_predictions_added_to_twitter_test_apple.csv')"
   ]
  },
  {
   "cell_type": "code",
   "execution_count": 27,
   "id": "1c341ec2-330f-498a-9704-157c39ba0796",
   "metadata": {},
   "outputs": [
    {
     "data": {
      "text/html": [
       "<div>\n",
       "<style scoped>\n",
       "    .dataframe tbody tr th:only-of-type {\n",
       "        vertical-align: middle;\n",
       "    }\n",
       "\n",
       "    .dataframe tbody tr th {\n",
       "        vertical-align: top;\n",
       "    }\n",
       "\n",
       "    .dataframe thead th {\n",
       "        text-align: right;\n",
       "    }\n",
       "</style>\n",
       "<table border=\"1\" class=\"dataframe\">\n",
       "  <thead>\n",
       "    <tr style=\"text-align: right;\">\n",
       "      <th></th>\n",
       "      <th>Unnamed: 0</th>\n",
       "      <th>tweet_id</th>\n",
       "      <th>text</th>\n",
       "      <th>sentiment</th>\n",
       "      <th>BERT_sentiment</th>\n",
       "    </tr>\n",
       "  </thead>\n",
       "  <tbody>\n",
       "    <tr>\n",
       "      <th>14</th>\n",
       "      <td>129</td>\n",
       "      <td>623495642</td>\n",
       "      <td>#GoPro: What Competition? Part 2 #GPRO  #AAPL ...</td>\n",
       "      <td>not_relevant</td>\n",
       "      <td>3</td>\n",
       "    </tr>\n",
       "    <tr>\n",
       "      <th>195</th>\n",
       "      <td>1814</td>\n",
       "      <td>623497338</td>\n",
       "      <td>@kibs33 Dizzy-doings on Wall Street tomorrow? ...</td>\n",
       "      <td>not_relevant</td>\n",
       "      <td>3</td>\n",
       "    </tr>\n",
       "    <tr>\n",
       "      <th>236</th>\n",
       "      <td>2183</td>\n",
       "      <td>623497713</td>\n",
       "      <td>@Apple honey crisp apple for the win</td>\n",
       "      <td>not_relevant</td>\n",
       "      <td>3</td>\n",
       "    </tr>\n",
       "    <tr>\n",
       "      <th>270</th>\n",
       "      <td>2572</td>\n",
       "      <td>623498102</td>\n",
       "      <td>#AAPL:After Decades Of Consolidation, Wall Str...</td>\n",
       "      <td>not_relevant</td>\n",
       "      <td>3</td>\n",
       "    </tr>\n",
       "    <tr>\n",
       "      <th>272</th>\n",
       "      <td>2586</td>\n",
       "      <td>623498116</td>\n",
       "      <td>#Ebay #Music @@Apple TV2 Gen Jailbroken Unteth...</td>\n",
       "      <td>not_relevant</td>\n",
       "      <td>3</td>\n",
       "    </tr>\n",
       "  </tbody>\n",
       "</table>\n",
       "</div>"
      ],
      "text/plain": [
       "     Unnamed: 0   tweet_id                                               text  \\\n",
       "14          129  623495642  #GoPro: What Competition? Part 2 #GPRO  #AAPL ...   \n",
       "195        1814  623497338  @kibs33 Dizzy-doings on Wall Street tomorrow? ...   \n",
       "236        2183  623497713               @Apple honey crisp apple for the win   \n",
       "270        2572  623498102  #AAPL:After Decades Of Consolidation, Wall Str...   \n",
       "272        2586  623498116  #Ebay #Music @@Apple TV2 Gen Jailbroken Unteth...   \n",
       "\n",
       "        sentiment  BERT_sentiment  \n",
       "14   not_relevant               3  \n",
       "195  not_relevant               3  \n",
       "236  not_relevant               3  \n",
       "270  not_relevant               3  \n",
       "272  not_relevant               3  "
      ]
     },
     "execution_count": 27,
     "metadata": {},
     "output_type": "execute_result"
    }
   ],
   "source": [
    "nr = bert_apple_test[bert_apple_test['sentiment'] == 'not_relevant']\n",
    "nr"
   ]
  },
  {
   "cell_type": "code",
   "execution_count": null,
   "id": "db87312a-d60f-4948-9e09-fba88074aa5a",
   "metadata": {},
   "outputs": [],
   "source": []
  }
 ],
 "metadata": {
  "kernelspec": {
   "display_name": "Python 3",
   "language": "python",
   "name": "python3"
  },
  "language_info": {
   "codemirror_mode": {
    "name": "ipython",
    "version": 3
   },
   "file_extension": ".py",
   "mimetype": "text/x-python",
   "name": "python",
   "nbconvert_exporter": "python",
   "pygments_lexer": "ipython3",
   "version": "3.8.12"
  }
 },
 "nbformat": 4,
 "nbformat_minor": 5
}

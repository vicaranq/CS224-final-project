{
 "cells": [
  {
   "cell_type": "code",
   "execution_count": 5,
   "id": "2b227b38-28db-4c3c-bfb5-83b7a1236b60",
   "metadata": {},
   "outputs": [],
   "source": [
    "import pickle\n",
    "import dataset\n",
    "import vsm\n",
    "import sst"
   ]
  },
  {
   "cell_type": "code",
   "execution_count": 6,
   "id": "18c5e53a-12bd-4334-8f2c-12ce12f6d16e",
   "metadata": {},
   "outputs": [],
   "source": [
    "BERT_TWITTER_MODEL_FNAME = 'models/BERT_twitter.sav'\n",
    "BERT_TWITTER_AIRLINE_MODEL_FNAME = 'models/BERT_twitter_airline.sav'\n",
    "BERT_TWITTER_APPLE_MODEL_FNAME = 'models/BERT_twitter_apple.sav'"
   ]
  },
  {
   "cell_type": "code",
   "execution_count": 8,
   "id": "7fb8807a-56d2-4cf4-839a-d626b4cd9a92",
   "metadata": {},
   "outputs": [
    {
     "data": {
      "text/plain": [
       "dict_keys(['model', 'phi', 'train_dataset', 'assess_datasets', 'predictions', 'metric', 'scores'])"
      ]
     },
     "execution_count": 8,
     "metadata": {},
     "output_type": "execute_result"
    }
   ],
   "source": [
    "airline_exp = pickle.load(open(BERT_TWITTER_APPLE_MODEL_FNAME, 'rb'))\n",
    "airline_exp.keys()"
   ]
  },
  {
   "cell_type": "code",
   "execution_count": null,
   "id": "5138b73f-8455-4050-bbe1-61f93f532af9",
   "metadata": {},
   "outputs": [],
   "source": []
  }
 ],
 "metadata": {
  "kernelspec": {
   "display_name": "Python 3 (ipykernel)",
   "language": "python",
   "name": "python3"
  },
  "language_info": {
   "codemirror_mode": {
    "name": "ipython",
    "version": 3
   },
   "file_extension": ".py",
   "mimetype": "text/x-python",
   "name": "python",
   "nbconvert_exporter": "python",
   "pygments_lexer": "ipython3",
   "version": "3.8.12"
  }
 },
 "nbformat": 4,
 "nbformat_minor": 5
}

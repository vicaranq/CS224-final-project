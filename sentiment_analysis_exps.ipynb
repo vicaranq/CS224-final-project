{
 "cells": [
  {
   "cell_type": "markdown",
   "id": "60e73f19",
   "metadata": {},
   "source": [
    "# Sentiment Analysis Experiments"
   ]
  },
  {
   "cell_type": "markdown",
   "id": "56177bd8",
   "metadata": {},
   "source": [
    "This notebook explores different datasets, datasplits, and models to perform sentiment analysis. The purpose is to develop a\n",
    "model that can predict postive/neutral/negative sentiment from a text which in our case will be a tweet."
   ]
  },
  {
   "cell_type": "markdown",
   "id": "852aeb14",
   "metadata": {},
   "source": [
    "## Setup"
   ]
  },
  {
   "cell_type": "code",
   "execution_count": 5,
   "id": "64d2edac",
   "metadata": {},
   "outputs": [],
   "source": [
    "import pandas as pd\n",
    "import os\n",
    "\n",
    "DATA_PATH = os.path.join('data', 'sentiment')"
   ]
  },
  {
   "cell_type": "markdown",
   "id": "2994ca88",
   "metadata": {},
   "source": [
    "## Datasets"
   ]
  },
  {
   "cell_type": "markdown",
   "id": "a2f8bb04",
   "metadata": {},
   "source": [
    "Twitter Sentiment Analysis "
   ]
  },
  {
   "cell_type": "code",
   "execution_count": 15,
   "id": "478e20cb",
   "metadata": {},
   "outputs": [],
   "source": [
    "def dataset_reader(dataset_number):\n",
    "    \"\"\"\n",
    "    \n",
    "    Parameters:\n",
    "    dataset_number: int in {1,2,..,7}\n",
    "    \n",
    "    1-> Sentiment140\n",
    "    2-> Twitter Sentiment Analysis\n",
    "    3-> Twitter Sentiment Analysis on Airlines\n",
    "    4-> Apple Twitter Sentiment\n",
    "    5-> WNUT 2016: Emerging and Rare entity recognition\n",
    "    6-> WNUT 17: Emerging and Rare entity recognition \n",
    "    7-> TweeBank v2\n",
    "    \n",
    "    Return:\n",
    "    \n",
    "    Three pandas dataframse: train, dev, test\n",
    "    \"\"\"\n",
    "    train, dev, test = (None, None,None)    \n",
    "    \n",
    "    if dataset_number == 2:\n",
    "        # Twitter Sentiment Analysis \n",
    "        train_p = os.path.join(DATA_PATH, 'twitter-sentiment-analysis' ,'twitter_training.csv')\n",
    "        dev_p = os.path.join(DATA_PATH, 'twitter-sentiment-analysis' ,'twitter_validation.csv')\n",
    "        \n",
    "        df = pd.read_csv(train_p)                        \n",
    "        train = df.sample(frac = 0.7)\n",
    "        test = df.drop(train.index)\n",
    "        dev = pd.read_csv(dev_p)        \n",
    "        \n",
    "        \n",
    "        \n",
    "        \n",
    "    return train, dev, test        "
   ]
  },
  {
   "cell_type": "markdown",
   "id": "ac63c3ff",
   "metadata": {},
   "source": [
    "## Data Analysis"
   ]
  },
  {
   "cell_type": "code",
   "execution_count": 16,
   "id": "4aad3355",
   "metadata": {},
   "outputs": [],
   "source": [
    "train_2, dev_2, test_2 = dataset_reader(2)"
   ]
  },
  {
   "cell_type": "code",
   "execution_count": 17,
   "id": "fc5efa85",
   "metadata": {},
   "outputs": [
    {
     "data": {
      "text/plain": [
       "[(52277, 4), (999, 4), (22404, 4)]"
      ]
     },
     "execution_count": 17,
     "metadata": {},
     "output_type": "execute_result"
    }
   ],
   "source": [
    "[df.shape for df in [train_2, dev_2, test_2]]"
   ]
  },
  {
   "cell_type": "code",
   "execution_count": 11,
   "id": "93e229d2",
   "metadata": {},
   "outputs": [
    {
     "data": {
      "text/plain": [
       "(array([2.0943e+04, 1.6868e+04, 7.5210e+03, 5.2130e+03, 1.1870e+03,\n",
       "        3.9000e+01, 3.0000e+00, 2.0000e+00, 1.0000e+00, 5.0000e+00]),\n",
       " array([  1. ,  73.6, 146.2, 218.8, 291.4, 364. , 436.6, 509.2, 581.8,\n",
       "        654.4, 727. ]),\n",
       " <BarContainer object of 10 artists>)"
      ]
     },
     "execution_count": 12,
     "metadata": {},
     "output_type": "execute_result"
    },
    {
     "data": {
      "image/png": "[encoded data removed]",
      "text/plain": [
       "<Figure size 432x288 with 1 Axes>"
      ]
     },
     "metadata": {
      "needs_background": "light"
     },
     "output_type": "display_data"
    }
   ],
   "source": [
    "# TODO: number of chars per tweet distribution \n",
    "plt.hist(train_2.tweet_length)"
   ]
  },
  {
   "cell_type": "code",
   "execution_count": 15,
   "id": "391cb978-7cb5-4ba0-80ca-3830349ed847",
   "metadata": {},
   "outputs": [
    {
     "data": {
      "text/plain": [
       "727.0"
      ]
     },
     "execution_count": 15,
     "metadata": {},
     "output_type": "execute_result"
    }
   ],
   "source": [
    "max(train_2.tweet_length)"
   ]
  },
  {
   "cell_type": "markdown",
   "id": "42d42992",
   "metadata": {},
   "source": [
    "## Train Model"
   ]
  },
  {
   "cell_type": "code",
   "execution_count": null,
   "id": "2c67a50c",
   "metadata": {},
   "outputs": [],
   "source": []
  },
  {
   "cell_type": "markdown",
   "id": "98109fbc",
   "metadata": {},
   "source": [
    "## Evaluate Model"
   ]
  },
  {
   "cell_type": "code",
   "execution_count": null,
   "id": "98b8f9eb",
   "metadata": {},
   "outputs": [],
   "source": []
  },
  {
   "cell_type": "markdown",
   "id": "8e0a3fad",
   "metadata": {},
   "source": [
    "## Experiments Conclusion "
   ]
  },
  {
   "cell_type": "code",
   "execution_count": null,
   "id": "638907e1",
   "metadata": {},
   "outputs": [],
   "source": []
  }
 ],
 "metadata": {
  "kernelspec": {
   "display_name": "Python 3 (ipykernel)",
   "language": "python",
   "name": "python3"
  },
  "language_info": {
   "codemirror_mode": {
    "name": "ipython",
    "version": 3
   },
   "file_extension": ".py",
   "mimetype": "text/x-python",
   "name": "python",
   "nbconvert_exporter": "python",
   "pygments_lexer": "ipython3",
   "version": "3.8.12"
  }
 },
 "nbformat": 4,
 "nbformat_minor": 5
}

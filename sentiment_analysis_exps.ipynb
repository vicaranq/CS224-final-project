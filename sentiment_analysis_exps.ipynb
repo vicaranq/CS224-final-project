{
 "cells": [
  {
   "cell_type": "markdown",
   "id": "322fca79",
   "metadata": {},
   "source": [
    "# Sentiment Analysis Experiments"
   ]
  },
  {
   "cell_type": "markdown",
   "id": "b4177b82",
   "metadata": {},
   "source": [
    "This notebook explores different datasets, datasplits, and models to perform sentiment analysis. The purpose is to develop a\n",
    "model that can predict postive/neutral/negative sentiment from a text which in our case will be a tweet."
   ]
  },
  {
   "cell_type": "markdown",
   "id": "96147bdb",
   "metadata": {},
   "source": [
    "## Setup"
   ]
  },
  {
   "cell_type": "code",
   "execution_count": 5,
   "id": "e629920e",
   "metadata": {},
   "outputs": [],
   "source": [
    "import pandas as pd\n",
    "import os\n",
    "\n",
    "DATA_PATH = os.path.join('data', 'sentiment')"
   ]
  },
  {
   "cell_type": "markdown",
   "id": "02d8a854",
   "metadata": {},
   "source": [
    "## Datasets"
   ]
  },
  {
   "cell_type": "markdown",
   "id": "051a3d89",
   "metadata": {},
   "source": [
    "Twitter Sentiment Analysis "
   ]
  },
  {
   "cell_type": "code",
   "execution_count": 6,
   "id": "fb7a6e65",
   "metadata": {},
   "outputs": [],
   "source": [
    "def dataset_reader(dataset_number):\n",
    "    \"\"\"\n",
    "    \n",
    "    Parameters:\n",
    "    dataset_number: int in {1,2,..,7}\n",
    "    \n",
    "    1-> Sentiment140\n",
    "    2-> Twitter Sentiment Analysis\n",
    "    3-> Twitter Sentiment Analysis on Airlines\n",
    "    4-> Apple Twitter Sentiment\n",
    "    5-> WNUT 2016: Emerging and Rare entity recognition\n",
    "    6-> WNUT 17: Emerging and Rare entity recognition \n",
    "    7-> TweeBank v2\n",
    "    \n",
    "    Return:\n",
    "    \n",
    "    Three pandas dataframse: train, dev, test\n",
    "    \"\"\"\n",
    "    train, dev, test = (None, None,None)    \n",
    "    \n",
    "    if dataset_number == 2:\n",
    "        # Twitter Sentiment Analysis \n",
    "        train_p = os.path.join(DATA_PATH, 'twitter-sentiment-analysis' ,'twitter_training.csv')\n",
    "        train = pd.read_csv(train_p)\n",
    "        test_p = os.path.join(DATA_PATH, 'twitter-sentiment-analysis' ,'twitter_validation.csv')\n",
    "        test = pd.read_csv(test_p)\n",
    "        \n",
    "        \n",
    "    return train, dev, test        "
   ]
  },
  {
   "cell_type": "code",
   "execution_count": null,
   "id": "cfdb593b",
   "metadata": {},
   "outputs": [],
   "source": []
  },
  {
   "cell_type": "code",
   "execution_count": 7,
   "id": "fb029a62",
   "metadata": {},
   "outputs": [],
   "source": [
    "train, dev, test = dataset_reader(2)"
   ]
  },
  {
   "cell_type": "code",
   "execution_count": 8,
   "id": "f10f023e",
   "metadata": {},
   "outputs": [
    {
     "data": {
      "text/plain": [
       "(74681, 4)"
      ]
     },
     "execution_count": 8,
     "metadata": {},
     "output_type": "execute_result"
    }
   ],
   "source": [
    "train.shape"
   ]
  },
  {
   "cell_type": "code",
   "execution_count": 9,
   "id": "82d3fd06",
   "metadata": {},
   "outputs": [
    {
     "data": {
      "text/plain": [
       "(999, 4)"
      ]
     },
     "execution_count": 9,
     "metadata": {},
     "output_type": "execute_result"
    }
   ],
   "source": [
    "test.shape"
   ]
  },
  {
   "cell_type": "markdown",
   "id": "1c67fe26",
   "metadata": {},
   "source": [
    "## Train Model"
   ]
  },
  {
   "cell_type": "code",
   "execution_count": null,
   "id": "51945a66",
   "metadata": {},
   "outputs": [],
   "source": []
  },
  {
   "cell_type": "markdown",
   "id": "c430fda9",
   "metadata": {},
   "source": [
    "## Evaluate Model"
   ]
  },
  {
   "cell_type": "code",
   "execution_count": null,
   "id": "9b71fd2b",
   "metadata": {},
   "outputs": [],
   "source": []
  },
  {
   "cell_type": "markdown",
   "id": "4abb5679",
   "metadata": {},
   "source": [
    "## Experiments Conclusion "
   ]
  },
  {
   "cell_type": "code",
   "execution_count": null,
   "id": "9d19aca6",
   "metadata": {},
   "outputs": [],
   "source": []
  }
 ],
 "metadata": {
  "kernelspec": {
   "display_name": "Python 3 (ipykernel)",
   "language": "python",
   "name": "python3"
  },
  "language_info": {
   "codemirror_mode": {
    "name": "ipython",
    "version": 3
   },
   "file_extension": ".py",
   "mimetype": "text/x-python",
   "name": "python",
   "nbconvert_exporter": "python",
   "pygments_lexer": "ipython3",
   "version": "3.8.8"
  }
 },
 "nbformat": 4,
 "nbformat_minor": 5
}
